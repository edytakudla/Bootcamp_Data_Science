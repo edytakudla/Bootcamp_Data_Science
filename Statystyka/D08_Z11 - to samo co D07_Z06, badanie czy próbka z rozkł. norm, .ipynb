{
 "cells": [
  {
   "cell_type": "markdown",
   "metadata": {},
   "source": [
    "# Zadanie\n",
    "\n",
    "Dzienne spalanie energii przez 11 zdrowych kobiet wynosi: \n",
    "\n",
    "[5260., 5470., 5640., 6180., 6390., 6515., 6805., 7515., 7515., 8230., 8770.] kJ.\n",
    "\n",
    "Czy ta wartość znacznie różni się od zalecanej wartości 7725?\n",
    "\n",
    "Wykorzystaj dwa testy."
   ]
  },
  {
   "cell_type": "code",
   "execution_count": 14,
   "metadata": {},
   "outputs": [],
   "source": [
    "import numpy as np\n",
    "import matplotlib.pyplot as plt\n",
    "import scipy.stats as stats\n",
    "import seaborn as sns\n",
    "import pandas as pd\n",
    "# additional packages\n",
    "from statsmodels.stats.diagnostic import lilliefors"
   ]
  },
  {
   "cell_type": "code",
   "execution_count": 18,
   "metadata": {},
   "outputs": [],
   "source": [
    "data = np.array([5260., 5470., 5640., 6180., 6390., 6515., 6805., 7515., 7515., 8230., 8770.])"
   ]
  },
  {
   "cell_type": "code",
   "execution_count": 19,
   "metadata": {},
   "outputs": [
    {
     "name": "stdout",
     "output_type": "stream",
     "text": [
      "statistic = 1931.4712612733879 pValue = 0.0\n",
      "Odrzucamy hipotezę H0: wartość znacząco się nie różni na rzecz hipotezy alternetywnej H1: wartość znacząco różna od 7725\n"
     ]
    }
   ],
   "source": [
    "(statistic, pValue) = stats.chisquare(data)    # porównuje do jednostajnego\n",
    "print('statistic =', statistic, 'pValue =',pValue)\n",
    "if pValue < 0.05:\n",
    "    print('Odrzucamy hipotezę H0: wartość znacząco się nie różni na rzecz hipotezy alternetywnej H1: wartość znacząco różna od 7725')"
   ]
  },
  {
   "cell_type": "markdown",
   "metadata": {},
   "source": [
    "Najpierw sprawdzamy założenie o tym, że próbka pochodzi z rozkładu normalnego."
   ]
  },
  {
   "cell_type": "code",
   "execution_count": 20,
   "metadata": {},
   "outputs": [
    {
     "name": "stdout",
     "output_type": "stream",
     "text": [
      "p-values for all 11 data points: ----------------\n",
      "Omnibus               0.681313\n",
      "Shapiro-Wilk          0.674299\n",
      "Lilliefors            0.200000\n",
      "Kolmogorov-Smirnov    0.993585\n",
      "dtype: float64\n"
     ]
    },
    {
     "name": "stderr",
     "output_type": "stream",
     "text": [
      "C:\\Users\\Edyta\\Anaconda3\\lib\\site-packages\\scipy\\stats\\stats.py:1394: UserWarning: kurtosistest only valid for n>=20 ... continuing anyway, n=11\n",
      "  \"anyway, n=%i\" % int(n))\n"
     ]
    }
   ],
   "source": [
    "# sprawdzamy czy próbka pochodzi z rozkładu normalnego\n",
    "pVals = pd.Series()\n",
    "pFewVals = pd.Series()\n",
    "# The scipy normaltest is based on D-Agostino and Pearsons test that\n",
    "# combines skew and kurtosis to produce an omnibus test of normality.\n",
    "_, pVals['Omnibus']    = stats.normaltest(data)\n",
    "\n",
    "# Shapiro-Wilk test\n",
    "_, pVals['Shapiro-Wilk']    = stats.shapiro(data)\n",
    "\n",
    "# Or you can check for normality with Lilliefors-test\n",
    "_, pVals['Lilliefors']    = lilliefors(data)\n",
    "\n",
    "# Alternatively with original Kolmogorov-Smirnov test\n",
    "_, pVals['Kolmogorov-Smirnov']    = stats.kstest((data-np.mean(data))/np.std(data,ddof=1), 'norm')\n",
    "\n",
    "print('p-values for all {0} data points: ----------------'.format(len(data)))\n",
    "print(pVals)\n",
    "\n",
    "# >>>>>>>>>>>> wszystkie testy przeszły bo wszystkie wyniki powyżej 0.05, założenie jest spełnione"
   ]
  },
  {
   "cell_type": "code",
   "execution_count": 22,
   "metadata": {},
   "outputs": [
    {
     "data": {
      "text/plain": [
       "Ttest_1sampResult(statistic=-2.8207540608310198, pvalue=0.018137235176105812)"
      ]
     },
     "execution_count": 22,
     "metadata": {},
     "output_type": "execute_result"
    }
   ],
   "source": [
    "# test t-studenta\n",
    "stats.ttest_1samp(data, 7725)\n",
    "# wychodzi to samo p-value co w poprz kroku\n",
    "# test nie przeszedł bo p-value = 0,018 < 0,05"
   ]
  },
  {
   "cell_type": "code",
   "execution_count": 23,
   "metadata": {},
   "outputs": [
    {
     "data": {
      "text/plain": [
       "WilcoxonResult(statistic=8.0, pvalue=0.026157182329284684)"
      ]
     },
     "execution_count": 23,
     "metadata": {},
     "output_type": "execute_result"
    }
   ],
   "source": [
    "# test Wilcoxona\n",
    "stats.wilcoxon(data-7725)\n",
    "# test nie przeszedł bo p-value = 0,026 < 0,05"
   ]
  },
  {
   "cell_type": "code",
   "execution_count": null,
   "metadata": {},
   "outputs": [],
   "source": []
  }
 ],
 "metadata": {
  "kernelspec": {
   "display_name": "Python 3",
   "language": "python",
   "name": "python3"
  },
  "language_info": {
   "codemirror_mode": {
    "name": "ipython",
    "version": 3
   },
   "file_extension": ".py",
   "mimetype": "text/x-python",
   "name": "python",
   "nbconvert_exporter": "python",
   "pygments_lexer": "ipython3",
   "version": "3.7.0"
  }
 },
 "nbformat": 4,
 "nbformat_minor": 2
}
