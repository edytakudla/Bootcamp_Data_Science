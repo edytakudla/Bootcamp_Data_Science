{
 "cells": [
  {
   "cell_type": "markdown",
   "metadata": {},
   "source": [
    "# Zadanie\n",
    "Miasto Linz chce wiedzieć, czy ludzie chcą zbudować długą plażę wzdłuż Dunaju. Rozmawiają z miejscowymi ludźmi i decydują się zebrać 20 odpowiedzi z każdej z pięciu grup wiekowych: (poniżej 15, 15-30, 30-45, 45-60, powyżej 60)\n",
    "\n",
    "Kwestionariusz stwierdza: \"Rozwój przybrzeżny przyniesie korzyści Linz\" i możliwe odpowiedzi są\n",
    "\n",
    "<table>\n",
    "  <tr>\n",
    "    <th>1</th>\n",
    "    <td>Strongly agree</td> \n",
    "  </tr>\n",
    "  <tr>\n",
    "    <td>2</td>\n",
    "    <td>Agree</td>\n",
    "  </tr>\n",
    "  <tr>\n",
    "    <td>3</td>\n",
    "    <td>Disagree</td>\n",
    "  </tr>\n",
    "  <tr>\n",
    "    <td>4</td>\n",
    "    <td>Strongly disagree</td>\n",
    "  </tr>\n",
    "</table>  \n",
    "\n",
    "Rada Miasta chce dowiedzieć się, czy wiek ludzi wpływał na odpowiedzi, szczególnie tych, którzy odpowiadali negatywnie (tj. \"Nie zgadzali się\" lub \"Zdecydowanie nie zgadzali\").\n",
    "\n",
    "<table>\n",
    "  <tr>\n",
    "    <td>Age group</td>\n",
    "    <td>Frequency of negative responses</td> \n",
    "  </tr>\n",
    "  <tr>\n",
    "    <td>$<15$</th>\n",
    "    <td>4</td> \n",
    "  </tr>\n",
    "  <tr>\n",
    "    <td>$15-30$</td>\n",
    "    <td>6</td>\n",
    "  </tr>\n",
    "  <tr>\n",
    "    <td>$30-45$</td>\n",
    "    <td>14</td>\n",
    "  </tr>\n",
    "  <tr>\n",
    "    <td>$45-60$</td>\n",
    "    <td>10</td>\n",
    "  </tr>\n",
    "  <tr>\n",
    "    <td>$>60$</td>\n",
    "    <td>16</td>\n",
    "  </tr>\n",
    "</table>   \n",
    "\n",
    "- Czy te różnice są znaczące? \n",
    "- Jaki rozkład i z iloma stopniami swobody ma statystyka testowa?\n",
    "\n",
    "\n"
   ]
  },
  {
   "cell_type": "markdown",
   "metadata": {},
   "source": [
    "## Wykonujemy test"
   ]
  },
  {
   "cell_type": "code",
   "execution_count": 1,
   "metadata": {},
   "outputs": [],
   "source": [
    "import pandas as pd\n",
    "import numpy as np\n",
    "import scipy.stats as stats"
   ]
  },
  {
   "cell_type": "code",
   "execution_count": 4,
   "metadata": {},
   "outputs": [
    {
     "name": "stdout",
     "output_type": "stream",
     "text": [
      "statistic = 10.4 pValue = 0.03420269940871678\n",
      "Odrzucamy hipotezę H0: wiek ludzi nie wpływał na odpowiedzi na rzecz hipotezy alternetywnej H1: wiek ludzi wpływał\n"
     ]
    }
   ],
   "source": [
    "data = np.array([4,6,14,10,16])\n",
    "(statistic, pValue) = stats.chisquare(data)    # porównuje do jednostajnego\n",
    "print('statistic =', statistic, 'pValue =',pValue)\n",
    "if pValue < 0.05:\n",
    "    print('Odrzucamy hipotezę H0: wiek ludzi nie wpływał na odpowiedzi na rzecz hipotezy alternetywnej H1: wiek ludzi wpływał')"
   ]
  },
  {
   "cell_type": "code",
   "execution_count": null,
   "metadata": {},
   "outputs": [],
   "source": []
  }
 ],
 "metadata": {
  "kernelspec": {
   "display_name": "Python 3",
   "language": "python",
   "name": "python3"
  },
  "language_info": {
   "codemirror_mode": {
    "name": "ipython",
    "version": 3
   },
   "file_extension": ".py",
   "mimetype": "text/x-python",
   "name": "python",
   "nbconvert_exporter": "python",
   "pygments_lexer": "ipython3",
   "version": "3.7.0"
  }
 },
 "nbformat": 4,
 "nbformat_minor": 2
}
