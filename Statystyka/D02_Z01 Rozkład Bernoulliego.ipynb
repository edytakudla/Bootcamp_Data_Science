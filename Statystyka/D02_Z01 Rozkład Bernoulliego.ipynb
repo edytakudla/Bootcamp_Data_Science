{
 "cells": [
  {
   "cell_type": "markdown",
   "metadata": {},
   "source": [
    "# Próba Bernoulliego (rozkład zero-jedynkowy)\n",
    "Próba Bernoulliego (rozkład zero-jedynkowy) --  dyskretny rozkład prawdopodobieństwa, dla którego zmienna losowa przyjmuje tylko wartości: $0$ lub $1$:\n",
    "\n",
    "$$\n",
    "P(X=k) = \n",
    "\\left\\{ \\begin{array}{ll}\n",
    "p & \\textrm{gdy} k = 0\\\\\n",
    "1-p & \\textrm{gdy} k \\neq 1\n",
    "\\end{array} \\right. ,\n",
    "$$\n",
    "gdzie $0 < p < 1$, in \\{0, 1\\}.\n",
    "\n",
    "\n",
    "Powyższą funkcję opisującą prawdopodobieństwo wystąpienia każdego z elementów nazywamy funkcją gęstości (**probability mass function (PMF)**).\n",
    "\n",
    "https://docs.scipy.org/doc/scipy-0.14.0/reference/generated/scipy.stats.bernoulli.html"
   ]
  },
  {
   "cell_type": "code",
   "execution_count": 1,
   "metadata": {},
   "outputs": [],
   "source": [
    "from scipy import stats\n",
    "import matplotlib.pyplot as plt\n",
    "import numpy as np"
   ]
  },
  {
   "cell_type": "markdown",
   "metadata": {},
   "source": [
    "Definiujemy zmienną losową"
   ]
  },
  {
   "cell_type": "code",
   "execution_count": 37,
   "metadata": {},
   "outputs": [
    {
     "name": "stdout",
     "output_type": "stream",
     "text": [
      "<scipy.stats._distn_infrastructure.rv_frozen object at 0x000001337174E940>\n"
     ]
    }
   ],
   "source": [
    "p = 0.7\n",
    "bernoulliDist = stats.bernoulli(p)\n",
    "# dir(bernoulliDist)\n",
    "print(bernoulliDist)"
   ]
  },
  {
   "cell_type": "markdown",
   "metadata": {},
   "source": [
    "Możemy wypisać parametry"
   ]
  },
  {
   "cell_type": "code",
   "execution_count": 38,
   "metadata": {},
   "outputs": [
    {
     "name": "stdout",
     "output_type": "stream",
     "text": [
      "0.30000000000000004\n",
      "0.7\n"
     ]
    }
   ],
   "source": [
    "# pmf = gęstość dla zbiorów dyskretnych (proability mass function)\n",
    "p_tails = bernoulliDist.pmf(0)\n",
    "p_heads = bernoulliDist.pmf(1)\n",
    "print(p_tails)\n",
    "print(p_heads)"
   ]
  },
  {
   "cell_type": "markdown",
   "metadata": {},
   "source": [
    "Możemy wylosować próbkę i narysować histogram"
   ]
  },
  {
   "cell_type": "code",
   "execution_count": 45,
   "metadata": {},
   "outputs": [
    {
     "name": "stdout",
     "output_type": "stream",
     "text": [
      "[0 0 0 1 0 1 1 0 1 1 1 1 1 1 0 0 0 0 0 1 1 1 0 1 1 1 1 0 1 0 0 1 0 1 0 1 0\n",
      " 1 0 1 1 0 1 1 1 0 1 0 1 0 1 0 1 1 1 1 1 0 1 1 1 1 0 1 0 1 1 0 0 1 0 1 1 1\n",
      " 1 1 1 0 1 1 0 1 1 1 1 1 1 1 1 1 1 1 1 1 0 0 1 1 0 0] <class 'numpy.ndarray'> 65\n"
     ]
    },
    {
     "data": {
      "image/png": "[encoded data removed]",
      "text/plain": [
       "<Figure size 432x288 with 1 Axes>"
      ]
     },
     "metadata": {
      "needs_background": "light"
     },
     "output_type": "display_data"
    }
   ],
   "source": [
    "# rvs = funkcja służy do losowania próbek, im większa próbka tym lepiej\n",
    "trials = bernoulliDist.rvs(100)\n",
    "print(trials, type(trials), sum(trials))\n",
    "plt.hist(trials)\n",
    "plt.show()"
   ]
  },
  {
   "cell_type": "markdown",
   "metadata": {},
   "source": [
    "Możemy policzyć momenty"
   ]
  },
  {
   "cell_type": "code",
   "execution_count": 46,
   "metadata": {},
   "outputs": [
    {
     "name": "stdout",
     "output_type": "stream",
     "text": [
      "średnia arytmetyczna:  0.5\n",
      "wariancja:  0.25\n",
      "skośność:  0.0\n",
      "kurtoza:  -2.0\n"
     ]
    }
   ],
   "source": [
    "p = 0.5\n",
    "mean, var, skew, kurt = stats.bernoulli.stats(p, moments='mvsk')\n",
    "print('średnia arytmetyczna: ', mean)\n",
    "print('wariancja: ', var)\n",
    "print('skośność: ', skew)\n",
    "print('kurtoza: ',kurt)\n"
   ]
  },
  {
   "cell_type": "markdown",
   "metadata": {},
   "source": [
    "Narysujmy gęstość zmiennej losowej"
   ]
  },
  {
   "cell_type": "code",
   "execution_count": 96,
   "metadata": {},
   "outputs": [],
   "source": [
    "# bernoulli.pmf(k) = 1-p  if k = 0\n",
    "#                  = p    if k = 1"
   ]
  },
  {
   "cell_type": "code",
   "execution_count": 65,
   "metadata": {},
   "outputs": [
    {
     "name": "stdout",
     "output_type": "stream",
     "text": [
      "x = [0 1]\n"
     ]
    },
    {
     "data": {
      "image/png": "[encoded data removed]",
      "text/plain": [
       "<Figure size 432x288 with 1 Axes>"
      ]
     },
     "metadata": {
      "needs_background": "light"
     },
     "output_type": "display_data"
    }
   ],
   "source": [
    "p = 0.7\n",
    "fig, ax = plt.subplots(1, 1)\n",
    "# Display the probability mass function (``pmf``) - GĘSTOŚĆ DLA ZBIORÓW DYSKRETNYCH:\n",
    "ax.set_xlim([-1,2])\n",
    "ax.set_ylim([0,1])\n",
    "x = np.arange(0, 2)\n",
    "print('x =',x)\n",
    "ax.plot(x, stats.bernoulli.pmf(x, p), 'bo', ms=8, label='bernoulli pmf')\n",
    "# vlines - wykreśla pionowe linie dla każdego x od wartości min do max\n",
    "ax.vlines(x, 0, stats.bernoulli.pmf(x, p), colors='r', lw=5, alpha=0.5)\n",
    "plt.show()\n"
   ]
  },
  {
   "cell_type": "markdown",
   "metadata": {},
   "source": [
    "Narysujmy dystrybuantę zmiennej losowej"
   ]
  },
  {
   "cell_type": "code",
   "execution_count": 87,
   "metadata": {},
   "outputs": [
    {
     "name": "stdout",
     "output_type": "stream",
     "text": [
      "kilka pierwszych x... -> x = [-5.   -4.99 -4.98 -4.97 -4.96 -4.95 -4.94 -4.93 -4.92 -4.91] ... [4.95 4.96 4.97 4.98]\n"
     ]
    },
    {
     "data": {
      "image/png": "[encoded data removed]",
      "text/plain": [
       "<Figure size 432x288 with 1 Axes>"
      ]
     },
     "metadata": {
      "needs_background": "light"
     },
     "output_type": "display_data"
    }
   ],
   "source": [
    "p = 0.7\n",
    "fig, ax = plt.subplots(1, 1)\n",
    "ax.set_xlim([-6,6])\n",
    "ax.set_ylim([-0.2,1.2])\n",
    "\n",
    "x = np.arange(-5, 5,0.01)\n",
    "print('kilka pierwszych x... -> x =', x[0:10], '...', x[-5:-1])\n",
    "# CDF = Cumulative distribution function = gęstość dla zbiorów ciągłych -> DYSTRYBUANTA?\n",
    "ax.plot(x, stats.bernoulli.cdf(x, p), 'bo--', ms=5, label='bernoulli cdf')\n",
    "rv = stats.bernoulli(p)    # ????????????????\n",
    "plt.show()\n"
   ]
  },
  {
   "cell_type": "code",
   "execution_count": 93,
   "metadata": {},
   "outputs": [
    {
     "data": {
      "image/png": "[encoded data removed]",
      "text/plain": [
       "<Figure size 432x288 with 1 Axes>"
      ]
     },
     "metadata": {
      "needs_background": "light"
     },
     "output_type": "display_data"
    }
   ],
   "source": [
    "# moje testy\n",
    "p = 0.4\n",
    "x = np.arange(-3, 2, 0.2)\n",
    "fig, ax = plt.subplots(1, 1)\n",
    "ax.plot(x, stats.bernoulli.cdf(x, p), 'r*--', ms=7, label='bernoulli cdf')\n",
    "plt.show()"
   ]
  },
  {
   "cell_type": "code",
   "execution_count": 95,
   "metadata": {},
   "outputs": [
    {
     "data": {
      "image/png": "[encoded data removed]",
      "text/plain": [
       "<Figure size 432x288 with 1 Axes>"
      ]
     },
     "metadata": {
      "needs_background": "light"
     },
     "output_type": "display_data"
    }
   ],
   "source": [
    "p = 0.4\n",
    "x = np.arange(10, 15, 0.3)\n",
    "fig, ax = plt.subplots(1, 1)\n",
    "ax.set_xlim([9,16])\n",
    "# ax.set_ylim([-0.2,1.2])\n",
    "ax.plot(x, stats.bernoulli.cdf(x, p), 'm^--', ms=8, label='bernoulli cdf')\n",
    "plt.show()"
   ]
  },
  {
   "cell_type": "code",
   "execution_count": null,
   "metadata": {},
   "outputs": [],
   "source": []
  }
 ],
 "metadata": {
  "kernelspec": {
   "display_name": "Python 3",
   "language": "python",
   "name": "python3"
  },
  "language_info": {
   "codemirror_mode": {
    "name": "ipython",
    "version": 3
   },
   "file_extension": ".py",
   "mimetype": "text/x-python",
   "name": "python",
   "nbconvert_exporter": "python",
   "pygments_lexer": "ipython3",
   "version": "3.7.0"
  }
 },
 "nbformat": 4,
 "nbformat_minor": 2
}
