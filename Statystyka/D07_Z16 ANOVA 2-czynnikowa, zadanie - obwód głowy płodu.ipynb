{
 "cells": [
  {
   "cell_type": "code",
   "execution_count": 1,
   "metadata": {},
   "outputs": [],
   "source": [
    "import numpy as np\n",
    "import pandas as pd\n",
    "from statsmodels.formula.api import ols\n",
    "from statsmodels.stats.anova import anova_lm"
   ]
  },
  {
   "cell_type": "markdown",
   "metadata": {},
   "source": [
    "# Zadanie \n",
    "\n",
    "W porównaniu z jednostronnym ANOVA, analiza 2-czynnikowa bada nie tylko pojedyncze czynniki ale może też sprawdzić, czy współdziałanie czynników ma istotny wpływ na rozkład danych. \n",
    "\n",
    "Weźmy np. pomiary obwodu głowy płodu wykonane przez czterech lekarzy na trzech różnych płodach (https://github.com/przem85/statistics/blob/master/D7/ANOVA2.txt)."
   ]
  },
  {
   "cell_type": "code",
   "execution_count": 6,
   "metadata": {},
   "outputs": [
    {
     "data": {
      "text/plain": [
       "array([[14.3,  1. ,  1. ],\n",
       "       [14. ,  1. ,  1. ],\n",
       "       [14.8,  1. ,  1. ],\n",
       "       [13.6,  1. ,  2. ],\n",
       "       [13.6,  1. ,  2. ]])"
      ]
     },
     "execution_count": 6,
     "metadata": {},
     "output_type": "execute_result"
    }
   ],
   "source": [
    "# Get the data\n",
    "data = np.loadtxt('ANOVA2.txt')\n",
    "data[0:5]"
   ]
  },
  {
   "cell_type": "code",
   "execution_count": 7,
   "metadata": {},
   "outputs": [
    {
     "name": "stdout",
     "output_type": "stream",
     "text": [
      "     hs  fetus  observer\n",
      "0  14.3    1.0       1.0\n",
      "1  14.0    1.0       1.0\n",
      "2  14.8    1.0       1.0\n",
      "3  13.6    1.0       2.0\n",
      "4  13.6    1.0       2.0\n",
      "                        df      sum_sq     mean_sq            F        PR(>F)\n",
      "C(fetus)               2.0  324.008889  162.004444  2113.101449  1.051039e-27\n",
      "C(observer)            3.0    1.198611    0.399537     5.211353  6.497055e-03\n",
      "C(fetus):C(observer)   6.0    0.562222    0.093704     1.222222  3.295509e-01\n",
      "Residual              24.0    1.840000    0.076667          NaN           NaN\n"
     ]
    }
   ],
   "source": [
    "# Bring them in DataFrame-format\n",
    "df = pd.DataFrame(data, columns=['hs', 'fetus', 'observer'])        # fetus = płód\n",
    "print(df.head())\n",
    "# Determine the ANOVA with interaction\n",
    "formula = 'hs ~ C(fetus) + C(observer) + C(fetus):C(observer)'\n",
    "lm = ols(formula, df).fit()\n",
    "anovaResults = anova_lm(lm)\n",
    "print(anovaResults)"
   ]
  },
  {
   "cell_type": "code",
   "execution_count": null,
   "metadata": {},
   "outputs": [],
   "source": [
    "# JAK INTERPRETOWAĆ TĘ TABELKĘ???????"
   ]
  },
  {
   "cell_type": "markdown",
   "metadata": {},
   "source": [
    "# Wniosek \n",
    "Różne płody wykazują znaczne różnice w rozmiarach głowy ($p <0.001$), również wybór obserwatora ma znaczący wpływ ($p <0.05$). Jednak żaden indywidualny obserwator nie był znacząco z każdym indywidualnym płodem (p> 0.05)."
   ]
  },
  {
   "cell_type": "code",
   "execution_count": null,
   "metadata": {
    "collapsed": true
   },
   "outputs": [],
   "source": [
    "# PR(>F) ozn. p-value\n",
    "# fetus: observer -> 3.295509e-01 = 0,3295509 > 0,05"
   ]
  }
 ],
 "metadata": {
  "kernelspec": {
   "display_name": "Python 3",
   "language": "python",
   "name": "python3"
  },
  "language_info": {
   "codemirror_mode": {
    "name": "ipython",
    "version": 3
   },
   "file_extension": ".py",
   "mimetype": "text/x-python",
   "name": "python",
   "nbconvert_exporter": "python",
   "pygments_lexer": "ipython3",
   "version": "3.7.0"
  }
 },
 "nbformat": 4,
 "nbformat_minor": 2
}
