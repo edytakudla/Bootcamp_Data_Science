{
 "cells": [
  {
   "cell_type": "markdown",
   "metadata": {},
   "source": [
    "# t-test dla dwóch próbek niezaleznych/aleznych  "
   ]
  },
  {
   "cell_type": "code",
   "execution_count": 1,
   "metadata": {},
   "outputs": [],
   "source": [
    "import matplotlib.pyplot as plt\n",
    "import numpy as np\n",
    "import pandas as pd\n",
    "from scipy import stats\n",
    "from scipy import integrate"
   ]
  },
  {
   "cell_type": "markdown",
   "metadata": {},
   "source": [
    "Test ten weryfikuje równość średnich dla dwóch zmiennych. Można to zapisać za pomocą zestawu hipotez: \n",
    "\n",
    "\n",
    "- $H_{0}$: $\\mu_1 = \\mu_2$,\n",
    "- $H_{1}$: $\\mu_1 \\neq \\mu_2 $,\n",
    "\n",
    "\n",
    "gdzie $\\mu_1$, $\\mu_2$, to odpowiednio średnie z próby dla pierwszej i drugiej zmiennej.\n"
   ]
  },
  {
   "cell_type": "markdown",
   "metadata": {},
   "source": [
    "### Wygeneruj dwie próbki niezależnie"
   ]
  },
  {
   "cell_type": "code",
   "execution_count": 2,
   "metadata": {},
   "outputs": [
    {
     "name": "stdout",
     "output_type": "stream",
     "text": [
      "42.26\n"
     ]
    }
   ],
   "source": [
    "np.random.seed(12)\n",
    "\n",
    "minnesota_ages1 = stats.poisson.rvs(loc=18, mu=30, size=30)\n",
    "minnesota_ages2 = stats.poisson.rvs(loc=18, mu=10, size=20)\n",
    "minnesota_ages = np.concatenate((minnesota_ages1, minnesota_ages2))\n",
    "\n",
    "wisconsin_ages1 = stats.poisson.rvs(loc=18, mu=33, size=30)\n",
    "wisconsin_ages2 = stats.poisson.rvs(loc=18, mu=13, size=20)\n",
    "wisconsin_ages = np.concatenate((wisconsin_ages1, wisconsin_ages2))\n",
    "\n",
    "print( wisconsin_ages.mean() )"
   ]
  },
  {
   "cell_type": "code",
   "execution_count": 3,
   "metadata": {},
   "outputs": [
    {
     "name": "stdout",
     "output_type": "stream",
     "text": [
      "[41 44 56 61 44 59 49 53 53 41 45 47 44 51 46 47 47 47 39 50 45 36 47 49\n",
      " 40 50 48 56 50 48 29 34 29 26 36 30 27 29 26 25 27 32 27 28 31 25 31 24\n",
      " 26 30]\n",
      "[48 45 41 60 48 51 49 53 44 53 48 53 55 46 53 49 55 50 56 53 51 51 44 55\n",
      " 42 51 46 52 54 49 29 33 28 34 33 31 35 36 26 25 29 26 31 30 32 29 30 28\n",
      " 34 29]\n"
     ]
    }
   ],
   "source": [
    "print(minnesota_ages)\n",
    "print(wisconsin_ages)"
   ]
  },
  {
   "cell_type": "markdown",
   "metadata": {},
   "source": [
    "### Wykonaj test i zinterpretuj wyniki"
   ]
  },
  {
   "cell_type": "code",
   "execution_count": 4,
   "metadata": {},
   "outputs": [
    {
     "data": {
      "text/plain": [
       "Ttest_indResult(statistic=-1.0200339438711856, pvalue=0.3102241289313711)"
      ]
     },
     "execution_count": 4,
     "metadata": {},
     "output_type": "execute_result"
    }
   ],
   "source": [
    "stats.ttest_ind(a= minnesota_ages, b= wisconsin_ages, equal_var=False)    # Assume samples have equal variance?"
   ]
  },
  {
   "cell_type": "markdown",
   "metadata": {},
   "source": [
    "# Wygeneruj dwie próbki zależne"
   ]
  },
  {
   "cell_type": "code",
   "execution_count": 8,
   "metadata": {},
   "outputs": [
    {
     "name": "stdout",
     "output_type": "stream",
     "text": [
      "before =  [302.48364224 241.4178101  235.46304603 170.40044322 249.75146112\n",
      " 240.41105909 233.90111913 259.46208005 262.63152149 218.03191059\n",
      " 223.4128099  235.72799522 270.69046931 266.83576528 210.83354471\n",
      " 216.41574215 272.10512174 297.23902219 249.06774735 229.49660118\n",
      " 282.86889096 240.71270088 271.77256674 296.472149   268.90239467\n",
      " 252.20479711 271.96814062 230.72273823 244.65720474 232.78136322\n",
      " 243.86874053 235.405147   244.42674028 238.5839075  252.66932906\n",
      " 251.91014984 258.89041324 292.08313358 203.59412297 288.86855754\n",
      " 242.88248663 213.0296138  244.82740698 252.75515125 282.02675371\n",
      " 218.15096655 256.52044624 253.53458513 199.47667321 214.42734204\n",
      " 268.00306017 270.86701766 282.6313258  266.01465147 261.85636039\n",
      " 253.68602588 286.27304926 224.70801697 245.74319257 261.56062414\n",
      " 202.67517074 289.32830921 226.21404977 247.84751763 314.70023277\n",
      " 225.11688243 234.11883917 296.85111081 217.59418524 237.03827144\n",
      " 265.48252112 263.66178581 267.81058609 261.11519003 290.36134216\n",
      " 280.47826439 267.85835362 229.51595151 228.59320212 192.75131375\n",
      " 270.61937046 195.30971249 276.37341399 305.39094619 218.15036789\n",
      " 229.46545995 235.7135656  274.90931289 224.09942451 246.08375599\n",
      " 234.30737102 242.46169227 288.73824185 221.0738544  252.15279323\n",
      " 258.14818888 275.76001522 212.07778963 283.44610855 263.0433096 ]\n",
      "after =  [305.60500607 240.5260706  226.0177879  165.91393007 252.59030895\n",
      " 239.34503286 232.40760642 267.16973554 272.39080306 216.59657606\n",
      " 231.82733704 224.51013756 259.195183   269.92104132 208.27373934\n",
      " 218.06059769 273.43788366 295.54200399 251.2283959  229.00021122\n",
      " 273.95817834 240.55704377 271.45088302 304.38603169 262.00792267\n",
      " 251.03978151 268.59599649 228.80818873 251.70322783 233.42456664\n",
      " 240.29591022 234.92435322 247.00754338 232.36376903 250.09761742\n",
      " 258.37119594 261.92117347 290.6091205  199.95667683 286.84822992\n",
      " 233.87708932 216.49479371 245.28317418 252.19651733 274.28964062\n",
      " 213.32615433 257.84284441 253.57316704 195.74302082 215.70245162\n",
      " 271.44697579 266.24191629 278.7270346  260.41534175 254.83003926\n",
      " 256.41938512 287.57318937 225.15158665 238.6325924  255.08078587\n",
      " 201.08682792 286.01226044 225.56446376 243.1026592  316.72035718\n",
      " 232.8642828  240.60186965 303.65048073 216.69928415 240.39614759\n",
      " 262.34837191 267.01169852 264.66847332 257.42031285 285.88937307\n",
      " 282.72396858 267.98538691 229.19757821 221.64417386 192.2103382\n",
      " 262.16577369 201.44227662 274.46564657 305.1130922  216.37462162\n",
      " 220.29564705 227.60469718 273.5177212  230.31178201 239.25756991\n",
      " 229.53030089 240.9755294  279.05183882 211.33714383 248.84552351\n",
      " 256.67181317 272.55414955 218.49890138 281.37514381 263.59514287]\n"
     ]
    }
   ],
   "source": [
    "np.random.seed(11)\n",
    "before= stats.norm.rvs(scale=30, loc=250, size=100)\n",
    "after = before + stats.norm.rvs(scale=5, loc=-1.25, size=100)\n",
    "         # Check a summary of the data\n",
    "print('before = ',before)\n",
    "print('after = ',after)"
   ]
  },
  {
   "cell_type": "markdown",
   "metadata": {},
   "source": [
    "### Wykonaj test i zinterpretuj wyniki"
   ]
  },
  {
   "cell_type": "code",
   "execution_count": 9,
   "metadata": {},
   "outputs": [
    {
     "data": {
      "text/plain": [
       "Ttest_relResult(statistic=2.5720175998568284, pvalue=0.011596444318439857)"
      ]
     },
     "execution_count": 9,
     "metadata": {},
     "output_type": "execute_result"
    }
   ],
   "source": [
    "stats.ttest_rel(a = before, b = after)"
   ]
  },
  {
   "cell_type": "code",
   "execution_count": null,
   "metadata": {
    "collapsed": true
   },
   "outputs": [],
   "source": []
  }
 ],
 "metadata": {
  "kernelspec": {
   "display_name": "Python 3",
   "language": "python",
   "name": "python3"
  },
  "language_info": {
   "codemirror_mode": {
    "name": "ipython",
    "version": 3
   },
   "file_extension": ".py",
   "mimetype": "text/x-python",
   "name": "python",
   "nbconvert_exporter": "python",
   "pygments_lexer": "ipython3",
   "version": "3.7.0"
  }
 },
 "nbformat": 4,
 "nbformat_minor": 2
}
