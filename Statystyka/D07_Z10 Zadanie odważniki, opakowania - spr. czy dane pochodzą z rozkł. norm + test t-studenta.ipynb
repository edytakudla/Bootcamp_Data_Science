{
 "cells": [
  {
   "cell_type": "markdown",
   "metadata": {},
   "source": [
    "# Zadanie\n",
    "\n",
    "Dla sprawdzenia poprawności działania urządzenia automatycznie odważającego produkt w opakowania po $250$ g wybrano losowo $15$ opakowań i zważono masę netto każdego z opakowań.\n",
    "Uzyskano następujące wyniki:\n",
    "\n",
    "249.3, 248.5, 250.2, 249.3, 247.9, 250.3, 251.1, 250.2, 249.3, 248.3, 247.9, 248.6, 250.6, 251.6, 249.6\n",
    "\n",
    "Czy na podstawie uzyskanych wyników możemy stwierdzić, że urządzenie odważa średnio właściwą masę produktu?"
   ]
  },
  {
   "cell_type": "code",
   "execution_count": 1,
   "metadata": {},
   "outputs": [],
   "source": [
    "import numpy as np\n",
    "import matplotlib.pyplot as plt\n",
    "import scipy.stats as stats\n",
    "import seaborn as sns\n",
    "import pandas as pd\n",
    "# additional packages\n",
    "from statsmodels.stats.diagnostic import lillifors"
   ]
  },
  {
   "cell_type": "code",
   "execution_count": 2,
   "metadata": {},
   "outputs": [],
   "source": [
    "data=np.array([249.3, 248.5, 250.2, 249.3, 247.9, 250.3, 251.1, 250.2, 249.3, 248.3, 247.9, 248.6, 250.6, 251.6, 249.6])"
   ]
  },
  {
   "cell_type": "markdown",
   "metadata": {},
   "source": [
    "# Najpierw sprawdzamy założenie o tym, że próbka pochodzi z rozkładu normalnego."
   ]
  },
  {
   "cell_type": "code",
   "execution_count": 3,
   "metadata": {},
   "outputs": [
    {
     "name": "stdout",
     "output_type": "stream",
     "text": [
      "p-values for all 15 data points: ----------------\n",
      "Omnibus               0.670529\n",
      "Shapiro-Wilk          0.638493\n",
      "Lilliefors            0.200000\n",
      "Kolmogorov-Smirnov    0.971191\n",
      "dtype: float64\n"
     ]
    },
    {
     "name": "stderr",
     "output_type": "stream",
     "text": [
      "C:\\Users\\Edyta\\Anaconda3\\lib\\site-packages\\scipy\\stats\\stats.py:1394: UserWarning: kurtosistest only valid for n>=20 ... continuing anyway, n=15\n",
      "  \"anyway, n=%i\" % int(n))\n",
      "C:\\Users\\Edyta\\Anaconda3\\lib\\site-packages\\ipykernel_launcher.py:11: DeprecationWarning: `lillifors` is deprecated, use `lilliefors` instead!\n",
      "Use lilliefors, lillifors will be removed in 0.9 \n",
      "(Note: misspelling missing 'e')\n",
      "  # This is added back by InteractiveShellApp.init_path()\n"
     ]
    }
   ],
   "source": [
    "pVals = pd.Series()\n",
    "pFewVals = pd.Series()\n",
    "# The scipy normaltest is based on D-Agostino and Pearsons test that\n",
    "# combines skew and kurtosis to produce an omnibus test of normality.\n",
    "_, pVals['Omnibus']    = stats.normaltest(data)\n",
    "\n",
    "# Shapiro-Wilk test\n",
    "_, pVals['Shapiro-Wilk']    = stats.shapiro(data)\n",
    "\n",
    "# Or you can check for normality with Lilliefors-test\n",
    "_, pVals['Lilliefors']    = lillifors(data)\n",
    "\n",
    "# Alternatively with original Kolmogorov-Smirnov test\n",
    "_, pVals['Kolmogorov-Smirnov']    = stats.kstest((data-np.mean(data))/np.std(data,ddof=1), 'norm')\n",
    "\n",
    "print('p-values for all {0} data points: ----------------'.format(len(data)))\n",
    "print(pVals)\n",
    "\n",
    "# >>>>>>>>>>>> wszystkie testy przeszły bo wszystkie wyniki powyżej 0.05, założenie jest spełnione"
   ]
  },
  {
   "cell_type": "markdown",
   "metadata": {},
   "source": [
    "# Wykonaj odpowiedni test"
   ]
  },
  {
   "cell_type": "code",
   "execution_count": 7,
   "metadata": {},
   "outputs": [],
   "source": [
    "# ponieważ przeszły wszystkie 4 testy to robimy dalej test t-studenta:\n",
    "(u, p) = stats.ttest_1samp(data, 250)  "
   ]
  },
  {
   "cell_type": "code",
   "execution_count": 8,
   "metadata": {},
   "outputs": [
    {
     "name": "stdout",
     "output_type": "stream",
     "text": [
      "Nie ma podstaw aby odrzucić hipotezę H_0\n",
      "u = -1.6487216788267192 p = 0.12145468329245238\n"
     ]
    }
   ],
   "source": [
    "if p < 0.05:\n",
    "    print(\"Odrzucamy hipotezę H_0\")\n",
    "else:\n",
    "    print(\"Nie ma podstaw aby odrzucić hipotezę H_0\")\n",
    "print('u =',u,'p =',p)"
   ]
  },
  {
   "cell_type": "code",
   "execution_count": null,
   "metadata": {},
   "outputs": [],
   "source": []
  }
 ],
 "metadata": {
  "kernelspec": {
   "display_name": "Python 3",
   "language": "python",
   "name": "python3"
  },
  "language_info": {
   "codemirror_mode": {
    "name": "ipython",
    "version": 3
   },
   "file_extension": ".py",
   "mimetype": "text/x-python",
   "name": "python",
   "nbconvert_exporter": "python",
   "pygments_lexer": "ipython3",
   "version": "3.7.0"
  }
 },
 "nbformat": 4,
 "nbformat_minor": 2
}
