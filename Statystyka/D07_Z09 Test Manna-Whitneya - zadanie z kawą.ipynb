{
 "cells": [
  {
   "cell_type": "markdown",
   "metadata": {},
   "source": [
    "# Zadanie\n",
    "W ankiecie przeprowadzonej wśród kilkudziesięciu osób zamieszkałych w dwóch regionach pytano m.in. ile razy dziennie piją kawę. Uzyskano następujące odpowiedzi:\n",
    "\n",
    "Region 1\n",
    "\n",
    "3 ,4 ,1 ,1 ,4 ,2 ,1 ,1 ,0 ,1 ,4 ,1 ,1 ,6 ,1 ,1 ,0 ,1 ,3 ,1 ,1 ,1 ,2 ,0 ,1 ,0 ,3 ,0 ,1 ,1 ,1 ,0 ,3 ,0 ,0 ,0 ,1 ,2 ,2 ,1 ,1 ,1 ,0 ,0 ,1\n",
    "\n",
    "Region 2\n",
    "\n",
    "0 ,0 ,1 ,2 ,0 ,0 ,1 ,1 ,5 ,1 ,1 ,2 ,1 ,2 ,1 ,0 ,1 ,1 ,0 ,0 ,0 ,1 ,0 ,2 ,1 ,2 ,2 ,1 ,1 ,2 ,2 ,6 ,1 ,3 ,2 ,4 ,1 ,2 ,1 ,0 ,4 ,0 ,2 ,0 ,3\n",
    "\n",
    "Czy na podstawie tych wyników można stwierdzić, że osoby z regionu 1 częściej piją kawę?"
   ]
  },
  {
   "cell_type": "code",
   "execution_count": 1,
   "metadata": {},
   "outputs": [],
   "source": [
    "import numpy as np\n",
    "import matplotlib.pyplot as plt\n",
    "import scipy.stats as stats\n",
    "import seaborn as sns\n",
    "import pandas as pd\n",
    "# additional packages\n",
    "from statsmodels.stats.diagnostic import lillifors"
   ]
  },
  {
   "cell_type": "code",
   "execution_count": 2,
   "metadata": {},
   "outputs": [],
   "source": [
    "data1=np.array([3 ,4 ,1 ,1 ,4 ,2 ,1 ,1 ,0 ,1 ,4 ,1 ,1 ,6 ,1 ,1 ,0 ,1 ,3 ,1 ,1 ,1 ,2 ,0 ,1 ,0 ,3 ,0 ,1 ,1 ,1 ,0 ,3 ,0 ,0 ,0 ,1 ,2 ,2 ,1 ,1 ,1 ,0 ,0 ,1])\n",
    "data2=np.array([0 ,0 ,1 ,2 ,0 ,0 ,1 ,1 ,5 ,1 ,1 ,2 ,1 ,2 ,1 ,0 ,1 ,1 ,0 ,0 ,0 ,1 ,0 ,2 ,1 ,2 ,2 ,1 ,1 ,2 ,2 ,6 ,1 ,3 ,2 ,4 ,1 ,2 ,1 ,0 ,4 ,0 ,2 ,0 ,3])\n"
   ]
  },
  {
   "cell_type": "code",
   "execution_count": 3,
   "metadata": {},
   "outputs": [
    {
     "data": {
      "text/plain": [
       "NormaltestResult(statistic=19.238866561943702, pvalue=6.642525144212018e-05)"
      ]
     },
     "execution_count": 3,
     "metadata": {},
     "output_type": "execute_result"
    }
   ],
   "source": [
    "stats.normaltest(data1)\n",
    "# dane data1 spełniają zalozenia normalności bo p-value = 6,6 > 0,05"
   ]
  },
  {
   "cell_type": "code",
   "execution_count": 4,
   "metadata": {},
   "outputs": [
    {
     "data": {
      "text/plain": [
       "NormaltestResult(statistic=17.901044597373783, pvalue=0.00012966941619022438)"
      ]
     },
     "execution_count": 4,
     "metadata": {},
     "output_type": "execute_result"
    }
   ],
   "source": [
    "stats.normaltest(data2)\n",
    "# dane data2 nie spełniają zalozenia normalności bo p-value = 0,0001 < 0,05"
   ]
  },
  {
   "cell_type": "code",
   "execution_count": 5,
   "metadata": {},
   "outputs": [
    {
     "data": {
      "text/plain": [
       "MannwhitneyuResult(statistic=970.5, pvalue=0.7245287194578662)"
      ]
     },
     "execution_count": 5,
     "metadata": {},
     "output_type": "execute_result"
    }
   ],
   "source": [
    "stats.mannwhitneyu(data1, data2, alternative='two-sided')"
   ]
  },
  {
   "cell_type": "code",
   "execution_count": null,
   "metadata": {},
   "outputs": [],
   "source": []
  }
 ],
 "metadata": {
  "kernelspec": {
   "display_name": "Python 3",
   "language": "python",
   "name": "python3"
  },
  "language_info": {
   "codemirror_mode": {
    "name": "ipython",
    "version": 3
   },
   "file_extension": ".py",
   "mimetype": "text/x-python",
   "name": "python",
   "nbconvert_exporter": "python",
   "pygments_lexer": "ipython3",
   "version": "3.7.0"
  }
 },
 "nbformat": 4,
 "nbformat_minor": 2
}
