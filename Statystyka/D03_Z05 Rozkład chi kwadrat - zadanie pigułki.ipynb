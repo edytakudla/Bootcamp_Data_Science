{
 "cells": [
  {
   "cell_type": "markdown",
   "metadata": {},
   "source": [
    "# Rozkład chi kwadrat\n",
    "Jeżeli $(X_1,\\ldots,X_n)$ jest próbka prostą z rozkładu $N(\\mu,\\sigma^2)$ to zmienna losowa\n",
    "$$\n",
    "\\frac{(n-1)S^{*2}}{\\sigma^2},\n",
    "$$\n",
    "gdzie\n",
    "$$\n",
    "S^{*2}= \\frac{1}{n-1} \\sum_{i=1}^{n} (X_i - \\bar X)^2, \\quad \\bar X = \\frac{1}{n} \\sum_{i=1}^{n} X_i\n",
    "$$\n",
    "ma rozkład $\\chi^{2}_{n-1}$ (chi kwadrat z $n-1$ stopniami swobody)."
   ]
  },
  {
   "cell_type": "code",
   "execution_count": 1,
   "metadata": {},
   "outputs": [],
   "source": [
    "import numpy as np\n",
    "from scipy import stats\n",
    "from scipy import integrate\n",
    "import matplotlib.pyplot as plt"
   ]
  },
  {
   "cell_type": "markdown",
   "metadata": {},
   "source": [
    "# Zadania 1\n",
    "Producent pigułek na ból głowy zobowiązał się dostarczyć pigułki z odchyleniem standardowym $\\sigma = 0.05$. \n",
    "\n",
    "Z pewnej partii pigułek wybrano próbkę $n=13$ pigułek o wagach: \n",
    "\n",
    "3.04, 2.94, 3.01, 3.00, 2.94, 2.91, 3.02, 3.04, 3.09, 2.95, 2.99, 3.10, 3.02 g.\n",
    "\n",
    "\n",
    "Pytanie: Czy odchylenie standardowe jest większe niż dozwolone?"
   ]
  },
  {
   "cell_type": "code",
   "execution_count": 2,
   "metadata": {},
   "outputs": [
    {
     "data": {
      "text/plain": [
       "0.057668371102719926"
      ]
     },
     "execution_count": 2,
     "metadata": {},
     "output_type": "execute_result"
    }
   ],
   "source": [
    "data = np.r_[3.04, 2.94, 3.01, 3.00, 2.94, 2.91, 3.02, 3.04, 3.09, 2.95, 2.99, 3.10, 3.02]\n",
    "np.std(data, ddof=1)"
   ]
  },
  {
   "cell_type": "markdown",
   "metadata": {},
   "source": [
    "Stawiamy hipotezę, że odchylenie jest mniejsze od ustalonego $\\sigma$."
   ]
  },
  {
   "cell_type": "markdown",
   "metadata": {},
   "source": [
    "Zdefiniujmy zmienną losową o rozkładzie chi kwadrat z $n-1$ stopniami swobody:"
   ]
  },
  {
   "cell_type": "code",
   "execution_count": 4,
   "metadata": {},
   "outputs": [],
   "source": [
    "sigma = 0.05\n",
    "chikw = stats.chi2(len(data)-1)"
   ]
  },
  {
   "cell_type": "markdown",
   "metadata": {},
   "source": [
    "Zauważmy, że:\n",
    "$$\n",
    "\\frac{(n-1)S^{*2}}{\\sigma^2} = \\frac{(n-1)\\frac{1}{(n-1)} \\sum_{i=1}^{n} (X_i - \\bar X)^2}{\\sigma^2} =  \\frac{  \\sum_{i=1}^{n} (X_i - \\bar X)^2}{\\sigma^2}\n",
    "$$"
   ]
  },
  {
   "cell_type": "markdown",
   "metadata": {},
   "source": [
    "Wartość statystyki wynosi:"
   ]
  },
  {
   "cell_type": "code",
   "execution_count": 5,
   "metadata": {},
   "outputs": [
    {
     "data": {
      "text/plain": [
       "15.963076923076905"
      ]
     },
     "execution_count": 5,
     "metadata": {},
     "output_type": "execute_result"
    }
   ],
   "source": [
    "statistic = sum((data - np.mean(data))**2)/sigma**2\n",
    "statistic"
   ]
  },
  {
   "cell_type": "markdown",
   "metadata": {},
   "source": [
    "Przy założeniu prawdziwości hipotezy zerowej, prawdopodobieństwo, że wypadła wartość naszej statystyki wynosi:"
   ]
  },
  {
   "cell_type": "code",
   "execution_count": 6,
   "metadata": {},
   "outputs": [
    {
     "data": {
      "text/plain": [
       "0.8070669334571484"
      ]
     },
     "execution_count": 6,
     "metadata": {},
     "output_type": "execute_result"
    }
   ],
   "source": [
    "chikw.cdf(statistic)"
   ]
  },
  {
   "cell_type": "code",
   "execution_count": 7,
   "metadata": {},
   "outputs": [
    {
     "data": {
      "text/plain": [
       "0.19293306654285158"
      ]
     },
     "execution_count": 7,
     "metadata": {},
     "output_type": "execute_result"
    }
   ],
   "source": [
    "x0 = 1 - chikw.cdf(statistic)\n",
    "x0"
   ]
  },
  {
   "cell_type": "markdown",
   "metadata": {},
   "source": [
    "# Zadanie 2\n",
    "Wykonaj odpowiedni rysunek na gęstości i dystrubuancie rozkładu chi kwadrat."
   ]
  },
  {
   "cell_type": "code",
   "execution_count": 8,
   "metadata": {},
   "outputs": [
    {
     "name": "stdout",
     "output_type": "stream",
     "text": [
      "0.1929\n"
     ]
    },
    {
     "data": {
      "image/png": "[encoded data removed]",
      "text/plain": [
       "<Figure size 864x432 with 2 Axes>"
      ]
     },
     "metadata": {
      "needs_background": "light"
     },
     "output_type": "display_data"
    }
   ],
   "source": [
    "x0=statistic\n",
    "\n",
    "(inte,err)=integrate.quad(lambda x: chikw.pdf(x), x0, np.inf)\n",
    "print(np.round(inte,4))\n",
    "\n",
    "x = np.linspace(0,30,100)\n",
    "yp = chikw.pdf(x)\n",
    "y = chikw.cdf(x)\n",
    "x1 = np.linspace(x0, 30)\n",
    "y1 = chikw.pdf(x1)\n",
    "\n",
    "figs, axs = plt.subplots(1,2, figsize=(12, 6))\n",
    "\n",
    "axs[0].plot(x,yp, 'k')\n",
    "axs[0].fill_between(x1, y1, facecolor='#CCCCCC')\n",
    "axs[0].text(x0, chikw.pdf(x0), np.round(inte,4))\n",
    "axs[0].set_xlabel('x')\n",
    "axs[0].set_ylabel('PDF(x)')\n",
    "\n",
    "axs[1].plot(x, y, '#999999', lw=3)\n",
    "axs[1].set_xlabel('x')\n",
    "axs[1].set_ylabel('CDF(x)')\n",
    "axs[1].text(x0, chikw.cdf(x0), r'  1-CDF(x)=%1.3f' % np.round(chikw.sf(x0),4))\n",
    "plt.vlines(x0, 0, chikw.cdf(x0), linestyles='--')\n",
    "plt.show()"
   ]
  },
  {
   "cell_type": "code",
   "execution_count": 9,
   "metadata": {},
   "outputs": [
    {
     "data": {
      "text/plain": [
       "0.1929330665428516"
      ]
     },
     "execution_count": 9,
     "metadata": {},
     "output_type": "execute_result"
    }
   ],
   "source": [
    "chikw.sf(statistic)"
   ]
  },
  {
   "cell_type": "code",
   "execution_count": null,
   "metadata": {},
   "outputs": [],
   "source": []
  }
 ],
 "metadata": {
  "kernelspec": {
   "display_name": "Python 3",
   "language": "python",
   "name": "python3"
  },
  "language_info": {
   "codemirror_mode": {
    "name": "ipython",
    "version": 3
   },
   "file_extension": ".py",
   "mimetype": "text/x-python",
   "name": "python",
   "nbconvert_exporter": "python",
   "pygments_lexer": "ipython3",
   "version": "3.7.0"
  }
 },
 "nbformat": 4,
 "nbformat_minor": 2
}
