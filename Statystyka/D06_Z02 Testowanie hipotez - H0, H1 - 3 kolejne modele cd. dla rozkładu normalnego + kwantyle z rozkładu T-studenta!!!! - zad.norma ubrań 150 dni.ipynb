{
 "cells": [
  {
   "cell_type": "markdown",
   "metadata": {},
   "source": [
    "# Zadanie\n",
    "\n",
    "W celu ustalenia, czy dotychczasowa norma okresu użytkowania ubrań ochronnych -- wynosząca $150$ dni -- nie jest zbyt wysoka, zbadano faktyczny okres  użytkowania ich na przykładzie $65$ losowo wybranych robotników pracujących w normalnych warunkach. Otrzymano średnią długość okresu użytkowania $139$ dni oraz odchylenie standardowe ($S$) $9.8$ dni. Zakładając, że czas użytkowania ubrań ma rozkład normalny, stwierdzić, na poziomie istotności $\\alpha = 0.01$, czy uzyskane wyniki stanowią podstawę do:\n",
    "\n",
    "<ul>\n",
    "<li> zmiany normy </li>\n",
    "<li> zmniejszenia normy </li>\n",
    "<li> zwiększenia normy </li>\n",
    "</ul>\n"
   ]
  },
  {
   "cell_type": "code",
   "execution_count": 1,
   "metadata": {},
   "outputs": [],
   "source": [
    "import matplotlib.pyplot as plt\n",
    "import numpy as np\n",
    "from scipy import stats\n",
    "from scipy import integrate"
   ]
  },
  {
   "cell_type": "markdown",
   "metadata": {},
   "source": [
    "## Model 4.\n",
    "\n",
    "Badana cecha $X$ populacji generalnej ma rozkład $N(\\mu,\\sigma)$ przy <b>obu parametrach nieznanych</b>.\n",
    "\n",
    "Weryfikujemy hipotezę:\n",
    "\n",
    "$$\n",
    "H_{0}: \\mu = \\mu_0\n",
    "$$\n",
    "\n",
    "$$\n",
    "H_{1}: \\mu = \\mu_1 > \\mu_0\n",
    "$$\n",
    "\n",
    "W tym teście używa się statystyki\n",
    "\n",
    "$$\n",
    "t=\\frac{\\bar X - \\mu_0}{S} \\sqrt{n-1}\n",
    "$$\n",
    "\n",
    "Zbiór krytyczny jest dany za pomocą przedziału\n",
    "\n",
    "$$\n",
    "[t(1-\\alpha,n-1), +\\infty)\n",
    "$$\n",
    "\n",
    "gdzie $t(\\alpha,n)$ jest kwantylem rozkładu t--studenta przy $n$ stopniach swobody oraz\n",
    "\n",
    "$\n",
    "S^2 = \\frac{1}{n} \\sum_{i=1}^{n} (X_{i} - \\bar X)^2.\n",
    "$"
   ]
  },
  {
   "cell_type": "markdown",
   "metadata": {},
   "source": [
    "## Model 5.\n",
    "\n",
    "Badana cecha $X$ populacji generalnej ma rozkład $N(\\mu,\\sigma)$ przy \\red{obu parametrach nieznanych}.\n",
    "\n",
    "Weryfikujemy hipotezę:\n",
    "\n",
    "$$\n",
    "H_{0}: \\mu = \\mu_0\n",
    "$$\n",
    "\n",
    "$$\n",
    "H_{1}: \\mu = \\mu_1 < \\mu_0\n",
    "$$\n",
    "\n",
    "W tym teście używa się statystyki\n",
    "\n",
    "$$\n",
    "t=\\frac{\\bar X - \\mu_0}{S} \\sqrt{n-1}\n",
    "$$\n",
    "\n",
    "Zbiór krytyczny jest dany za pomocą przedziału\n",
    "\n",
    "$$\n",
    "(-\\infty, -t(1-\\alpha,n-1)]\n",
    "$$\n",
    "\n",
    "gdzie $t(\\alpha,n)$ jest kwantylem rozkładu t--studenta przy $n$ stopniach swobody oraz\n",
    "\n",
    "$\n",
    "S^2 = \\frac{1}{n} \\sum_{i=1}^{n} (X_{i} - \\bar X)^2.\n",
    "$"
   ]
  },
  {
   "cell_type": "markdown",
   "metadata": {},
   "source": [
    "## Model 6\n",
    "\n",
    "Badana cecha $X$ populacji generalnej ma rozkład $N(\\mu,\\sigma)$ przy \\red{obu parametrach nieznanych}.\n",
    "\n",
    "Weryfikujemy hipotezę:\n",
    "\n",
    "$$\n",
    "H_{0}: \\mu = \\mu_0\n",
    "$$\n",
    "\n",
    "$$\n",
    "H_{1}: \\mu = \\mu_1 \\neq \\mu_0\n",
    "$$\n",
    "\n",
    "\n",
    "W tym teście używa się statystyki\n",
    "$$\n",
    "t=\\frac{\\bar X - \\mu_0}{S} \\sqrt{n-1}\n",
    "$$\n",
    "\n",
    "Zbiór krytyczny jest dany za pomocą przedziału\n",
    "\n",
    "$$\n",
    "(-\\infty, -t(1-\\frac{1}{2}\\alpha,n-1)] \\cup [t(1-\\frac{1}{2}\\alpha,n-1), +\\infty)\n",
    "$$\n",
    "\n",
    "gdzie $t(\\alpha,n)$ jest kwantylem rozkładu t--studenta przy $n$ stopniach swobody oraz\n",
    "\n",
    "$\n",
    "S^2 = \\frac{1}{n} \\sum_{i=1}^{n} (X_{i} - \\bar X)^2.\n",
    "$"
   ]
  },
  {
   "cell_type": "markdown",
   "metadata": {},
   "source": [
    "## Zdefiniujmy zmienną losową o rozkładzie t-Studenta"
   ]
  },
  {
   "cell_type": "code",
   "execution_count": 3,
   "metadata": {},
   "outputs": [],
   "source": [
    "n=65\n",
    "X=stats.t(n-1)"
   ]
  },
  {
   "cell_type": "markdown",
   "metadata": {},
   "source": [
    "## Wyliczmy wartość statystyki\n",
    "\n",
    "$$\n",
    "t=\\frac{\\bar X - \\mu_0}{S} \\sqrt{n-1}\n",
    "$$"
   ]
  },
  {
   "cell_type": "code",
   "execution_count": 4,
   "metadata": {},
   "outputs": [
    {
     "name": "stdout",
     "output_type": "stream",
     "text": [
      "150\n",
      "139\n",
      "9.8\n",
      "-8.979591836734693\n"
     ]
    }
   ],
   "source": [
    "alpha=0.01\n",
    "bar_x = 139\n",
    "mu=150\n",
    "s = 9.8\n",
    "t= (bar_x - mu)/s*np.sqrt(n-1)\n",
    "print(mu)\n",
    "print(bar_x)\n",
    "print(s)\n",
    "print(t)"
   ]
  },
  {
   "cell_type": "markdown",
   "metadata": {},
   "source": [
    "# $H_0$: $\\mu=150$ przy hipotezie alternatywnej $H_1$: $\\mu <150$\n",
    "\n",
    "## Wypisz przedział krytyczny"
   ]
  },
  {
   "cell_type": "code",
   "execution_count": 5,
   "metadata": {},
   "outputs": [],
   "source": [
    "L=-np.infty"
   ]
  },
  {
   "cell_type": "code",
   "execution_count": 6,
   "metadata": {},
   "outputs": [],
   "source": [
    "R=-X.ppf(1-alpha)"
   ]
  },
  {
   "cell_type": "code",
   "execution_count": 7,
   "metadata": {},
   "outputs": [
    {
     "name": "stdout",
     "output_type": "stream",
     "text": [
      "( -inf , -2.386)\n"
     ]
    }
   ],
   "source": [
    "print(r'( %3.3f , %3.3f)' % (L,R))"
   ]
  },
  {
   "cell_type": "markdown",
   "metadata": {},
   "source": [
    "## zweryfikuj hipotezę na podstawie wartości statystyki oraz przedziału krytycznego"
   ]
  },
  {
   "cell_type": "code",
   "execution_count": 9,
   "metadata": {},
   "outputs": [
    {
     "name": "stdout",
     "output_type": "stream",
     "text": [
      "Wartość statystyki należy do przedziału krytycznego więc odrzucamy hipotezę H_0\n",
      "t = -8.979591836734693 R = -2.3860370460693847\n"
     ]
    }
   ],
   "source": [
    "if t < R:\n",
    "    print(\"Wartość statystyki należy do przedziału krytycznego więc odrzucamy hipotezę H_0\")\n",
    "else:\n",
    "    print(\"Wartość statystyki nie należy do przedziału krytycznego więc nie ma podstaw by odrzucić hipotezę H_0\")\n",
    "print('t =',t, 'R =',R)"
   ]
  },
  {
   "cell_type": "markdown",
   "metadata": {},
   "source": [
    "## wylicz p-value"
   ]
  },
  {
   "cell_type": "code",
   "execution_count": 10,
   "metadata": {},
   "outputs": [
    {
     "name": "stdout",
     "output_type": "stream",
     "text": [
      "3.069852930904138e-13\n"
     ]
    }
   ],
   "source": [
    "p = X.cdf(t)\n",
    "print(p)"
   ]
  },
  {
   "cell_type": "markdown",
   "metadata": {},
   "source": [
    "## zweryfikuj hipotezę na podstawie wartości p-value"
   ]
  },
  {
   "cell_type": "code",
   "execution_count": 12,
   "metadata": {},
   "outputs": [
    {
     "name": "stdout",
     "output_type": "stream",
     "text": [
      "Odrzucam hipotezę zerową H_0\n",
      "p-value = 3.069852930904138e-13 alpha = 0.01\n"
     ]
    }
   ],
   "source": [
    "if(p < alpha):\n",
    "    print(\"Odrzucam hipotezę zerową H_0\")\n",
    "else:        \n",
    "    print(\"Nie ma podstaw by odrzucić hipotezę zerową H_0\")\n",
    "print('p-value =',p,'alpha =',alpha)"
   ]
  },
  {
   "cell_type": "markdown",
   "metadata": {},
   "source": [
    "Narysuj gęstość rozkładu statystyki i zaznacz na nim:\n",
    "<ul>\n",
    "<li> przedział krytyczny </li>\n",
    "<li> wartość statystyki testowej </li>\n",
    "<li> p-value </li>\n",
    "</ul>"
   ]
  },
  {
   "cell_type": "code",
   "execution_count": 13,
   "metadata": {},
   "outputs": [
    {
     "data": {
      "image/png": "[encoded data removed]",
      "text/plain": [
       "<Figure size 864x432 with 1 Axes>"
      ]
     },
     "metadata": {
      "needs_background": "light"
     },
     "output_type": "display_data"
    }
   ],
   "source": [
    "u_1=X.ppf(alpha)\n",
    "\n",
    "x = np.linspace(-9,1,100)\n",
    "yp = X.pdf(x)\n",
    "y = X.cdf(x)\n",
    "x1 = np.linspace(-9, u_1)\n",
    "y1 = X.pdf(x1)\n",
    "figs, axs = plt.subplots(1,1, figsize=(12, 6))\n",
    "axs.plot(x,yp, 'k')\n",
    "axs.fill_between(x1, y1, facecolor='#CCCCCC')\n",
    "axs.text(u_1, 0.01, np.round(X.cdf(u_1),4))\n",
    "axs.vlines(t, 0, X.pdf(t), linestyles='--')\n",
    "axs.text(t, 0, r'$statystyka = $ %.3f' % np.round(t,3))\n",
    "axs.text(t, 0.05, r'$p-value = $ %.3f' % np.round(p,3))\n",
    "axs.set_xlabel('x')\n",
    "axs.set_ylabel('PDF(x)')\n",
    "plt.show()"
   ]
  },
  {
   "cell_type": "code",
   "execution_count": null,
   "metadata": {
    "collapsed": true
   },
   "outputs": [],
   "source": []
  },
  {
   "cell_type": "markdown",
   "metadata": {
    "collapsed": true
   },
   "source": [
    "# $H_0$: $\\mu=150$ przy hipotezie alternatywnej $H_1$: $\\mu > 150$\n",
    "## Wypisz przedział krytyczny"
   ]
  },
  {
   "cell_type": "code",
   "execution_count": 15,
   "metadata": {},
   "outputs": [
    {
     "name": "stdout",
     "output_type": "stream",
     "text": [
      "(L, R) = (2.3860370460693847, inf)\n"
     ]
    }
   ],
   "source": [
    "L=X.ppf(1-alpha)\n",
    "R=np.infty\n",
    "print('(L, R) =',(L, R))"
   ]
  },
  {
   "cell_type": "markdown",
   "metadata": {},
   "source": [
    "## zweryfikuj hipotezę na podstawie wartości statystyki oraz przedziału krytycznego"
   ]
  },
  {
   "cell_type": "code",
   "execution_count": 16,
   "metadata": {},
   "outputs": [
    {
     "name": "stdout",
     "output_type": "stream",
     "text": [
      "Wartość statystyki nie należy do przedziału krytycznego więc nie ma podstaw by odrzucić hipotezę H_0\n",
      "t = -8.979591836734693 L = 2.3860370460693847\n"
     ]
    }
   ],
   "source": [
    "if t > L:\n",
    "    print(\"Wartość statystyki należy do przedziału krytycznego więc odrzucamy hipotezę H_0\")\n",
    "else:\n",
    "    print(\"Wartość statystyki nie należy do przedziału krytycznego więc nie ma podstaw by odrzucić hipotezę H_0\")\n",
    "print('t =',t, 'L =',L)"
   ]
  },
  {
   "cell_type": "markdown",
   "metadata": {},
   "source": [
    "## wylicz p-value"
   ]
  },
  {
   "cell_type": "code",
   "execution_count": 20,
   "metadata": {},
   "outputs": [
    {
     "data": {
      "text/plain": [
       "0.999999999999693"
      ]
     },
     "execution_count": 20,
     "metadata": {},
     "output_type": "execute_result"
    }
   ],
   "source": [
    "p = 1-X.cdf(t)\n",
    "p"
   ]
  },
  {
   "cell_type": "markdown",
   "metadata": {},
   "source": [
    "## zweryfikuj hipotezę na podstawie wartości p-value"
   ]
  },
  {
   "cell_type": "code",
   "execution_count": 21,
   "metadata": {},
   "outputs": [
    {
     "name": "stdout",
     "output_type": "stream",
     "text": [
      "Nie ma podstaw by odrzucić hipotezę zerową H_0\n",
      "p-value = 0.999999999999693 alpha = 0.01\n"
     ]
    }
   ],
   "source": [
    "if(p < alpha):\n",
    "    print(\"Odrzucam hipotezę zerową H_0\")\n",
    "else:        \n",
    "    print(\"Nie ma podstaw by odrzucić hipotezę zerową H_0\")\n",
    "print('p-value =',p,'alpha =',alpha)"
   ]
  },
  {
   "cell_type": "markdown",
   "metadata": {},
   "source": [
    "Narysuj gęstość rozkładu statystyki i zaznacz na nim:\n",
    "<ul>\n",
    "<li> przedział krytyczny </li>\n",
    "<li> wartość statystyki testowej </li>\n",
    "<li> p-value </li>\n",
    "</ul>"
   ]
  },
  {
   "cell_type": "code",
   "execution_count": 38,
   "metadata": {},
   "outputs": [
    {
     "data": {
      "image/png": "[encoded data removed]",
      "text/plain": [
       "<Figure size 864x432 with 1 Axes>"
      ]
     },
     "metadata": {
      "needs_background": "light"
     },
     "output_type": "display_data"
    }
   ],
   "source": [
    "# u_1=1-X.ppf(alpha) - rys. wychodzi troche inny\n",
    "u_1=X.isf(alpha)\n",
    "\n",
    "x = np.linspace(-3,4,100)\n",
    "yp = X.pdf(x)\n",
    "y = X.cdf(x)\n",
    "x1 = np.linspace(u_1,4)\n",
    "y1 = X.pdf(x1)\n",
    "figs, axs = plt.subplots(1,1, figsize=(12, 6))\n",
    "axs.plot(x,yp, 'k')\n",
    "axs.fill_between(x1, y1, facecolor='#CCCCCC')\n",
    "axs.text(u_1, 0.01, np.round(X.cdf(u_1),4))\n",
    "axs.vlines(t, 0, X.pdf(t), linestyles='--')\n",
    "axs.text(t, 0, r'$statystyka = $ %.3f' % np.round(t,3))\n",
    "axs.text(t, 0.05, r'$p-value = $ %.3f' % np.round(p,3))\n",
    "axs.set_xlabel('x')\n",
    "axs.set_ylabel('PDF(x)')\n",
    "plt.show()"
   ]
  },
  {
   "cell_type": "markdown",
   "metadata": {},
   "source": [
    "# $H_0$: $\\mu=150$ przy hipotezie alternatywnej $H_1$: $\\mu \\neq 150$\n",
    "## Wypisz przedział krytyczny"
   ]
  },
  {
   "cell_type": "code",
   "execution_count": 43,
   "metadata": {},
   "outputs": [
    {
     "name": "stdout",
     "output_type": "stream",
     "text": [
      "-inf -2.654854342721057 2.6548543427210567 inf\n"
     ]
    }
   ],
   "source": [
    "L1 = -np.inf\n",
    "R1 = X.ppf(alpha/2)\n",
    "\n",
    "L2 = X.ppf(1-alpha/2)\n",
    "R2 = np.inf\n",
    "\n",
    "print(L1, R1, L2, R2)"
   ]
  },
  {
   "cell_type": "markdown",
   "metadata": {},
   "source": [
    "## zweryfikuj hipotezę na podstawie wartości statystyki oraz przedziału krytycznego"
   ]
  },
  {
   "cell_type": "code",
   "execution_count": 42,
   "metadata": {},
   "outputs": [
    {
     "name": "stdout",
     "output_type": "stream",
     "text": [
      "Wartość statystyki należy do przedziału krytycznego więc odrzucamy hipotezę H_0\n",
      "t = -8.979591836734693 R1 = -2.386037046069385 L2 = 2.3860370460693847\n"
     ]
    }
   ],
   "source": [
    "if t < R1 or t > L2:\n",
    "    print(\"Wartość statystyki należy do przedziału krytycznego więc odrzucamy hipotezę H_0\")\n",
    "else:\n",
    "    print(\"Wartość statystyki nie należy do przedziału krytycznego więc nie ma podstaw by odrzucić hipotezę H_0\")\n",
    "print('t =',t, 'R1 =',R1, 'L2 =',L2)"
   ]
  },
  {
   "cell_type": "markdown",
   "metadata": {},
   "source": [
    "## wylicz p-value"
   ]
  },
  {
   "cell_type": "code",
   "execution_count": 44,
   "metadata": {},
   "outputs": [
    {
     "data": {
      "text/plain": [
       "6.139705861808276e-13"
      ]
     },
     "execution_count": 44,
     "metadata": {},
     "output_type": "execute_result"
    }
   ],
   "source": [
    "p = X.cdf(t) + X.sf(-t)\n",
    "p"
   ]
  },
  {
   "cell_type": "markdown",
   "metadata": {},
   "source": [
    "## zweryfikuj hipotezę na podstawie wartości p-value"
   ]
  },
  {
   "cell_type": "code",
   "execution_count": 45,
   "metadata": {},
   "outputs": [
    {
     "name": "stdout",
     "output_type": "stream",
     "text": [
      "Odrzucam hipotezę zerową H_0\n"
     ]
    }
   ],
   "source": [
    "if(p < alpha):\n",
    "    print(\"Odrzucam hipotezę zerową H_0\")\n",
    "else:        \n",
    "    print(\"Nie ma podstaw by odrzucić hipotezę zerową H_0\")"
   ]
  },
  {
   "cell_type": "markdown",
   "metadata": {},
   "source": [
    "Narysuj gęstość rozkładu statystyki i zaznacz na nim:\n",
    "<ul>\n",
    "<li> przedział krytyczny </li>\n",
    "<li> wartość statystyki testowej </li>\n",
    "<li> p-value </li>\n",
    "</ul>"
   ]
  },
  {
   "cell_type": "code",
   "execution_count": 58,
   "metadata": {},
   "outputs": [
    {
     "data": {
      "image/png": "[encoded data removed]",
      "text/plain": [
       "<Figure size 864x432 with 1 Axes>"
      ]
     },
     "metadata": {
      "needs_background": "light"
     },
     "output_type": "display_data"
    }
   ],
   "source": [
    "u_1=X.isf(alpha/2) # prawy ogon\n",
    "u_2=X.ppf(alpha/2) #lewy ogon\n",
    "\n",
    "x = np.linspace(-3,3,100)\n",
    "yp = X.pdf(x)\n",
    "y = X.cdf(x)\n",
    "x1 = np.linspace(u_1,3)\n",
    "y1 = X.pdf(x1)\n",
    "\n",
    "x2 = np.linspace(-3,u_2)\n",
    "y2 = X.pdf(x2)\n",
    "\n",
    "\n",
    "figs, axs = plt.subplots(1,1, figsize=(12, 6))\n",
    "axs.plot(x,yp, 'k')\n",
    "axs.fill_between(x1, y1, facecolor='#CCCCCC')\n",
    "axs.fill_between(x2, y2, facecolor='#CCCCCC')\n",
    "#axs.text(u_1, 0.1, np.round(X.cdf(u_1),4))\n",
    "axs.text(u_1, 0.05, r'$\\alpha/2 = $ %.3f' % np.round(alpha/2,3))\n",
    "axs.text(u_2, 0.05, r'$\\alpha/2 = $ %.3f' % np.round(alpha/2,3))\n",
    "axs.vlines(t, 0, X.pdf(t), linestyles='--')\n",
    "axs.vlines(-t, 0, X.pdf(-t), linestyles='--')\n",
    "axs.text(-1.0, 0, r'$statystyka = $ %.3f' % np.round(t,3))\n",
    "axs.text(t+3.1, 0.02, r'$p-value/2 = $ %.3f' % np.round(p/2,3))\n",
    "axs.text(t+12.1, 0.02, r'$p-value/2 = $ %.3f' % np.round(p/2,3))\n",
    "axs.set_xlabel('x')\n",
    "axs.set_ylabel('PDF(x)')\n",
    "plt.show()"
   ]
  },
  {
   "cell_type": "code",
   "execution_count": null,
   "metadata": {},
   "outputs": [],
   "source": []
  }
 ],
 "metadata": {
  "kernelspec": {
   "display_name": "Python 3",
   "language": "python",
   "name": "python3"
  },
  "language_info": {
   "codemirror_mode": {
    "name": "ipython",
    "version": 3
   },
   "file_extension": ".py",
   "mimetype": "text/x-python",
   "name": "python",
   "nbconvert_exporter": "python",
   "pygments_lexer": "ipython3",
   "version": "3.7.0"
  }
 },
 "nbformat": 4,
 "nbformat_minor": 2
}
