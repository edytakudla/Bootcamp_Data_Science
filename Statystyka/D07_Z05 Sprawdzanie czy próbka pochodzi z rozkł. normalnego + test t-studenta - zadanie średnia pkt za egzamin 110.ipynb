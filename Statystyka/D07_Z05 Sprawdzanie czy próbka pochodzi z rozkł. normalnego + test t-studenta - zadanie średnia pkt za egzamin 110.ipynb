{
 "cells": [
  {
   "cell_type": "markdown",
   "metadata": {},
   "source": [
    "# Zadanie\n",
    "\n",
    "Załóżmy, że prowadzisz prywatną instytucję edukacyjną. Twoja umowa mówi, że jeśli twoi uczniowie uzyskają $110$ punktów w ostatnim egzaminie, gdzie średnia krajowa wynosi $100$, to otrzymasz bonus. Jeśli wyniki są znacznie niższe, to tracisz bonus (bo uczniowie nie są wystarczająco dobrzy) i musisz zatrudnić więcej nauczycieli. Jeśli wyniki są znacznie wyższe, tracisz także bonus (ponieważ wydałeś za dużo pieniędzy na nauczycieli) i musisz zredukować liczbę nauczycieli.\n",
    "\n",
    "Wyniki końcowe egzaminu dla dziesięciu uczniów to:\n",
    "$[109.4, 76.2, 128.7, 93.7, 85.6, 117.7, 117.2, 87.3, 100.3, 55.1].$\n",
    "\n",
    "Pytanie, na które chcemy odpowiedzieć: Czy średnia wartość wyników $97.1$ różni się znacząco od wartości $110$?\n"
   ]
  },
  {
   "cell_type": "code",
   "execution_count": 1,
   "metadata": {},
   "outputs": [],
   "source": [
    "import numpy as np\n",
    "import matplotlib.pyplot as plt\n",
    "import scipy.stats as stats\n",
    "import seaborn as sns\n",
    "import pandas as pd\n",
    "# additional packages\n",
    "from statsmodels.stats.diagnostic import lillifors"
   ]
  },
  {
   "cell_type": "code",
   "execution_count": 2,
   "metadata": {},
   "outputs": [],
   "source": [
    "data=np.array([109.4, 76.2, 128.7, 93.7, 85.6, 117.7, 117.2, 87.3, 100.3, 55.1])"
   ]
  },
  {
   "cell_type": "markdown",
   "metadata": {},
   "source": [
    "# Najpierw sprawdzamy założenie o tym, że próbka pochodzi z rozkładu normalnego."
   ]
  },
  {
   "cell_type": "code",
   "execution_count": 4,
   "metadata": {},
   "outputs": [
    {
     "name": "stdout",
     "output_type": "stream",
     "text": [
      "p-values for all 10 data points: ----------------\n",
      "Omnibus               0.787921\n",
      "Shapiro-Wilk          0.912810\n",
      "Lilliefors            0.200000\n",
      "Kolmogorov-Smirnov    0.999136\n",
      "dtype: float64\n"
     ]
    },
    {
     "name": "stderr",
     "output_type": "stream",
     "text": [
      "C:\\Users\\Edyta\\Anaconda3\\lib\\site-packages\\scipy\\stats\\stats.py:1394: UserWarning: kurtosistest only valid for n>=20 ... continuing anyway, n=10\n",
      "  \"anyway, n=%i\" % int(n))\n",
      "C:\\Users\\Edyta\\Anaconda3\\lib\\site-packages\\ipykernel_launcher.py:11: DeprecationWarning: `lillifors` is deprecated, use `lilliefors` instead!\n",
      "Use lilliefors, lillifors will be removed in 0.9 \n",
      "(Note: misspelling missing 'e')\n",
      "  # This is added back by InteractiveShellApp.init_path()\n"
     ]
    }
   ],
   "source": [
    "pVals = pd.Series()\n",
    "pFewVals = pd.Series()\n",
    "# The scipy normaltest is based on D-Agostino and Pearsons test that\n",
    "# combines skew and kurtosis to produce an omnibus test of normality.\n",
    "_, pVals['Omnibus']    = stats.normaltest(data)\n",
    "\n",
    "# Shapiro-Wilk test\n",
    "_, pVals['Shapiro-Wilk']    = stats.shapiro(data)\n",
    "\n",
    "# Or you can check for normality with Lilliefors-test\n",
    "_, pVals['Lilliefors']    = lillifors(data)\n",
    "\n",
    "# Alternatively with original Kolmogorov-Smirnov test\n",
    "_, pVals['Kolmogorov-Smirnov']    = stats.kstest((data-np.mean(data))/np.std(data,ddof=1), 'norm')\n",
    "\n",
    "print('p-values for all {0} data points: ----------------'.format(len(data)))\n",
    "print(pVals)\n",
    "\n",
    "# >>>>>>>>>>>> wszystkie testy przeszły bo wszystkie wyniki powyżej 0.05, założenie jest spełnione"
   ]
  },
  {
   "cell_type": "markdown",
   "metadata": {},
   "source": [
    "# Możemy wykonać test t-Studenta\n",
    "Naszym celem jest sprawdzenie czy średnia z danych różni się istotnie od wartości $110$"
   ]
  },
  {
   "cell_type": "code",
   "execution_count": 6,
   "metadata": {},
   "outputs": [
    {
     "name": "stdout",
     "output_type": "stream",
     "text": [
      "0.09953843652790623\n",
      "Nie ma podstaw aby odrzucić hipotezę H_0\n",
      "tval = 1.836024999781543 td = <scipy.stats._distn_infrastructure.rv_frozen object at 0x00000158A89F1160>\n"
     ]
    }
   ],
   "source": [
    "# H0 : średnia 97.1 nie różni się statystycznie od 110\n",
    "# H1 : średnia 97.1 różni się statystycznie od 110\n",
    "\n",
    "tval = (110-np.mean(data))/stats.sem(data)\n",
    "td = stats.t(len(data)-1) # \"frozen\" t-distribution\n",
    "p = 2*td.sf(tval)\n",
    "print(p)\n",
    "if p < 0.05:\n",
    "    print(\"Odrzucamy hipotezę H_0\")\n",
    "else:\n",
    "    print(\"Nie ma podstaw aby odrzucić hipotezę H_0\")\n",
    "\n",
    "print('tval =',tval, 'td =',td)"
   ]
  },
  {
   "cell_type": "markdown",
   "metadata": {},
   "source": [
    "# Zadanie\n",
    "Wykonaj test t-Studenta z pomocą funkcji <tt>stats.ttest_1samp</tt>."
   ]
  },
  {
   "cell_type": "code",
   "execution_count": 18,
   "metadata": {},
   "outputs": [
    {
     "name": "stdout",
     "output_type": "stream",
     "text": [
      "Ttest_1sampResult(statistic=-1.8360249997815428, pvalue=0.0995384365279063)\n",
      "Nie ma podstaw aby odrzucić hipotezę H_0\n"
     ]
    }
   ],
   "source": [
    "ttestval = stats.ttest_1samp(data, 110)\n",
    "print(ttestval)\n",
    "\n",
    "if ttestval.pvalue < 0.05:\n",
    "    print(\"Odrzucamy hipotezę H_0\")\n",
    "else:\n",
    "    print(\"Nie ma podstaw aby odrzucić hipotezę H_0\")\n"
   ]
  },
  {
   "cell_type": "markdown",
   "metadata": {},
   "source": [
    "# Wniosek\n",
    "Średnia nie różni się w sposób istotny od wartości $110$, a premia powinna być wypłacona."
   ]
  },
  {
   "cell_type": "code",
   "execution_count": null,
   "metadata": {
    "collapsed": true
   },
   "outputs": [],
   "source": []
  }
 ],
 "metadata": {
  "kernelspec": {
   "display_name": "Python 3",
   "language": "python",
   "name": "python3"
  },
  "language_info": {
   "codemirror_mode": {
    "name": "ipython",
    "version": 3
   },
   "file_extension": ".py",
   "mimetype": "text/x-python",
   "name": "python",
   "nbconvert_exporter": "python",
   "pygments_lexer": "ipython3",
   "version": "3.7.0"
  }
 },
 "nbformat": 4,
 "nbformat_minor": 2
}
