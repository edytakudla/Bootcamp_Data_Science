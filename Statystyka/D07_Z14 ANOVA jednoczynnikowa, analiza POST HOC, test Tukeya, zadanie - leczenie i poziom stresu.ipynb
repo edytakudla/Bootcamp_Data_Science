{
 "cells": [
  {
   "cell_type": "code",
   "execution_count": 1,
   "metadata": {},
   "outputs": [],
   "source": [
    "import numpy as np\n",
    "import matplotlib.pyplot as plt\n",
    "from scipy import stats\n",
    "import pandas as pd\n",
    "from statsmodels.formula.api import ols\n",
    "from statsmodels.stats.anova import anova_lm\n",
    "from statsmodels.stats.multicomp import (pairwise_tukeyhsd, MultiComparison)\n",
    "from statsmodels.stats.libqsturng import psturng"
   ]
  },
  {
   "cell_type": "markdown",
   "metadata": {},
   "source": [
    "# Zadanie \n",
    "Pewna grupa poddała się trzem testom.\n",
    "Na podstawie poniższych wyników chcielibyśmy zweryfikować hipotezę zerowa mówiącą, że średni wynik w tych trzech testach jest taki sam."
   ]
  },
  {
   "cell_type": "code",
   "execution_count": 2,
   "metadata": {},
   "outputs": [],
   "source": [
    "data = np.rec.array([\n",
    "    (  1,   'mental',  2 ),\n",
    "    (  2,   'mental',  2 ),\n",
    "    (  3,   'mental',  3 ),\n",
    "    (  4,   'mental',  4 ),\n",
    "    (  5,   'mental',  4 ),\n",
    "    (  6,   'mental',  5 ),\n",
    "    (  7,   'mental',  3 ),\n",
    "    (  8,   'mental',  4 ),\n",
    "    (  9,   'mental',  4 ),\n",
    "    ( 10,   'mental',  4 ),\n",
    "    ( 11, 'physical',  4 ),\n",
    "    ( 12, 'physical',  4 ),\n",
    "    ( 13, 'physical',  3 ),\n",
    "    ( 14, 'physical',  5 ),\n",
    "    ( 15, 'physical',  4 ),\n",
    "    ( 16, 'physical',  1 ),\n",
    "    ( 17, 'physical',  1 ),\n",
    "    ( 18, 'physical',  2 ),\n",
    "    ( 19, 'physical',  3 ),\n",
    "    ( 20, 'physical',  3 ),\n",
    "    ( 21,  'medical',  1 ),\n",
    "    ( 22,  'medical',  2 ),\n",
    "    ( 23,  'medical',  2 ),\n",
    "    ( 24,  'medical',  2 ),\n",
    "    ( 25,  'medical',  3 ),\n",
    "    ( 26,  'medical',  2 ),\n",
    "    ( 27,  'medical',  3 ),\n",
    "    ( 28,  'medical',  1 ),\n",
    "    ( 29,  'medical',  3 ),\n",
    "    ( 30,  'medical',  1 )], dtype=[('idx', '<i4'),\n",
    "                                    ('Treatment', '|S8'),\n",
    "                                    ('StressReduction', '<i4')])"
   ]
  },
  {
   "cell_type": "markdown",
   "metadata": {},
   "source": [
    "# Wykonujemy test ANOVA"
   ]
  },
  {
   "cell_type": "code",
   "execution_count": 7,
   "metadata": {},
   "outputs": [
    {
     "name": "stdout",
     "output_type": "stream",
     "text": [
      "0    2\n",
      "1    2\n",
      "2    3\n",
      "3    4\n",
      "4    4\n",
      "Name: StressReduction, dtype: int32\n",
      "10    4\n",
      "11    4\n",
      "12    3\n",
      "13    5\n",
      "14    4\n",
      "Name: StressReduction, dtype: int32\n",
      "20    1\n",
      "21    2\n",
      "22    2\n",
      "23    2\n",
      "24    3\n",
      "Name: StressReduction, dtype: int32\n"
     ]
    }
   ],
   "source": [
    "df = pd.DataFrame(data)\n",
    "d1=df[\"StressReduction\"][df[\"Treatment\"]==b'mental']\n",
    "d2=df[\"StressReduction\"][df[\"Treatment\"]==b'physical']\n",
    "d3=df[\"StressReduction\"][df[\"Treatment\"]==b'medical']\n",
    "\n",
    "print(d1.head())\n",
    "print(d2.head())\n",
    "print(d3.head())"
   ]
  },
  {
   "cell_type": "code",
   "execution_count": 8,
   "metadata": {},
   "outputs": [
    {
     "name": "stdout",
     "output_type": "stream",
     "text": [
      "One-way ANOVA\n",
      "=============\n",
      "F value: 5.163934426229508\n",
      "P value: 0.012617190941750378 \n",
      "\n"
     ]
    }
   ],
   "source": [
    "f, p = stats.f_oneway(d1,\n",
    "                      d2,\n",
    "                      d3)\n",
    " \n",
    "print ('One-way ANOVA')\n",
    "print ('=============')\n",
    " \n",
    "print ('F value:', f)\n",
    "print ('P value:', p, '\\n')\n"
   ]
  },
  {
   "cell_type": "code",
   "execution_count": 10,
   "metadata": {},
   "outputs": [
    {
     "name": "stdout",
     "output_type": "stream",
     "text": [
      "test przeszedł, pvalue = 0.4567120561411028\n"
     ]
    }
   ],
   "source": [
    "# test Levene\n",
    "(W,p) = stats.levene(d1, d2, d3)\n",
    "if p<0.05:\n",
    "    print('Warning: p-value of test Levene is < 0,05, pvalue =',p)\n",
    "else:\n",
    "    print('test przeszedł, pvalue =',p)   # jak to sie ma do wniosku poniżej????"
   ]
  },
  {
   "cell_type": "markdown",
   "metadata": {},
   "source": [
    "## Wniosek\n",
    "\n",
    "Odrzucamy hipotezę H0 o równości średnich.\n",
    "\n",
    "# Wykonujemy analizę post hoc"
   ]
  },
  {
   "cell_type": "code",
   "execution_count": 11,
   "metadata": {},
   "outputs": [
    {
     "name": "stdout",
     "output_type": "stream",
     "text": [
      "<statsmodels.sandbox.stats.multicomp.MultiComparison object at 0x000001DED56E8358>\n"
     ]
    }
   ],
   "source": [
    "multiComp = MultiComparison(data['StressReduction'], data['Treatment'])\n",
    "print(multiComp)"
   ]
  },
  {
   "cell_type": "code",
   "execution_count": 13,
   "metadata": {},
   "outputs": [
    {
     "data": {
      "text/html": [
       "<table class=\"simpletable\">\n",
       "<caption>Multiple Comparison of Means - Tukey HSD,FWER=0.05</caption>\n",
       "<tr>\n",
       "    <th>group1</th>     <th>group2</th>    <th>meandiff</th>  <th>lower</th>   <th>upper</th> <th>reject</th>\n",
       "</tr>\n",
       "<tr>\n",
       "  <td>b'medical'</td>  <td>b'mental'</td>     <td>1.5</td>   <td>0.3217</td>  <td>2.6783</td>  <td>True</td> \n",
       "</tr>\n",
       "<tr>\n",
       "  <td>b'medical'</td> <td>b'physical'</td>    <td>1.0</td>   <td>-0.1783</td> <td>2.1783</td>  <td>False</td>\n",
       "</tr>\n",
       "<tr>\n",
       "   <td>b'mental'</td> <td>b'physical'</td>   <td>-0.5</td>   <td>-1.6783</td> <td>0.6783</td>  <td>False</td>\n",
       "</tr>\n",
       "</table>"
      ],
      "text/plain": [
       "<class 'statsmodels.iolib.table.SimpleTable'>"
      ]
     },
     "execution_count": 13,
     "metadata": {},
     "output_type": "execute_result"
    }
   ],
   "source": [
    "multiComp.tukeyhsd().summary()"
   ]
  },
  {
   "cell_type": "code",
   "execution_count": 15,
   "metadata": {},
   "outputs": [
    {
     "name": "stdout",
     "output_type": "stream",
     "text": [
      "[b'medical' b'mental' b'physical']\n"
     ]
    }
   ],
   "source": [
    "# Calculate the p-values:\n",
    "res2 = pairwise_tukeyhsd(data['StressReduction'], data['Treatment'])\n",
    "df = pd.DataFrame(data)\n",
    "numData = len(df)\n",
    "numTreatments = len(df.Treatment.unique())\n",
    "dof = numData - numTreatments\n",
    "# Show the group names\n",
    "print((multiComp.groupsunique))"
   ]
  },
  {
   "cell_type": "code",
   "execution_count": 19,
   "metadata": {},
   "outputs": [
    {
     "data": {
      "image/png": "[encoded data removed]",
      "text/plain": [
       "<Figure size 432x288 with 1 Axes>"
      ]
     },
     "metadata": {
      "needs_background": "light"
     },
     "output_type": "display_data"
    }
   ],
   "source": [
    "# Get the data\n",
    "xvals = np.arange(3)\n",
    "res2 = pairwise_tukeyhsd(data['StressReduction'], data['Treatment'])\n",
    "errors = np.ravel(np.diff(res2.confint)/2)\n",
    "\n",
    "# Plot them\n",
    "plt.plot(xvals, res2.meandiffs, 'o')\n",
    "plt.errorbar(xvals, res2.meandiffs, yerr=errors, fmt='o')\n",
    "\n",
    "# # Put on labels\n",
    "pair_labels = multiComp.groupsunique[np.column_stack(res2._multicomp.pairindices)]\n",
    "# plt.xticks(xvals, pair_labels) - opisuje pary sposobow leczenia, ale u mnie nie działa :/\n",
    "\n",
    "# # Format the plot\n",
    "xlim = -0.5, 2.5\n",
    "plt.hlines(0, *xlim)\n",
    "plt.xlim(*xlim)\n",
    "plt.title('Multiple Comparison of Means - Tukey HSD, FWER=0.05' + '\\n Pairwise Mean Differences')          \n",
    "plt.show()"
   ]
  },
  {
   "cell_type": "code",
   "execution_count": 24,
   "metadata": {},
   "outputs": [
    {
     "data": {
      "image/png": "[encoded data removed]",
      "text/plain": [
       "<Figure size 432x288 with 1 Axes>"
      ]
     },
     "metadata": {
      "needs_background": "light"
     },
     "output_type": "display_data"
    },
    {
     "name": "stdout",
     "output_type": "stream",
     "text": [
      "mental =  3.5    physical =  3.0    medical =  2.0\n"
     ]
    }
   ],
   "source": [
    "plt.boxplot([d1,d2,d3])\n",
    "plt.show()\n",
    "print('mental = ', d1.mean(), '   physical = ', d2.mean(), '   medical = ', d3.mean())"
   ]
  },
  {
   "cell_type": "code",
   "execution_count": 25,
   "metadata": {},
   "outputs": [],
   "source": [
    "# medical i physical są statystycznie takie same, medical i mental nie są, zatem kolejność 1,2,3"
   ]
  },
  {
   "cell_type": "code",
   "execution_count": null,
   "metadata": {},
   "outputs": [],
   "source": [
    "# jaka odpowiedź?"
   ]
  }
 ],
 "metadata": {
  "kernelspec": {
   "display_name": "Python 3",
   "language": "python",
   "name": "python3"
  },
  "language_info": {
   "codemirror_mode": {
    "name": "ipython",
    "version": 3
   },
   "file_extension": ".py",
   "mimetype": "text/x-python",
   "name": "python",
   "nbconvert_exporter": "python",
   "pygments_lexer": "ipython3",
   "version": "3.7.0"
  }
 },
 "nbformat": 4,
 "nbformat_minor": 2
}
