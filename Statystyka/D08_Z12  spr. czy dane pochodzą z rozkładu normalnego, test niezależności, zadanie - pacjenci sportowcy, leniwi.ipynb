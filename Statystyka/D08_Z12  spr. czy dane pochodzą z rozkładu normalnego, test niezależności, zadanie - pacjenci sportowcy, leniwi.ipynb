{
 "cells": [
  {
   "cell_type": "markdown",
   "metadata": {},
   "source": [
    "# Zadanie\n",
    "\n",
    "W klinice $15$ pacjentów (leniwych) waży: \n",
    "\n",
    "[76, 101, 66, 72, 88, 82, 79, 73, 76, 85, 75, 64, 76, 81, 86.] kg \n",
    "\n",
    "i \n",
    "15 pacjentów (sportowców) waży:\n",
    "\n",
    "[64, 65, 56, 62, 59, 76, 66, 82, 91, 57, 92, 80, 82, 67, 54] kg.\n",
    "\n",
    "\n",
    "- Czy leniwi pacjenci są znacznie ciężsi?\n",
    "- Czy powyższe dane pochodzą z rozkładów normalnych? \n"
   ]
  },
  {
   "cell_type": "code",
   "execution_count": 6,
   "metadata": {},
   "outputs": [],
   "source": [
    "import numpy as np\n",
    "import matplotlib.pyplot as plt\n",
    "import scipy.stats as stats\n",
    "import seaborn as sns\n",
    "import pandas as pd\n",
    "import scipy as sp"
   ]
  },
  {
   "cell_type": "code",
   "execution_count": 2,
   "metadata": {},
   "outputs": [],
   "source": [
    "data_leniwi = np.array([76, 101, 66, 72, 88, 82, 79, 73, 76, 85, 75, 64, 76, 81, 86.])\n",
    "data_sportowcy = np.array([64, 65, 56, 62, 59, 76, 66, 82, 91, 57, 92, 80, 82, 67, 54])"
   ]
  },
  {
   "cell_type": "code",
   "execution_count": 10,
   "metadata": {},
   "outputs": [],
   "source": [
    "# sprawdzenie czy dane pochodzą z rozkładu normalnego"
   ]
  },
  {
   "cell_type": "code",
   "execution_count": 3,
   "metadata": {},
   "outputs": [
    {
     "name": "stdout",
     "output_type": "stream",
     "text": [
      "leniwi to rozkład normalny\n"
     ]
    },
    {
     "name": "stderr",
     "output_type": "stream",
     "text": [
      "C:\\Users\\Edyta\\Anaconda3\\lib\\site-packages\\scipy\\stats\\stats.py:1394: UserWarning: kurtosistest only valid for n>=20 ... continuing anyway, n=15\n",
      "  \"anyway, n=%i\" % int(n))\n"
     ]
    }
   ],
   "source": [
    "alpha = 0.05\n",
    "(statystyka1, pVal1) = stats.normaltest(data_leniwi)\n",
    "\n",
    "if pVal1 < alpha:\n",
    "    print('data_leniwi to nie jest rozkład normalny')\n",
    "else:\n",
    "    print('leniwi to rozkład normalny')"
   ]
  },
  {
   "cell_type": "code",
   "execution_count": 4,
   "metadata": {},
   "outputs": [
    {
     "name": "stdout",
     "output_type": "stream",
     "text": [
      "sportowcy to rozkład normalny\n"
     ]
    },
    {
     "name": "stderr",
     "output_type": "stream",
     "text": [
      "C:\\Users\\Edyta\\Anaconda3\\lib\\site-packages\\scipy\\stats\\stats.py:1394: UserWarning: kurtosistest only valid for n>=20 ... continuing anyway, n=15\n",
      "  \"anyway, n=%i\" % int(n))\n"
     ]
    }
   ],
   "source": [
    "alpha = 0.05\n",
    "(statystyka2, pVal2) = stats.normaltest(data_sportowcy)\n",
    "\n",
    "if pVal2 < alpha:\n",
    "    print('data_sportowcy to nie jest rozkład normalny')\n",
    "else:\n",
    "    print('sportowcy to rozkład normalny')"
   ]
  },
  {
   "cell_type": "code",
   "execution_count": 7,
   "metadata": {},
   "outputs": [
    {
     "name": "stdout",
     "output_type": "stream",
     "text": [
      "Two groups of data =========================================\n",
      "\n",
      " Normality test --------------------------------------------------\n",
      "Dataset # 0 is normally distributed\n",
      "Dataset # 1 is normally distributed\n",
      "\n",
      " T-test of independent samples -------------------------------------------\n",
      "With the T-test, data1 and data2 are significantly different (p = 0.045)\n",
      "\n",
      " Mann-Whitney test --------------------------------------------------------\n",
      "No difference between data1 and data2 with Mann-Whitney test (p = 0.077)\n"
     ]
    },
    {
     "name": "stderr",
     "output_type": "stream",
     "text": [
      "C:\\Users\\Edyta\\Anaconda3\\lib\\site-packages\\scipy\\stats\\stats.py:1394: UserWarning: kurtosistest only valid for n>=20 ... continuing anyway, n=15\n",
      "  \"anyway, n=%i\" % int(n))\n",
      "C:\\Users\\Edyta\\Anaconda3\\lib\\site-packages\\scipy\\stats\\stats.py:1394: UserWarning: kurtosistest only valid for n>=20 ... continuing anyway, n=15\n",
      "  \"anyway, n=%i\" % int(n))\n"
     ]
    }
   ],
   "source": [
    "# rozwiązanie Przemka:\n",
    "\n",
    "print('Two groups of data =========================================')\n",
    "\n",
    "# Enter the data\n",
    "data1 = [76., 101., 66., 72., 88., 82., 79., 73., 76., 85., 75., 64., 76., 81., 86.]\n",
    "data2 = [64., 65., 56., 62., 59., 76., 66., 82., 91., 57., 92., 80., 82., 67., 54.]\n",
    "\n",
    "# Normality test \n",
    "print('\\n Normality test --------------------------------------------------')\n",
    "\n",
    "# To do the test for both data-sets, make a tuple with \"(... , ...)\", add a counter with\n",
    "# \"enumerate\", and and iterate over the set:\n",
    "for ii, data in enumerate((data1, data2)):\n",
    "    (_, pval) = stats.normaltest(data)\n",
    "    if pval > 0.05:\n",
    "        print('Dataset # {0} is normally distributed'.format(ii))\n",
    "\n",
    "# T-test of independent samples \n",
    "print('\\n T-test of independent samples -------------------------------------------')\n",
    "\n",
    "# Do the t-test for independent samples\n",
    "t, pval = stats.ttest_ind(data1, data2)\n",
    "if pval < 0.05:\n",
    "    print('With the T-test, data1 and data2 are significantly different (p = {0:5.3f})'.format(pval))\n",
    "else:\n",
    "    print('No difference between data1 and data2 with T-test.')\n",
    "\n",
    "# Mann-Whitney test --------------------------------------------------------------\n",
    "print('\\n Mann-Whitney test --------------------------------------------------------')\n",
    "# Watch out: the keyword \"alternative\" was introduced in scipy 0.17, with default\"two-sided\";\n",
    "if np.int(sp.__version__.split('.')[1]) > 16:\n",
    "    u, pval = stats.mannwhitneyu(data1, data2, alternative='two-sided')\n",
    "else:\n",
    "    u, pval = stats.mannwhitneyu(data1, data2)\n",
    "    pval *= 2    # because the default was a one-sided p-value\n",
    "\n",
    "if pval < 0.05:\n",
    "    print('With the Mann-Whitney test, data1 and data2 are significantly different(p = {0:5.3f})'.format(pval))\n",
    "else:\n",
    "    print('No difference between data1 and data2 with Mann-Whitney test (p = {0:5.3f})'.format(pval))"
   ]
  },
  {
   "cell_type": "code",
   "execution_count": null,
   "metadata": {},
   "outputs": [],
   "source": []
  }
 ],
 "metadata": {
  "kernelspec": {
   "display_name": "Python 3",
   "language": "python",
   "name": "python3"
  },
  "language_info": {
   "codemirror_mode": {
    "name": "ipython",
    "version": 3
   },
   "file_extension": ".py",
   "mimetype": "text/x-python",
   "name": "python",
   "nbconvert_exporter": "python",
   "pygments_lexer": "ipython3",
   "version": "3.7.0"
  }
 },
 "nbformat": 4,
 "nbformat_minor": 2
}
