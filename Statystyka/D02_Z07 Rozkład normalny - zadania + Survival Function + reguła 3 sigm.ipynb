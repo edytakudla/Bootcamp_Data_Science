{
 "cells": [
  {
   "cell_type": "markdown",
   "metadata": {},
   "source": [
    "# Zadanie 1\n",
    "\n",
    "Niech $X$ będzie zmienną losową o rozkładzie $N (\\mu=0,\\sigma^2=1)$.\n",
    "\n",
    "Obliczyć:\n",
    "<ul>\n",
    "<li> $P (X \\leq -0.4)$,</li>\n",
    "<li> $P (X \\in (-0.2, 0.6))$,</li> \n",
    "<li> $P (X \\geq -0.2)$,</li>\n",
    "<li> $P ( |X| \\leq 1)$.</li>\n",
    "</ul>"
   ]
  },
  {
   "cell_type": "code",
   "execution_count": 1,
   "metadata": {},
   "outputs": [],
   "source": [
    "import matplotlib.pyplot as plt\n",
    "import numpy as np\n",
    "from scipy import stats\n",
    "from scipy import integrate"
   ]
  },
  {
   "cell_type": "code",
   "execution_count": 3,
   "metadata": {},
   "outputs": [],
   "source": [
    "(mu, sigma)=(0,1)\n",
    "gauss=stats.norm(mu, sigma)"
   ]
  },
  {
   "cell_type": "markdown",
   "metadata": {},
   "source": [
    "$P( X \\le -0.4 ) = CDF(-0.4) = 1 - CDF(0.4) = 1 - 0.6554 = 0.3446. $"
   ]
  },
  {
   "cell_type": "code",
   "execution_count": 4,
   "metadata": {},
   "outputs": [
    {
     "data": {
      "text/plain": [
       "0.3445782583896758"
      ]
     },
     "execution_count": 4,
     "metadata": {},
     "output_type": "execute_result"
    }
   ],
   "source": [
    "1-gauss.cdf(0.4)"
   ]
  },
  {
   "cell_type": "markdown",
   "metadata": {},
   "source": [
    "$P( -0.2 < X < 0.6 )  = CDF(0.6) - CDF(-0.2 )= CDF(0.6) - ( 1 - CDF(0.2) ) =  CDF(0.6) - 1 + CDF(0.2) = 0.7257 - 1 + 0.5793 = 0.305$"
   ]
  },
  {
   "cell_type": "code",
   "execution_count": 6,
   "metadata": {},
   "outputs": [
    {
     "data": {
      "text/plain": [
       "0.30500659168902944"
      ]
     },
     "execution_count": 6,
     "metadata": {},
     "output_type": "execute_result"
    }
   ],
   "source": [
    "gauss.cdf(0.6) - 1 + gauss.cdf(0.2)"
   ]
  },
  {
   "cell_type": "markdown",
   "metadata": {},
   "source": [
    "# Survival Function \n",
    "Jak widzimy czasami w obliczeniach przydaje się funkcja $1-CDF(x)$, którą nazywa się Survival Function \n",
    "\n",
    "$$\n",
    "SV(x)=1-CDF(x)\n",
    "$$"
   ]
  },
  {
   "cell_type": "code",
   "execution_count": 15,
   "metadata": {},
   "outputs": [
    {
     "data": {
      "text/plain": [
       "0.3050065916890295"
      ]
     },
     "execution_count": 15,
     "metadata": {},
     "output_type": "execute_result"
    }
   ],
   "source": [
    "(mu, sigma)=(0,1)\n",
    "gauss=stats.norm(mu, sigma)\n",
    "gauss.cdf(0.6) - gauss.sf(0.2)"
   ]
  },
  {
   "cell_type": "code",
   "execution_count": 14,
   "metadata": {},
   "outputs": [
    {
     "data": {
      "image/png": "[encoded data removed]",
      "text/plain": [
       "<Figure size 432x288 with 1 Axes>"
      ]
     },
     "metadata": {
      "needs_background": "light"
     },
     "output_type": "display_data"
    }
   ],
   "source": [
    "# 50 numbers between 3σ and 3σ\n",
    "# REGUŁA 3 SIGM, SIGMA = ODCHYLENIE STANDARDOWE\n",
    "(mu, sigma)=(0,1.5)\n",
    "x = np.linspace(-3*sigma, 3*sigma, 50)\n",
    "# SF at these values\n",
    "y = stats.norm.sf(x, loc=mu, scale=sigma)\n",
    "# print(x)\n",
    "# print(y)\n",
    "\n",
    "plt.plot(x,y, color=\"black\")\n",
    "plt.xlabel(\"Variate\")\n",
    "plt.ylabel(\"Probability\")\n",
    "plt.title(\"SF for Gaussian of mean = {0} & std. deviation = {1}\".format(mu, sigma))\n",
    "plt.show()"
   ]
  },
  {
   "cell_type": "markdown",
   "metadata": {},
   "source": [
    "# Zadanie 2\n",
    "Wykonaj podpunkty: \n",
    "<ul>\n",
    "<li> $P (X \\geq -0.2)$,</li>\n",
    "<li> $P ( |X| \\leq 1)$.</li>\n",
    "</ul>"
   ]
  },
  {
   "cell_type": "code",
   "execution_count": 16,
   "metadata": {},
   "outputs": [],
   "source": [
    "(mu, sigma)=(0,1)\n",
    "gauss=stats.norm(mu, sigma)"
   ]
  },
  {
   "cell_type": "markdown",
   "metadata": {},
   "source": [
    "Rozwiązanie od Przemka:\n",
    "\n",
    "P(X≥−0.2)=1−P(X≤−0.2)=1−(1−CDF(0.2))=1−1+CDF(0.2)=CDF(0.2)=0.5793."
   ]
  },
  {
   "cell_type": "code",
   "execution_count": 17,
   "metadata": {},
   "outputs": [
    {
     "data": {
      "text/plain": [
       "0.579259709439103"
      ]
     },
     "execution_count": 17,
     "metadata": {},
     "output_type": "execute_result"
    }
   ],
   "source": [
    "gauss.cdf(0.2)"
   ]
  },
  {
   "cell_type": "markdown",
   "metadata": {},
   "source": [
    "Rozwiązanie od Przemka:\n",
    "|X|<=1, to => X≤1 ∧ X≥−1\n",
    "\n",
    "X∈[−1,1]\n",
    "\n",
    "P(−1≤X≤1)=CDF(1)−CDF(−1)=CDF(1)−(1−CDF(1))=CDF(1)−1+CDF(1)=0.8413−1+0.8413=0.6826."
   ]
  },
  {
   "cell_type": "code",
   "execution_count": 18,
   "metadata": {},
   "outputs": [
    {
     "data": {
      "text/plain": [
       "0.6826894921370859"
      ]
     },
     "execution_count": 18,
     "metadata": {},
     "output_type": "execute_result"
    }
   ],
   "source": [
    "2*gauss.cdf(1) - 1"
   ]
  },
  {
   "cell_type": "code",
   "execution_count": null,
   "metadata": {},
   "outputs": [],
   "source": []
  }
 ],
 "metadata": {
  "kernelspec": {
   "display_name": "Python 3",
   "language": "python",
   "name": "python3"
  },
  "language_info": {
   "codemirror_mode": {
    "name": "ipython",
    "version": 3
   },
   "file_extension": ".py",
   "mimetype": "text/x-python",
   "name": "python",
   "nbconvert_exporter": "python",
   "pygments_lexer": "ipython3",
   "version": "3.7.0"
  }
 },
 "nbformat": 4,
 "nbformat_minor": 2
}
