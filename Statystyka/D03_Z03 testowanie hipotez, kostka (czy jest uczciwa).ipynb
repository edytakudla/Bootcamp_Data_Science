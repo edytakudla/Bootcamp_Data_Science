{
 "cells": [
  {
   "cell_type": "markdown",
   "metadata": {},
   "source": [
    "# Rozkłady prawdopodobieństwa, a testowanie hipotez\n",
    "\n",
    "Aby zilustrować związek pomiędzy <b> rozkładami prawdopodobieństwa</b>, a <b> testowaniem hipotez </b>, rozważmy następujący problem:\n",
    "\n",
    "<ul>\n",
    "<li> Załóżmy, że mamy grę planszową, która zależy od rzutu kostką. Oczywiście jak dostaniemy wynik $6$, to poruszamy się najszybciej. W danej grze $6$wypadła $51$ razy w ciągu $235$ rzutów. </li>\n",
    "<li> Jeśli kostka jest uczciwa, oczekiwalibyśmy, że $6$ wypadnie $235/6 =39.17$ razy. </li>\n",
    "<li> Czy kostka aby na pewno jest uczciwa? </li>\n",
    "</ul>"
   ]
  },
  {
   "cell_type": "code",
   "execution_count": 1,
   "metadata": {},
   "outputs": [],
   "source": [
    "from scipy import stats\n",
    "import matplotlib.pyplot as plt\n",
    "import numpy as np"
   ]
  },
  {
   "cell_type": "markdown",
   "metadata": {},
   "source": [
    "Definiujemy zmienną losową o rozkładzie dwumianowym z parametrami $p=\\frac{1}{6}$ oraz $n=235$.\n",
    "\n",
    "Gdy zmienna losowa $X$ ma rozkład dwumianowy z parametrami $p$ i $n$, zapisujemy go jako $X \\thicksim B(n,p)$, a gęstość wyrażona jest wzorem:\n",
    "$$\n",
    "P(X = k) = {n \\choose k} p^k (1-p)^{n-k},\n",
    "$$\n",
    "gdzie\n",
    "$\n",
    "{n \\choose k} = \\frac{n!}{k!(n-k)!}.\n",
    "$"
   ]
  },
  {
   "cell_type": "markdown",
   "metadata": {},
   "source": [
    "# Zadanie \n",
    "Rozstrzygnij czy kostka jest symetryczna i wykonaj odpowiedni rysunek uwzględniając gęstość i dystrybuantę rozkładu dwumianowego."
   ]
  },
  {
   "cell_type": "markdown",
   "metadata": {},
   "source": [
    "Aby odpowiedzieć na to pytanie, możemy postępować w następujący sposób:\n",
    "<ul>\n",
    "<li> Skontrujmy rozkład dwumianowy z parametrami $n = 235$ i $p = \\frac{1}{6}$. </li>\n",
    "</ul>"
   ]
  },
  {
   "cell_type": "code",
   "execution_count": 10,
   "metadata": {},
   "outputs": [],
   "source": [
    "n = 235\n",
    "p = 1/6\n",
    "dwumian = stats.binom(n, p)"
   ]
  },
  {
   "cell_type": "markdown",
   "metadata": {},
   "source": [
    "<ul>\n",
    "<li> Zakładamy, że kostka jest uczciwa.</li> \n",
    "<li> Obliczymy prawdopodobieństwo wypadnięcia dokładnie $51$ razy $6$, $52$ razy i itd. Następnie dodajmy te wyniki. W ten sposób obliczymy prawdopodobieństwo wypadnięcia dokładnie $51$ razy $6$ lub wyniku większego $P(X \\geq 51)$ </li>\n",
    "</ul>"
   ]
  },
  {
   "cell_type": "code",
   "execution_count": 11,
   "metadata": {},
   "outputs": [
    {
     "name": "stdout",
     "output_type": "stream",
     "text": [
      "p-value = 0.0265\n",
      "p-value = 0.0265\n"
     ]
    }
   ],
   "source": [
    "checkVal = 50 \n",
    "print('p-value = {0:5.4f}'.format(dwumian.sf(checkVal)))\n",
    "print('p-value = {0:5.4f}'.format(1-dwumian.cdf(checkVal))) # powinno wyjść to samo"
   ]
  },
  {
   "cell_type": "code",
   "execution_count": 17,
   "metadata": {},
   "outputs": [
    {
     "data": {
      "image/png": "[encoded data removed]",
      "text/plain": [
       "<Figure size 504x288 with 2 Axes>"
      ]
     },
     "metadata": {
      "needs_background": "light"
     },
     "output_type": "display_data"
    }
   ],
   "source": [
    "x0=dwumian.sf(checkVal)\n",
    "\n",
    "x1 = np.arange(0, 50, 5)\n",
    "x2 = np.arange(51, 235, 5)\n",
    "\n",
    "figs, axs = plt.subplots(1,2, figsize=(7, 4))\n",
    "\n",
    "axs[0].plot(x1, dwumian.pmf(x1), 'bo', ms=8, label='dwumianowy pmf')\n",
    "axs[0].vlines(x1, 0, stats.binom.pmf(x1, n, p), colors='b', lw=1, alpha=0.5)\n",
    "axs[0].plot(x2, dwumian.pmf(x2), 'ro', ms=8, label='dwumianowy pmf')\n",
    "axs[0].vlines(x2, 0, stats.binom.pmf(x2, n, p), colors='r', lw=1, alpha=0.5)\n",
    "axs[0].set_ylabel('PDF(x)')\n",
    "\n",
    "#axs[1].plot(x, y, '#999999', lw=3)\n",
    "axs[1].plot(x1, dwumian.cdf(x1), 'b--', ms=8, label='dwumianowy cdf')\n",
    "axs[1].plot(x2, dwumian.cdf(x2), 'b--', ms=8, label='dwumianowy cdf')\n",
    "#axs[1].set_xlabel('x')\n",
    "axs[1].set_ylabel('CDF(x)')\n",
    "\n",
    "#axs[1].text(checkVal, dwumian.cdf(checkVal), np.round(nd.cdf(checkVal),4))\n",
    "#axs[1].vlines(checkVal, 0, dwumian.cdf(checkVal), linestyles='--')\n",
    "axs[1].vlines(checkVal, 0, dwumian.cdf(checkVal), linestyles='--')\n",
    "axs[1].text(checkVal, dwumian.cdf(checkVal), np.round(dwumian.sf(checkVal),4))\n",
    "plt.show()\n",
    "#print(2*x0)"
   ]
  },
  {
   "cell_type": "code",
   "execution_count": 18,
   "metadata": {},
   "outputs": [],
   "source": [
    "# Ponieważ p=0.0265 < 0.05, czyli jest mało prawdopodobne, zatem obserwacja 51 szóstek wpada w \"ogon\" czyli nie jest uczciwa."
   ]
  },
  {
   "cell_type": "code",
   "execution_count": null,
   "metadata": {},
   "outputs": [],
   "source": []
  }
 ],
 "metadata": {
  "kernelspec": {
   "display_name": "Python 3",
   "language": "python",
   "name": "python3"
  },
  "language_info": {
   "codemirror_mode": {
    "name": "ipython",
    "version": 3
   },
   "file_extension": ".py",
   "mimetype": "text/x-python",
   "name": "python",
   "nbconvert_exporter": "python",
   "pygments_lexer": "ipython3",
   "version": "3.7.0"
  }
 },
 "nbformat": 4,
 "nbformat_minor": 2
}
