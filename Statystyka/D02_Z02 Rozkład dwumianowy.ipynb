{
 "cells": [
  {
   "cell_type": "markdown",
   "metadata": {},
   "source": [
    "# Rozkład dwumianowy\n",
    "Gdy zmienna losowa $X$ ma rozkład dwumianowy z parametrami $p$ i $n$, zapisujemy go jako $X \\thicksim B(n,p)$, a gęstość wyrażona jest wzorem:\n",
    "$$\n",
    "P(X = k) = {n \\choose k} p^k (1-p)^{n-k},\n",
    "$$\n",
    "gdzie\n",
    "$\n",
    "{n \\choose k} = \\frac{n!}{k!(n-k)!}.\n",
    "$"
   ]
  },
  {
   "cell_type": "code",
   "execution_count": 31,
   "metadata": {},
   "outputs": [],
   "source": [
    "from scipy import stats\n",
    "import matplotlib.pyplot as plt\n",
    "import numpy as np\n",
    "# powtarzalna czynność wykonana ileś razy np. ile razy na 50 rzutów monetą wypadnie reszka?\n",
    "\n",
    "# n = liczba prób\n",
    "# k = liczba sukcesów (min = 0, max = n)\n",
    "# n-k = liczba porażek\n",
    "# p = prawdopodobieństwo sukcesu np. 0.5 = 50%"
   ]
  },
  {
   "cell_type": "markdown",
   "metadata": {},
   "source": [
    "Definiujemy zmienną losową"
   ]
  },
  {
   "cell_type": "code",
   "execution_count": 50,
   "metadata": {},
   "outputs": [
    {
     "name": "stdout",
     "output_type": "stream",
     "text": [
      "<scipy.stats._distn_infrastructure.rv_frozen object at 0x0000016FEFD88390>\n",
      "[0 1 2 3 4 5 6 7 8 9]\n"
     ]
    },
    {
     "data": {
      "text/plain": [
       "array([0.00390625, 0.03125   , 0.109375  , 0.21875   , 0.2734375 ,\n",
       "       0.21875   , 0.109375  , 0.03125   , 0.00390625, 0.        ])"
      ]
     },
     "execution_count": 50,
     "metadata": {},
     "output_type": "execute_result"
    }
   ],
   "source": [
    "# p = prawdopodobieństwi, num = ile miejsc po przecinku\n",
    "(p, num) = (0.5, 8)\n",
    "binomDist = stats.binom(num, p)\n",
    "print(binomDist)\n",
    "# x mówi na ile kawałków podzielić zbiór\n",
    "x = np.arange(10)\n",
    "print(x)\n",
    "# pmf = gęstość dla zbiorów dyskretnych (proability mass function)\n",
    "binomDist.pmf(x)"
   ]
  },
  {
   "cell_type": "markdown",
   "metadata": {},
   "source": [
    "Możemy wylosować próbkę i narysować histogram"
   ]
  },
  {
   "cell_type": "code",
   "execution_count": 40,
   "metadata": {},
   "outputs": [
    {
     "name": "stdout",
     "output_type": "stream",
     "text": [
      "[3 4 4 3 2 2 4 4 2 5 1 3 4 3 6 4 3 1 5 5 6 4 4 6 6 4 5 3 2 5 7 6 2 7 5 3 4\n",
      " 4 5 2 5 4 2 3 2 4 5 3 4 2 6 5 2 4 6 6 6 5 2 3 4 2 6 5 2 4 6 4 3 5 2 4 5 1\n",
      " 5 2 6 4 4 3 2 3 2 5 4 3 3 5 5 5 4 3 3 5 5 4 5 1 5 3 6 3 4 3 2 3 4 5 3 5 3\n",
      " 3 4 5 2 6 7 5 0 6 3 3 4 6 4 4 6 3 4 5 4 2 4 5 4 4 5 2 2 2 2 3 4 4 5 4 3 4\n",
      " 5 5 5 1 3 4 5 4 4 5 6 4 5 4 4 5 3 4 4 4 4 5 5 2 5 6 4 3 3 2 4 4 3 5 4 4 4\n",
      " 5 5 3 6 4 4 5 1 4 3 4 3 2 3 3]\n"
     ]
    },
    {
     "data": {
      "image/png": "[encoded data removed]",
      "text/plain": [
       "<Figure size 432x288 with 1 Axes>"
      ]
     },
     "metadata": {
      "needs_background": "light"
     },
     "output_type": "display_data"
    }
   ],
   "source": [
    "# rvs = funkcja służy do losowania próbek, im większa próbka tym lepiej\n",
    "trials = binomDist.rvs(200)\n",
    "print(trials)\n",
    "plt.hist(trials)\n",
    "plt.show()"
   ]
  },
  {
   "cell_type": "markdown",
   "metadata": {},
   "source": [
    "Możemy policzyć momenty"
   ]
  },
  {
   "cell_type": "code",
   "execution_count": 55,
   "metadata": {},
   "outputs": [
    {
     "name": "stdout",
     "output_type": "stream",
     "text": [
      "8.0\n",
      "4.8\n",
      "0.09128709291752767\n",
      "-0.0916666666666667\n"
     ]
    }
   ],
   "source": [
    "(p, num) = (0.4, 20)\n",
    "mean, var, skew, kurt = stats.binom.stats(num,p, moments='mvsk')\n",
    "print(mean)\n",
    "print(var)\n",
    "print(skew)\n",
    "print(kurt)"
   ]
  },
  {
   "cell_type": "markdown",
   "metadata": {},
   "source": [
    "Narysujmy gęstość zmiennej losowej"
   ]
  },
  {
   "cell_type": "code",
   "execution_count": 65,
   "metadata": {},
   "outputs": [],
   "source": [
    "# binom.pmf(k) = choose(n, k) * p**k * (1-p)**(n-k)"
   ]
  },
  {
   "cell_type": "code",
   "execution_count": 75,
   "metadata": {},
   "outputs": [
    {
     "name": "stdout",
     "output_type": "stream",
     "text": [
      "[0.00097656 0.00976563 0.04394531 0.1171875  0.20507813]\n"
     ]
    },
    {
     "data": {
      "image/png": "[encoded data removed]",
      "text/plain": [
       "<Figure size 432x288 with 1 Axes>"
      ]
     },
     "metadata": {
      "needs_background": "light"
     },
     "output_type": "display_data"
    }
   ],
   "source": [
    "(p, num) = (0.5, 10)\n",
    "fig, ax = plt.subplots(1, 1)\n",
    "# Display the probability mass function (``pmf``):\n",
    "ax.set_xlim([-1,5])\n",
    "ax.set_ylim([0,0.25])\n",
    "x = np.arange(0, 5)\n",
    "print(stats.binom.pmf(x, num, p))\n",
    "ax.plot(x, stats.binom.pmf(x, num, p), 'rs', ms=8, label='dwumianowy pmf')\n",
    "# vlines - wykreśla pionowe linie dla każdego x od wartości min do max\n",
    "ax.vlines(x, 0, stats.binom.pmf(x, num, p), colors='b', lw=5, alpha=0.5)\n",
    "plt.show()"
   ]
  },
  {
   "cell_type": "markdown",
   "metadata": {},
   "source": [
    "Narysujmy dystrybuantę zmiennej losowej"
   ]
  },
  {
   "cell_type": "code",
   "execution_count": 86,
   "metadata": {},
   "outputs": [
    {
     "name": "stdout",
     "output_type": "stream",
     "text": [
      "<class 'numpy.ndarray'>\n"
     ]
    },
    {
     "data": {
      "image/png": "[encoded data removed]",
      "text/plain": [
       "<Figure size 432x288 with 1 Axes>"
      ]
     },
     "metadata": {
      "needs_background": "light"
     },
     "output_type": "display_data"
    }
   ],
   "source": [
    "fig, ax = plt.subplots(1, 1)\n",
    "# Display the probability mass function (``pmf``):\n",
    "ax.set_xlim([-6,6])\n",
    "ax.set_ylim([-0.05,0.45])\n",
    "\n",
    "x = np.arange(-5, 5,0.01)\n",
    "lista = stats.binom.cdf(x, num, p)\n",
    "print(type(lista))\n",
    "ax.plot(x, stats.binom.cdf(x, num, p), 'g>--', ms=3, label='dwumianowy cdf')\n",
    "plt.show()"
   ]
  },
  {
   "cell_type": "markdown",
   "metadata": {},
   "source": [
    "Narysujmy gęstość zmiennej losowej dla różnych parametrów"
   ]
  },
  {
   "cell_type": "code",
   "execution_count": 99,
   "metadata": {},
   "outputs": [],
   "source": [
    "# binom.pmf(k) = choose(n, k) * p**k * (1-p)**(n-k)"
   ]
  },
  {
   "cell_type": "code",
   "execution_count": 106,
   "metadata": {},
   "outputs": [
    {
     "data": {
      "image/png": "[encoded data removed]",
      "text/plain": [
       "<Figure size 432x288 with 1 Axes>"
      ]
     },
     "metadata": {
      "needs_background": "light"
     },
     "output_type": "display_data"
    }
   ],
   "source": [
    "fig, ax = plt.subplots(1, 1)\n",
    "# Display the probability mass function (``pmf``):\n",
    "ax.set_xlim([-1,40])\n",
    "ax.set_ylim([0,0.2])\n",
    "\n",
    "x = np.arange(0, 20)\n",
    "ax.plot(x, stats.binom.pmf(x, 20, 0.5), 'bo--', ms=8, label='n=20, p=0.5', color='r')\n",
    "x = np.arange(0, 20)\n",
    "ax.plot(x, stats.binom.pmf(x, 20, 0.7), 'bo--', ms=8, label='n=20, p=0.7', color='g')\n",
    "x = np.arange(0, 40)\n",
    "ax.plot(x, stats.binom.pmf(x, 40, 0.5), 'bo--', ms=8, label='n=40, p=0.5', color='b')\n",
    "x = np.arange(10, 50)\n",
    "ax.plot(x, stats.binom.pmf(x, 50, 0.7), 'mo--', ms=8, label='n=50, p=0.7', color='m')\n",
    "ax.legend()\n",
    "plt.show()"
   ]
  },
  {
   "cell_type": "code",
   "execution_count": null,
   "metadata": {
    "collapsed": true
   },
   "outputs": [],
   "source": []
  }
 ],
 "metadata": {
  "kernelspec": {
   "display_name": "Python 3",
   "language": "python",
   "name": "python3"
  },
  "language_info": {
   "codemirror_mode": {
    "name": "ipython",
    "version": 3
   },
   "file_extension": ".py",
   "mimetype": "text/x-python",
   "name": "python",
   "nbconvert_exporter": "python",
   "pygments_lexer": "ipython3",
   "version": "3.7.0"
  }
 },
 "nbformat": 4,
 "nbformat_minor": 2
}
