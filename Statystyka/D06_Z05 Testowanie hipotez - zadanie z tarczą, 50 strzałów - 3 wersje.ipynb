{
 "cells": [
  {
   "cell_type": "markdown",
   "metadata": {},
   "source": [
    "# Zadanie\n",
    "\n",
    "Do tarczy oddano $50$ strzałów. Mierząc odległości trafień od środka tarczy. Okazało się, że wariancja tych odległości jest równa $S^2=107.3$ $cm^2$. Zakładając, że te odległości mają rozkład normalny na poziomie istotności $\\alpha = 0.05$, zweryfikować hipotezę $H$, że wariancja odległości trafienia od środka tarczy jest równa $\\sigma^2=100$ $cm^2$ przy hipotezie alternatywnej:\n",
    "\n",
    "<ul>\n",
    "<li> $\\sigma^2 \\neq 100$ </li>\n",
    "<li> $\\sigma^2 < 100$ </li>\n",
    "<li> $\\sigma^2 > 100$ </li>\n",
    "</ul>\n"
   ]
  },
  {
   "cell_type": "code",
   "execution_count": 1,
   "metadata": {},
   "outputs": [],
   "source": [
    "import matplotlib.pyplot as plt\n",
    "import numpy as np\n",
    "from scipy import stats\n",
    "from scipy import integrate"
   ]
  },
  {
   "cell_type": "markdown",
   "metadata": {},
   "source": [
    "## Model 1.\n",
    "\n",
    "Badana cecha $X$ populacji generalnej ma rozkład $N(\\mu,\\sigma)$ przy \\red{obu parametrach nieznanych} ($n\\geq50$).\n",
    "\n",
    "Weryfikujemy hipotezę:\n",
    "\n",
    "$$\n",
    "H_{0}: \\sigma = \\sigma_0\n",
    "$$\n",
    "\n",
    "vs\n",
    "\n",
    "$$\n",
    "H_{1}: \\sigma = \\sigma_1 > \\sigma_0\n",
    "$$\n",
    "\n",
    "\n",
    "W tym teście używa się statystyki\n",
    "\n",
    "$$\n",
    "U=\\sqrt{\\frac{2nS^2}{\\sigma_{0}^2}} - \\sqrt{2n-3}\n",
    "$$\n",
    "\n",
    "Zbiór krytyczny jest dany za pomocą przedziału\n",
    "\n",
    "$$\n",
    "[u(1-\\alpha), +\\infty)\n",
    "$$\n",
    "\n",
    "gdzie $u(\\alpha)$ jest kwantylem rozkładu normalnego.\n",
    "\n",
    "\n",
    "## Model 2.\n",
    "\n",
    "Badana cecha $X$ populacji generalnej ma rozkład $N(\\mu,\\sigma)$ przy \\red{obu parametrach nieznanych} ($n\\geq50$).\n",
    "\n",
    "Weryfikujemy hipotezę:\n",
    "\n",
    "$$\n",
    "H_{0}: \\sigma = \\sigma_0\n",
    "$$\n",
    "\n",
    "vs\n",
    "\n",
    "$$\n",
    "H_{1}: \\sigma = \\sigma_1 < \\sigma_0\n",
    "$$\n",
    "\n",
    "\n",
    "W tym teście używa się statystyki\n",
    "\n",
    "$$\n",
    "U=\\sqrt{\\frac{2nS^2}{\\sigma_{0}^2}} - \\sqrt{2n-3}\n",
    "$$\n",
    "\n",
    "Zbiór krytyczny jest dany za pomocą przedziału\n",
    "\n",
    "$$\n",
    "(-\\infty, -u(1-\\alpha)]\n",
    "$$\n",
    "\n",
    "gdzie $u(\\alpha)$ jest kwantylem rozkładu normalnego.\n",
    "\n",
    "\n",
    "## Model 3.\n",
    "\n",
    "Badana cecha $X$ populacji generalnej ma rozkład $N(\\mu,\\sigma)$ przy \\red{obu parametrach nieznanych} ($n\\geq50$).\n",
    "\n",
    "Weryfikujemy hipotezę:\n",
    "\n",
    "$$\n",
    "H_{0}: \\sigma = \\sigma_0\n",
    "$$\n",
    "\n",
    "vs\n",
    "\n",
    "$$\n",
    "H_{1}: \\sigma = \\sigma_1 \\neq \\sigma_0\n",
    "$$\n",
    "\n",
    "\n",
    "W tym teście używa się statystyki\n",
    "\n",
    "$$\n",
    "U=\\sqrt{\\frac{2nS^2}{\\sigma_{0}^2}} - \\sqrt{2n-3}\n",
    "$$\n",
    "\n",
    "Zbiór krytyczny jest dany za pomocą przedziału\n",
    "\n",
    "$$\n",
    "(-\\infty, -u(1-\\frac{1}{2}\\alpha)] \\cup [u(1-\\frac{1}{2}\\alpha) , +\\infty)\n",
    "$$\n",
    "\n",
    "gdzie $u(\\alpha)$ jest kwantylem rozkładu normalnego."
   ]
  },
  {
   "cell_type": "markdown",
   "metadata": {},
   "source": [
    "## Zdefiniujmy zmienną losową o rozkładzie Normalnym"
   ]
  },
  {
   "cell_type": "code",
   "execution_count": 2,
   "metadata": {},
   "outputs": [
    {
     "name": "stdout",
     "output_type": "stream",
     "text": [
      "sigma = 10.358571330062848\n",
      "<scipy.stats._distn_infrastructure.rv_frozen object at 0x000001FEDCD8EDA0>\n"
     ]
    }
   ],
   "source": [
    "alpha = 0.05\n",
    "s_kw = 107.3\n",
    "sigma=np.sqrt(s_kw)\n",
    "print('sigma =',sigma)\n",
    "mi = 0 # co wstawić za mi????????????? zero jest źle\n",
    "# X = stats.norm(mi, sigma)\n",
    "X = stats.norm()\n",
    "print(X)"
   ]
  },
  {
   "cell_type": "code",
   "execution_count": null,
   "metadata": {},
   "outputs": [],
   "source": []
  },
  {
   "cell_type": "markdown",
   "metadata": {},
   "source": [
    "## Wyliczmy wartość statystyki\n",
    "\n",
    "$$\n",
    "U=\\sqrt{\\frac{2nS^2}{\\sigma_{0}^2}} - \\sqrt{2n-3}\n",
    "$$"
   ]
  },
  {
   "cell_type": "code",
   "execution_count": 3,
   "metadata": {},
   "outputs": [
    {
     "data": {
      "text/plain": [
       "0.5097135282667438"
      ]
     },
     "execution_count": 3,
     "metadata": {},
     "output_type": "execute_result"
    }
   ],
   "source": [
    "n=50\n",
    "s_kw = 107.3\n",
    "sigma0_kw = 100\n",
    "u = np.sqrt((2*n*s_kw)/sigma0_kw) - np.sqrt(2*n-3)\n",
    "u"
   ]
  },
  {
   "cell_type": "code",
   "execution_count": null,
   "metadata": {},
   "outputs": [],
   "source": []
  },
  {
   "cell_type": "markdown",
   "metadata": {},
   "source": [
    "# $H_0$: $\\sigma^2=100$ przy hipotezie alternatywnej $H_1$: $\\sigma^2\\neq 100$\n",
    "\n",
    "## Wypisz przedział krytyczny\n"
   ]
  },
  {
   "cell_type": "code",
   "execution_count": 4,
   "metadata": {},
   "outputs": [
    {
     "name": "stdout",
     "output_type": "stream",
     "text": [
      "-inf -1.959963984540054 1.959963984540054 inf\n"
     ]
    }
   ],
   "source": [
    "# (−∞,−u(1−0.5α)]∪[u(1−0.5α),+∞)\n",
    "L1 = -np.inf\n",
    "# L2 = X.ppf(alpha/2)\n",
    "# R1 = X.ppf(1-alpha/2)\n",
    "\n",
    "L2 = X.isf(1-alpha/2)\n",
    "R1 = X.ppf(1-alpha/2)\n",
    "\n",
    "R2 = np.inf\n",
    "print(L1, L2, R1, R2)"
   ]
  },
  {
   "cell_type": "code",
   "execution_count": null,
   "metadata": {},
   "outputs": [],
   "source": []
  },
  {
   "cell_type": "code",
   "execution_count": 5,
   "metadata": {},
   "outputs": [
    {
     "name": "stdout",
     "output_type": "stream",
     "text": [
      "( -inf , -1.960) sum ( 1.960 , inf)\n"
     ]
    }
   ],
   "source": [
    "print(r'( %3.3f , %3.3f) sum ( %3.3f , %3.3f)' % (L1,L2,R1,R2))"
   ]
  },
  {
   "cell_type": "markdown",
   "metadata": {},
   "source": [
    "## zweryfikuj hipotezę na podstawie wartości statystyki oraz przedziału krytycznego"
   ]
  },
  {
   "cell_type": "code",
   "execution_count": 6,
   "metadata": {},
   "outputs": [
    {
     "name": "stdout",
     "output_type": "stream",
     "text": [
      "Wartość statystyki nie należy do przedziału krytycznego więc nie ma podstaw by odrzucić hipotezę H_0\n",
      "u = 0.5097135282667438 L2 = -1.959963984540054 R1 = 1.959963984540054\n"
     ]
    }
   ],
   "source": [
    "if (u <L2) | (u > R1):\n",
    "    print(\"Wartość statystyki należy do przedziału krytycznego więc odrzucamy hipotezę H_0\")\n",
    "else:\n",
    "    print(\"Wartość statystyki nie należy do przedziału krytycznego więc nie ma podstaw by odrzucić hipotezę H_0\")\n",
    "print('u =',u,'L2 =',L2,'R1 =',R1)"
   ]
  },
  {
   "cell_type": "markdown",
   "metadata": {},
   "source": [
    "## wylicz p-value"
   ]
  },
  {
   "cell_type": "code",
   "execution_count": 7,
   "metadata": {},
   "outputs": [
    {
     "data": {
      "text/plain": [
       "1.3897478261027754"
      ]
     },
     "execution_count": 7,
     "metadata": {},
     "output_type": "execute_result"
    }
   ],
   "source": [
    "p = X.cdf(u) + X.sf(-u)\n",
    "p"
   ]
  },
  {
   "cell_type": "code",
   "execution_count": null,
   "metadata": {},
   "outputs": [],
   "source": []
  },
  {
   "cell_type": "markdown",
   "metadata": {},
   "source": [
    "## zweryfikuj hipotezę na podstawie wartości p-value"
   ]
  },
  {
   "cell_type": "code",
   "execution_count": 8,
   "metadata": {},
   "outputs": [
    {
     "name": "stdout",
     "output_type": "stream",
     "text": [
      "Nie ma podstaw by odrzucić hipotezę zerową H_0\n",
      "p = 1.3897478261027754 alpha =  0.05\n"
     ]
    }
   ],
   "source": [
    "if(p < alpha):\n",
    "    print(\"Odrzucam hipotezę zerową H_0\")\n",
    "else:        \n",
    "    print(\"Nie ma podstaw by odrzucić hipotezę zerową H_0\")\n",
    "print('p =',p, 'alpha = ',alpha)"
   ]
  },
  {
   "cell_type": "markdown",
   "metadata": {},
   "source": [
    "Narysuj gęstość rozkładu statystyki i zaznacz na nim:\n",
    "<ul>\n",
    "<li> przedział krytyczny </li>\n",
    "<li> wartość statystyki testowej </li>\n",
    "<li> p-value </li>\n",
    "</ul>"
   ]
  },
  {
   "cell_type": "code",
   "execution_count": 9,
   "metadata": {},
   "outputs": [
    {
     "data": {
      "image/png": "[encoded data removed]",
      "text/plain": [
       "<Figure size 864x432 with 1 Axes>"
      ]
     },
     "metadata": {
      "needs_background": "light"
     },
     "output_type": "display_data"
    }
   ],
   "source": [
    "u_1 = X.isf(alpha/2)   # IFS(x) = SF(x)^(-1) = (1 - CDF(x))^(-1)\n",
    "u_2 = X.ppf(alpha/2)   # PPF(x) = CDF(x)^(-1)\n",
    "\n",
    "x = np.linspace(-3,3,100)\n",
    "yp = X.pdf(x)\n",
    "y = X.cdf(x)\n",
    "x1 = np.linspace(u_1, 3)\n",
    "y1 = X.pdf(x1)\n",
    "\n",
    "x2 = np.linspace(-3, u_2)\n",
    "y2 = X.pdf(x2)\n",
    "\n",
    "figs, axs = plt.subplots(1,1, figsize=(12, 6))\n",
    "axs.plot(x,yp, 'k')\n",
    "axs.fill_between(x1, y1, facecolor='#CCCCCC')\n",
    "axs.fill_between(x2, y2, facecolor='#CCCCCC')\n",
    "\n",
    "axs.text(u_1, 0.1, r'$\\alpha/2 = $ %.3f' % np.round(alpha/2,3))\n",
    "axs.text(u_2, 0.1, r'$\\alpha/2 = $ %.3f' % np.round(alpha/2,3))\n",
    "\n",
    "axs.vlines(u, 0, X.pdf(u), linestyles='--')\n",
    "axs.vlines(-u, 0, X.pdf(-u), linestyles='--')\n",
    "\n",
    "axs.text(u-1.0, 0.02, r'$statystyka = $ %.3f' % np.round(u,3))\n",
    "axs.text(L2, 0, r'$gran.  przedz. = $ %.3f' % np.round(L2,3))\n",
    "axs.text(R1-1.0, 0, r'$gran.  przedz. = $ %.3f' % np.round(R1,3))\n",
    "\n",
    "axs.text(u-2.0, 0.05, r'$p-value/2 = $ %.3f' % np.round(p/2,3))\n",
    "axs.text(u, 0.05, r'$p-value/2 = $ %.3f' % np.round(p/2,3))\n",
    "\n",
    "axs.set_xlabel('x')\n",
    "axs.set_ylabel('PDF(x)')\n",
    "plt.show()"
   ]
  },
  {
   "cell_type": "markdown",
   "metadata": {
    "collapsed": true
   },
   "source": [
    "# $H_0$: $\\sigma^2=100$ przy hipotezie alternatywnej $H_1$: $\\sigma^2>100$\n",
    "## Wypisz przedział krytyczny"
   ]
  },
  {
   "cell_type": "code",
   "execution_count": 10,
   "metadata": {},
   "outputs": [
    {
     "name": "stdout",
     "output_type": "stream",
     "text": [
      "(L, P) = (1.6448536269514722, inf)\n"
     ]
    }
   ],
   "source": [
    "# [u(1−α),+∞)\n",
    "L = X.ppf(1-alpha)\n",
    "P = np.inf\n",
    "print('(L, P) =',(L,P))"
   ]
  },
  {
   "cell_type": "markdown",
   "metadata": {},
   "source": [
    "## zweryfikuj hipotezę na podstawie wartości statystyki oraz przedziału krytycznego"
   ]
  },
  {
   "cell_type": "code",
   "execution_count": 11,
   "metadata": {},
   "outputs": [
    {
     "name": "stdout",
     "output_type": "stream",
     "text": [
      "Wartość statystyki nie należy do przedziału krytycznego więc nie ma podstaw by odrzucić hipotezę H_0\n",
      "u = 0.5097135282667438 L = 1.6448536269514722\n"
     ]
    }
   ],
   "source": [
    "# sprawdzenie czy wartość statystyki U wpada w prawy ogon\n",
    "if u > L:\n",
    "    print(\"Wartość statystyki należy do przedziału krytycznego więc odrzucamy hipotezę H_0\")\n",
    "else:\n",
    "    print(\"Wartość statystyki nie należy do przedziału krytycznego więc nie ma podstaw by odrzucić hipotezę H_0\")\n",
    "print('u =',u,'L =',L)"
   ]
  },
  {
   "cell_type": "markdown",
   "metadata": {},
   "source": [
    "## wylicz p-value"
   ]
  },
  {
   "cell_type": "code",
   "execution_count": 12,
   "metadata": {},
   "outputs": [
    {
     "data": {
      "text/plain": [
       "0.3051260869486123"
      ]
     },
     "execution_count": 12,
     "metadata": {},
     "output_type": "execute_result"
    }
   ],
   "source": [
    "p=1-X.cdf(u)\n",
    "p"
   ]
  },
  {
   "cell_type": "markdown",
   "metadata": {},
   "source": [
    "## zweryfikuj hipotezę na podstawie wartości p-value"
   ]
  },
  {
   "cell_type": "code",
   "execution_count": 13,
   "metadata": {},
   "outputs": [
    {
     "name": "stdout",
     "output_type": "stream",
     "text": [
      "Nie ma podstaw by odrzucić hipotezę zerową H_0\n"
     ]
    }
   ],
   "source": [
    "if(p < alpha):\n",
    "    print(\"Odrzucam hipotezę zerową H_0\")\n",
    "else:        \n",
    "    print(\"Nie ma podstaw by odrzucić hipotezę zerową H_0\")"
   ]
  },
  {
   "cell_type": "markdown",
   "metadata": {},
   "source": [
    "Narysuj gęstość rozkładu statystyki i zaznacz na nim:\n",
    "<ul>\n",
    "<li> przedział krytyczny </li>\n",
    "<li> wartość statystyki testowej </li>\n",
    "<li> p-value </li>\n",
    "</ul>"
   ]
  },
  {
   "cell_type": "code",
   "execution_count": 14,
   "metadata": {},
   "outputs": [
    {
     "data": {
      "image/png": "[encoded data removed]",
      "text/plain": [
       "<Figure size 864x432 with 1 Axes>"
      ]
     },
     "metadata": {
      "needs_background": "light"
     },
     "output_type": "display_data"
    }
   ],
   "source": [
    "u_1=X.ppf(1-alpha)\n",
    "\n",
    "x = np.linspace(-3,3,100)\n",
    "yp = X.pdf(x)\n",
    "y = X.cdf(x)\n",
    "x1 = np.linspace(u_1, 3)\n",
    "y1 = X.pdf(x1)\n",
    "figs, axs = plt.subplots(1,1, figsize=(12, 6))\n",
    "axs.plot(x,yp, 'k')\n",
    "axs.fill_between(x1, y1, facecolor='#CCCCCC')\n",
    "#axs.text(u_1, 0.1, np.round(X.cdf(u_1),4))\n",
    "axs.text(u_1, 0.1, r'$\\alpha = $ %.3f' % np.round(alpha,3))\n",
    "axs.vlines(u, 0, X.pdf(u), linestyles='--')\n",
    "axs.text(u, 0.02, r'$statystyka = $ %.3f' % np.round(u,3))\n",
    "axs.text(L, 0, r'$gran.  przedz. = $ %.3f' % np.round(L,3))\n",
    "axs.text(u-1.0, 0.05, r'$p-value = $ %.3f' % np.round(p,3))\n",
    "axs.set_xlabel('x')\n",
    "axs.set_ylabel('PDF(x)')\n",
    "plt.show()"
   ]
  },
  {
   "cell_type": "markdown",
   "metadata": {},
   "source": [
    "# $H_0$: $\\sigma^2=100$ przy hipotezie alternatywnej $H_1$: $\\sigma^2<100$\n",
    "\n",
    "## Wypisz przedział krytyczny"
   ]
  },
  {
   "cell_type": "code",
   "execution_count": 20,
   "metadata": {},
   "outputs": [
    {
     "name": "stdout",
     "output_type": "stream",
     "text": [
      "(L,P) = (-inf, -1.6448536269514722)\n"
     ]
    }
   ],
   "source": [
    "# (−∞,−u(1−α)]\n",
    "L = -np.inf\n",
    "R = X.isf(1-alpha)\n",
    "print('(L,P) =',(L,R))"
   ]
  },
  {
   "cell_type": "markdown",
   "metadata": {},
   "source": [
    "## zweryfikuj hipotezę na podstawie wartości statystyki oraz przedziału krytycznego"
   ]
  },
  {
   "cell_type": "code",
   "execution_count": 21,
   "metadata": {},
   "outputs": [
    {
     "name": "stdout",
     "output_type": "stream",
     "text": [
      "Wartość statystyki nie należy do przedziału krytycznego więc nie ma podstaw by odrzucić hipotezę H_0\n",
      "u = 0.5097135282667438 R = -1.6448536269514722\n"
     ]
    }
   ],
   "source": [
    "# sprawdzenie czy wartość statystyki U wpada w lewy ogon\n",
    "if u < R:\n",
    "    print(\"Wartość statystyki należy do przedziału krytycznego więc odrzucamy hipotezę H_0\")\n",
    "else:\n",
    "    print(\"Wartość statystyki nie należy do przedziału krytycznego więc nie ma podstaw by odrzucić hipotezę H_0\")\n",
    "print('u =',u,'R =',R)"
   ]
  },
  {
   "cell_type": "markdown",
   "metadata": {},
   "source": [
    "## wylicz p-value"
   ]
  },
  {
   "cell_type": "code",
   "execution_count": 22,
   "metadata": {},
   "outputs": [
    {
     "data": {
      "text/plain": [
       "0.6948739130513877"
      ]
     },
     "execution_count": 22,
     "metadata": {},
     "output_type": "execute_result"
    }
   ],
   "source": [
    "p=X.cdf(u)\n",
    "p"
   ]
  },
  {
   "cell_type": "markdown",
   "metadata": {},
   "source": [
    "## zweryfikuj hipotezę na podstawie wartości p-value"
   ]
  },
  {
   "cell_type": "code",
   "execution_count": 23,
   "metadata": {},
   "outputs": [
    {
     "name": "stdout",
     "output_type": "stream",
     "text": [
      "Nie ma podstaw by odrzucić hipotezę zerową H_0\n"
     ]
    }
   ],
   "source": [
    "if(p < alpha):\n",
    "    print(\"Odrzucam hipotezę zerową H_0\")\n",
    "else:        \n",
    "    print(\"Nie ma podstaw by odrzucić hipotezę zerową H_0\")"
   ]
  },
  {
   "cell_type": "markdown",
   "metadata": {},
   "source": [
    "Narysuj gęstość rozkładu statystyki i zaznacz na nim:\n",
    "<ul>\n",
    "<li> przedział krytyczny </li>\n",
    "<li> wartość statystyki testowej </li>\n",
    "<li> p-value </li>\n",
    "</ul>"
   ]
  },
  {
   "cell_type": "code",
   "execution_count": 24,
   "metadata": {},
   "outputs": [
    {
     "data": {
      "image/png": "[encoded data removed]",
      "text/plain": [
       "<Figure size 864x432 with 1 Axes>"
      ]
     },
     "metadata": {
      "needs_background": "light"
     },
     "output_type": "display_data"
    }
   ],
   "source": [
    "u_1=X.ppf(alpha)\n",
    "\n",
    "x = np.linspace(-3,3,100)\n",
    "yp = X.pdf(x)\n",
    "y = X.cdf(x)\n",
    "x1 = np.linspace(-3, u_1)\n",
    "y1 = X.pdf(x1)\n",
    "figs, axs = plt.subplots(1,1, figsize=(12, 6))\n",
    "axs.plot(x,yp, 'k')\n",
    "axs.fill_between(x1, y1, facecolor='#CCCCCC')\n",
    "axs.text(u_1, 0.1, r'$\\alpha = $ %.3f' % np.round(alpha,3))\n",
    "axs.vlines(u, 0, X.pdf(u), linestyles='--')\n",
    "axs.text(u, 0.02, r'$statystyka = $ %.3f' % np.round(u,3))\n",
    "axs.text(R, 0, r'$gran.  przedz. = $ %.3f' % np.round(R,3))\n",
    "axs.text(u-1.0, 0.05, r'$p-value = $ %.3f' % np.round(p,3))\n",
    "axs.set_xlabel('x')\n",
    "axs.set_ylabel('PDF(x)')\n",
    "plt.show()"
   ]
  },
  {
   "cell_type": "code",
   "execution_count": null,
   "metadata": {},
   "outputs": [],
   "source": []
  }
 ],
 "metadata": {
  "kernelspec": {
   "display_name": "Python 3",
   "language": "python",
   "name": "python3"
  },
  "language_info": {
   "codemirror_mode": {
    "name": "ipython",
    "version": 3
   },
   "file_extension": ".py",
   "mimetype": "text/x-python",
   "name": "python",
   "nbconvert_exporter": "python",
   "pygments_lexer": "ipython3",
   "version": "3.7.0"
  }
 },
 "nbformat": 4,
 "nbformat_minor": 2
}
