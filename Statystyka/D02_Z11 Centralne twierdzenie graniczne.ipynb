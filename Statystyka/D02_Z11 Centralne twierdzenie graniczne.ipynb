{
 "cells": [
  {
   "cell_type": "markdown",
   "metadata": {},
   "source": [
    "# Centralne Twierdzenie Graniczne"
   ]
  },
  {
   "cell_type": "code",
   "execution_count": 1,
   "metadata": {},
   "outputs": [],
   "source": [
    "import numpy as np\n",
    "import matplotlib.pyplot as plt\n",
    "import seaborn as sns\n",
    "from scipy import stats"
   ]
  },
  {
   "cell_type": "markdown",
   "metadata": {},
   "source": [
    "# Centralne Twierdzenie Graniczne (Moivre'a--Laplace'a)\n",
    "Niech $X_1, X_2, \\ldots , X_n$ będą niezależnymi zmiennymi losowymi o tym samym rozkładzie (prosta próba losowa), takimi że: \n",
    "\n",
    "$$\n",
    "S_n = X_1 + X_2 + \\ldots + X_n \\sim Bin(n,p)\n",
    "$$\n",
    "\n",
    "czyli rozkład dwumianowy z parametrami $n$, $p$, $1-p$. Wtedy:\n",
    "\n",
    "$$\n",
    "\\lim_{n \\to \\infty} P\\left(\\frac{X_1+X_2 + \\ldots + X_n - np}{ \\sqrt{np(1-p)} } < x \\right) = \\Phi(x),\n",
    "$$\n",
    "\n",
    "gdzie $\\Phi$ oznacza dystrybuantę standardowego rozkładu normalnego ($N(0,1)$). "
   ]
  },
  {
   "cell_type": "code",
   "execution_count": 4,
   "metadata": {},
   "outputs": [],
   "source": [
    "# Input data\n",
    "ndata = 100000\n",
    "nbins = 50"
   ]
  },
  {
   "cell_type": "code",
   "execution_count": 16,
   "metadata": {},
   "outputs": [],
   "source": [
    "def showAsHistogram(axis, data, title):\n",
    "    '''Subroutine showing a histogram and formatting it''' \n",
    "    axis.hist(data, bins=nbins)\n",
    "    axis.set_xticks([0, 0.5, 1])\n",
    "    axis.set_title(title)"
   ]
  },
  {
   "cell_type": "code",
   "execution_count": 6,
   "metadata": {},
   "outputs": [
    {
     "data": {
      "image/png": "[encoded data removed]",
      "text/plain": [
       "<Figure size 432x288 with 3 Axes>"
      ]
     },
     "metadata": {
      "needs_background": "light"
     },
     "output_type": "display_data"
    }
   ],
   "source": [
    "p = 0.5\n",
    "ds = stats.bernoulli(p)\n",
    "data = ds.rvs(ndata)\n",
    "fig, axs = plt.subplots(1,3)\n",
    "showAsHistogram(axs[0], data, 'Random data')\n",
    "showAsHistogram(axs[1], np.mean(data.reshape((ndata//2, 2 )), axis=1), 'Average over 2')\n",
    "showAsHistogram(axs[2], np.mean(data.reshape((ndata//10,10)), axis=1), 'Average over 10')\n",
    "axs[0].set_ylabel('Counts')\n",
    "plt.show()"
   ]
  },
  {
   "cell_type": "markdown",
   "metadata": {},
   "source": [
    "# Zadanie 1\n",
    "\n",
    "Wygeneruj próbkę z rozkładu dwumianowego. Następnie podziel dane na zbiory po $2$ i po $10$ elementów. Policz średnie w zbiorach i stwórz z nich nową próbkę. Narysuj histogram dla próbki wszystkich trzech próbek. "
   ]
  },
  {
   "cell_type": "code",
   "execution_count": 29,
   "metadata": {},
   "outputs": [
    {
     "name": "stdout",
     "output_type": "stream",
     "text": [
      "trials = [3 3 2 ... 4 4 1]\n",
      "trials po 2 elementy = [[3 3]\n",
      " [2 5]\n",
      " [2 2]\n",
      " ...\n",
      " [1 3]\n",
      " [2 4]\n",
      " [4 1]]\n",
      "trials po 10 elementów = [[3 3 2 ... 2 1 5]\n",
      " [1 3 3 ... 2 3 3]\n",
      " [2 2 3 ... 3 4 1]\n",
      " ...\n",
      " [3 3 4 ... 2 1 4]\n",
      " [2 4 4 ... 1 4 4]\n",
      " [4 3 5 ... 4 4 1]]\n"
     ]
    },
    {
     "data": {
      "image/png": "[encoded data removed]",
      "text/plain": [
       "<Figure size 864x288 with 3 Axes>"
      ]
     },
     "metadata": {
      "needs_background": "light"
     },
     "output_type": "display_data"
    }
   ],
   "source": [
    "p = 0.5\n",
    "num = 6\n",
    "binomDist = stats.binom(num,p)\n",
    "trials = binomDist.rvs(ndata)\n",
    "print('trials =',trials)\n",
    "print('trials po 2 elementy =', trials.reshape((ndata//2, 2 )))\n",
    "print('trials po 10 elementów =', trials.reshape((ndata//10, 10 )))\n",
    "\n",
    "fig, axs = plt.subplots(1,3, figsize = (12,4))\n",
    "showAsHistogram(axs[0], trials, 'Random data')\n",
    "showAsHistogram(axs[1], np.mean(trials.reshape((ndata//2, 2 )), axis=1), 'Average over 2')\n",
    "showAsHistogram(axs[2], np.mean(trials.reshape((ndata//10,10)), axis=1), 'Average over 10')\n",
    "axs[0].set_ylabel('Counts')\n",
    "plt.show()\n",
    "\n",
    "# jak dopasować skalę na osi X? co robi tutaj reshape?"
   ]
  },
  {
   "cell_type": "markdown",
   "metadata": {},
   "source": [
    "# Centralne Twierdzenie Graniczne (Lindeberga--Levy'ego)\n",
    "Niech $X_1, X_2, \\ldots , X_n$ będą niezależnymi zmiennymi losowymi o tym samym rozkładzie (prosta próba losowa), wartości średniej $m = EX$ i wariancji $0<\\sigma^2 = D^2 X < \\infty$. \n",
    "\n",
    "Wtedy:\n",
    "\n",
    "$$\n",
    "\\lim_{n \\to \\infty} P\\left(\\frac{X_1+X_2 + \\ldots + X_n - nm}{ \\sigma \\sqrt{n} } < x \\right) = \\Phi(x),\n",
    "$$\n",
    "\n",
    "gdzie $\\Phi$ oznacza dystrybuantę standardowego rozkładu normalnego ($N(0,1)$). "
   ]
  },
  {
   "cell_type": "markdown",
   "metadata": {},
   "source": [
    "# Zadanie 2\n",
    "\n",
    "Wygeneruj próbkę z rozkładu jednostajnego na odcinku. Następnie podziel dane na zbiory po $2$ i po $10$ elementów. Policz średnie w zbiorach i stwórz z nich nową próbkę. Narysuj histogram dla próbki wszystkich trzech próbek. "
   ]
  },
  {
   "cell_type": "code",
   "execution_count": 32,
   "metadata": {},
   "outputs": [
    {
     "name": "stdout",
     "output_type": "stream",
     "text": [
      "trials = [0.47430416 0.65608024 0.43739497 ... 0.82342495 0.35628759 0.21831753]\n",
      "trials po 2 elementy = [[0.47430416 0.65608024]\n",
      " [0.43739497 0.15745608]\n",
      " [0.22914487 0.36373243]\n",
      " ...\n",
      " [0.83866103 0.06437757]\n",
      " [0.40625869 0.82342495]\n",
      " [0.35628759 0.21831753]]\n",
      "trials po 10 elementów = [[0.47430416 0.65608024 0.43739497 ... 0.1395148  0.16411087 0.41539738]\n",
      " [0.57569197 0.60060914 0.52479856 ... 0.91907667 0.89332325 0.52358214]\n",
      " [0.95628884 0.1977754  0.95838597 ... 0.79898834 0.44775969 0.36245107]\n",
      " ...\n",
      " [0.44981206 0.83348584 0.119842   ... 0.36786111 0.82813213 0.60165574]\n",
      " [0.65910485 0.13324027 0.70454889 ... 0.30894935 0.50514275 0.95675038]\n",
      " [0.67108048 0.12597503 0.01035928 ... 0.82342495 0.35628759 0.21831753]]\n"
     ]
    },
    {
     "data": {
      "image/png": "[encoded data removed]",
      "text/plain": [
       "<Figure size 864x288 with 3 Axes>"
      ]
     },
     "metadata": {
      "needs_background": "light"
     },
     "output_type": "display_data"
    }
   ],
   "source": [
    "uniformDist = stats.uniform()\n",
    "trials = uniformDist.rvs(ndata)\n",
    "print('trials =',trials)\n",
    "print('trials po 2 elementy =', trials.reshape((ndata//2, 2 )))\n",
    "print('trials po 10 elementów =', trials.reshape((ndata//10, 10 )))\n",
    "\n",
    "fig, axs = plt.subplots(1,3, figsize = (12,4))\n",
    "showAsHistogram(axs[0], trials, 'Random data')\n",
    "showAsHistogram(axs[1], np.mean(trials.reshape((ndata//2, 2 )), axis=1), 'Average over 2')\n",
    "showAsHistogram(axs[2], np.mean(trials.reshape((ndata//10,10)), axis=1), 'Average over 10')\n",
    "axs[0].set_ylabel('Counts')\n",
    "plt.show()"
   ]
  },
  {
   "cell_type": "code",
   "execution_count": null,
   "metadata": {},
   "outputs": [],
   "source": []
  }
 ],
 "metadata": {
  "kernelspec": {
   "display_name": "Python 3",
   "language": "python",
   "name": "python3"
  },
  "language_info": {
   "codemirror_mode": {
    "name": "ipython",
    "version": 3
   },
   "file_extension": ".py",
   "mimetype": "text/x-python",
   "name": "python",
   "nbconvert_exporter": "python",
   "pygments_lexer": "ipython3",
   "version": "3.7.0"
  }
 },
 "nbformat": 4,
 "nbformat_minor": 2
}
