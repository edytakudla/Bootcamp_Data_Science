{
 "cells": [
  {
   "cell_type": "code",
   "execution_count": 1,
   "metadata": {},
   "outputs": [],
   "source": [
    "import numpy as np\n",
    "import pandas as pd\n",
    "from statsmodels.formula.api import ols\n",
    "from statsmodels.stats.anova import anova_lm"
   ]
  },
  {
   "cell_type": "markdown",
   "metadata": {},
   "source": [
    "# Zadanie \n",
    "Przypuszczamy, że pobyt w szpitalu po dializie nerek zależy od wagi oraz czasu trwania leczenia (https://github.com/przem85/statistics/blob/master/D7/ANOVA3.txt).\n",
    "Będziemy modelować <b>logarytm</b> dni spędzonych w szpitalu w zależności od innych zmiennych.\n",
    "Czy ta teza jest prawdziwa?\n",
    "\n"
   ]
  },
  {
   "cell_type": "code",
   "execution_count": 2,
   "metadata": {},
   "outputs": [],
   "source": [
    "# Get the data\n",
    "data = np.loadtxt('ANOVA3.txt')\n",
    "df = pd.DataFrame(data, columns=['Days', 'Duration', 'Weight', 'ID'])"
   ]
  },
  {
   "cell_type": "code",
   "execution_count": 3,
   "metadata": {},
   "outputs": [
    {
     "data": {
      "text/html": [
       "<div>\n",
       "<style scoped>\n",
       "    .dataframe tbody tr th:only-of-type {\n",
       "        vertical-align: middle;\n",
       "    }\n",
       "\n",
       "    .dataframe tbody tr th {\n",
       "        vertical-align: top;\n",
       "    }\n",
       "\n",
       "    .dataframe thead th {\n",
       "        text-align: right;\n",
       "    }\n",
       "</style>\n",
       "<table border=\"1\" class=\"dataframe\">\n",
       "  <thead>\n",
       "    <tr style=\"text-align: right;\">\n",
       "      <th></th>\n",
       "      <th>Days</th>\n",
       "      <th>Duration</th>\n",
       "      <th>Weight</th>\n",
       "      <th>ID</th>\n",
       "    </tr>\n",
       "  </thead>\n",
       "  <tbody>\n",
       "    <tr>\n",
       "      <th>0</th>\n",
       "      <td>0.0</td>\n",
       "      <td>1.0</td>\n",
       "      <td>1.0</td>\n",
       "      <td>1.0</td>\n",
       "    </tr>\n",
       "    <tr>\n",
       "      <th>1</th>\n",
       "      <td>2.0</td>\n",
       "      <td>1.0</td>\n",
       "      <td>1.0</td>\n",
       "      <td>2.0</td>\n",
       "    </tr>\n",
       "    <tr>\n",
       "      <th>2</th>\n",
       "      <td>1.0</td>\n",
       "      <td>1.0</td>\n",
       "      <td>1.0</td>\n",
       "      <td>3.0</td>\n",
       "    </tr>\n",
       "    <tr>\n",
       "      <th>3</th>\n",
       "      <td>3.0</td>\n",
       "      <td>1.0</td>\n",
       "      <td>1.0</td>\n",
       "      <td>4.0</td>\n",
       "    </tr>\n",
       "    <tr>\n",
       "      <th>4</th>\n",
       "      <td>0.0</td>\n",
       "      <td>1.0</td>\n",
       "      <td>1.0</td>\n",
       "      <td>5.0</td>\n",
       "    </tr>\n",
       "  </tbody>\n",
       "</table>\n",
       "</div>"
      ],
      "text/plain": [
       "   Days  Duration  Weight   ID\n",
       "0   0.0       1.0     1.0  1.0\n",
       "1   2.0       1.0     1.0  2.0\n",
       "2   1.0       1.0     1.0  3.0\n",
       "3   3.0       1.0     1.0  4.0\n",
       "4   0.0       1.0     1.0  5.0"
      ]
     },
     "execution_count": 3,
     "metadata": {},
     "output_type": "execute_result"
    }
   ],
   "source": [
    "df.head()"
   ]
  },
  {
   "cell_type": "code",
   "execution_count": 8,
   "metadata": {},
   "outputs": [
    {
     "name": "stdout",
     "output_type": "stream",
     "text": [
      "                            sum_sq    df          F    PR(>F)\n",
      "C(Duration)             209.066667   1.0   7.214724  0.009587\n",
      "C(Weight)               760.433333   2.0  13.120974  0.000023\n",
      "C(Duration):C(Weight)   109.033333   2.0   1.881327  0.162240\n",
      "Residual               1564.800000  54.0        NaN       NaN\n"
     ]
    }
   ],
   "source": [
    "# Determine the ANOVA with interaction\n",
    "formula = 'Days ~ C(Duration) + C(Weight) + C(Duration):C(Weight)'      \n",
    "lm = ols(formula, df).fit()\n",
    "anovaResults = anova_lm(lm, typ=2)\n",
    "print(anovaResults)  # lepszy model z logarytmem, tylko dlaczego? bo sum_sq mniejsze?"
   ]
  },
  {
   "cell_type": "code",
   "execution_count": 5,
   "metadata": {},
   "outputs": [
    {
     "name": "stdout",
     "output_type": "stream",
     "text": [
      "                          sum_sq    df          F    PR(>F)\n",
      "C(Duration)             2.339693   1.0   4.358293  0.041562\n",
      "C(Weight)              16.971291   2.0  15.806745  0.000004\n",
      "C(Duration):C(Weight)   0.635658   2.0   0.592040  0.556748\n",
      "Residual               28.989198  54.0        NaN       NaN\n"
     ]
    }
   ],
   "source": [
    "model = ols('np.log(Days+1) ~ C(Duration) * C(Weight)', data=df).fit()\n",
    "aov_table = anova_lm(model, typ=2)\n",
    "print(aov_table)"
   ]
  },
  {
   "cell_type": "code",
   "execution_count": 7,
   "metadata": {},
   "outputs": [
    {
     "name": "stdout",
     "output_type": "stream",
     "text": [
      "                          sum_sq    df          F    PR(>F)\n",
      "C(Duration)             2.339693   1.0   4.358293  0.041562\n",
      "C(Weight)              16.971291   2.0  15.806745  0.000004\n",
      "C(Duration):C(Weight)   0.635658   2.0   0.592040  0.556748\n",
      "Residual               28.989198  54.0        NaN       NaN\n"
     ]
    }
   ],
   "source": [
    "# zapis równoważny z tym powyżej\n",
    "model = ols('np.log(Days+1) ~ C(Duration) + C(Weight) + C(Duration) : C(Weight)', data=df).fit()\n",
    "aov_table = anova_lm(model, typ=2)\n",
    "print(aov_table)"
   ]
  },
  {
   "cell_type": "code",
   "execution_count": null,
   "metadata": {},
   "outputs": [],
   "source": []
  }
 ],
 "metadata": {
  "kernelspec": {
   "display_name": "Python 3",
   "language": "python",
   "name": "python3"
  },
  "language_info": {
   "codemirror_mode": {
    "name": "ipython",
    "version": 3
   },
   "file_extension": ".py",
   "mimetype": "text/x-python",
   "name": "python",
   "nbconvert_exporter": "python",
   "pygments_lexer": "ipython3",
   "version": "3.7.0"
  }
 },
 "nbformat": 4,
 "nbformat_minor": 2
}
