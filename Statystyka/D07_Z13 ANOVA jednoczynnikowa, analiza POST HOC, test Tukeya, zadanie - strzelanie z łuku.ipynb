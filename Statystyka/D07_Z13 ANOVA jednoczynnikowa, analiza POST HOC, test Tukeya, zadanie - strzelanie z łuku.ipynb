{
 "cells": [
  {
   "cell_type": "code",
   "execution_count": 1,
   "metadata": {},
   "outputs": [],
   "source": [
    "import numpy as np\n",
    "import matplotlib.pyplot as plt\n",
    "from scipy import stats\n",
    "import pandas as pd\n",
    "from statsmodels.formula.api import ols\n",
    "from statsmodels.stats.anova import anova_lm\n",
    "from statsmodels.stats.multicomp import (pairwise_tukeyhsd, MultiComparison)\n",
    "from statsmodels.stats.libqsturng import psturng"
   ]
  },
  {
   "cell_type": "markdown",
   "metadata": {},
   "source": [
    "# Zadanie \n",
    "Trzej łucznicy - Patryk, Jacek i Aleksander biorą udział w konkursie strzeleckim. Pierścienie na tarczy mają wartości punktacji od 1 do 10 (10 to najwyższy wynik). Każdy uczestnik strzela 6 strzał, zdobywając punkty:\n",
    "\n",
    "Patryk - 5, 4, 4, 3, 9, 4 \n",
    "\n",
    "Jacek - 4, 8, 7, 5, 1, 5 \n",
    "\n",
    "Aleksander - 9, 9, 8, 10, 4, 10 \n",
    "\n",
    "Na podstawie powyższych wyników chcielibyśmy wiedzieć, kto jest najlepszym łucznikiem. Innymi słowy, nasza hipoteza zerowa oznacza, że średnie we wszystkich populacjach są jednakowe."
   ]
  },
  {
   "cell_type": "code",
   "execution_count": 2,
   "metadata": {},
   "outputs": [],
   "source": [
    "data = np.rec.array([\n",
    "('Pat', 5),\n",
    "('Pat', 4),\n",
    "('Pat', 4),\n",
    "('Pat', 3),\n",
    "('Pat', 9),\n",
    "('Pat', 4),\n",
    "('Jack', 4),\n",
    "('Jack', 8),\n",
    "('Jack', 7),\n",
    "('Jack', 5),\n",
    "('Jack', 1),\n",
    "('Jack', 5),\n",
    "('Alex', 9),\n",
    "('Alex', 8),\n",
    "('Alex', 8),\n",
    "('Alex', 10),\n",
    "('Alex', 5),\n",
    "('Alex', 10)], dtype = [('Archer','|U5'),('Score', '<i8')])\n",
    "#  Archer = łucznik"
   ]
  },
  {
   "cell_type": "markdown",
   "metadata": {},
   "source": [
    "# Wykonujemy test ANOVA"
   ]
  },
  {
   "cell_type": "code",
   "execution_count": 3,
   "metadata": {},
   "outputs": [
    {
     "name": "stdout",
     "output_type": "stream",
     "text": [
      "One-way ANOVA\n",
      "=============\n",
      "F value: 4.999999999999998\n",
      "P value: 0.021683749320078414 \n",
      "\n"
     ]
    }
   ],
   "source": [
    "f, p = stats.f_oneway(data[data['Archer'] == 'Pat'].Score,\n",
    "                      data[data['Archer'] == 'Jack'].Score,\n",
    "                      data[data['Archer'] == 'Alex'].Score)\n",
    " \n",
    "print ('One-way ANOVA')\n",
    "print ('=============')\n",
    " \n",
    "print ('F value:', f)\n",
    "print ('P value:', p, '\\n')\n",
    "# p-value mamy poniżej 0,05 (lub poniżej 0,025???) \n",
    "# co oznacza f - statystykę?????"
   ]
  },
  {
   "cell_type": "markdown",
   "metadata": {},
   "source": [
    "## Wniosek\n",
    "Ponieważ, odrzucamy hipotezę zerową o równości średnich zastanawiamy się czy któryś ze strzelców nie radzi sobie istotnie lepiej.\n",
    "\n",
    "# Wykonujemy analizę post hoc"
   ]
  },
  {
   "cell_type": "code",
   "execution_count": 4,
   "metadata": {},
   "outputs": [
    {
     "name": "stdout",
     "output_type": "stream",
     "text": [
      "<statsmodels.sandbox.stats.multicomp.MultiComparison object at 0x0000016162FA3DD8>\n"
     ]
    }
   ],
   "source": [
    "#Then, do the multiple testing\n",
    "multiComp = MultiComparison(data['Score'], data['Archer'])\n",
    "print(multiComp)"
   ]
  },
  {
   "cell_type": "markdown",
   "metadata": {},
   "source": [
    "Należy również zauważyć, że funkcja <tt>tukeyhsd()</tt> ma parametr alfa, którego nie określamy wyraźnie, ponieważ jesteśmy zadowoleni ze swojej wartości domyślnej ($\\alpha = 0.05$)."
   ]
  },
  {
   "cell_type": "code",
   "execution_count": 5,
   "metadata": {},
   "outputs": [
    {
     "name": "stdout",
     "output_type": "stream",
     "text": [
      "Multiple Comparison of Means - Tukey HSD,FWER=0.05\n",
      "=============================================\n",
      "group1 group2 meandiff  lower   upper  reject\n",
      "---------------------------------------------\n",
      " Alex   Jack  -3.3333  -6.5755 -0.0911  True \n",
      " Alex   Pat     -3.5   -6.7422 -0.2578  True \n",
      " Jack   Pat   -0.1667  -3.4089  3.0755 False \n",
      "---------------------------------------------\n"
     ]
    }
   ],
   "source": [
    "print((multiComp.tukeyhsd().summary()))"
   ]
  },
  {
   "cell_type": "code",
   "execution_count": 20,
   "metadata": {},
   "outputs": [
    {
     "name": "stdout",
     "output_type": "stream",
     "text": [
      "Pat -> średnia = 4.833333333333333\n",
      "Jack -> średnia = 5.0\n",
      "Alex -> średnia = 8.333333333333334\n"
     ]
    }
   ],
   "source": [
    "print('Pat -> średnia =', data[data['Archer'] == 'Pat'].Score.mean())\n",
    "print('Jack -> średnia =', data[data['Archer'] == 'Jack'].Score.mean())\n",
    "print('Alex -> średnia =',data[data['Archer'] == 'Alex'].Score.mean())\n",
    "# różnice średnich = meandiff\n",
    "# Jack - Alex = -3,333\n",
    "# Pat - Alex = -3,4997\n",
    "# Pat - Jack = -0,1667"
   ]
  },
  {
   "cell_type": "markdown",
   "metadata": {},
   "source": [
    "## Wniosek\n",
    "Wyniki testu Tukey pokazują średnią różnicę, przedziały ufności i to, czy należy odrzucić hipotezę zerową dla każdej pary grup na danym poziomie istotności. \n",
    "\n",
    "W tym przypadku test sugeruje odrzucenie hipotezy o równości średnich dla par:\n",
    "\n",
    "- Aleksander Jacek\n",
    "\n",
    "- Aleksander Patryk\n",
    "\n",
    "To sugeruje, że wyniki Aleksandra stanowczo różnią się od innych grup. "
   ]
  },
  {
   "cell_type": "code",
   "execution_count": 17,
   "metadata": {},
   "outputs": [
    {
     "name": "stdout",
     "output_type": "stream",
     "text": [
      "['Alex' 'Jack' 'Pat']\n"
     ]
    }
   ],
   "source": [
    "# Calculate the p-values:\n",
    "res2 = pairwise_tukeyhsd(data['Score'], data['Archer'])\n",
    "df = pd.DataFrame(data)\n",
    "numData = len(df)\n",
    "numTreatments = len(df.Score.unique())\n",
    "dof = numData - numTreatments\n",
    "# Show the group names\n",
    "print((multiComp.groupsunique))"
   ]
  },
  {
   "cell_type": "code",
   "execution_count": 13,
   "metadata": {},
   "outputs": [
    {
     "data": {
      "image/png": "[encoded data removed]",
      "text/plain": [
       "<Figure size 432x288 with 1 Axes>"
      ]
     },
     "metadata": {
      "needs_background": "light"
     },
     "output_type": "display_data"
    }
   ],
   "source": [
    "# Get the data\n",
    "xvals = np.arange(3)\n",
    "res2 = pairwise_tukeyhsd(data['Score'], data['Archer'])\n",
    "errors = np.ravel(np.diff(res2.confint)/2)\n",
    "\n",
    "# Plot them\n",
    "plt.plot(xvals, res2.meandiffs, 'o')\n",
    "plt.errorbar(xvals, res2.meandiffs, yerr=errors, fmt='o')\n",
    "\n",
    "# # Put on labels\n",
    "pair_labels = multiComp.groupsunique[np.column_stack(res2._multicomp.pairindices)]\n",
    "# plt.xticks(xvals, pair_labels) - opisuje pary uczestników, ale u mnie nie działa :/\n",
    "\n",
    "# # Format the plot\n",
    "xlim = -0.5, 2.5\n",
    "plt.hlines(0, *xlim)\n",
    "plt.xlim(*xlim)\n",
    "plt.title('Multiple Comparison of Means - Tukey HSD, FWER=0.05' + '\\n Pairwise Mean Differences')          \n",
    "plt.show()"
   ]
  },
  {
   "cell_type": "markdown",
   "metadata": {
    "collapsed": true
   },
   "source": [
    "Wizualizacja $95\\%$ przedziałów ufności wzmacnia wyniki w sposób wizualny."
   ]
  },
  {
   "cell_type": "code",
   "execution_count": 21,
   "metadata": {},
   "outputs": [
    {
     "name": "stdout",
     "output_type": "stream",
     "text": [
      "Pat -> średnia = 4.833333333333333\n",
      "Jack -> średnia = 5.0\n",
      "Alex -> średnia = 8.333333333333334\n"
     ]
    }
   ],
   "source": [
    "print('Pat -> średnia =', data[data['Archer'] == 'Pat'].Score.mean())\n",
    "print('Jack -> średnia =', data[data['Archer'] == 'Jack'].Score.mean())\n",
    "print('Alex -> średnia =',data[data['Archer'] == 'Alex'].Score.mean())\n",
    "# różnice średnich = meandiff\n",
    "# Jack - Alex = -3,333\n",
    "# Pat - Alex = -3,4997\n",
    "# Pat - Jack = -0,1667"
   ]
  },
  {
   "cell_type": "code",
   "execution_count": 25,
   "metadata": {},
   "outputs": [
    {
     "data": {
      "image/png": "[encoded data removed]",
      "text/plain": [
       "<Figure size 432x288 with 1 Axes>"
      ]
     },
     "metadata": {
      "needs_background": "light"
     },
     "output_type": "display_data"
    }
   ],
   "source": [
    "pat = data[data['Archer'] == 'Pat'].Score\n",
    "jack = data[data['Archer'] == 'Jack'].Score\n",
    "alex = data[data['Archer'] == 'Alex'].Score\n",
    "plt.boxplot([pat, jack, alex])\n",
    "plt.show()"
   ]
  },
  {
   "cell_type": "code",
   "execution_count": null,
   "metadata": {},
   "outputs": [],
   "source": []
  }
 ],
 "metadata": {
  "kernelspec": {
   "display_name": "Python 3",
   "language": "python",
   "name": "python3"
  },
  "language_info": {
   "codemirror_mode": {
    "name": "ipython",
    "version": 3
   },
   "file_extension": ".py",
   "mimetype": "text/x-python",
   "name": "python",
   "nbconvert_exporter": "python",
   "pygments_lexer": "ipython3",
   "version": "3.7.0"
  }
 },
 "nbformat": 4,
 "nbformat_minor": 2
}
