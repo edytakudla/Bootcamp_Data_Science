{
 "cells": [
  {
   "cell_type": "code",
   "execution_count": 5,
   "metadata": {},
   "outputs": [],
   "source": [
    "import numpy as np\n",
    "import pandas as pd\n",
    "import matplotlib as mpl\n",
    "import matplotlib.pyplot as plt\n",
    "import statsmodels.formula.api as sm\n",
    "from sklearn import linear_model\n",
    "from scipy import stats\n",
    "\n",
    "\n",
    "from sklearn.preprocessing import PolynomialFeatures\n",
    "from sklearn.pipeline import make_pipeline"
   ]
  },
  {
   "cell_type": "markdown",
   "metadata": {},
   "source": [
    "# Generalized Linear Models w Sklearn"
   ]
  },
  {
   "cell_type": "code",
   "execution_count": 2,
   "metadata": {},
   "outputs": [],
   "source": [
    "data_str = '''Region Alcohol Tobacco\n",
    "North 6.47 4.03\n",
    "Yorkshire 6.13 3.76\n",
    "Northeast 6.19 3.77\n",
    "East_Midlands 4.89 3.34\n",
    "West_Midlands 5.63 3.47\n",
    "East_Anglia 4.52 2.92\n",
    "Southeast 5.89 3.20\n",
    "Southwest 4.79 2.71\n",
    "Wales 5.27 3.53\n",
    "Scotland 6.08 4.51\n",
    "Northern_Ireland 4.02 4.56'''"
   ]
  },
  {
   "cell_type": "markdown",
   "metadata": {},
   "source": [
    "Wczytajmy nasze dane"
   ]
  },
  {
   "cell_type": "code",
   "execution_count": 3,
   "metadata": {},
   "outputs": [
    {
     "data": {
      "text/html": [
       "<div>\n",
       "<style scoped>\n",
       "    .dataframe tbody tr th:only-of-type {\n",
       "        vertical-align: middle;\n",
       "    }\n",
       "\n",
       "    .dataframe tbody tr th {\n",
       "        vertical-align: top;\n",
       "    }\n",
       "\n",
       "    .dataframe thead th {\n",
       "        text-align: right;\n",
       "    }\n",
       "</style>\n",
       "<table border=\"1\" class=\"dataframe\">\n",
       "  <thead>\n",
       "    <tr style=\"text-align: right;\">\n",
       "      <th></th>\n",
       "      <th>Region</th>\n",
       "      <th>Alcohol</th>\n",
       "      <th>Tobacco</th>\n",
       "    </tr>\n",
       "  </thead>\n",
       "  <tbody>\n",
       "    <tr>\n",
       "      <th>0</th>\n",
       "      <td>North</td>\n",
       "      <td>6.47</td>\n",
       "      <td>4.03</td>\n",
       "    </tr>\n",
       "    <tr>\n",
       "      <th>1</th>\n",
       "      <td>Yorkshire</td>\n",
       "      <td>6.13</td>\n",
       "      <td>3.76</td>\n",
       "    </tr>\n",
       "    <tr>\n",
       "      <th>2</th>\n",
       "      <td>Northeast</td>\n",
       "      <td>6.19</td>\n",
       "      <td>3.77</td>\n",
       "    </tr>\n",
       "    <tr>\n",
       "      <th>3</th>\n",
       "      <td>East_Midlands</td>\n",
       "      <td>4.89</td>\n",
       "      <td>3.34</td>\n",
       "    </tr>\n",
       "    <tr>\n",
       "      <th>4</th>\n",
       "      <td>West_Midlands</td>\n",
       "      <td>5.63</td>\n",
       "      <td>3.47</td>\n",
       "    </tr>\n",
       "  </tbody>\n",
       "</table>\n",
       "</div>"
      ],
      "text/plain": [
       "          Region  Alcohol  Tobacco\n",
       "0          North     6.47     4.03\n",
       "1      Yorkshire     6.13     3.76\n",
       "2      Northeast     6.19     3.77\n",
       "3  East_Midlands     4.89     3.34\n",
       "4  West_Midlands     5.63     3.47"
      ]
     },
     "execution_count": 3,
     "metadata": {},
     "output_type": "execute_result"
    }
   ],
   "source": [
    "# Read in the data. Note that for Python 2.x,\n",
    "# you have to change the \"import\" statement\n",
    "from io import StringIO\n",
    "df = pd.read_csv(StringIO(data_str), sep=r'\\s+')\n",
    "data = np.matrix( df )\n",
    "df.head()"
   ]
  },
  {
   "cell_type": "code",
   "execution_count": 7,
   "metadata": {},
   "outputs": [
    {
     "data": {
      "text/plain": [
       "matrix([['North', 6.47, 4.03],\n",
       "        ['Yorkshire', 6.13, 3.76],\n",
       "        ['Northeast', 6.19, 3.77],\n",
       "        ['East_Midlands', 4.89, 3.34],\n",
       "        ['West_Midlands', 5.63, 3.47],\n",
       "        ['East_Anglia', 4.52, 2.92],\n",
       "        ['Southeast', 5.89, 3.2],\n",
       "        ['Southwest', 4.79, 2.71],\n",
       "        ['Wales', 5.27, 3.53],\n",
       "        ['Scotland', 6.08, 4.51],\n",
       "        ['Northern_Ireland', 4.02, 4.56]], dtype=object)"
      ]
     },
     "execution_count": 7,
     "metadata": {},
     "output_type": "execute_result"
    }
   ],
   "source": [
    "data"
   ]
  },
  {
   "cell_type": "code",
   "execution_count": 8,
   "metadata": {},
   "outputs": [
    {
     "data": {
      "text/plain": [
       "matrix([[6.47],\n",
       "        [6.13],\n",
       "        [6.19],\n",
       "        [4.89],\n",
       "        [5.63],\n",
       "        [4.52],\n",
       "        [5.89],\n",
       "        [4.79],\n",
       "        [5.27],\n",
       "        [6.08],\n",
       "        [4.02]], dtype=object)"
      ]
     },
     "execution_count": 8,
     "metadata": {},
     "output_type": "execute_result"
    }
   ],
   "source": [
    "data[:,1] # wszystkie wiersze, 1 kolumna"
   ]
  },
  {
   "cell_type": "code",
   "execution_count": 9,
   "metadata": {},
   "outputs": [
    {
     "data": {
      "text/plain": [
       "matrix([[4.03],\n",
       "        [3.76],\n",
       "        [3.77],\n",
       "        [3.34],\n",
       "        [3.47],\n",
       "        [2.92],\n",
       "        [3.2],\n",
       "        [2.71],\n",
       "        [3.53],\n",
       "        [4.51],\n",
       "        [4.56]], dtype=object)"
      ]
     },
     "execution_count": 9,
     "metadata": {},
     "output_type": "execute_result"
    }
   ],
   "source": [
    "data[:,2] # wszystkie wiersze, 2 kolumna"
   ]
  },
  {
   "cell_type": "markdown",
   "metadata": {},
   "source": [
    "# Zadanie\n",
    "Zdefiniujmy dwa modele liniowe na danych bez ostatniego elementu i danych pełnych.\n",
    "\n",
    "Porównaj wyniki za pomocą miary $R^2$."
   ]
  },
  {
   "cell_type": "code",
   "execution_count": 10,
   "metadata": {},
   "outputs": [
    {
     "data": {
      "text/plain": [
       "Pipeline(memory=None,\n",
       "     steps=[('polynomialfeatures', PolynomialFeatures(degree=5, include_bias=True, interaction_only=False)), ('linearregression', LinearRegression(copy_X=True, fit_intercept=True, n_jobs=1, normalize=False))])"
      ]
     },
     "execution_count": 10,
     "metadata": {},
     "output_type": "execute_result"
    }
   ],
   "source": [
    "model1 = make_pipeline(PolynomialFeatures(1), linear_model.LinearRegression())\n",
    "model1.fit(data[:,1],data[:,2])\n",
    "\n",
    "model2 = make_pipeline(PolynomialFeatures(2), linear_model.LinearRegression())\n",
    "model2.fit(data[:,1],data[:,2])\n",
    "\n",
    "model3 = make_pipeline(PolynomialFeatures(3), linear_model.LinearRegression())\n",
    "model3.fit(data[:,1],data[:,2])\n",
    "\n",
    "model4 = make_pipeline(PolynomialFeatures(4), linear_model.LinearRegression())\n",
    "model4.fit(data[:,1],data[:,2])\n",
    "\n",
    "model5 = make_pipeline(PolynomialFeatures(5), linear_model.LinearRegression())\n",
    "model5.fit(data[:,1],data[:,2])"
   ]
  },
  {
   "cell_type": "code",
   "execution_count": 16,
   "metadata": {},
   "outputs": [
    {
     "data": {
      "image/png": "[encoded data removed]",
      "text/plain": [
       "<Figure size 432x432 with 1 Axes>"
      ]
     },
     "metadata": {
      "needs_background": "light"
     },
     "output_type": "display_data"
    }
   ],
   "source": [
    "plt.figure(figsize=(6,6));\n",
    "axes = plt.gca()\n",
    "#axes.set_xlim([0,3])\n",
    "#axes.set_ylim([0,8])\n",
    "plt.scatter(df.iloc[:,1], df.iloc[:,2],  color='black')\n",
    "x_plot = np.vstack(np.linspace(3, 7, 100))\n",
    "plt.plot(x_plot, model1.predict(x_plot),linewidth=3, label='model 1')\n",
    "plt.plot(x_plot, model2.predict(x_plot),linewidth=3, label='model 2')\n",
    "plt.plot(x_plot, model3.predict(x_plot),linewidth=3, label='model 3')\n",
    "plt.plot(x_plot, model4.predict(x_plot),linewidth=3, label='model 4')\n",
    "plt.plot(x_plot, model5.predict(x_plot),linewidth=3, label='model 5')\n",
    "plt.legend()\n",
    "\n",
    "plt.axis(\"equal\")\n",
    "plt.xlim(3.7,6.5)\n",
    "plt.ylim(2.5,4.5)\n",
    "plt.show()"
   ]
  },
  {
   "cell_type": "code",
   "execution_count": 12,
   "metadata": {},
   "outputs": [
    {
     "name": "stdout",
     "output_type": "stream",
     "text": [
      "Mean squared error: 0.30135905214662245\n",
      "Mean squared error: 0.163007511825589\n",
      "Mean squared error: 0.10803229626408091\n",
      "Mean squared error: 0.09355676206736198\n",
      "Mean squared error: 0.07977578943998558\n"
     ]
    }
   ],
   "source": [
    "from sklearn import  metrics\n",
    "\n",
    "print(\"Mean squared error: {}\".format( metrics.mean_squared_error(data[:,2], model1.predict(data[:,1])) ))\n",
    "print(\"Mean squared error: {}\".format( metrics.mean_squared_error(data[:,2], model2.predict(data[:,1])) ))\n",
    "print(\"Mean squared error: {}\".format( metrics.mean_squared_error(data[:,2], model3.predict(data[:,1])) ))\n",
    "print(\"Mean squared error: {}\".format( metrics.mean_squared_error(data[:,2], model4.predict(data[:,1])) ))\n",
    "print(\"Mean squared error: {}\".format( metrics.mean_squared_error(data[:,2], model5.predict(data[:,1])) ))"
   ]
  },
  {
   "cell_type": "code",
   "execution_count": 13,
   "metadata": {},
   "outputs": [
    {
     "name": "stdout",
     "output_type": "stream",
     "text": [
      "R^2: 0.04998449027586893\n",
      "R^2: 0.4861290433031219\n",
      "R^2: 0.6594349621459032\n",
      "R^2: 0.7050681757509627\n",
      "R^2: 0.7485118275737108\n"
     ]
    }
   ],
   "source": [
    "print(\"R^2: {}\".format(metrics.r2_score(data[:,2], model1.predict(data[:,1]))))\n",
    "print(\"R^2: {}\".format(metrics.r2_score(data[:,2], model2.predict(data[:,1]))))\n",
    "print(\"R^2: {}\".format(metrics.r2_score(data[:,2], model3.predict(data[:,1]))))\n",
    "print(\"R^2: {}\".format(metrics.r2_score(data[:,2], model4.predict(data[:,1]))))\n",
    "print(\"R^2: {}\".format(metrics.r2_score(data[:,2], model5.predict(data[:,1]))))"
   ]
  },
  {
   "cell_type": "code",
   "execution_count": null,
   "metadata": {},
   "outputs": [],
   "source": []
  }
 ],
 "metadata": {
  "kernelspec": {
   "display_name": "Python 3",
   "language": "python",
   "name": "python3"
  },
  "language_info": {
   "codemirror_mode": {
    "name": "ipython",
    "version": 3
   },
   "file_extension": ".py",
   "mimetype": "text/x-python",
   "name": "python",
   "nbconvert_exporter": "python",
   "pygments_lexer": "ipython3",
   "version": "3.7.0"
  }
 },
 "nbformat": 4,
 "nbformat_minor": 2
}
