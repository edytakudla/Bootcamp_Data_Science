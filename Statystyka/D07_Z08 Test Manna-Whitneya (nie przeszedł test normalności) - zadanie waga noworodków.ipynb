{
 "cells": [
  {
   "cell_type": "markdown",
   "metadata": {},
   "source": [
    "# Zadanie\n",
    "Na podstawie danych poniżej przedstawiających wagę losowo wybranych noworodków stwierdzić, czy występuje istotna różnica między średnią wagą chłopców i dziewczynek, oraz czy zróżnicowanie wagi wśród chłopców i dziewczynek jest podobne, czy też różne.\n",
    "\n",
    "Chłopcy:\n",
    "\n",
    "3.19, 3.29, 3.31, 3.05, 4.15, 4.26, 3.36, 3.25, 3.18, 2.75, 2.78, 3.22, 3.36, 3.12\n",
    "\n",
    "Dziewczynki:\n",
    "\n",
    "3.34, 3.36, 3.22, 3.14, 3.65, 3.15, 3.28, 3.18, 3.35, 3.61, 3.05, 3.03, 3.01, 3.06, 2.9, 3.02"
   ]
  },
  {
   "cell_type": "code",
   "execution_count": 1,
   "metadata": {},
   "outputs": [],
   "source": [
    "import numpy as np\n",
    "import matplotlib.pyplot as plt\n",
    "import scipy.stats as stats\n",
    "import seaborn as sns\n",
    "import pandas as pd\n",
    "# additional packages\n",
    "from statsmodels.stats.diagnostic import lillifors"
   ]
  },
  {
   "cell_type": "code",
   "execution_count": 2,
   "metadata": {},
   "outputs": [],
   "source": [
    "data1=np.array([3.19, 3.29, 3.31, 3.05, 4.15, 4.26, 3.36, 3.25, 3.18, 2.75, 2.78, 3.22, 3.36, 3.12])\n",
    "data2=np.array([3.34, 3.36, 3.22, 3.14, 3.65, 3.15, 3.28, 3.18, 3.35, 3.61, 3.05, 3.03, 3.01, 3.06, 2.9, 3.02])"
   ]
  },
  {
   "cell_type": "markdown",
   "metadata": {
    "collapsed": true
   },
   "source": [
    "Sprawdź czy dane pochodzą z rozkładu normalnego:"
   ]
  },
  {
   "cell_type": "code",
   "execution_count": 3,
   "metadata": {},
   "outputs": [
    {
     "name": "stderr",
     "output_type": "stream",
     "text": [
      "C:\\Users\\Edyta\\Anaconda3\\lib\\site-packages\\scipy\\stats\\stats.py:1394: UserWarning: kurtosistest only valid for n>=20 ... continuing anyway, n=14\n",
      "  \"anyway, n=%i\" % int(n))\n"
     ]
    },
    {
     "data": {
      "text/plain": [
       "NormaltestResult(statistic=6.814581215442411, pvalue=0.03313084333319803)"
      ]
     },
     "execution_count": 3,
     "metadata": {},
     "output_type": "execute_result"
    }
   ],
   "source": [
    "stats.normaltest(data1)\n",
    "# dane nie pochodzą z rozkł. normalnego bo 0.033 < 0.05"
   ]
  },
  {
   "cell_type": "code",
   "execution_count": 4,
   "metadata": {},
   "outputs": [
    {
     "name": "stderr",
     "output_type": "stream",
     "text": [
      "C:\\Users\\Edyta\\Anaconda3\\lib\\site-packages\\scipy\\stats\\stats.py:1394: UserWarning: kurtosistest only valid for n>=20 ... continuing anyway, n=16\n",
      "  \"anyway, n=%i\" % int(n))\n"
     ]
    },
    {
     "data": {
      "text/plain": [
       "NormaltestResult(statistic=2.17868097207255, pvalue=0.3364383063153841)"
      ]
     },
     "execution_count": 4,
     "metadata": {},
     "output_type": "execute_result"
    }
   ],
   "source": [
    "stats.normaltest(data2)\n",
    "# dane nie pochodzą z rozkł. normalnego bo 0.033 < 0.05"
   ]
  },
  {
   "cell_type": "markdown",
   "metadata": {},
   "source": [
    "Wykonaj test Mann-Whitney\n",
    "```python\n",
    "stats.mannwhitneyu(data1, data2, alternative='two-sided')\n",
    "```\n",
    "lub\n",
    "```python\n",
    "u, p_value = stats.mannwhitneyu(data1, data2, use_continuity=True)\n",
    "p_value *= 2    # because the default was a one-sided p-value\n",
    "```"
   ]
  },
  {
   "cell_type": "code",
   "execution_count": 5,
   "metadata": {},
   "outputs": [
    {
     "data": {
      "text/plain": [
       "MannwhitneyuResult(statistic=128.5, pvalue=0.5056365668507761)"
      ]
     },
     "execution_count": 5,
     "metadata": {},
     "output_type": "execute_result"
    }
   ],
   "source": [
    "stats.mannwhitneyu(data1, data2, alternative='two-sided')"
   ]
  },
  {
   "cell_type": "code",
   "execution_count": 6,
   "metadata": {},
   "outputs": [],
   "source": [
    "u, p_value = stats.mannwhitneyu(data1, data2, use_continuity=True)\n",
    "p_value *= 2    # because the default was a one-sided p-value"
   ]
  },
  {
   "cell_type": "code",
   "execution_count": 7,
   "metadata": {},
   "outputs": [
    {
     "data": {
      "text/plain": [
       "0.5056365668507761"
      ]
     },
     "execution_count": 7,
     "metadata": {},
     "output_type": "execute_result"
    }
   ],
   "source": [
    "p_value\n",
    "# odp. nie wystąpuje "
   ]
  },
  {
   "cell_type": "code",
   "execution_count": 8,
   "metadata": {},
   "outputs": [
    {
     "data": {
      "text/plain": [
       "95.5"
      ]
     },
     "execution_count": 8,
     "metadata": {},
     "output_type": "execute_result"
    }
   ],
   "source": [
    "u"
   ]
  },
  {
   "cell_type": "code",
   "execution_count": null,
   "metadata": {},
   "outputs": [],
   "source": []
  }
 ],
 "metadata": {
  "kernelspec": {
   "display_name": "Python 3",
   "language": "python",
   "name": "python3"
  },
  "language_info": {
   "codemirror_mode": {
    "name": "ipython",
    "version": 3
   },
   "file_extension": ".py",
   "mimetype": "text/x-python",
   "name": "python",
   "nbconvert_exporter": "python",
   "pygments_lexer": "ipython3",
   "version": "3.7.0"
  }
 },
 "nbformat": 4,
 "nbformat_minor": 2
}
