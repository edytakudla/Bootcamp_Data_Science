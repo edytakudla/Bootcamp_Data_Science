{
 "cells": [
  {
   "cell_type": "markdown",
   "metadata": {},
   "source": [
    "# Zadanie\n",
    "Badania nad efektami nowego leku na serce doprowadziły do uzyskania następujących danych:\n",
    "\n",
    "<table>\n",
    "  <tr>\n",
    "    <th></th>\n",
    "    <td>increased</td> \n",
    "    <td>NOT-increased</td>\n",
    "    <td>Total</td>\n",
    "  </tr>\n",
    "  <tr>\n",
    "    <td>Treated</td>\n",
    "    <td>36</td>\n",
    "    <td>14</td>\n",
    "    <td>50</td>\n",
    "  </tr>\n",
    "  <tr>\n",
    "    <td>Not treated</td>\n",
    "    <td>30</td>\n",
    "    <td>25</td>\n",
    "    <td>55</td>\n",
    "  </tr>\n",
    "  <tr>\n",
    "    <td>Total</td>\n",
    "    <td>66</td>\n",
    "    <td>39</td>\n",
    "    <td>105</td>\n",
    "  </tr>\n",
    "</table>  \n",
    "\n",
    "\n",
    "- Czy lek ma wpływ na chorobę?\n",
    "- Co by się stało gdyby dla jednej osoby zmienił się wynik?\n",
    "\n",
    "<table>\n",
    "  <tr>\n",
    "    <th></th>\n",
    "    <td>increased</td> \n",
    "    <td>NOT-increased</td>\n",
    "    <td>Total</td>\n",
    "  </tr>\n",
    "  <tr>\n",
    "    <td>Treated</td>\n",
    "    <td>36</td>\n",
    "    <td>14</td>\n",
    "    <td>50</td>\n",
    "  </tr>\n",
    "  <tr>\n",
    "    <td>Not treated</td>\n",
    "    <td>29</td>\n",
    "    <td>26</td>\n",
    "    <td>55</td>\n",
    "  </tr>\n",
    "  <tr>\n",
    "    <td>Total</td>\n",
    "    <td>65</td>\n",
    "    <td>40</td>\n",
    "    <td>105</td>\n",
    "  </tr>\n",
    "</table>  \n"
   ]
  },
  {
   "cell_type": "markdown",
   "metadata": {},
   "source": [
    "## Wykonujemy test"
   ]
  },
  {
   "cell_type": "code",
   "execution_count": 1,
   "metadata": {},
   "outputs": [
    {
     "name": "stdout",
     "output_type": "stream",
     "text": [
      "p = 0.023\n",
      "There was a significant change in the disease by the treatment.\n"
     ]
    }
   ],
   "source": [
    "# Można test McNemara lub chi kwadrat lub niezależności\n",
    "import numpy as np\n",
    "import pandas as pd\n",
    "from scipy import stats\n",
    "from statsmodels.sandbox.stats.runs import mcnemar\n",
    "\n",
    "f_obs = np.array([[36,14],[30,25]])\n",
    "(statistic, pVal) = mcnemar(f_obs)\n",
    "print('p = {0:5.3f}'.format(pVal))\n",
    "if pVal < 0.05:\n",
    "    print(\"There was a significant change in the disease by the treatment.\")  \n"
   ]
  },
  {
   "cell_type": "code",
   "execution_count": 2,
   "metadata": {},
   "outputs": [
    {
     "name": "stdout",
     "output_type": "stream",
     "text": [
      "p = 0.032\n",
      "There was a significant change in the disease by the treatment.\n"
     ]
    }
   ],
   "source": [
    "f_obs = np.array([[36,14],[29,26]])\n",
    "(statistic, pVal) = mcnemar(f_obs)\n",
    "print('p = {0:5.3f}'.format(pVal))\n",
    "if pVal < 0.05:\n",
    "    print(\"There was a significant change in the disease by the treatment.\")  \n"
   ]
  },
  {
   "cell_type": "code",
   "execution_count": 3,
   "metadata": {},
   "outputs": [],
   "source": [
    "# w obu przypadkach odrzucamy hipotezę H0( tzn że lek nie ma wpływu), zatem odp. lek ma wpływ na chorobę"
   ]
  },
  {
   "cell_type": "code",
   "execution_count": 5,
   "metadata": {},
   "outputs": [
    {
     "name": "stdout",
     "output_type": "stream",
     "text": [
      "0.09966209595851808\n",
      "--- Contingency Test ---\n",
      "p=0.0997: the drug does NOT affect the heart rate.\n",
      "0.04419997819371917\n",
      "If the response in 1 non-treated person were different, \n",
      " we would get p=0.0442 with Yates correction, and p=0.0269 without.\n"
     ]
    }
   ],
   "source": [
    "# rozwiązanie Przemka - inne obserwacje:\n",
    "    \n",
    "obs = [[36,14], [30,25]]\n",
    "chi2, p, dof, expected = stats.chi2_contingency(obs)\n",
    "print(p)\n",
    "print('--- Contingency Test ---')\n",
    "if p < 0.05:\n",
    "    print('p={0:6.4f}: the drug affects the heart rate.'.format(p))\n",
    "else:\n",
    "    print('p={0:6.4f}: the drug does NOT affect the heart rate.'.format(p))\n",
    "    \n",
    "obs2 = [[36,14], [28,27]]\n",
    "chi2, p, dof, expected = stats.chi2_contingency(obs2)\n",
    "print(p)\n",
    "\n",
    "\n",
    "chi2, p2, dof, expected = stats.chi2_contingency(obs2, correction=False)\n",
    "print('If the response in 1 non-treated person were different, \\n we would get p={0:6.4f} with Yates correction, and p={1:6.4f} without.'.format(p, p2))    "
   ]
  },
  {
   "cell_type": "code",
   "execution_count": null,
   "metadata": {},
   "outputs": [],
   "source": []
  }
 ],
 "metadata": {
  "kernelspec": {
   "display_name": "Python 3",
   "language": "python",
   "name": "python3"
  },
  "language_info": {
   "codemirror_mode": {
    "name": "ipython",
    "version": 3
   },
   "file_extension": ".py",
   "mimetype": "text/x-python",
   "name": "python",
   "nbconvert_exporter": "python",
   "pygments_lexer": "ipython3",
   "version": "3.7.0"
  }
 },
 "nbformat": 4,
 "nbformat_minor": 2
}
