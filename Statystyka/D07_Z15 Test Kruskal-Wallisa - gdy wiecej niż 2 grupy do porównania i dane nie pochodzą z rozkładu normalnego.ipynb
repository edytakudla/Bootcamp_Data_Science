{
 "cells": [
  {
   "cell_type": "markdown",
   "metadata": {},
   "source": [
    "# Kruskal–Wallis Test\n",
    "\n",
    "W przypadku trzech lub więcej grup testem dla danych z rozkładu normalnego jest analiza wariancji (ANOVA), w odwrotnym przypadku używamy testu Kruskala-Wallisa. "
   ]
  },
  {
   "cell_type": "code",
   "execution_count": 3,
   "metadata": {},
   "outputs": [
    {
     "name": "stdout",
     "output_type": "stream",
     "text": [
      "There is a significant difference between the cities.\n"
     ]
    }
   ],
   "source": [
    "# Import standard packages\n",
    "import numpy as np\n",
    "# additional packages\n",
    "from scipy.stats.mstats import kruskalwallis\n",
    "# Get the data\n",
    "city1 = np.array([68, 93, 123, 83, 108, 122])\n",
    "city2 = np.array([119, 116, 101, 103, 113, 84])\n",
    "city3 = np.array([70, 68, 54, 73, 81, 68])\n",
    "city4 = np.array([61, 54, 59, 67, 59, 70])\n",
    "\n",
    "\n",
    "h, p = kruskalwallis(city1, city2, city3, city4)\n",
    "\n",
    "# Print the results\n",
    "if p<0.05:\n",
    "    print('There is a significant difference between the cities.')\n",
    "else:\n",
    "    print('No significant difference between the cities.')\n"
   ]
  },
  {
   "cell_type": "code",
   "execution_count": null,
   "metadata": {
    "collapsed": true
   },
   "outputs": [],
   "source": []
  }
 ],
 "metadata": {
  "kernelspec": {
   "display_name": "Python 3",
   "language": "python",
   "name": "python3"
  },
  "language_info": {
   "codemirror_mode": {
    "name": "ipython",
    "version": 3
   },
   "file_extension": ".py",
   "mimetype": "text/x-python",
   "name": "python",
   "nbconvert_exporter": "python",
   "pygments_lexer": "ipython3",
   "version": "3.7.0"
  }
 },
 "nbformat": 4,
 "nbformat_minor": 2
}
