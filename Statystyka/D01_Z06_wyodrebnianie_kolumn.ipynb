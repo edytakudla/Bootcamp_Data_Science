{
 "cells": [
  {
   "cell_type": "markdown",
   "metadata": {},
   "source": [
    "# Przykład 4\n",
    "W poniższym przykładzie wyodrębnimy wszystkie kolumny zaczynające się od <tt>Vel</tt>:"
   ]
  },
  {
   "cell_type": "code",
   "execution_count": 5,
   "metadata": {},
   "outputs": [],
   "source": [
    "import numpy as np\n",
    "import pandas as pd\n",
    "data = np.round(np.random.randn(100,7), 3)\n",
    "# round zaokrągla tablicę do podanej liczby miejsc po przecinku (tutaj 3)"
   ]
  },
  {
   "cell_type": "code",
   "execution_count": 6,
   "metadata": {},
   "outputs": [],
   "source": [
    "df = pd.DataFrame(data, columns=['Time','PosX', 'PosY', 'PosZ', 'VelX', 'VelY', 'VelZ'])"
   ]
  },
  {
   "cell_type": "code",
   "execution_count": 7,
   "metadata": {},
   "outputs": [
    {
     "data": {
      "text/html": [
       "<div>\n",
       "<style scoped>\n",
       "    .dataframe tbody tr th:only-of-type {\n",
       "        vertical-align: middle;\n",
       "    }\n",
       "\n",
       "    .dataframe tbody tr th {\n",
       "        vertical-align: top;\n",
       "    }\n",
       "\n",
       "    .dataframe thead th {\n",
       "        text-align: right;\n",
       "    }\n",
       "</style>\n",
       "<table border=\"1\" class=\"dataframe\">\n",
       "  <thead>\n",
       "    <tr style=\"text-align: right;\">\n",
       "      <th></th>\n",
       "      <th>Time</th>\n",
       "      <th>PosX</th>\n",
       "      <th>PosY</th>\n",
       "      <th>PosZ</th>\n",
       "      <th>VelX</th>\n",
       "      <th>VelY</th>\n",
       "      <th>VelZ</th>\n",
       "    </tr>\n",
       "  </thead>\n",
       "  <tbody>\n",
       "    <tr>\n",
       "      <th>0</th>\n",
       "      <td>0.058</td>\n",
       "      <td>-0.490</td>\n",
       "      <td>-0.011</td>\n",
       "      <td>-0.349</td>\n",
       "      <td>-0.321</td>\n",
       "      <td>-0.742</td>\n",
       "      <td>0.019</td>\n",
       "    </tr>\n",
       "    <tr>\n",
       "      <th>1</th>\n",
       "      <td>-2.052</td>\n",
       "      <td>1.257</td>\n",
       "      <td>1.007</td>\n",
       "      <td>0.481</td>\n",
       "      <td>-0.382</td>\n",
       "      <td>0.121</td>\n",
       "      <td>0.388</td>\n",
       "    </tr>\n",
       "    <tr>\n",
       "      <th>2</th>\n",
       "      <td>2.137</td>\n",
       "      <td>-1.466</td>\n",
       "      <td>-1.353</td>\n",
       "      <td>-1.406</td>\n",
       "      <td>-0.085</td>\n",
       "      <td>0.492</td>\n",
       "      <td>-0.068</td>\n",
       "    </tr>\n",
       "    <tr>\n",
       "      <th>3</th>\n",
       "      <td>-1.458</td>\n",
       "      <td>-1.279</td>\n",
       "      <td>0.458</td>\n",
       "      <td>1.654</td>\n",
       "      <td>0.158</td>\n",
       "      <td>-0.192</td>\n",
       "      <td>-0.108</td>\n",
       "    </tr>\n",
       "    <tr>\n",
       "      <th>4</th>\n",
       "      <td>0.295</td>\n",
       "      <td>-0.896</td>\n",
       "      <td>-0.122</td>\n",
       "      <td>-0.094</td>\n",
       "      <td>-0.029</td>\n",
       "      <td>0.796</td>\n",
       "      <td>-3.059</td>\n",
       "    </tr>\n",
       "  </tbody>\n",
       "</table>\n",
       "</div>"
      ],
      "text/plain": [
       "    Time   PosX   PosY   PosZ   VelX   VelY   VelZ\n",
       "0  0.058 -0.490 -0.011 -0.349 -0.321 -0.742  0.019\n",
       "1 -2.052  1.257  1.007  0.481 -0.382  0.121  0.388\n",
       "2  2.137 -1.466 -1.353 -1.406 -0.085  0.492 -0.068\n",
       "3 -1.458 -1.279  0.458  1.654  0.158 -0.192 -0.108\n",
       "4  0.295 -0.896 -0.122 -0.094 -0.029  0.796 -3.059"
      ]
     },
     "execution_count": 7,
     "metadata": {},
     "output_type": "execute_result"
    }
   ],
   "source": [
    "df.head()"
   ]
  },
  {
   "cell_type": "code",
   "execution_count": 8,
   "metadata": {},
   "outputs": [],
   "source": [
    "vel = df.filter(regex='Vel*')"
   ]
  },
  {
   "cell_type": "code",
   "execution_count": 9,
   "metadata": {},
   "outputs": [
    {
     "data": {
      "text/html": [
       "<div>\n",
       "<style scoped>\n",
       "    .dataframe tbody tr th:only-of-type {\n",
       "        vertical-align: middle;\n",
       "    }\n",
       "\n",
       "    .dataframe tbody tr th {\n",
       "        vertical-align: top;\n",
       "    }\n",
       "\n",
       "    .dataframe thead th {\n",
       "        text-align: right;\n",
       "    }\n",
       "</style>\n",
       "<table border=\"1\" class=\"dataframe\">\n",
       "  <thead>\n",
       "    <tr style=\"text-align: right;\">\n",
       "      <th></th>\n",
       "      <th>VelX</th>\n",
       "      <th>VelY</th>\n",
       "      <th>VelZ</th>\n",
       "    </tr>\n",
       "  </thead>\n",
       "  <tbody>\n",
       "    <tr>\n",
       "      <th>0</th>\n",
       "      <td>-0.321</td>\n",
       "      <td>-0.742</td>\n",
       "      <td>0.019</td>\n",
       "    </tr>\n",
       "    <tr>\n",
       "      <th>1</th>\n",
       "      <td>-0.382</td>\n",
       "      <td>0.121</td>\n",
       "      <td>0.388</td>\n",
       "    </tr>\n",
       "    <tr>\n",
       "      <th>2</th>\n",
       "      <td>-0.085</td>\n",
       "      <td>0.492</td>\n",
       "      <td>-0.068</td>\n",
       "    </tr>\n",
       "    <tr>\n",
       "      <th>3</th>\n",
       "      <td>0.158</td>\n",
       "      <td>-0.192</td>\n",
       "      <td>-0.108</td>\n",
       "    </tr>\n",
       "    <tr>\n",
       "      <th>4</th>\n",
       "      <td>-0.029</td>\n",
       "      <td>0.796</td>\n",
       "      <td>-3.059</td>\n",
       "    </tr>\n",
       "  </tbody>\n",
       "</table>\n",
       "</div>"
      ],
      "text/plain": [
       "    VelX   VelY   VelZ\n",
       "0 -0.321 -0.742  0.019\n",
       "1 -0.382  0.121  0.388\n",
       "2 -0.085  0.492 -0.068\n",
       "3  0.158 -0.192 -0.108\n",
       "4 -0.029  0.796 -3.059"
      ]
     },
     "execution_count": 9,
     "metadata": {},
     "output_type": "execute_result"
    }
   ],
   "source": [
    "vel.head()"
   ]
  },
  {
   "cell_type": "code",
   "execution_count": null,
   "metadata": {
    "collapsed": true
   },
   "outputs": [],
   "source": []
  }
 ],
 "metadata": {
  "kernelspec": {
   "display_name": "Python 3",
   "language": "python",
   "name": "python3"
  },
  "language_info": {
   "codemirror_mode": {
    "name": "ipython",
    "version": 3
   },
   "file_extension": ".py",
   "mimetype": "text/x-python",
   "name": "python",
   "nbconvert_exporter": "python",
   "pygments_lexer": "ipython3",
   "version": "3.7.0"
  }
 },
 "nbformat": 4,
 "nbformat_minor": 1
}
