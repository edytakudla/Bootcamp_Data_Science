{
 "cells": [
  {
   "cell_type": "markdown",
   "metadata": {},
   "source": [
    "# Cross validation\n"
   ]
  },
  {
   "cell_type": "code",
   "execution_count": 1,
   "metadata": {},
   "outputs": [],
   "source": [
    "import numpy as np\n",
    "import pandas as pd\n",
    "import scipy.stats as stats\n",
    "import sklearn.linear_model as lm\n",
    "from sklearn import datasets, linear_model\n",
    "import matplotlib.pyplot as plt\n",
    "\n",
    "from sklearn.preprocessing import PolynomialFeatures\n",
    "from sklearn.pipeline import make_pipeline\n",
    "\n",
    "from sklearn import  metrics"
   ]
  },
  {
   "cell_type": "markdown",
   "metadata": {},
   "source": [
    "Rozważmy następujący zbiór punktów:"
   ]
  },
  {
   "cell_type": "code",
   "execution_count": 2,
   "metadata": {},
   "outputs": [
    {
     "data": {
      "image/png": "[encoded data removed]",
      "text/plain": [
       "<Figure size 432x288 with 1 Axes>"
      ]
     },
     "metadata": {
      "needs_background": "light"
     },
     "output_type": "display_data"
    }
   ],
   "source": [
    "x = stats.uniform(0,3).rvs(100)\n",
    "f = lambda x: ((x*2-1)*(x**2-2)*(x-2)+3)\n",
    "y = f(x) + stats.norm(0,0.3).rvs(len(x))\n",
    "plt.plot(x, y, 'ok', ms=10);\n",
    "plt.show()"
   ]
  },
  {
   "cell_type": "markdown",
   "metadata": {},
   "source": [
    "# Zadanie\n",
    "Podziel zbiór danych na część testową i treningową. \n",
    "Naucz model na części treningowej i ocen wyniki na części testowej."
   ]
  },
  {
   "cell_type": "code",
   "execution_count": 4,
   "metadata": {},
   "outputs": [
    {
     "name": "stdout",
     "output_type": "stream",
     "text": [
      "(60,) (60,)\n",
      "(40,) (40,)\n"
     ]
    }
   ],
   "source": [
    "from sklearn.model_selection import train_test_split\n",
    "X_train, X_test, y_train, y_test = train_test_split(x, y, test_size=0.4, random_state=0)   # 60% do treningu, 40% do testu\n",
    "\n",
    "print(X_train.shape, y_train.shape)\n",
    "print(X_test.shape, y_test.shape)"
   ]
  },
  {
   "cell_type": "code",
   "execution_count": 5,
   "metadata": {},
   "outputs": [],
   "source": [
    "X_train=np.vstack(X_train)\n",
    "X_test=np.vstack(X_test)"
   ]
  },
  {
   "cell_type": "code",
   "execution_count": 6,
   "metadata": {},
   "outputs": [
    {
     "data": {
      "text/plain": [
       "array([ 0.82245603,  1.07251399, 18.51996233,  0.27706879, 12.75791091,\n",
       "        1.72829641,  1.73606432,  1.16478574,  3.63931498,  1.30148   ,\n",
       "       19.07261756,  3.42879478, 21.13185364,  7.07502871,  1.06525796,\n",
       "        1.50533877,  3.66219052,  0.90640568, 13.38736907,  6.09016315,\n",
       "        0.63662785,  0.36388151,  0.53375098, 15.92528559,  1.27749844,\n",
       "        4.50722317,  3.08170432,  1.61550447,  9.82562893,  5.56248451,\n",
       "        3.95736535,  2.85817067,  0.30967532,  0.42244783,  2.42380388,\n",
       "        0.54190959,  0.91533513,  1.18703427,  0.43793783,  4.35200016])"
      ]
     },
     "execution_count": 6,
     "metadata": {},
     "output_type": "execute_result"
    }
   ],
   "source": [
    "model2 = make_pipeline(PolynomialFeatures(2), linear_model.LinearRegression())   # wielomian st 2 -> funk. kwadratowa\n",
    "model2.fit(X_train, y_train)   # trenuj na danych treningowych\n",
    "model2.predict(X_test)         # sprawdź na danych testowych"
   ]
  },
  {
   "cell_type": "code",
   "execution_count": 11,
   "metadata": {},
   "outputs": [
    {
     "name": "stdout",
     "output_type": "stream",
     "text": [
      "R^2: 0.7049742128082128\n",
      "Explained variance score: 0.7058052260893091\n",
      "Explained variance score: 0.7058052260893091\n",
      "Median absolute error: 2.7484798623585904\n",
      "Mean squared error: 9.069940300516404\n",
      "Mean absolute errors: 2.651130056196414\n"
     ]
    }
   ],
   "source": [
    "print(\"R^2: {}\".format(metrics.r2_score(y_test, model2.predict(X_test)) ))\n",
    "print(\"Explained variance score: {}\".format( metrics.explained_variance_score(y_test, model2.predict(X_test)) ))\n",
    "print(\"Explained variance score: {}\".format( metrics.explained_variance_score(y_test, model2.predict(X_test)) ))\n",
    "print(\"Median absolute error: {}\".format( metrics.median_absolute_error(y_test, model2.predict(X_test)) ))\n",
    "print(\"Mean squared error: {}\".format( metrics.mean_squared_error(y_test, model2.predict(X_test)) ))\n",
    "print(\"Mean absolute errors: {}\".format(metrics.mean_absolute_error(y_test, model2.predict(X_test)) ))"
   ]
  },
  {
   "cell_type": "markdown",
   "metadata": {},
   "source": [
    "# Zadanie\n",
    "Wylicz powyższe miary dla wszytkich modeli:\n",
    "\n",
    "- regresji linowej\n",
    "- regresji wielomianowej stopnia 2\n",
    "- regresji wielomianowej stopnia 3\n",
    "- regresji wielomianowej stopnia 4\n",
    "- regresji wielomianowej stopnia 5\n",
    "- regresji wielomianowej stopnia 25"
   ]
  },
  {
   "cell_type": "code",
   "execution_count": 8,
   "metadata": {},
   "outputs": [
    {
     "data": {
      "text/plain": [
       "array([ 3.84041097,  2.74341132, 19.28293287,  4.15303098,  8.17690354,\n",
       "        1.78060696,  1.76971146,  3.58103938, -0.56890323,  2.39716942,\n",
       "       20.62572573,  2.42467307, 26.04008106,  2.74038231,  3.65483527,\n",
       "        3.34136389, -0.59301719,  3.77551509,  9.12574837,  2.39861519,\n",
       "        3.98499651,  4.1790391 ,  3.61721825, 13.61799634,  3.49941824,\n",
       "        2.24359178,  2.53355252,  1.94009663,  4.65264767,  2.29227219,\n",
       "       -0.89555685,  0.31168319,  4.04935565,  4.14327316,  0.84905459,\n",
       "        3.60300328,  2.98830556,  2.56877705,  4.13282795,  2.25513957])"
      ]
     },
     "execution_count": 8,
     "metadata": {},
     "output_type": "execute_result"
    }
   ],
   "source": [
    "# wielonian st.5\n",
    "\n",
    "model5 = make_pipeline(PolynomialFeatures(5), linear_model.LinearRegression())   # wielomian st 2 -> funk. kwadratowa\n",
    "model5.fit(X_train, y_train)   # trenuj na danych treningowych\n",
    "model5.predict(X_test)         # sprawdź na danych testowych"
   ]
  },
  {
   "cell_type": "code",
   "execution_count": 10,
   "metadata": {},
   "outputs": [
    {
     "name": "stdout",
     "output_type": "stream",
     "text": [
      "R^2: 0.9981570430011939\n",
      "Explained variance score: 0.9981579974774196\n",
      "Explained variance score: 0.9981579974774196\n",
      "Median absolute error: 0.1546991532812303\n",
      "Mean squared error: 0.056657792915993224\n",
      "Mean absolute errors: 0.18750605481406687\n"
     ]
    }
   ],
   "source": [
    "print(\"R^2: {}\".format(metrics.r2_score(y_test, model5.predict(X_test)) ))\n",
    "print(\"Explained variance score: {}\".format( metrics.explained_variance_score(y_test, model5.predict(X_test)) ))\n",
    "print(\"Explained variance score: {}\".format( metrics.explained_variance_score(y_test, model5.predict(X_test)) ))\n",
    "print(\"Median absolute error: {}\".format( metrics.median_absolute_error(y_test, model5.predict(X_test)) ))\n",
    "print(\"Mean squared error: {}\".format( metrics.mean_squared_error(y_test, model5.predict(X_test)) ))\n",
    "print(\"Mean absolute errors: {}\".format(metrics.mean_absolute_error(y_test, model5.predict(X_test)) ))"
   ]
  },
  {
   "cell_type": "code",
   "execution_count": 12,
   "metadata": {},
   "outputs": [
    {
     "name": "stdout",
     "output_type": "stream",
     "text": [
      "LR\n",
      "R^2: 0.5219239350398337\n",
      "Explained variance score: 0.5219520066250175\n",
      "Median absolute error: 2.432137295095436\n",
      "Mean squared error: 14.697431738316931\n",
      "Mean absolute errors: 3.088098812239892\n",
      "PR2\n",
      "R^2: 0.7049742128082128\n",
      "Explained variance score: 0.7058052260893091\n",
      "Median absolute error: 2.7484798623585904\n",
      "Mean squared error: 9.069940300516404\n",
      "Mean absolute errors: 2.651130056196414\n",
      "PR3\n",
      "R^2: 0.9762824931482607\n",
      "Explained variance score: 0.9764836019934285\n",
      "Median absolute error: 0.6685204376240845\n",
      "Mean squared error: 0.7291443004693144\n",
      "Mean absolute errors: 0.7284174305167446\n",
      "PR4\n",
      "R^2: 0.9980162543531095\n",
      "Explained variance score: 0.9980168593242861\n",
      "Median absolute error: 0.1192403805243657\n",
      "Mean squared error: 0.060986040440626964\n",
      "Mean absolute errors: 0.18024414646988723\n",
      "PR5\n",
      "R^2: 0.9981570430011939\n",
      "Explained variance score: 0.9981579974774196\n",
      "Median absolute error: 0.1546991532812303\n",
      "Mean squared error: 0.056657792915993224\n",
      "Mean absolute errors: 0.18750605481406687\n",
      "PR6\n",
      "R^2: 0.9980824676202339\n",
      "Explained variance score: 0.9980827355181782\n",
      "Median absolute error: 0.14889716603716674\n",
      "Mean squared error: 0.05895045438004457\n",
      "Mean absolute errors: 0.18830254102122784\n",
      "PR25\n",
      "R^2: 0.9976806439186757\n",
      "Explained variance score: 0.9977157947260485\n",
      "Median absolute error: 0.14321046168577078\n",
      "Mean squared error: 0.07130366939611182\n",
      "Mean absolute errors: 0.21180381045572885\n"
     ]
    }
   ],
   "source": [
    "# wszystkie w pętli\n",
    "models = []\n",
    "models.append(('LR', linear_model.LinearRegression()))\n",
    "models.append(('PR2', make_pipeline(PolynomialFeatures(2), linear_model.LinearRegression()) ))\n",
    "models.append(('PR3', make_pipeline(PolynomialFeatures(3), linear_model.LinearRegression()) ))\n",
    "models.append(('PR4', make_pipeline(PolynomialFeatures(4), linear_model.LinearRegression()) ))\n",
    "models.append(('PR5', make_pipeline(PolynomialFeatures(5), linear_model.LinearRegression()) ))\n",
    "models.append(('PR6', make_pipeline(PolynomialFeatures(6), linear_model.LinearRegression()) ))\n",
    "models.append(('PR25', make_pipeline(PolynomialFeatures(25), linear_model.LinearRegression()) ))\n",
    "\n",
    "for name, model in models:\n",
    "    print(name)\n",
    "    model.fit(X_train, y_train)\n",
    "    print(\"R^2: {}\".format(metrics.r2_score(y_test, model.predict(X_test)) ))\n",
    "    print(\"Explained variance score: {}\".format( metrics.explained_variance_score(y_test, model.predict(X_test)) ))\n",
    "    print(\"Median absolute error: {}\".format( metrics.median_absolute_error(y_test, model.predict(X_test)) ))\n",
    "    print(\"Mean squared error: {}\".format( metrics.mean_squared_error(y_test, model.predict(X_test)) ))\n",
    "    print(\"Mean absolute errors: {}\".format(metrics.mean_absolute_error(y_test, model.predict(X_test)) ))"
   ]
  },
  {
   "cell_type": "code",
   "execution_count": null,
   "metadata": {},
   "outputs": [],
   "source": []
  }
 ],
 "metadata": {
  "kernelspec": {
   "display_name": "Python 3",
   "language": "python",
   "name": "python3"
  },
  "language_info": {
   "codemirror_mode": {
    "name": "ipython",
    "version": 3
   },
   "file_extension": ".py",
   "mimetype": "text/x-python",
   "name": "python",
   "nbconvert_exporter": "python",
   "pygments_lexer": "ipython3",
   "version": "3.7.0"
  }
 },
 "nbformat": 4,
 "nbformat_minor": 2
}
