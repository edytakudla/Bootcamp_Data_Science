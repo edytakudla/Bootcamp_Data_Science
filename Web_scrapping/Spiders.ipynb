{
 "cells": [
  {
   "cell_type": "markdown",
   "metadata": {},
   "source": [
    "# Spider\n",
    "\n",
    "---\n",
    "Spiders are the place where you define the custom behaviour for crawling and parsing pages for a particular site (or, in some cases, a group of sites).\n",
    "\n",
    "\n",
    "**Algorithm**\n",
    "1. Initial request\n",
    "2. Parse response\n",
    "3. Parse page content\n",
    "4. Save data to database or file\n",
    "\n",
    "\n",
    "**All spiders have to inferit from class scrapy.spiders.Spider **\n",
    "\n",
    "\n",
    "```python\n",
    "class scrapy.spiders.Spider \n",
    "\n",
    "# name - string which defines the name for this spider, must be unique for across whole application\n",
    "# start_urls -  list of URLs where the spider will begin to crawl from, when no particular URLs are specified.\n",
    "# settings - configuration for running this spider. \n",
    "\n",
    "# start_requests() - This method must return an iterable with the first Requests to crawl for this spider. It is safe to implement start_requests() as a generator.\n",
    "# parse(response) - This is the default callback used by Scrapy to process downloaded responses, when their requests don’t specify a callback.\n",
    "```"
   ]
  },
  {
   "cell_type": "code",
   "execution_count": null,
   "metadata": {},
   "outputs": [],
   "source": []
  }
 ],
 "metadata": {
  "kernelspec": {
   "display_name": "Python 3",
   "language": "python",
   "name": "python3"
  },
  "language_info": {
   "codemirror_mode": {
    "name": "ipython",
    "version": 3
   },
   "file_extension": ".py",
   "mimetype": "text/x-python",
   "name": "python",
   "nbconvert_exporter": "python",
   "pygments_lexer": "ipython3",
   "version": "3.7.1"
  }
 },
 "nbformat": 4,
 "nbformat_minor": 2
}
