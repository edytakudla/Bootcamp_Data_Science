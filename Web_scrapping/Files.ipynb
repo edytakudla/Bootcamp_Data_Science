{
 "cells": [
  {
   "cell_type": "markdown",
   "metadata": {},
   "source": [
    "## Files\n"
   ]
  },
  {
   "cell_type": "markdown",
   "metadata": {},
   "source": [
    "## Odczyt/Zapis\n",
    "1. Python\n",
    "2. Pandas\n",
    "3. Seaborn\n",
    "4. Scikit\n",
    "\n",
    "\n",
    "1. Z pliku\n",
    "    1. CSV\n",
    "    2. Txt\n",
    "    3. SQL\n",
    "    4. Xls/Xlsx\n",
    "    5. PDF\n",
    "    6. JSON\n",
    "    7. XML\n",
    "2. Z bazy danych (SQL)\n",
    "3. Ze schowka (clipboard)\n",
    "4. Z internetu\n",
    "    1. API\n",
    "    2. Webscraping\n"
   ]
  },
  {
   "cell_type": "code",
   "execution_count": null,
   "metadata": {},
   "outputs": [],
   "source": []
  }
 ],
 "metadata": {
  "kernelspec": {
   "display_name": "Python 3",
   "language": "python",
   "name": "python3"
  },
  "language_info": {
   "codemirror_mode": {
    "name": "ipython",
    "version": 3
   },
   "file_extension": ".py",
   "mimetype": "text/x-python",
   "name": "python",
   "nbconvert_exporter": "python",
   "pygments_lexer": "ipython3",
   "version": "3.7.1"
  }
 },
 "nbformat": 4,
 "nbformat_minor": 2
}
