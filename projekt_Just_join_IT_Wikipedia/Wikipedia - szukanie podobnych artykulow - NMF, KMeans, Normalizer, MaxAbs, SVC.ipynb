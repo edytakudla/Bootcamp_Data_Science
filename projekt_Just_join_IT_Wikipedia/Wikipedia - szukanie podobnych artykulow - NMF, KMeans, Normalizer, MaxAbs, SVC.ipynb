{
 "cells": [
  {
   "cell_type": "code",
   "execution_count": 1,
   "metadata": {},
   "outputs": [
    {
     "name": "stderr",
     "output_type": "stream",
     "text": [
      "/home/kodolamacz/anaconda3/lib/python3.7/importlib/_bootstrap.py:219: RuntimeWarning: numpy.ufunc size changed, may indicate binary incompatibility. Expected 216, got 192\n",
      "  return f(*args, **kwds)\n",
      "/home/kodolamacz/anaconda3/lib/python3.7/importlib/_bootstrap.py:219: RuntimeWarning: numpy.ufunc size changed, may indicate binary incompatibility. Expected 216, got 192\n",
      "  return f(*args, **kwds)\n",
      "/home/kodolamacz/anaconda3/lib/python3.7/importlib/_bootstrap.py:219: RuntimeWarning: numpy.ufunc size changed, may indicate binary incompatibility. Expected 216, got 192\n",
      "  return f(*args, **kwds)\n"
     ]
    }
   ],
   "source": [
    "import pandas as pd\n",
    "from sklearn.decomposition import TruncatedSVD, NMF\n",
    "from sklearn.cluster import KMeans\n",
    "from sklearn.pipeline import make_pipeline\n",
    "from sklearn.preprocessing import normalize, Normalizer, MaxAbsScaler\n",
    "from sklearn.svm import SVC\n",
    "from scipy.sparse import csr_matrix\n",
    "from sklearn.feature_extraction.text import TfidfVectorizer\n",
    "\n",
    "\n",
    "# zamiana tekstu na wektory, dla tfidf konieczne parametry\n",
    "# tfidf = TfidfVectorizer()\n",
    "# doc_results = tfidf.fit_transform(documents)"
   ]
  },
  {
   "cell_type": "code",
   "execution_count": 4,
   "metadata": {},
   "outputs": [
    {
     "data": {
      "text/plain": [
       "(60, 13125)"
      ]
     },
     "execution_count": 4,
     "metadata": {},
     "output_type": "execute_result"
    }
   ],
   "source": [
    "df = pd.read_csv(\"wikipedia-vectors.csv\", index_col=0)\n",
    "articles = csr_matrix(df.transpose())\n",
    "articles.shape"
   ]
  },
  {
   "cell_type": "code",
   "execution_count": 19,
   "metadata": {},
   "outputs": [],
   "source": [
    "svd = TruncatedSVD(n_components=50, random_state=42)\n",
    "kmeans = KMeans(n_clusters=6, random_state=42)\n",
    "pipeline = make_pipeline(svd, kmeans)"
   ]
  },
  {
   "cell_type": "code",
   "execution_count": 20,
   "metadata": {},
   "outputs": [
    {
     "data": {
      "text/plain": [
       "Pipeline(memory=None,\n",
       "     steps=[('truncatedsvd', TruncatedSVD(algorithm='randomized', n_components=50, n_iter=5,\n",
       "       random_state=42, tol=0.0)), ('kmeans', KMeans(algorithm='auto', copy_x=True, init='k-means++', max_iter=300,\n",
       "    n_clusters=6, n_init=10, n_jobs=1, precompute_distances='auto',\n",
       "    random_state=42, tol=0.0001, verbose=0))])"
      ]
     },
     "execution_count": 20,
     "metadata": {},
     "output_type": "execute_result"
    }
   ],
   "source": [
    "pipeline.fit(articles)"
   ]
  },
  {
   "cell_type": "code",
   "execution_count": 21,
   "metadata": {},
   "outputs": [
    {
     "data": {
      "text/plain": [
       "array([4, 4, 4, 4, 4, 4, 4, 4, 4, 4, 3, 3, 3, 3, 3, 3, 3, 3, 3, 3, 0, 0,\n",
       "       0, 0, 0, 0, 0, 0, 0, 0, 2, 2, 2, 2, 2, 2, 2, 2, 2, 2, 5, 5, 5, 5,\n",
       "       5, 5, 5, 3, 5, 5, 1, 1, 1, 1, 1, 1, 1, 1, 1, 1], dtype=int32)"
      ]
     },
     "execution_count": 21,
     "metadata": {},
     "output_type": "execute_result"
    }
   ],
   "source": [
    "labels = pipeline.predict(articles)\n",
    "labels\n",
    "# numerki oznaczają jakieś grupy słów, nie wiemy jakie"
   ]
  },
  {
   "cell_type": "code",
   "execution_count": 22,
   "metadata": {},
   "outputs": [
    {
     "data": {
      "text/plain": [
       "['HTTP 404',\n",
       " 'Alexa Internet',\n",
       " 'Internet Explorer',\n",
       " 'HTTP cookie',\n",
       " 'Google Search',\n",
       " 'Tumblr',\n",
       " 'Hypertext Transfer Protocol',\n",
       " 'Social search',\n",
       " 'Firefox',\n",
       " 'LinkedIn']"
      ]
     },
     "execution_count": 22,
     "metadata": {},
     "output_type": "execute_result"
    }
   ],
   "source": [
    "titles = list(df.columns)\n",
    "titles[0:10]"
   ]
  },
  {
   "cell_type": "code",
   "execution_count": 23,
   "metadata": {},
   "outputs": [
    {
     "data": {
      "text/html": [
       "<div>\n",
       "<style scoped>\n",
       "    .dataframe tbody tr th:only-of-type {\n",
       "        vertical-align: middle;\n",
       "    }\n",
       "\n",
       "    .dataframe tbody tr th {\n",
       "        vertical-align: top;\n",
       "    }\n",
       "\n",
       "    .dataframe thead th {\n",
       "        text-align: right;\n",
       "    }\n",
       "</style>\n",
       "<table border=\"1\" class=\"dataframe\">\n",
       "  <thead>\n",
       "    <tr style=\"text-align: right;\">\n",
       "      <th></th>\n",
       "      <th>label</th>\n",
       "      <th>article</th>\n",
       "    </tr>\n",
       "  </thead>\n",
       "  <tbody>\n",
       "    <tr>\n",
       "      <th>0</th>\n",
       "      <td>4</td>\n",
       "      <td>HTTP 404</td>\n",
       "    </tr>\n",
       "    <tr>\n",
       "      <th>1</th>\n",
       "      <td>4</td>\n",
       "      <td>Alexa Internet</td>\n",
       "    </tr>\n",
       "    <tr>\n",
       "      <th>2</th>\n",
       "      <td>4</td>\n",
       "      <td>Internet Explorer</td>\n",
       "    </tr>\n",
       "    <tr>\n",
       "      <th>3</th>\n",
       "      <td>4</td>\n",
       "      <td>HTTP cookie</td>\n",
       "    </tr>\n",
       "    <tr>\n",
       "      <th>4</th>\n",
       "      <td>4</td>\n",
       "      <td>Google Search</td>\n",
       "    </tr>\n",
       "  </tbody>\n",
       "</table>\n",
       "</div>"
      ],
      "text/plain": [
       "   label            article\n",
       "0      4           HTTP 404\n",
       "1      4     Alexa Internet\n",
       "2      4  Internet Explorer\n",
       "3      4        HTTP cookie\n",
       "4      4      Google Search"
      ]
     },
     "execution_count": 23,
     "metadata": {},
     "output_type": "execute_result"
    }
   ],
   "source": [
    "df_labels = pd.DataFrame({\"label\" : labels, \"article\" : titles})\n",
    "df_labels.head()"
   ]
  },
  {
   "cell_type": "code",
   "execution_count": 24,
   "metadata": {},
   "outputs": [
    {
     "data": {
      "text/html": [
       "<div>\n",
       "<style scoped>\n",
       "    .dataframe tbody tr th:only-of-type {\n",
       "        vertical-align: middle;\n",
       "    }\n",
       "\n",
       "    .dataframe tbody tr th {\n",
       "        vertical-align: top;\n",
       "    }\n",
       "\n",
       "    .dataframe thead th {\n",
       "        text-align: right;\n",
       "    }\n",
       "</style>\n",
       "<table border=\"1\" class=\"dataframe\">\n",
       "  <thead>\n",
       "    <tr style=\"text-align: right;\">\n",
       "      <th></th>\n",
       "      <th>label</th>\n",
       "      <th>article</th>\n",
       "    </tr>\n",
       "  </thead>\n",
       "  <tbody>\n",
       "    <tr>\n",
       "      <th>29</th>\n",
       "      <td>0</td>\n",
       "      <td>Jennifer Aniston</td>\n",
       "    </tr>\n",
       "    <tr>\n",
       "      <th>22</th>\n",
       "      <td>0</td>\n",
       "      <td>Denzel Washington</td>\n",
       "    </tr>\n",
       "    <tr>\n",
       "      <th>23</th>\n",
       "      <td>0</td>\n",
       "      <td>Catherine Zeta-Jones</td>\n",
       "    </tr>\n",
       "    <tr>\n",
       "      <th>24</th>\n",
       "      <td>0</td>\n",
       "      <td>Jessica Biel</td>\n",
       "    </tr>\n",
       "    <tr>\n",
       "      <th>25</th>\n",
       "      <td>0</td>\n",
       "      <td>Russell Crowe</td>\n",
       "    </tr>\n",
       "    <tr>\n",
       "      <th>26</th>\n",
       "      <td>0</td>\n",
       "      <td>Mila Kunis</td>\n",
       "    </tr>\n",
       "    <tr>\n",
       "      <th>27</th>\n",
       "      <td>0</td>\n",
       "      <td>Dakota Fanning</td>\n",
       "    </tr>\n",
       "    <tr>\n",
       "      <th>28</th>\n",
       "      <td>0</td>\n",
       "      <td>Anne Hathaway</td>\n",
       "    </tr>\n",
       "    <tr>\n",
       "      <th>21</th>\n",
       "      <td>0</td>\n",
       "      <td>Michael Fassbender</td>\n",
       "    </tr>\n",
       "    <tr>\n",
       "      <th>20</th>\n",
       "      <td>0</td>\n",
       "      <td>Angelina Jolie</td>\n",
       "    </tr>\n",
       "    <tr>\n",
       "      <th>51</th>\n",
       "      <td>1</td>\n",
       "      <td>Nate Ruess</td>\n",
       "    </tr>\n",
       "    <tr>\n",
       "      <th>52</th>\n",
       "      <td>1</td>\n",
       "      <td>The Wanted</td>\n",
       "    </tr>\n",
       "    <tr>\n",
       "      <th>53</th>\n",
       "      <td>1</td>\n",
       "      <td>Stevie Nicks</td>\n",
       "    </tr>\n",
       "    <tr>\n",
       "      <th>54</th>\n",
       "      <td>1</td>\n",
       "      <td>Arctic Monkeys</td>\n",
       "    </tr>\n",
       "    <tr>\n",
       "      <th>55</th>\n",
       "      <td>1</td>\n",
       "      <td>Black Sabbath</td>\n",
       "    </tr>\n",
       "    <tr>\n",
       "      <th>56</th>\n",
       "      <td>1</td>\n",
       "      <td>Skrillex</td>\n",
       "    </tr>\n",
       "    <tr>\n",
       "      <th>57</th>\n",
       "      <td>1</td>\n",
       "      <td>Red Hot Chili Peppers</td>\n",
       "    </tr>\n",
       "    <tr>\n",
       "      <th>50</th>\n",
       "      <td>1</td>\n",
       "      <td>Chad Kroeger</td>\n",
       "    </tr>\n",
       "    <tr>\n",
       "      <th>58</th>\n",
       "      <td>1</td>\n",
       "      <td>Sepsis</td>\n",
       "    </tr>\n",
       "    <tr>\n",
       "      <th>59</th>\n",
       "      <td>1</td>\n",
       "      <td>Adam Levine</td>\n",
       "    </tr>\n",
       "    <tr>\n",
       "      <th>39</th>\n",
       "      <td>2</td>\n",
       "      <td>Franck Ribéry</td>\n",
       "    </tr>\n",
       "    <tr>\n",
       "      <th>38</th>\n",
       "      <td>2</td>\n",
       "      <td>Neymar</td>\n",
       "    </tr>\n",
       "    <tr>\n",
       "      <th>37</th>\n",
       "      <td>2</td>\n",
       "      <td>Football</td>\n",
       "    </tr>\n",
       "    <tr>\n",
       "      <th>36</th>\n",
       "      <td>2</td>\n",
       "      <td>2014 FIFA World Cup qualification</td>\n",
       "    </tr>\n",
       "    <tr>\n",
       "      <th>35</th>\n",
       "      <td>2</td>\n",
       "      <td>Colombia national football team</td>\n",
       "    </tr>\n",
       "    <tr>\n",
       "      <th>34</th>\n",
       "      <td>2</td>\n",
       "      <td>Zlatan Ibrahimović</td>\n",
       "    </tr>\n",
       "    <tr>\n",
       "      <th>33</th>\n",
       "      <td>2</td>\n",
       "      <td>Radamel Falcao</td>\n",
       "    </tr>\n",
       "    <tr>\n",
       "      <th>32</th>\n",
       "      <td>2</td>\n",
       "      <td>Arsenal F.C.</td>\n",
       "    </tr>\n",
       "    <tr>\n",
       "      <th>30</th>\n",
       "      <td>2</td>\n",
       "      <td>France national football team</td>\n",
       "    </tr>\n",
       "    <tr>\n",
       "      <th>31</th>\n",
       "      <td>2</td>\n",
       "      <td>Cristiano Ronaldo</td>\n",
       "    </tr>\n",
       "    <tr>\n",
       "      <th>47</th>\n",
       "      <td>3</td>\n",
       "      <td>Fever</td>\n",
       "    </tr>\n",
       "    <tr>\n",
       "      <th>19</th>\n",
       "      <td>3</td>\n",
       "      <td>2007 United Nations Climate Change Conference</td>\n",
       "    </tr>\n",
       "    <tr>\n",
       "      <th>18</th>\n",
       "      <td>3</td>\n",
       "      <td>2010 United Nations Climate Change Conference</td>\n",
       "    </tr>\n",
       "    <tr>\n",
       "      <th>10</th>\n",
       "      <td>3</td>\n",
       "      <td>Global warming</td>\n",
       "    </tr>\n",
       "    <tr>\n",
       "      <th>11</th>\n",
       "      <td>3</td>\n",
       "      <td>Nationally Appropriate Mitigation Action</td>\n",
       "    </tr>\n",
       "    <tr>\n",
       "      <th>12</th>\n",
       "      <td>3</td>\n",
       "      <td>Nigel Lawson</td>\n",
       "    </tr>\n",
       "    <tr>\n",
       "      <th>13</th>\n",
       "      <td>3</td>\n",
       "      <td>Connie Hedegaard</td>\n",
       "    </tr>\n",
       "    <tr>\n",
       "      <th>14</th>\n",
       "      <td>3</td>\n",
       "      <td>Climate change</td>\n",
       "    </tr>\n",
       "    <tr>\n",
       "      <th>15</th>\n",
       "      <td>3</td>\n",
       "      <td>Kyoto Protocol</td>\n",
       "    </tr>\n",
       "    <tr>\n",
       "      <th>16</th>\n",
       "      <td>3</td>\n",
       "      <td>350.org</td>\n",
       "    </tr>\n",
       "    <tr>\n",
       "      <th>17</th>\n",
       "      <td>3</td>\n",
       "      <td>Greenhouse gas emissions by the United States</td>\n",
       "    </tr>\n",
       "    <tr>\n",
       "      <th>1</th>\n",
       "      <td>4</td>\n",
       "      <td>Alexa Internet</td>\n",
       "    </tr>\n",
       "    <tr>\n",
       "      <th>2</th>\n",
       "      <td>4</td>\n",
       "      <td>Internet Explorer</td>\n",
       "    </tr>\n",
       "    <tr>\n",
       "      <th>3</th>\n",
       "      <td>4</td>\n",
       "      <td>HTTP cookie</td>\n",
       "    </tr>\n",
       "    <tr>\n",
       "      <th>4</th>\n",
       "      <td>4</td>\n",
       "      <td>Google Search</td>\n",
       "    </tr>\n",
       "    <tr>\n",
       "      <th>5</th>\n",
       "      <td>4</td>\n",
       "      <td>Tumblr</td>\n",
       "    </tr>\n",
       "    <tr>\n",
       "      <th>6</th>\n",
       "      <td>4</td>\n",
       "      <td>Hypertext Transfer Protocol</td>\n",
       "    </tr>\n",
       "    <tr>\n",
       "      <th>7</th>\n",
       "      <td>4</td>\n",
       "      <td>Social search</td>\n",
       "    </tr>\n",
       "    <tr>\n",
       "      <th>8</th>\n",
       "      <td>4</td>\n",
       "      <td>Firefox</td>\n",
       "    </tr>\n",
       "    <tr>\n",
       "      <th>0</th>\n",
       "      <td>4</td>\n",
       "      <td>HTTP 404</td>\n",
       "    </tr>\n",
       "    <tr>\n",
       "      <th>9</th>\n",
       "      <td>4</td>\n",
       "      <td>LinkedIn</td>\n",
       "    </tr>\n",
       "    <tr>\n",
       "      <th>48</th>\n",
       "      <td>5</td>\n",
       "      <td>Gabapentin</td>\n",
       "    </tr>\n",
       "    <tr>\n",
       "      <th>45</th>\n",
       "      <td>5</td>\n",
       "      <td>Hepatitis C</td>\n",
       "    </tr>\n",
       "    <tr>\n",
       "      <th>44</th>\n",
       "      <td>5</td>\n",
       "      <td>Gout</td>\n",
       "    </tr>\n",
       "    <tr>\n",
       "      <th>43</th>\n",
       "      <td>5</td>\n",
       "      <td>Leukemia</td>\n",
       "    </tr>\n",
       "    <tr>\n",
       "      <th>42</th>\n",
       "      <td>5</td>\n",
       "      <td>Doxycycline</td>\n",
       "    </tr>\n",
       "    <tr>\n",
       "      <th>41</th>\n",
       "      <td>5</td>\n",
       "      <td>Hepatitis B</td>\n",
       "    </tr>\n",
       "    <tr>\n",
       "      <th>40</th>\n",
       "      <td>5</td>\n",
       "      <td>Tonsillitis</td>\n",
       "    </tr>\n",
       "    <tr>\n",
       "      <th>49</th>\n",
       "      <td>5</td>\n",
       "      <td>Lymphoma</td>\n",
       "    </tr>\n",
       "    <tr>\n",
       "      <th>46</th>\n",
       "      <td>5</td>\n",
       "      <td>Prednisone</td>\n",
       "    </tr>\n",
       "  </tbody>\n",
       "</table>\n",
       "</div>"
      ],
      "text/plain": [
       "    label                                        article\n",
       "29      0                               Jennifer Aniston\n",
       "22      0                              Denzel Washington\n",
       "23      0                           Catherine Zeta-Jones\n",
       "24      0                                   Jessica Biel\n",
       "25      0                                  Russell Crowe\n",
       "26      0                                     Mila Kunis\n",
       "27      0                                 Dakota Fanning\n",
       "28      0                                  Anne Hathaway\n",
       "21      0                             Michael Fassbender\n",
       "20      0                                 Angelina Jolie\n",
       "51      1                                     Nate Ruess\n",
       "52      1                                     The Wanted\n",
       "53      1                                   Stevie Nicks\n",
       "54      1                                 Arctic Monkeys\n",
       "55      1                                  Black Sabbath\n",
       "56      1                                       Skrillex\n",
       "57      1                          Red Hot Chili Peppers\n",
       "50      1                                   Chad Kroeger\n",
       "58      1                                         Sepsis\n",
       "59      1                                    Adam Levine\n",
       "39      2                                  Franck Ribéry\n",
       "38      2                                         Neymar\n",
       "37      2                                       Football\n",
       "36      2              2014 FIFA World Cup qualification\n",
       "35      2                Colombia national football team\n",
       "34      2                             Zlatan Ibrahimović\n",
       "33      2                                 Radamel Falcao\n",
       "32      2                                   Arsenal F.C.\n",
       "30      2                  France national football team\n",
       "31      2                              Cristiano Ronaldo\n",
       "47      3                                          Fever\n",
       "19      3  2007 United Nations Climate Change Conference\n",
       "18      3  2010 United Nations Climate Change Conference\n",
       "10      3                                 Global warming\n",
       "11      3       Nationally Appropriate Mitigation Action\n",
       "12      3                                   Nigel Lawson\n",
       "13      3                               Connie Hedegaard\n",
       "14      3                                 Climate change\n",
       "15      3                                 Kyoto Protocol\n",
       "16      3                                        350.org\n",
       "17      3  Greenhouse gas emissions by the United States\n",
       "1       4                                 Alexa Internet\n",
       "2       4                              Internet Explorer\n",
       "3       4                                    HTTP cookie\n",
       "4       4                                  Google Search\n",
       "5       4                                         Tumblr\n",
       "6       4                    Hypertext Transfer Protocol\n",
       "7       4                                  Social search\n",
       "8       4                                        Firefox\n",
       "0       4                                       HTTP 404\n",
       "9       4                                       LinkedIn\n",
       "48      5                                     Gabapentin\n",
       "45      5                                    Hepatitis C\n",
       "44      5                                           Gout\n",
       "43      5                                       Leukemia\n",
       "42      5                                    Doxycycline\n",
       "41      5                                    Hepatitis B\n",
       "40      5                                    Tonsillitis\n",
       "49      5                                       Lymphoma\n",
       "46      5                                     Prednisone"
      ]
     },
     "execution_count": 24,
     "metadata": {},
     "output_type": "execute_result"
    }
   ],
   "source": [
    "df_labels.sort_values(\"label\")\n",
    "# podzielilismy artykuły wg tutułów na 6 grup, tyle ile klastrów"
   ]
  },
  {
   "cell_type": "code",
   "execution_count": 26,
   "metadata": {},
   "outputs": [],
   "source": [
    "# instancjonujemy NMF\n",
    "model = NMF(n_components=6, random_state=42)"
   ]
  },
  {
   "cell_type": "code",
   "execution_count": 27,
   "metadata": {},
   "outputs": [
    {
     "data": {
      "text/plain": [
       "NMF(alpha=0.0, beta_loss='frobenius', init=None, l1_ratio=0.0, max_iter=200,\n",
       "  n_components=6, random_state=42, shuffle=False, solver='cd', tol=0.0001,\n",
       "  verbose=0)"
      ]
     },
     "execution_count": 27,
     "metadata": {},
     "output_type": "execute_result"
    }
   ],
   "source": [
    "model.fit(articles)"
   ]
  },
  {
   "cell_type": "code",
   "execution_count": 28,
   "metadata": {},
   "outputs": [],
   "source": [
    "nmf_features = model.transform(articles)"
   ]
  },
  {
   "cell_type": "code",
   "execution_count": 29,
   "metadata": {},
   "outputs": [],
   "source": [
    "df_nmf = pd.DataFrame(nmf_features, index=titles)"
   ]
  },
  {
   "cell_type": "code",
   "execution_count": 30,
   "metadata": {},
   "outputs": [],
   "source": [
    "# nastepnie normalizujemy features\n",
    "norm_features = normalize(nmf_features)"
   ]
  },
  {
   "cell_type": "code",
   "execution_count": 31,
   "metadata": {},
   "outputs": [],
   "source": [
    "df_nmf_norm = pd.DataFrame(norm_features, index=titles)"
   ]
  },
  {
   "cell_type": "code",
   "execution_count": 37,
   "metadata": {},
   "outputs": [],
   "source": [
    "article = df_nmf_norm.loc[\"Chad Kroeger\"]\n",
    "similitarities = df_nmf_norm.dot(article)"
   ]
  },
  {
   "cell_type": "code",
   "execution_count": 38,
   "metadata": {},
   "outputs": [
    {
     "data": {
      "text/plain": [
       "HTTP 404                                         0.000000\n",
       "Alexa Internet                                   0.000000\n",
       "Internet Explorer                                0.009583\n",
       "HTTP cookie                                      0.000000\n",
       "Google Search                                    0.000000\n",
       "Tumblr                                           0.038385\n",
       "Hypertext Transfer Protocol                      0.000000\n",
       "Social search                                    0.000000\n",
       "Firefox                                          0.031969\n",
       "LinkedIn                                         0.032093\n",
       "Global warming                                   0.000000\n",
       "Nationally Appropriate Mitigation Action         0.000000\n",
       "Nigel Lawson                                     0.037628\n",
       "Connie Hedegaard                                 0.011483\n",
       "Climate change                                   0.010621\n",
       "Kyoto Protocol                                   0.000000\n",
       "350.org                                          0.014923\n",
       "Greenhouse gas emissions by the United States    0.000000\n",
       "2010 United Nations Climate Change Conference    0.000000\n",
       "2007 United Nations Climate Change Conference    0.000000\n",
       "Angelina Jolie                                   0.000000\n",
       "Michael Fassbender                               0.000000\n",
       "Denzel Washington                                0.000000\n",
       "Catherine Zeta-Jones                             0.000000\n",
       "Jessica Biel                                     0.000000\n",
       "Russell Crowe                                    0.245307\n",
       "Mila Kunis                                       0.000000\n",
       "Dakota Fanning                                   0.028014\n",
       "Anne Hathaway                                    0.006680\n",
       "Jennifer Aniston                                 0.004264\n",
       "France national football team                    0.000000\n",
       "Cristiano Ronaldo                                0.002522\n",
       "Arsenal F.C.                                     0.020269\n",
       "Radamel Falcao                                   0.000000\n",
       "Zlatan Ibrahimović                               0.000000\n",
       "Colombia national football team                  0.000000\n",
       "2014 FIFA World Cup qualification                0.019329\n",
       "Football                                         0.029512\n",
       "Neymar                                           0.017064\n",
       "Franck Ribéry                                    0.000000\n",
       "Tonsillitis                                      0.000000\n",
       "Hepatitis B                                      0.000000\n",
       "Doxycycline                                      0.000000\n",
       "Leukemia                                         0.000000\n",
       "Gout                                             0.004193\n",
       "Hepatitis C                                      0.000000\n",
       "Prednisone                                       0.000000\n",
       "Fever                                            0.000000\n",
       "Gabapentin                                       0.034258\n",
       "Lymphoma                                         0.000000\n",
       "Chad Kroeger                                     1.000000\n",
       "Nate Ruess                                       1.000000\n",
       "The Wanted                                       0.995148\n",
       "Stevie Nicks                                     0.994999\n",
       "Arctic Monkeys                                   1.000000\n",
       "Black Sabbath                                    1.000000\n",
       "Skrillex                                         0.979627\n",
       "Red Hot Chili Peppers                            0.999924\n",
       "Sepsis                                           0.840031\n",
       "Adam Levine                                      0.966484\n",
       "dtype: float64"
      ]
     },
     "execution_count": 38,
     "metadata": {},
     "output_type": "execute_result"
    }
   ],
   "source": [
    "similitarities"
   ]
  },
  {
   "cell_type": "code",
   "execution_count": 39,
   "metadata": {},
   "outputs": [
    {
     "data": {
      "text/plain": [
       "Chad Kroeger             1.000000\n",
       "Nate Ruess               1.000000\n",
       "Arctic Monkeys           1.000000\n",
       "Black Sabbath            1.000000\n",
       "Red Hot Chili Peppers    0.999924\n",
       "dtype: float64"
      ]
     },
     "execution_count": 39,
     "metadata": {},
     "output_type": "execute_result"
    }
   ],
   "source": [
    "similitarities.nlargest()"
   ]
  },
  {
   "cell_type": "code",
   "execution_count": 42,
   "metadata": {},
   "outputs": [
    {
     "data": {
      "text/plain": [
       "Tumblr               1.000000\n",
       "Firefox              0.997054\n",
       "Internet Explorer    0.993529\n",
       "HTTP 404             0.993207\n",
       "Alexa Internet       0.993207\n",
       "dtype: float64"
      ]
     },
     "execution_count": 42,
     "metadata": {},
     "output_type": "execute_result"
    }
   ],
   "source": [
    "article = df_nmf_norm.loc[\"Tumblr\"]\n",
    "similitarities = df_nmf_norm.dot(article)\n",
    "similitarities.nlargest()"
   ]
  },
  {
   "cell_type": "code",
   "execution_count": 50,
   "metadata": {},
   "outputs": [],
   "source": [
    "def similirities_finder():\n",
    "    while True:    \n",
    "        text = input(\"Podaj tytuł, a znajdę podobne: \")\n",
    "        try:\n",
    "            article = df_nmf_norm.loc[text]\n",
    "            similitarities = df_nmf_norm.dot(article)\n",
    "            print(similitarities.nlargest() )\n",
    "        except:\n",
    "            print(\"Nie znalezniono, spróbuj później\")\n",
    "\n",
    "        next = input(\"Czy chcesz następne? T/N \")\n",
    "        if next == 'N':\n",
    "            break"
   ]
  },
  {
   "cell_type": "code",
   "execution_count": 51,
   "metadata": {},
   "outputs": [
    {
     "name": "stdout",
     "output_type": "stream",
     "text": [
      "Podaj tytuł, a znajdę podobne: Angelina Jolie\n",
      "Angelina Jolie       1.000000\n",
      "Jennifer Aniston     0.995046\n",
      "Mila Kunis           0.992622\n",
      "Denzel Washington    0.992572\n",
      "Dakota Fanning       0.992571\n",
      "dtype: float64\n",
      "Czy chcesz następne? T/N T\n",
      "Podaj tytuł, a znajdę podobne: Jennifer Aniston\n",
      "Jennifer Aniston        1.000000\n",
      "Mila Kunis              0.999603\n",
      "Anne Hathaway           0.999334\n",
      "Michael Fassbender      0.999327\n",
      "Catherine Zeta-Jones    0.999327\n",
      "dtype: float64\n",
      "Czy chcesz następne? T/N T\n",
      "Podaj tytuł, a znajdę podobne: Ala ma kota\n",
      "Nie znalezniono, spróbuj później\n",
      "Czy chcesz następne? T/N N\n"
     ]
    }
   ],
   "source": [
    "similirities_finder()"
   ]
  },
  {
   "cell_type": "code",
   "execution_count": null,
   "metadata": {},
   "outputs": [],
   "source": []
  }
 ],
 "metadata": {
  "kernelspec": {
   "display_name": "Python 3",
   "language": "python",
   "name": "python3"
  },
  "language_info": {
   "codemirror_mode": {
    "name": "ipython",
    "version": 3
   },
   "file_extension": ".py",
   "mimetype": "text/x-python",
   "name": "python",
   "nbconvert_exporter": "python",
   "pygments_lexer": "ipython3",
   "version": "3.7.2"
  }
 },
 "nbformat": 4,
 "nbformat_minor": 2
}
