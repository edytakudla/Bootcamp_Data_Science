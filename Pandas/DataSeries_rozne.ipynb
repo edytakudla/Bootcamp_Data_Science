{
 "cells": [
  {
   "cell_type": "code",
   "execution_count": 1,
   "metadata": {},
   "outputs": [],
   "source": [
    "import pandas as pd\n",
    "import numpy as np\n",
    "import matplotlib.pyplot as plt\n",
    "import math as math\n",
    "import random as rnd"
   ]
  },
  {
   "cell_type": "code",
   "execution_count": 6,
   "metadata": {},
   "outputs": [],
   "source": [
    "liczby_pierwsze = (2,3,5,7,11,13)"
   ]
  },
  {
   "cell_type": "code",
   "execution_count": 7,
   "metadata": {},
   "outputs": [
    {
     "data": {
      "text/plain": [
       "0     2\n",
       "1     3\n",
       "2     5\n",
       "3     7\n",
       "4    11\n",
       "5    13\n",
       "dtype: int64"
      ]
     },
     "execution_count": 7,
     "metadata": {},
     "output_type": "execute_result"
    }
   ],
   "source": [
    "pd.Series(liczby_pierwsze)"
   ]
  },
  {
   "cell_type": "code",
   "execution_count": 8,
   "metadata": {},
   "outputs": [],
   "source": [
    "filmy_Spilberga = {'Szczęki' : 1971 ,\n",
    "                  'Indiana Jones' : 1998,\n",
    "                  'Avatar': 2014,\n",
    "                  '1941' : 1980}"
   ]
  },
  {
   "cell_type": "code",
   "execution_count": 9,
   "metadata": {},
   "outputs": [
    {
     "data": {
      "text/plain": [
       "{'Szczęki': 1971, 'Indiana Jones': 1998, 'Avatar': 2014, '1941': 1980}"
      ]
     },
     "execution_count": 9,
     "metadata": {},
     "output_type": "execute_result"
    }
   ],
   "source": [
    "filmy_Spilberga"
   ]
  },
  {
   "cell_type": "code",
   "execution_count": 10,
   "metadata": {},
   "outputs": [
    {
     "data": {
      "text/plain": [
       "Szczęki          1971\n",
       "Indiana Jones    1998\n",
       "Avatar           2014\n",
       "1941             1980\n",
       "dtype: int64"
      ]
     },
     "execution_count": 10,
     "metadata": {},
     "output_type": "execute_result"
    }
   ],
   "source": [
    "pd.Series(filmy_Spilberga)"
   ]
  },
  {
   "cell_type": "markdown",
   "metadata": {},
   "source": [
    "# S02-L001-LAB Korzystanie z modulow"
   ]
  },
  {
   "cell_type": "markdown",
   "metadata": {},
   "source": [
    "1. Zaimportuj moduły: pandas, numpy, matplotlib (tylko 1. pyplot), math i nadaj im standardowe aliasy\n",
    "2. Wywołując \"magiczną funkcję\" zmień ustawienia tak, aby wykresy były wyświetlane w Jupyter Notebook\n",
    "3. Zdefiniuj tabelę days zawierającą liczby: 1,2,3,4,5\n",
    "4. Zdefiniuj tabelę amount zawierającą liczby: 1,5,20,450,700\n",
    "5. Narysuj wykres, który jako argumenty przyjmie tablicę days, a jako wartości tablicę amount\n",
    "6. Zmień wykres tak, aby wartości były zaznaczane niebieskimi kropkami zamiast domyślnej linii łączącej punkty\n",
    "7. Korzystając z dostępnej w module numpy funkcji arange zdefinuj tabelę months zawierającą numery\n",
    "miesięcy od 1 do 12 i wyświetl tą tablicę\n",
    "8. Zdefiniuj tabelę income, której wartości bedą wyliczane na podstawie tabeli months wzorem:\n",
    "100 + 3 * numer miesiąca\n",
    "(powinno być 12 wartości zaczynając od: 103, 106, 109 itd.). Wyświetl tą tablicę\n",
    "9. Wyświetl wykres, który jako argumenty przyjmie months, a wartości z tabeli income. Punkty danych mają się\n",
    "wyświetlić jako zielone kropki.\n",
    "10. Zdefiniuj tablice cost, której wartości bedą wyliczane na podstawie tabeli months wzorem:\n",
    "50 + 10 * month\n",
    "11. Wyświetl wykres, w ktorym na osi X będą miesiące z tabeli months, prezentujący dwie serie danych: income i\n",
    "cost. Income powinien być prezentowany przez zielone kropki, a cost przez czerwone trójkąty\n",
    "12. Narysuj wykres funkcji 2^x (dwa do potęgi x), dla x z zakresu od -5 do 5 z dokładnością 0.1. Opisz osie: X -\n",
    "\"Arguments\", Y - \"Values\". W tym celu:\n",
    "Zdefinuij tablicę x przyjmującą wartości -5, -4.9, -4.8....\n",
    "Opis osie korzystając z funkcji xlabel i ylabel\n",
    "Narysuj wykres, skorzystaj z funkcji pow(2,x)"
   ]
  },
  {
   "cell_type": "code",
   "execution_count": 169,
   "metadata": {},
   "outputs": [],
   "source": [
    "# Wywołując \"magiczną funkcję\" zmień ustawienia tak, aby wykresy były wyświetlane w Jupyter Notebook\n",
    "%matplotlib inline"
   ]
  },
  {
   "cell_type": "code",
   "execution_count": 171,
   "metadata": {},
   "outputs": [
    {
     "data": {
      "text/plain": [
       "array([1, 2, 3, 4, 5])"
      ]
     },
     "execution_count": 171,
     "metadata": {},
     "output_type": "execute_result"
    }
   ],
   "source": [
    "# Zdefiniuj tabelę days zawierającą liczby: 1,2,3,4,5\n",
    "days = np.array([1,2,3,4,5])\n",
    "days"
   ]
  },
  {
   "cell_type": "code",
   "execution_count": 172,
   "metadata": {},
   "outputs": [
    {
     "data": {
      "text/plain": [
       "array([  1,   5,  20, 450, 700])"
      ]
     },
     "execution_count": 172,
     "metadata": {},
     "output_type": "execute_result"
    }
   ],
   "source": [
    "# Zdefiniuj tabelę amount zawierającą liczby: 1,5,20,450,700\n",
    "amount = np.array([1,5,20,450,700])\n",
    "amount"
   ]
  },
  {
   "cell_type": "code",
   "execution_count": 174,
   "metadata": {},
   "outputs": [
    {
     "data": {
      "image/png": "[encoded data removed]",
      "text/plain": [
       "<Figure size 432x288 with 1 Axes>"
      ]
     },
     "metadata": {
      "needs_background": "light"
     },
     "output_type": "display_data"
    }
   ],
   "source": [
    "# Narysuj wykres, który jako argumenty przyjmie tablicę days, a jako wartości tablicę amount\n",
    "plt.plot(days, amount)\n",
    "plt.xlabel('days')\n",
    "plt.ylabel('amount')\n",
    "plt.show()"
   ]
  },
  {
   "cell_type": "code",
   "execution_count": 183,
   "metadata": {},
   "outputs": [
    {
     "data": {
      "text/plain": [
       "[<matplotlib.lines.Line2D at 0x1c985392198>]"
      ]
     },
     "execution_count": 183,
     "metadata": {},
     "output_type": "execute_result"
    },
    {
     "data": {
      "image/png": "[encoded data removed]",
      "text/plain": [
       "<Figure size 432x288 with 1 Axes>"
      ]
     },
     "metadata": {
      "needs_background": "light"
     },
     "output_type": "display_data"
    }
   ],
   "source": [
    "# Zmień wykres tak, aby wartości były zaznaczane niebieskimi kropkami zamiast domyślnej linii łączącej punkty\n",
    "plt.plot(days, amount, \"bs\")"
   ]
  },
  {
   "cell_type": "code",
   "execution_count": 185,
   "metadata": {},
   "outputs": [
    {
     "data": {
      "text/plain": [
       "array([ 1,  2,  3,  4,  5,  6,  7,  8,  9, 10, 11, 12])"
      ]
     },
     "execution_count": 185,
     "metadata": {},
     "output_type": "execute_result"
    }
   ],
   "source": [
    "# Korzystając z dostępnej w module numpy funkcji arange zdefinuj tabelę months zawierającą numery\n",
    "# miesięcy od 1 do 12 i wyświetl tą tablicę\n",
    "months = np.arange(1,13)\n",
    "months"
   ]
  },
  {
   "cell_type": "code",
   "execution_count": 186,
   "metadata": {},
   "outputs": [
    {
     "data": {
      "text/plain": [
       "array([103, 106, 109, 112, 115, 118, 121, 124, 127, 130, 133, 136])"
      ]
     },
     "execution_count": 186,
     "metadata": {},
     "output_type": "execute_result"
    }
   ],
   "source": [
    "# Zdefiniuj tabelę income, której wartości bedą wyliczane na podstawie tabeli months wzorem:\n",
    "# 100 + 3 * numer miesiąca\n",
    "# (powinno być 12 wartości zaczynając od: 103, 106, 109 itd.). Wyświetl tą tablicę\n",
    "income = 100 + 3 * months\n",
    "income"
   ]
  },
  {
   "cell_type": "code",
   "execution_count": 196,
   "metadata": {},
   "outputs": [
    {
     "data": {
      "text/plain": [
       "[<matplotlib.lines.Line2D at 0x1c983a4c630>]"
      ]
     },
     "execution_count": 196,
     "metadata": {},
     "output_type": "execute_result"
    },
    {
     "data": {
      "image/png": "[encoded data removed]",
      "text/plain": [
       "<Figure size 432x288 with 1 Axes>"
      ]
     },
     "metadata": {
      "needs_background": "light"
     },
     "output_type": "display_data"
    }
   ],
   "source": [
    "# Wyświetl wykres, który jako argumenty przyjmie months, a wartości z tabeli income. Punkty danych mają się\n",
    "# wyświetlić jako zielone kropki.\n",
    "plt.plot(months, income, \"go\")"
   ]
  },
  {
   "cell_type": "code",
   "execution_count": 188,
   "metadata": {},
   "outputs": [
    {
     "data": {
      "text/plain": [
       "array([ 60,  70,  80,  90, 100, 110, 120, 130, 140, 150, 160, 170])"
      ]
     },
     "execution_count": 188,
     "metadata": {},
     "output_type": "execute_result"
    }
   ],
   "source": [
    "# Zdefiniuj tablice cost, której wartości bedą wyliczane na podstawie tabeli months wzorem:\n",
    "# 50 + 10 * month\n",
    "cost = 50 + 10* months\n",
    "cost"
   ]
  },
  {
   "cell_type": "code",
   "execution_count": 197,
   "metadata": {},
   "outputs": [
    {
     "data": {
      "text/plain": [
       "[<matplotlib.lines.Line2D at 0x1c985558908>,\n",
       " <matplotlib.lines.Line2D at 0x1c985558a20>]"
      ]
     },
     "execution_count": 197,
     "metadata": {},
     "output_type": "execute_result"
    },
    {
     "data": {
      "image/png": "[encoded data removed]",
      "text/plain": [
       "<Figure size 432x288 with 1 Axes>"
      ]
     },
     "metadata": {
      "needs_background": "light"
     },
     "output_type": "display_data"
    }
   ],
   "source": [
    "# Wyświetl wykres, w ktorym na osi X będą miesiące z tabeli months, prezentujący dwie serie danych: income i\n",
    "# cost. Income powinien być prezentowany przez zielone kropki, a cost przez czerwone trójkąty\n",
    "plt.plot(months, income, \"go\", cost, \"r^\")"
   ]
  },
  {
   "cell_type": "code",
   "execution_count": 195,
   "metadata": {},
   "outputs": [
    {
     "data": {
      "text/plain": [
       "Text(0, 0.5, 'Values')"
      ]
     },
     "execution_count": 195,
     "metadata": {},
     "output_type": "execute_result"
    },
    {
     "data": {
      "image/png": "[encoded data removed]",
      "text/plain": [
       "<Figure size 432x288 with 1 Axes>"
      ]
     },
     "metadata": {
      "needs_background": "light"
     },
     "output_type": "display_data"
    }
   ],
   "source": [
    "# Narysuj wykres funkcji 2^x (dwa do potęgi x), dla x z zakresu od -5 do 5 z dokładnością 0.1. Opisz osie: X -\n",
    "# \"Arguments\", Y - \"Values\". W tym celu:\n",
    "# Zdefiniuj tablicę x przyjmującą wartości -5, -4.9, -4.8....\n",
    "# Opis osie korzystając z funkcji xlabel i ylabel\n",
    "# Narysuj wykres, skorzystaj z funkcji pow(2,x)\n",
    "x = np.arange(-5, 5, 0.1)\n",
    "plt.plot(x, pow(2,x))\n",
    "plt.xlabel('Arguments')\n",
    "plt.ylabel('Values')"
   ]
  },
  {
   "cell_type": "markdown",
   "metadata": {},
   "source": [
    "# S02-L003 - LAB - Ręczne tworzenie Data Series"
   ]
  },
  {
   "cell_type": "markdown",
   "metadata": {},
   "source": [
    "1. Zaimportuj moduły pandas, numpy, matplotlib (tylko pyplot), math i nadaj im standardowe aliasy\n",
    "2. Utwórz listę dni tygodnia i nazwij ją weekdays\n",
    "3. W oparciu o tą listę utwórz obiekt Data Series. Zapisz go w zmiennej weekdaysSeries i wyświetl tą zmienną.\n",
    "4. Utwórz listę freeDays, która bedzie zawierała tyle samo elementów co lista weekdays. W kolejnych pozycjach\n",
    "tej listy zapisuj informację True/False oznaczającą, czy dany dzień tygodnia jest wolny czy nie.\n",
    "5. W oparciu o listę freeDays utwórz obiekt Data Series. Zapisz go w zmiennej freeDaysSeries i wyświetl tą\n",
    "zmienną. Zwróć uwagę na typ listy\n",
    "6. Utwórz hash table (dictionary) o nazwie holidays, gdzie kluczem jest nazwa święta, a wartością data, (bez\n",
    "przesady - do ćwiczenia 3 święta wystarczą), np.\n",
    "New Year - 2018-01-01\n",
    "Epiphany - 2018-01-06\n",
    "Easter - 2018-04-01\n",
    "7. W oparciu o hash table holidays utwórz Data Series i zapisz go w zmiennej holidaysSeries i wyświetl tą\n",
    "zmienną."
   ]
  },
  {
   "cell_type": "code",
   "execution_count": 14,
   "metadata": {},
   "outputs": [],
   "source": [
    "weekdays = ['Monday', 'Tuesday', 'Wednesday', 'Thursday', 'Friday', 'Saturday', 'Sunday']"
   ]
  },
  {
   "cell_type": "code",
   "execution_count": 15,
   "metadata": {},
   "outputs": [],
   "source": [
    "weekdaysSeries = pd.Series(weekdays)"
   ]
  },
  {
   "cell_type": "code",
   "execution_count": 16,
   "metadata": {},
   "outputs": [
    {
     "data": {
      "text/plain": [
       "0       Monday\n",
       "1      Tuesday\n",
       "2    Wednesday\n",
       "3     Thursday\n",
       "4       Friday\n",
       "5     Saturday\n",
       "6       Sunday\n",
       "dtype: object"
      ]
     },
     "execution_count": 16,
     "metadata": {},
     "output_type": "execute_result"
    }
   ],
   "source": [
    "weekdaysSeries"
   ]
  },
  {
   "cell_type": "code",
   "execution_count": 17,
   "metadata": {},
   "outputs": [],
   "source": [
    "freeDays = [False, False, False, False, False, True, True]"
   ]
  },
  {
   "cell_type": "code",
   "execution_count": 18,
   "metadata": {},
   "outputs": [],
   "source": [
    "freeDaysSeries = pd.Series(freeDays)"
   ]
  },
  {
   "cell_type": "code",
   "execution_count": 19,
   "metadata": {},
   "outputs": [
    {
     "data": {
      "text/plain": [
       "0    False\n",
       "1    False\n",
       "2    False\n",
       "3    False\n",
       "4    False\n",
       "5     True\n",
       "6     True\n",
       "dtype: bool"
      ]
     },
     "execution_count": 19,
     "metadata": {},
     "output_type": "execute_result"
    }
   ],
   "source": [
    "freeDaysSeries"
   ]
  },
  {
   "cell_type": "code",
   "execution_count": 21,
   "metadata": {},
   "outputs": [],
   "source": [
    "holidays = {'New year' : '2018-01-01', 'Epiphany' : '2018-01-06', 'Easter': '2018-04-01'}"
   ]
  },
  {
   "cell_type": "code",
   "execution_count": 22,
   "metadata": {},
   "outputs": [],
   "source": [
    "holidaysSeries = pd.Series(holidays)"
   ]
  },
  {
   "cell_type": "code",
   "execution_count": 23,
   "metadata": {},
   "outputs": [
    {
     "data": {
      "text/plain": [
       "New year    2018-01-01\n",
       "Epiphany    2018-01-06\n",
       "Easter      2018-04-01\n",
       "dtype: object"
      ]
     },
     "execution_count": 23,
     "metadata": {},
     "output_type": "execute_result"
    }
   ],
   "source": [
    "holidaysSeries"
   ]
  },
  {
   "cell_type": "code",
   "execution_count": 50,
   "metadata": {},
   "outputs": [],
   "source": [
    "cities = ['Londyn', 'Warszawa', 'Paryż', 'Genewa']"
   ]
  },
  {
   "cell_type": "code",
   "execution_count": 3,
   "metadata": {},
   "outputs": [
    {
     "data": {
      "text/plain": [
       "['Londyn', 'Warszawa', 'Paryż', 'Genewa']"
      ]
     },
     "execution_count": 3,
     "metadata": {},
     "output_type": "execute_result"
    }
   ],
   "source": [
    "cities"
   ]
  },
  {
   "cell_type": "code",
   "execution_count": 4,
   "metadata": {},
   "outputs": [
    {
     "data": {
      "text/plain": [
       "'Paryż'"
      ]
     },
     "execution_count": 4,
     "metadata": {},
     "output_type": "execute_result"
    }
   ],
   "source": [
    "cities[2]"
   ]
  },
  {
   "cell_type": "code",
   "execution_count": 53,
   "metadata": {},
   "outputs": [],
   "source": [
    "citiesSeries = pd.Series(cities)"
   ]
  },
  {
   "cell_type": "code",
   "execution_count": 26,
   "metadata": {},
   "outputs": [
    {
     "data": {
      "text/plain": [
       "4"
      ]
     },
     "execution_count": 26,
     "metadata": {},
     "output_type": "execute_result"
    }
   ],
   "source": [
    "citiesSeries.size"
   ]
  },
  {
   "cell_type": "markdown",
   "metadata": {},
   "source": [
    "# S02-L004 - LAB - Atrybuty Data Series"
   ]
  },
  {
   "cell_type": "markdown",
   "metadata": {},
   "source": [
    "1. Zaimportuj moduły pandas, numpy, matplotlib (tylko pyplot), math i nadaj im standardowe aliasy\n",
    "2. Zaimportuj moduł random z aliasem rnd, a potem:\n",
    "Zadeklaruj zmieną dataAsFloatList jako listę.\n",
    "Napisz pętlę, która 100000 doda do listy element wyliczony wzorem i*rnd.random() gdzie i to kolejny\n",
    "numer pętli\n",
    "Następnie w oparciu o listę dataAsFloatList utwórz obiekt series i zapisz go w zmiennej\n",
    "dataAsFloatSeries.\n",
    "3. Wyświetl następujące atrybuty dataAsFloatSeries:\n",
    "size\n",
    "nbytes\n",
    "shape\n",
    "axes\n",
    "dtype\n",
    "index\n",
    "is_unique\n",
    "is_monotonic\n",
    "4. Powtórz kroki z punktu (2) z drobnymi zmianami:\n",
    "Zadeklaruj zmieną dataAsStringList jako listę.\n",
    "Napisz pętlę, która 100000 doda do listy element wyliczony wzorem str(i*rnd.random()) gdzie i to kolejny\n",
    "numer pętli\n",
    "Następnie w oparciu o listę dataAsStringList utwórz obiekt series i zapisz go w zmiennej\n",
    "dataAsStringSeries.\n",
    "5. Podobnie jak poprzednio wyświetl atrybuty dataAsStringSeries:\n",
    "size\n",
    "nbytes\n",
    "dtype\n",
    "6. Czy Twoim zdaniem nbytes dla obu obiektów Data Series powinny być takie same czy inne? A jakie są?\n",
    "7. Wyjaśnienie dla punktu (6). Atrybut nbytes \"szacuje zajętość pamięci bardzo z grubsza\". Ta metoda jest\n",
    "szybka ale niedokładna. Jeśli chcesz dokładnie policzyć ilość zajmowanej pamięci skorzystaj z metody\n",
    "(metody dokładnie omawiamy w kolejnej lekcji):\n",
    "dataAsFloatSeries.memory_usage(deep=True)\n",
    "dataAsStringSeries.memory_usage(deep=True)"
   ]
  },
  {
   "cell_type": "code",
   "execution_count": 18,
   "metadata": {},
   "outputs": [],
   "source": [
    "dataAsFloatList = []\n",
    "for i in range(100000):\n",
    "    dataAsFloatList.append(i*rnd.random())"
   ]
  },
  {
   "cell_type": "code",
   "execution_count": 19,
   "metadata": {},
   "outputs": [],
   "source": [
    "dataAsFloatListSeries = pd.Series(dataAsFloatList)"
   ]
  },
  {
   "cell_type": "code",
   "execution_count": 32,
   "metadata": {},
   "outputs": [
    {
     "name": "stdout",
     "output_type": "stream",
     "text": [
      "100000\n",
      "800000\n",
      "(100000,)\n",
      "[RangeIndex(start=0, stop=100000, step=1)]\n",
      "float64\n",
      "RangeIndex(start=0, stop=100000, step=1)\n",
      "True\n",
      "False\n",
      "800080\n"
     ]
    }
   ],
   "source": [
    "print(dataAsFloatListSeries.size)\n",
    "print(dataAsFloatListSeries.nbytes)\n",
    "print(dataAsFloatListSeries.shape)\n",
    "print(dataAsFloatListSeries.axes)\n",
    "print(dataAsFloatListSeries.dtype)\n",
    "print(dataAsFloatListSeries.index)\n",
    "print(dataAsFloatListSeries.is_unique)\n",
    "print(dataAsFloatListSeries.is_monotonic)\n",
    "print(dataAsFloatListSeries.memory_usage(deep=True))"
   ]
  },
  {
   "cell_type": "code",
   "execution_count": 27,
   "metadata": {},
   "outputs": [],
   "source": [
    "dataAsStringList = []\n",
    "for i in range(100000):\n",
    "    dataAsStringList.append(str(i*rnd.random()))"
   ]
  },
  {
   "cell_type": "code",
   "execution_count": 28,
   "metadata": {},
   "outputs": [],
   "source": [
    "dataAsStringListSeries = pd.Series(dataAsStringList)"
   ]
  },
  {
   "cell_type": "code",
   "execution_count": 33,
   "metadata": {},
   "outputs": [
    {
     "name": "stdout",
     "output_type": "stream",
     "text": [
      "100000\n",
      "800000\n",
      "(100000,)\n",
      "[RangeIndex(start=0, stop=100000, step=1)]\n",
      "object\n",
      "RangeIndex(start=0, stop=100000, step=1)\n",
      "True\n",
      "False\n",
      "7434604\n"
     ]
    }
   ],
   "source": [
    "print(dataAsStringListSeries.size)\n",
    "print(dataAsStringListSeries.nbytes)\n",
    "print(dataAsStringListSeries.shape)\n",
    "print(dataAsStringListSeries.axes)\n",
    "print(dataAsStringListSeries.dtype)\n",
    "print(dataAsStringListSeries.index)\n",
    "print(dataAsStringListSeries.is_unique)\n",
    "print(dataAsStringListSeries.is_monotonic)\n",
    "print(dataAsStringListSeries.memory_usage(deep=True))"
   ]
  },
  {
   "cell_type": "code",
   "execution_count": 34,
   "metadata": {},
   "outputs": [],
   "source": [
    "numbers = [1,2,5,10,89]"
   ]
  },
  {
   "cell_type": "code",
   "execution_count": 35,
   "metadata": {},
   "outputs": [],
   "source": [
    "numbersSeries = pd.Series(numbers)"
   ]
  },
  {
   "cell_type": "code",
   "execution_count": 37,
   "metadata": {},
   "outputs": [
    {
     "name": "stdout",
     "output_type": "stream",
     "text": [
      "count: 5\n",
      "size: 5\n",
      "suma wszystkich:  107\n",
      "min: 1\n",
      "max: 89\n",
      "srednia: 21.4\n",
      "iloczyn wszystkich przez siebie: 8900\n"
     ]
    }
   ],
   "source": [
    "print('count:', numbersSeries.count())\n",
    "print('size:', numbersSeries.size)\n",
    "print('suma wszystkich: ', numbersSeries.sum())\n",
    "print('min:', numbersSeries.min())\n",
    "print('max:', numbersSeries.max())\n",
    "print('srednia:', numbersSeries.mean())\n",
    "print('iloczyn wszystkich przez siebie:', numbersSeries.product())"
   ]
  },
  {
   "cell_type": "code",
   "execution_count": 38,
   "metadata": {},
   "outputs": [],
   "source": [
    "waluty = ['EUR', 'USD', 'PLN', 'EUR', 'EUR']\n",
    "kraje = ['Francja', 'USA', 'Polska', 'Niemcy', 'Hiszpania']"
   ]
  },
  {
   "cell_type": "code",
   "execution_count": 43,
   "metadata": {},
   "outputs": [],
   "source": [
    "kraj_waluta_seria = pd.Series(waluty, kraje)"
   ]
  },
  {
   "cell_type": "code",
   "execution_count": 44,
   "metadata": {},
   "outputs": [
    {
     "data": {
      "text/plain": [
       "Francja      EUR\n",
       "USA          USD\n",
       "Polska       PLN\n",
       "Niemcy       EUR\n",
       "Hiszpania    EUR\n",
       "dtype: object"
      ]
     },
     "execution_count": 44,
     "metadata": {},
     "output_type": "execute_result"
    }
   ],
   "source": [
    "kraj_waluta_seria"
   ]
  },
  {
   "cell_type": "code",
   "execution_count": 45,
   "metadata": {},
   "outputs": [],
   "source": [
    "waluta_kraj_seria = pd.Series(kraje, waluty)"
   ]
  },
  {
   "cell_type": "code",
   "execution_count": 46,
   "metadata": {},
   "outputs": [
    {
     "data": {
      "text/plain": [
       "EUR      Francja\n",
       "USD          USA\n",
       "PLN       Polska\n",
       "EUR       Niemcy\n",
       "EUR    Hiszpania\n",
       "dtype: object"
      ]
     },
     "execution_count": 46,
     "metadata": {},
     "output_type": "execute_result"
    }
   ],
   "source": [
    "waluta_kraj_seria"
   ]
  },
  {
   "cell_type": "code",
   "execution_count": 47,
   "metadata": {},
   "outputs": [],
   "source": [
    "waluta_kraj_seria2 = pd.Series(data = kraje, index = waluty)"
   ]
  },
  {
   "cell_type": "code",
   "execution_count": 48,
   "metadata": {},
   "outputs": [
    {
     "data": {
      "text/plain": [
       "EUR      Francja\n",
       "USD          USA\n",
       "PLN       Polska\n",
       "EUR       Niemcy\n",
       "EUR    Hiszpania\n",
       "dtype: object"
      ]
     },
     "execution_count": 48,
     "metadata": {},
     "output_type": "execute_result"
    }
   ],
   "source": [
    "waluta_kraj_seria2"
   ]
  },
  {
   "cell_type": "markdown",
   "metadata": {},
   "source": [
    "# S02-L005 - LAB - Metody Data Series"
   ]
  },
  {
   "cell_type": "markdown",
   "metadata": {},
   "source": [
    "1. numpy, matplotlib (tylko pyplot), math i nadaj im standardowe aliasy\n",
    "Zadeklaruj dwie listy:\n",
    "cities, których elementami są nazwy trzech największych miast świata: Shanghai, Beijing, Istanbul\n",
    "population, której elementami są ilości obywateli tych miast 24183300, 20794100, 15030000\n",
    "2.\n",
    "Utwórz zmienna citypop typu Series, która jako indeks przyjmie nazwy miast, a za wartości ich populacje.\n",
    "Tworząc obiekt przekaż argumenty przez pozycję. Wyświetl serię\n",
    "3.\n",
    "4. Powtórz punkt (3), ale teraz przekaż parametry z wykorzystniem argumentów nazwanych\n",
    "5. Policz ile obywateli w sumie zamieszkuje te miasta\n",
    "6. Policz ile średnio mieszkańców mieszka w każdym z tych miast\n",
    "7. Wyświetl indeks serii citypop korzystając raz z właściwości a raz z metody\n",
    "8. Wyświetl wartości serii citypop korzystająć raz z właściwości a raz z metody"
   ]
  },
  {
   "cell_type": "code",
   "execution_count": 54,
   "metadata": {},
   "outputs": [],
   "source": [
    "cities = ['Shanghai', 'Beijing', 'Istanbul']\n",
    "population = [24183300, 20794100, 15030000]\n",
    "citypopSeries = pd.Series(index = cities, data = population)"
   ]
  },
  {
   "cell_type": "code",
   "execution_count": 55,
   "metadata": {},
   "outputs": [
    {
     "data": {
      "text/plain": [
       "Shanghai    24183300\n",
       "Beijing     20794100\n",
       "Istanbul    15030000\n",
       "dtype: int64"
      ]
     },
     "execution_count": 55,
     "metadata": {},
     "output_type": "execute_result"
    }
   ],
   "source": [
    "citypopSeries"
   ]
  },
  {
   "cell_type": "code",
   "execution_count": 56,
   "metadata": {},
   "outputs": [
    {
     "name": "stdout",
     "output_type": "stream",
     "text": [
      "60007400\n"
     ]
    }
   ],
   "source": [
    "ile_obywateli = citypopSeries.sum()\n",
    "print(ile_obywateli)"
   ]
  },
  {
   "cell_type": "code",
   "execution_count": 59,
   "metadata": {},
   "outputs": [
    {
     "data": {
      "text/plain": [
       "20002466.666666668"
      ]
     },
     "execution_count": 59,
     "metadata": {},
     "output_type": "execute_result"
    }
   ],
   "source": [
    "citypopSeries.mean()"
   ]
  },
  {
   "cell_type": "code",
   "execution_count": 60,
   "metadata": {},
   "outputs": [
    {
     "data": {
      "text/plain": [
       "Index(['Shanghai', 'Beijing', 'Istanbul'], dtype='object')"
      ]
     },
     "execution_count": 60,
     "metadata": {},
     "output_type": "execute_result"
    }
   ],
   "source": [
    "citypopSeries.index"
   ]
  },
  {
   "cell_type": "code",
   "execution_count": 63,
   "metadata": {},
   "outputs": [
    {
     "data": {
      "text/plain": [
       "array([24183300, 20794100, 15030000], dtype=int64)"
      ]
     },
     "execution_count": 63,
     "metadata": {},
     "output_type": "execute_result"
    }
   ],
   "source": [
    "citypopSeries.get_values()"
   ]
  },
  {
   "cell_type": "code",
   "execution_count": 62,
   "metadata": {},
   "outputs": [
    {
     "data": {
      "text/plain": [
       "array([24183300, 20794100, 15030000], dtype=int64)"
      ]
     },
     "execution_count": 62,
     "metadata": {},
     "output_type": "execute_result"
    }
   ],
   "source": [
    "citypopSeries.values"
   ]
  },
  {
   "cell_type": "code",
   "execution_count": 64,
   "metadata": {},
   "outputs": [
    {
     "data": {
      "text/plain": [
       "Index(['Shanghai', 'Beijing', 'Istanbul'], dtype='object')"
      ]
     },
     "execution_count": 64,
     "metadata": {},
     "output_type": "execute_result"
    }
   ],
   "source": [
    "citypopSeries.keys()"
   ]
  },
  {
   "cell_type": "code",
   "execution_count": 66,
   "metadata": {},
   "outputs": [],
   "source": [
    "numbers2 = [1,2,3,10,15,20]\n",
    "numbers2Series = pd.Series(numbers2)"
   ]
  },
  {
   "cell_type": "code",
   "execution_count": 67,
   "metadata": {},
   "outputs": [
    {
     "data": {
      "text/plain": [
       "0    False\n",
       "1    False\n",
       "2    False\n",
       "3    False\n",
       "4     True\n",
       "5     True\n",
       "dtype: bool"
      ]
     },
     "execution_count": 67,
     "metadata": {},
     "output_type": "execute_result"
    }
   ],
   "source": [
    "numbers2Series > 10"
   ]
  },
  {
   "cell_type": "code",
   "execution_count": 68,
   "metadata": {},
   "outputs": [
    {
     "data": {
      "text/plain": [
       "0     NaN\n",
       "1     NaN\n",
       "2     NaN\n",
       "3     NaN\n",
       "4    15.0\n",
       "5    20.0\n",
       "dtype: float64"
      ]
     },
     "execution_count": 68,
     "metadata": {},
     "output_type": "execute_result"
    }
   ],
   "source": [
    "numbers2Series.where(numbers2Series > 10)"
   ]
  },
  {
   "cell_type": "code",
   "execution_count": 69,
   "metadata": {},
   "outputs": [
    {
     "data": {
      "text/plain": [
       "0    -1\n",
       "1    -1\n",
       "2    -1\n",
       "3    -1\n",
       "4    15\n",
       "5    20\n",
       "dtype: int64"
      ]
     },
     "execution_count": 69,
     "metadata": {},
     "output_type": "execute_result"
    }
   ],
   "source": [
    "numbers2Series.where(numbers2Series > 10, other = -1)"
   ]
  },
  {
   "cell_type": "code",
   "execution_count": 71,
   "metadata": {},
   "outputs": [],
   "source": [
    "newList = numbers2Series.where(numbers2Series > 10).dropna()"
   ]
  },
  {
   "cell_type": "code",
   "execution_count": 72,
   "metadata": {},
   "outputs": [
    {
     "data": {
      "text/plain": [
       "4    15.0\n",
       "5    20.0\n",
       "dtype: float64"
      ]
     },
     "execution_count": 72,
     "metadata": {},
     "output_type": "execute_result"
    }
   ],
   "source": [
    "newList"
   ]
  },
  {
   "cell_type": "code",
   "execution_count": 73,
   "metadata": {},
   "outputs": [],
   "source": [
    "numbers2Series.where(numbers2Series > 10, inplace = True)"
   ]
  },
  {
   "cell_type": "code",
   "execution_count": 74,
   "metadata": {},
   "outputs": [
    {
     "data": {
      "text/plain": [
       "0     NaN\n",
       "1     NaN\n",
       "2     NaN\n",
       "3     NaN\n",
       "4    15.0\n",
       "5    20.0\n",
       "dtype: float64"
      ]
     },
     "execution_count": 74,
     "metadata": {},
     "output_type": "execute_result"
    }
   ],
   "source": [
    "numbers2Series"
   ]
  },
  {
   "cell_type": "code",
   "execution_count": 76,
   "metadata": {},
   "outputs": [],
   "source": [
    "numbers2Series.dropna(inplace=True)"
   ]
  },
  {
   "cell_type": "code",
   "execution_count": 77,
   "metadata": {},
   "outputs": [
    {
     "data": {
      "text/plain": [
       "4    15.0\n",
       "5    20.0\n",
       "dtype: float64"
      ]
     },
     "execution_count": 77,
     "metadata": {},
     "output_type": "execute_result"
    }
   ],
   "source": [
    "numbers2Series"
   ]
  },
  {
   "cell_type": "code",
   "execution_count": 79,
   "metadata": {},
   "outputs": [],
   "source": [
    "numbers3 = [1,3,6,10,88,120]\n",
    "numbers3Series = pd.Series(numbers3)"
   ]
  },
  {
   "cell_type": "code",
   "execution_count": 80,
   "metadata": {},
   "outputs": [
    {
     "data": {
      "text/plain": [
       "0      1\n",
       "1      3\n",
       "2      6\n",
       "3     10\n",
       "4     88\n",
       "5    120\n",
       "dtype: int64"
      ]
     },
     "execution_count": 80,
     "metadata": {},
     "output_type": "execute_result"
    }
   ],
   "source": [
    "numbers3Series"
   ]
  },
  {
   "cell_type": "code",
   "execution_count": 81,
   "metadata": {},
   "outputs": [
    {
     "data": {
      "text/plain": [
       "0     1\n",
       "2     6\n",
       "4    88\n",
       "dtype: int64"
      ]
     },
     "execution_count": 81,
     "metadata": {},
     "output_type": "execute_result"
    }
   ],
   "source": [
    "numbers3Series.filter(items=[0,2,4])"
   ]
  },
  {
   "cell_type": "code",
   "execution_count": 84,
   "metadata": {},
   "outputs": [
    {
     "data": {
      "text/plain": [
       "4    88\n",
       "dtype: int64"
      ]
     },
     "execution_count": 84,
     "metadata": {},
     "output_type": "execute_result"
    }
   ],
   "source": [
    "numbers3Series.filter(like='4')"
   ]
  },
  {
   "cell_type": "markdown",
   "metadata": {},
   "source": [
    "# S02-L006 - LAB - Filtrowanie Data Series"
   ]
  },
  {
   "cell_type": "markdown",
   "metadata": {},
   "source": [
    "1. Zaimportuj moduły: pandas, numpy, matplotlib (tylko pyplot), math i nadaj im standardowe aliasy\n",
    "2. Na stronie https://danepubliczne.gov.pl (https://danepubliczne.gov.pl) publikowane są ciekawe dane\n",
    "statystyczne. Ta lista prezentuje informacje o wypadkach powodowanych przez osoby w różnym wieku: 14\n",
    ",334,312,5823,9491,7486,4343. Wiek tych osób to kolejno: do 6, 7-14, 15-17, 18-24, 25-39, 40-59, 60 i\n",
    "więcej. Utwórz serię zawierającą takie dane. Indeksem niech będzie wiek, a wartościami ilość wypadków.\n",
    "Serię nazwij incidents. Wyświetl serię.\n",
    "3. Wyświetl tylko te grupy, które spowodowały więcej niż 1000 wypadków. Najpierw pozwól na wyświetlenie NaN\n",
    "dla grup, które mają mniej wypadków, a potem zupełnie je wyeliminuj\n",
    "4. Zapisz wynik poprzedniego polecenia w zmiennej incident1000. Wyświetl tą nową zmienną, żeby się\n",
    "przekonać, że nie zawiera grup o małej ilości wypadków.\n",
    "5. Upewnij się, że oryginalna seria incidents nie zmieniła zawartości. Jeżeli zmieniła, wykonaj ponownie\n",
    "instrukcje z kroku (2)\n",
    "6. Wyświetl tylko dane dla grup osób w wieku 18-59 (3 grupy) - filtrowanie po indeksie\n",
    "7. Wyfiltruj w serii incidents tylko te pozycje, które liczbę wypadków mają mniejszą lub równą 1000. Po operacji\n",
    "filtrowania obiekt powinien zawierać tylko te wartości. Wyświetl serię incidents, aby upewnić się, że nie ma w\n",
    "niej innych grup."
   ]
  },
  {
   "cell_type": "code",
   "execution_count": 121,
   "metadata": {},
   "outputs": [],
   "source": [
    "# Ta lista prezentuje informacje o wypadkach powodowanych przez osoby w różnym wieku: 14\n",
    "# ,334,312,5823,9491,7486,4343. Wiek tych osób to kolejno: do 6, 7-14, 15-17, 18-24, 25-39, 40-59, 60 i\n",
    "# więcej). Utwórz serię zawierającą takie dane. Indeksem niech będzie wiek, a wartościami ilość wypadków.\n",
    "# Serię nazwij incidents. Wyświetl serię.\n",
    "\n",
    "wiek_sprawcy = ['0-6', '7-14', '15-17', '18-24', '25-39', '40-59', '60-150']\n",
    "liczba_wypadkow = [14, 334, 312, 5823, 9491, 7486, 4343]"
   ]
  },
  {
   "cell_type": "code",
   "execution_count": 107,
   "metadata": {},
   "outputs": [],
   "source": [
    "incidents = pd.Series(index=wiek_sprawcy, data=liczba_wypadkow)"
   ]
  },
  {
   "cell_type": "code",
   "execution_count": 108,
   "metadata": {},
   "outputs": [
    {
     "data": {
      "text/plain": [
       "0-6         14\n",
       "7-14       334\n",
       "15-17      312\n",
       "18-24     5823\n",
       "25-39     9491\n",
       "40-59     7486\n",
       "60-150    4343\n",
       "dtype: int64"
      ]
     },
     "execution_count": 108,
     "metadata": {},
     "output_type": "execute_result"
    }
   ],
   "source": [
    "incidents"
   ]
  },
  {
   "cell_type": "code",
   "execution_count": 122,
   "metadata": {},
   "outputs": [
    {
     "data": {
      "text/plain": [
       "0-6          NaN\n",
       "7-14         NaN\n",
       "15-17        NaN\n",
       "18-24     5823.0\n",
       "25-39     9491.0\n",
       "40-59     7486.0\n",
       "60-150    4343.0\n",
       "dtype: float64"
      ]
     },
     "execution_count": 122,
     "metadata": {},
     "output_type": "execute_result"
    }
   ],
   "source": [
    "# Wyświetl tylko te grupy, które spowodowały więcej niż 1000 wypadków. Najpierw pozwól na wyświetlenie NaN\n",
    "# dla grup, które mają mniej wypadków, a potem zupełnie je wyeliminuj\n",
    "incidents.where(incidents > 1000)"
   ]
  },
  {
   "cell_type": "code",
   "execution_count": 113,
   "metadata": {},
   "outputs": [],
   "source": [
    "# Zapisz wynik poprzedniego polecenia w zmiennej incident1000. Wyświetl tą nową zmienną, żeby się\n",
    "# przekonać, że nie zawiera grup o małej ilości wypadków.\n",
    "incidents1000 = incidents.where(incidents > 1000)\n",
    "incidents1000.dropna(inplace = True)"
   ]
  },
  {
   "cell_type": "code",
   "execution_count": 114,
   "metadata": {},
   "outputs": [
    {
     "data": {
      "text/plain": [
       "18-24     5823.0\n",
       "25-39     9491.0\n",
       "40-59     7486.0\n",
       "60-150    4343.0\n",
       "dtype: float64"
      ]
     },
     "execution_count": 114,
     "metadata": {},
     "output_type": "execute_result"
    }
   ],
   "source": [
    "incidents1000"
   ]
  },
  {
   "cell_type": "code",
   "execution_count": 115,
   "metadata": {},
   "outputs": [
    {
     "data": {
      "text/plain": [
       "0-6         14\n",
       "7-14       334\n",
       "15-17      312\n",
       "18-24     5823\n",
       "25-39     9491\n",
       "40-59     7486\n",
       "60-150    4343\n",
       "dtype: int64"
      ]
     },
     "execution_count": 115,
     "metadata": {},
     "output_type": "execute_result"
    }
   ],
   "source": [
    "# Upewnij się, że oryginalna seria incidents nie zmieniła zawartości. Jeżeli zmieniła, wykonaj ponownie\n",
    "# instrukcje z kroku (2)\n",
    "incidents"
   ]
  },
  {
   "cell_type": "code",
   "execution_count": 120,
   "metadata": {},
   "outputs": [
    {
     "data": {
      "text/plain": [
       "18-24    5823\n",
       "25-39    9491\n",
       "40-59    7486\n",
       "dtype: int64"
      ]
     },
     "execution_count": 120,
     "metadata": {},
     "output_type": "execute_result"
    }
   ],
   "source": [
    "# Wyświetl tylko dane dla grup osób w wieku 18-59 (3 grupy) - filtrowanie po indeksie\n",
    "incidents.filter(items = ['18-24','25-39','40-59'])"
   ]
  },
  {
   "cell_type": "code",
   "execution_count": 125,
   "metadata": {},
   "outputs": [
    {
     "data": {
      "text/plain": [
       "0-6       14.0\n",
       "7-14     334.0\n",
       "15-17    312.0\n",
       "dtype: float64"
      ]
     },
     "execution_count": 125,
     "metadata": {},
     "output_type": "execute_result"
    }
   ],
   "source": [
    "# Wyfiltruj w serii incidents tylko te pozycje, które liczbę wypadków mają mniejszą lub równą 1000. Po operacji\n",
    "# filtrowania obiekt powinien zawierać tylko te wartości. Wyświetl serię incidents, aby upewnić się, że nie ma w\n",
    "# niej innych grup.\n",
    "incidents.where(incidents <= 1000, inplace = True)\n",
    "incidents.dropna(inplace = True)\n",
    "incidents"
   ]
  },
  {
   "cell_type": "code",
   "execution_count": 126,
   "metadata": {},
   "outputs": [
    {
     "data": {
      "text/plain": [
       "0     2\n",
       "1     6\n",
       "2     7\n",
       "3    10\n",
       "4    23\n",
       "5    58\n",
       "6    30\n",
       "7    35\n",
       "dtype: int64"
      ]
     },
     "execution_count": 126,
     "metadata": {},
     "output_type": "execute_result"
    }
   ],
   "source": [
    "# filtrowanie - tylko liczby parzyste\n",
    "numbers4 = [2,6,7,10,23,58,30,35]\n",
    "numbers4Series = pd.Series(numbers4)\n",
    "numbers4Series"
   ]
  },
  {
   "cell_type": "code",
   "execution_count": 127,
   "metadata": {},
   "outputs": [
    {
     "data": {
      "text/plain": [
       "0     2.0\n",
       "1     6.0\n",
       "3    10.0\n",
       "5    58.0\n",
       "6    30.0\n",
       "dtype: float64"
      ]
     },
     "execution_count": 127,
     "metadata": {},
     "output_type": "execute_result"
    }
   ],
   "source": [
    "numbers4Series.where(numbers4Series % 2 == 0).dropna()"
   ]
  },
  {
   "cell_type": "code",
   "execution_count": 138,
   "metadata": {},
   "outputs": [
    {
     "data": {
      "text/plain": [
       "0     True\n",
       "1     True\n",
       "2    False\n",
       "3     True\n",
       "4    False\n",
       "5     True\n",
       "6     True\n",
       "7    False\n",
       "dtype: bool"
      ]
     },
     "execution_count": 138,
     "metadata": {},
     "output_type": "execute_result"
    }
   ],
   "source": [
    "# łączenie dwóch warunków -> parzyste i większe lub równe 10\n",
    "# numbers4Series.where(numbers4Series % 2 == 0 and numbers4Series >= 10) TAK NIE ZADZIAŁA\n",
    "# numbers4Series.where(numbers4Series % 2 == 0 & numbers4Series >= 10) TAK NIE ZADZIAŁA\n",
    "# KONIECZNE ZWRÓCENIE WARTOŚCI BOOL DLATEGO BEZ WHERE, Z WHERE ZWRÓCONE BYŁYBY NaN\n",
    "parzyste = (numbers4Series % 2 == 0)\n",
    "parzyste"
   ]
  },
  {
   "cell_type": "code",
   "execution_count": 144,
   "metadata": {},
   "outputs": [
    {
     "data": {
      "text/plain": [
       "0    False\n",
       "1    False\n",
       "2    False\n",
       "3     True\n",
       "4     True\n",
       "5     True\n",
       "6     True\n",
       "7     True\n",
       "dtype: bool"
      ]
     },
     "execution_count": 144,
     "metadata": {},
     "output_type": "execute_result"
    }
   ],
   "source": [
    "# KONIECZNE ZWRÓCENIE WARTOŚCI BOOL DLATEGO BEZ WHERE, Z WHERE ZWRÓCONE BYŁYBY NaN\n",
    "wieksze_niz_10 = (numbers4Series >= 10)\n",
    "wieksze_niz_10"
   ]
  },
  {
   "cell_type": "code",
   "execution_count": 146,
   "metadata": {},
   "outputs": [
    {
     "data": {
      "text/plain": [
       "0     NaN\n",
       "1     NaN\n",
       "2     NaN\n",
       "3    10.0\n",
       "4     NaN\n",
       "5    58.0\n",
       "6    30.0\n",
       "7     NaN\n",
       "dtype: float64"
      ]
     },
     "execution_count": 146,
     "metadata": {},
     "output_type": "execute_result"
    }
   ],
   "source": [
    "# teraz łączymy wyniki ze zmiennych parzyste i wieksze_niz_10\n",
    "parzyste_wieksze_niz_10 = numbers4Series.where(parzyste & wieksze_niz_10)\n",
    "parzyste_wieksze_niz_10"
   ]
  },
  {
   "cell_type": "code",
   "execution_count": 143,
   "metadata": {},
   "outputs": [
    {
     "data": {
      "text/plain": [
       "3    10.0\n",
       "5    58.0\n",
       "6    30.0\n",
       "dtype: float64"
      ]
     },
     "execution_count": 143,
     "metadata": {},
     "output_type": "execute_result"
    }
   ],
   "source": [
    "parzyste_wieksze_niz_10.dropna(inplace=True)\n",
    "parzyste_wieksze_niz_10"
   ]
  },
  {
   "cell_type": "code",
   "execution_count": 148,
   "metadata": {},
   "outputs": [
    {
     "data": {
      "text/plain": [
       "0     NaN\n",
       "1     NaN\n",
       "2     NaN\n",
       "3    10.0\n",
       "4    23.0\n",
       "5     NaN\n",
       "6    30.0\n",
       "7    35.0\n",
       "dtype: float64"
      ]
     },
     "execution_count": 148,
     "metadata": {},
     "output_type": "execute_result"
    }
   ],
   "source": [
    "# wyświetlenie wartości z przedziału 10-35\n",
    "# 1 sposób\n",
    "numbers4Series.where(numbers4Series.between(10,35))"
   ]
  },
  {
   "cell_type": "code",
   "execution_count": 150,
   "metadata": {},
   "outputs": [
    {
     "data": {
      "text/plain": [
       "0     NaN\n",
       "1     NaN\n",
       "2     NaN\n",
       "3    10.0\n",
       "4    23.0\n",
       "5     NaN\n",
       "6    30.0\n",
       "7    35.0\n",
       "dtype: float64"
      ]
     },
     "execution_count": 150,
     "metadata": {},
     "output_type": "execute_result"
    }
   ],
   "source": [
    "# 2 sposób - ZALECANY\n",
    "pomiedzy_10_35 = numbers4Series.between(10,35)\n",
    "numbers4Series.where(pomiedzy_10_35)"
   ]
  },
  {
   "cell_type": "markdown",
   "metadata": {},
   "source": [
    "# S02-LAB - LAS02-L007B - Bardziej zaawansowane filtrowanie"
   ]
  },
  {
   "cell_type": "markdown",
   "metadata": {},
   "source": [
    "1. Zaimportuj moduły: pandas, numpy, matplotlib (tylko pyplot), math i nadaj im standardowe aliasy\n",
    "2. Na stronie https://en.wikipedia.org/wiki/European_countries_by_electricity_consumption_per_person\n",
    "(https://en.wikipedia.org/wiki/European_countries_by_electricity_consumption_per_person) znajduje się\n",
    "informacja o zużyciu energii elektrycznej na osobę w Europie. Utwórz następujące zmienne:\n",
    "namesList (nazwy krajów) o wartościach: ['Albania','Austria','Belarus',\n",
    "'Belgium','Bulgaria','Croatia','Cyprus','Czech Republic','Denmark','Estonia',\n",
    "'Finland','France','Germany','Greece','Hungary','Iceland','Ireland','Italy',\n",
    "'Latvia','Lithuania','Luxembourg','Macedonia','Malta','Montenegro','Netherlands',\n",
    "'Norway','Poland','Portugal','Romania','Russia','Serbia','Slovenia','Spain', 'Sweden','Switzerland','United\n",
    "Kingdom','Turkey','Ukraine']\n",
    "energy2010List (zużycie energii na osobę w 2010 roku) o wartościach:\n",
    "[1947,8347,3564,8369,4560,3814,4623,6348,6328,6506,16483,7736,7264,5318,3876,\n",
    "51440,5911,5494,3230,3471,16830,3521,4171,5420,7010,24891,3797,4959,2551,\n",
    "6410,4359,6521,5707,14934,8175,2498,3550,5701]\n",
    "energy2012List (zużycie energii na osobę w 2012 roku) o wartościach:\n",
    "[2118,8507,3698,7987,4762,3819,4057,6305,6039,6689,15687,7344,7270,5511,3919,\n",
    "53203,5665,5398,3588,3608,14696,3626,4761,5416,6871,23658,3899,4736,2604,\n",
    "6617,4387,6778,5573,14290,7886,2794,3641,5452]\n",
    "3. Dla każdej z tych zmiennych utwórz obiekt serii o nazwach jak niżej, a potem wyświetl je:\n",
    "namesSeries\n",
    "energy2010Series\n",
    "energy2012Series\n",
    "4. W zmiennej mean2010 zapisz średnią wartość zużycia prądu w całej Europie w 2010 roku. Wyświetl tą\n",
    "wartość\n",
    "5. W zmiennej mean2012 zapisz średnią wartość zużycia prądu w całej Europie w 2012 roku. Wyświetl tą\n",
    "wartość\n",
    "6. W zmiennej filterAboveMean2010 zapisz wynik porównania wartości serii energy2010Series z wartością\n",
    "średnią mean2010. W porównaniu badaj, czy wartość zużycia prądu w danym kraju jest większa od wartości\n",
    "średniej za rok 2010\n",
    "7. W zmiennej filterAboveMean2012 zapisz wynik porównania wartości serii energy2012Series z wartością\n",
    "średnią mean2012. W wyniku porównania badaj, czy wartość zużycia prądu w danym kraju jest większa od\n",
    "wartości średniej za rok 2012\n",
    "8. Wyświetl kraje z serii namesSeries, które w roku 2010 i w roku 2012 zużywały prąd w ilości powyżej średniej\n",
    "za dany rok\n",
    "9. W zmiennej filterBelowMean2010 zapisz wynik porównania wartości serii energy2010Series z wartością\n",
    "średnią mean2010. W porównaniu badaj, czy wartość zużycia prądu w danym kraju jest mniejsza od wartości\n",
    "średniej za rok 2010\n",
    "10. Sprawdź czy są kraje, które w 2010 roku zużywały mniej prądu niż średnia za 2010, ale w 2012 znalazły się\n",
    "powyżej tej średniej\n",
    "11. Czy z tej analizy można wyciągnąć jakieś wnioski (nawet dość oczywiste)?"
   ]
  },
  {
   "cell_type": "code",
   "execution_count": 154,
   "metadata": {},
   "outputs": [],
   "source": [
    "# Utwórz następujące zmienne. Dla każdej z tych zmiennych utwórz obiekt serii o nazwach jak niżej, a potem wyświetl je:\n",
    "# namesSeries\n",
    "# energy2010Series\n",
    "# energy2012Series\n",
    "\n",
    "namesList = ['Albania','Austria','Belarus',\n",
    "'Belgium','Bulgaria','Croatia','Cyprus','Czech Republic','Denmark','Estonia',\n",
    "'Finland','France','Germany','Greece','Hungary','Iceland','Ireland','Italy',\n",
    "'Latvia','Lithuania','Luxembourg','Macedonia','Malta','Montenegro','Netherlands',\n",
    "'Norway','Poland','Portugal','Romania','Russia','Serbia','Slovenia','Spain', 'Sweden','Switzerland', \n",
    "'United Kingdom','Turkey','Ukraine']\n",
    "\n",
    "energy2010List = [1947,8347,3564,8369,4560,3814,4623,6348,6328,6506,16483,7736,7264,5318,3876,\n",
    "51440,5911,5494,3230,3471,16830,3521,4171,5420,7010,24891,3797,4959,2551,\n",
    "6410,4359,6521,5707,14934,8175,2498,3550,5701]\n",
    "\n",
    "energy2012List = [2118,8507,3698,7987,4762,3819,4057,6305,6039,6689,15687,7344,7270,5511,3919,\n",
    "53203,5665,5398,3588,3608,14696,3626,4761,5416,6871,23658,3899,4736,2604,\n",
    "6617,4387,6778,5573,14290,7886,2794,3641,5452]"
   ]
  },
  {
   "cell_type": "code",
   "execution_count": 155,
   "metadata": {},
   "outputs": [
    {
     "data": {
      "text/plain": [
       "0            Albania\n",
       "1            Austria\n",
       "2            Belarus\n",
       "3            Belgium\n",
       "4           Bulgaria\n",
       "5            Croatia\n",
       "6             Cyprus\n",
       "7     Czech Republic\n",
       "8            Denmark\n",
       "9            Estonia\n",
       "10           Finland\n",
       "11            France\n",
       "12           Germany\n",
       "13            Greece\n",
       "14           Hungary\n",
       "15           Iceland\n",
       "16           Ireland\n",
       "17             Italy\n",
       "18            Latvia\n",
       "19         Lithuania\n",
       "20        Luxembourg\n",
       "21         Macedonia\n",
       "22             Malta\n",
       "23        Montenegro\n",
       "24       Netherlands\n",
       "25            Norway\n",
       "26            Poland\n",
       "27          Portugal\n",
       "28           Romania\n",
       "29            Russia\n",
       "30            Serbia\n",
       "31          Slovenia\n",
       "32             Spain\n",
       "33            Sweden\n",
       "34       Switzerland\n",
       "35    United Kingdom\n",
       "36            Turkey\n",
       "37           Ukraine\n",
       "dtype: object"
      ]
     },
     "execution_count": 155,
     "metadata": {},
     "output_type": "execute_result"
    }
   ],
   "source": [
    "namesSeries = pd.Series(namesList)\n",
    "namesSeries"
   ]
  },
  {
   "cell_type": "code",
   "execution_count": 156,
   "metadata": {},
   "outputs": [
    {
     "data": {
      "text/plain": [
       "0      1947\n",
       "1      8347\n",
       "2      3564\n",
       "3      8369\n",
       "4      4560\n",
       "5      3814\n",
       "6      4623\n",
       "7      6348\n",
       "8      6328\n",
       "9      6506\n",
       "10    16483\n",
       "11     7736\n",
       "12     7264\n",
       "13     5318\n",
       "14     3876\n",
       "15    51440\n",
       "16     5911\n",
       "17     5494\n",
       "18     3230\n",
       "19     3471\n",
       "20    16830\n",
       "21     3521\n",
       "22     4171\n",
       "23     5420\n",
       "24     7010\n",
       "25    24891\n",
       "26     3797\n",
       "27     4959\n",
       "28     2551\n",
       "29     6410\n",
       "30     4359\n",
       "31     6521\n",
       "32     5707\n",
       "33    14934\n",
       "34     8175\n",
       "35     2498\n",
       "36     3550\n",
       "37     5701\n",
       "dtype: int64"
      ]
     },
     "execution_count": 156,
     "metadata": {},
     "output_type": "execute_result"
    }
   ],
   "source": [
    "energy2010Series = pd.Series(energy2010List)\n",
    "energy2010Series"
   ]
  },
  {
   "cell_type": "code",
   "execution_count": 157,
   "metadata": {},
   "outputs": [
    {
     "data": {
      "text/plain": [
       "0      2118\n",
       "1      8507\n",
       "2      3698\n",
       "3      7987\n",
       "4      4762\n",
       "5      3819\n",
       "6      4057\n",
       "7      6305\n",
       "8      6039\n",
       "9      6689\n",
       "10    15687\n",
       "11     7344\n",
       "12     7270\n",
       "13     5511\n",
       "14     3919\n",
       "15    53203\n",
       "16     5665\n",
       "17     5398\n",
       "18     3588\n",
       "19     3608\n",
       "20    14696\n",
       "21     3626\n",
       "22     4761\n",
       "23     5416\n",
       "24     6871\n",
       "25    23658\n",
       "26     3899\n",
       "27     4736\n",
       "28     2604\n",
       "29     6617\n",
       "30     4387\n",
       "31     6778\n",
       "32     5573\n",
       "33    14290\n",
       "34     7886\n",
       "35     2794\n",
       "36     3641\n",
       "37     5452\n",
       "dtype: int64"
      ]
     },
     "execution_count": 157,
     "metadata": {},
     "output_type": "execute_result"
    }
   ],
   "source": [
    "energy2012Series = pd.Series(energy2012List)\n",
    "energy2012Series"
   ]
  },
  {
   "cell_type": "code",
   "execution_count": 158,
   "metadata": {},
   "outputs": [
    {
     "data": {
      "text/plain": [
       "7779.8421052631575"
      ]
     },
     "execution_count": 158,
     "metadata": {},
     "output_type": "execute_result"
    }
   ],
   "source": [
    "# W zmiennej mean2010 zapisz średnią wartość zużycia prądu w całej Europie w 2010 roku. Wyświetl tą\n",
    "# wartość\n",
    "mean2010 = energy2010Series.mean()\n",
    "mean2010"
   ]
  },
  {
   "cell_type": "code",
   "execution_count": 159,
   "metadata": {},
   "outputs": [
    {
     "data": {
      "text/plain": [
       "7706.815789473684"
      ]
     },
     "execution_count": 159,
     "metadata": {},
     "output_type": "execute_result"
    }
   ],
   "source": [
    "# W zmiennej mean2012 zapisz średnią wartość zużycia prądu w całej Europie w 2012 roku. Wyświetl tą\n",
    "# wartość\n",
    "mean2012 = energy2012Series.mean()\n",
    "mean2012"
   ]
  },
  {
   "cell_type": "code",
   "execution_count": 161,
   "metadata": {},
   "outputs": [
    {
     "data": {
      "text/plain": [
       "0     False\n",
       "1      True\n",
       "2     False\n",
       "3      True\n",
       "4     False\n",
       "5     False\n",
       "6     False\n",
       "7     False\n",
       "8     False\n",
       "9     False\n",
       "10     True\n",
       "11    False\n",
       "12    False\n",
       "13    False\n",
       "14    False\n",
       "15     True\n",
       "16    False\n",
       "17    False\n",
       "18    False\n",
       "19    False\n",
       "20     True\n",
       "21    False\n",
       "22    False\n",
       "23    False\n",
       "24    False\n",
       "25     True\n",
       "26    False\n",
       "27    False\n",
       "28    False\n",
       "29    False\n",
       "30    False\n",
       "31    False\n",
       "32    False\n",
       "33     True\n",
       "34     True\n",
       "35    False\n",
       "36    False\n",
       "37    False\n",
       "dtype: bool"
      ]
     },
     "execution_count": 161,
     "metadata": {},
     "output_type": "execute_result"
    }
   ],
   "source": [
    "# W zmiennej filterAboveMean2010 zapisz wynik porównania wartości serii energy2010Series z wartością\n",
    "# średnią mean2010. W porównaniu badaj, czy wartość zużycia prądu w danym kraju jest większa od wartości\n",
    "# średniej za rok 2010\n",
    "filterAboveMean2010 = energy2010Series > mean2010\n",
    "filterAboveMean2010"
   ]
  },
  {
   "cell_type": "code",
   "execution_count": 162,
   "metadata": {},
   "outputs": [
    {
     "data": {
      "text/plain": [
       "0     False\n",
       "1      True\n",
       "2     False\n",
       "3      True\n",
       "4     False\n",
       "5     False\n",
       "6     False\n",
       "7     False\n",
       "8     False\n",
       "9     False\n",
       "10     True\n",
       "11    False\n",
       "12    False\n",
       "13    False\n",
       "14    False\n",
       "15     True\n",
       "16    False\n",
       "17    False\n",
       "18    False\n",
       "19    False\n",
       "20     True\n",
       "21    False\n",
       "22    False\n",
       "23    False\n",
       "24    False\n",
       "25     True\n",
       "26    False\n",
       "27    False\n",
       "28    False\n",
       "29    False\n",
       "30    False\n",
       "31    False\n",
       "32    False\n",
       "33     True\n",
       "34     True\n",
       "35    False\n",
       "36    False\n",
       "37    False\n",
       "dtype: bool"
      ]
     },
     "execution_count": 162,
     "metadata": {},
     "output_type": "execute_result"
    }
   ],
   "source": [
    "# W zmiennej filterAboveMean2012 zapisz wynik porównania wartości serii energy2012Series z wartością\n",
    "# średnią mean2012. W wyniku porównania badaj, czy wartość zużycia prądu w danym kraju jest większa od\n",
    "# wartości średniej za rok 2012\n",
    "filterAboveMean2012 = energy2012Series > mean2012\n",
    "filterAboveMean2012"
   ]
  },
  {
   "cell_type": "code",
   "execution_count": 164,
   "metadata": {},
   "outputs": [
    {
     "data": {
      "text/plain": [
       "1         Austria\n",
       "3         Belgium\n",
       "10        Finland\n",
       "15        Iceland\n",
       "20     Luxembourg\n",
       "25         Norway\n",
       "33         Sweden\n",
       "34    Switzerland\n",
       "dtype: object"
      ]
     },
     "execution_count": 164,
     "metadata": {},
     "output_type": "execute_result"
    }
   ],
   "source": [
    "# Wyświetl kraje z serii namesSeries, które w roku 2010 i w roku 2012 zużywały prąd w ilości powyżej średniej\n",
    "# za dany rok\n",
    "namesSeries.where(filterAboveMean2010 & filterAboveMean2012).dropna()"
   ]
  },
  {
   "cell_type": "code",
   "execution_count": 165,
   "metadata": {},
   "outputs": [
    {
     "data": {
      "text/plain": [
       "0      True\n",
       "1     False\n",
       "2      True\n",
       "3     False\n",
       "4      True\n",
       "5      True\n",
       "6      True\n",
       "7      True\n",
       "8      True\n",
       "9      True\n",
       "10    False\n",
       "11     True\n",
       "12     True\n",
       "13     True\n",
       "14     True\n",
       "15    False\n",
       "16     True\n",
       "17     True\n",
       "18     True\n",
       "19     True\n",
       "20    False\n",
       "21     True\n",
       "22     True\n",
       "23     True\n",
       "24     True\n",
       "25    False\n",
       "26     True\n",
       "27     True\n",
       "28     True\n",
       "29     True\n",
       "30     True\n",
       "31     True\n",
       "32     True\n",
       "33    False\n",
       "34    False\n",
       "35     True\n",
       "36     True\n",
       "37     True\n",
       "dtype: bool"
      ]
     },
     "execution_count": 165,
     "metadata": {},
     "output_type": "execute_result"
    }
   ],
   "source": [
    "# W zmiennej filterBelowMean2010 zapisz wynik porównania wartości serii energy2010Series z wartością\n",
    "# średnią mean2010. W porównaniu badaj, czy wartość zużycia prądu w danym kraju jest mniejsza od wartości\n",
    "# średniej za rok 2010\n",
    "filterBelowMean2010 = energy2010Series < mean2010\n",
    "filterBelowMean2010"
   ]
  },
  {
   "cell_type": "code",
   "execution_count": 168,
   "metadata": {},
   "outputs": [
    {
     "data": {
      "text/plain": [
       "Series([], dtype: object)"
      ]
     },
     "execution_count": 168,
     "metadata": {},
     "output_type": "execute_result"
    }
   ],
   "source": [
    "# Sprawdź czy są kraje, które w 2010 roku zużywały mniej prądu niż średnia za 2010, ale w 2012 znalazły się\n",
    "# powyżej tej średniej\n",
    "namesSeries.where(filterBelowMean2010 & filterAboveMean2012).dropna()"
   ]
  },
  {
   "cell_type": "markdown",
   "metadata": {},
   "source": [
    "# LAB - S02-L010 - Sortowanie danych data series"
   ]
  },
  {
   "cell_type": "markdown",
   "metadata": {},
   "source": [
    "1. Zaimportuj moduły: pandas, numpy, matplotlib (tylko pyplot), math i nadaj im standardowe aliasy\n",
    "2. Z pliku StackOverflowDeveloperSurvey.csv wczytaj kolumnę Salary jako Data Series i zapisz ją w zmiennej\n",
    "salary. Wczytując elementy pomiń te ankiety, w których respondenci nie podali kwoty wynagrodzenia (użyj\n",
    "dropna()). Wyświetl 5 pierwszych elementó serii\n",
    "3. Posortuj dane wg wynagrodzenia malejąco (wyświetl tylko 5 pierwszych pozycji).\n",
    "4. Posortuj dane wg wynagrodzenia rosnąco (wyświetl tylko 5 pierwszych pozycji).\n",
    "5. Zmień parametry sortowania tak, aby lista została posortowana wewnętrznie na stałe wg wynagrodzenia\n",
    "malejąco. Wyświetl kilka początkowych elementów, aby przekonać się że obiekt jest teraz posortowany jak\n",
    "należy.\n",
    "6. Posortuj dane wg indeksu malejąco\n",
    "7. Zapisz w zmiennej maxSalaries 100 największych wynagrodzeń z serii Salary\n",
    "8. Zapisz w zmiennej minSalaries 100 najniższych wynagrodzeń z serii Salary\n",
    "9. Wyznacz średnią wartość z wynagrodzeń znajdujących się w serii maxSalaries\n",
    "10. Wyznacz średnią wartiść z wynagrodzeń znajdujących się w serii minSalaries"
   ]
  },
  {
   "cell_type": "code",
   "execution_count": 2,
   "metadata": {},
   "outputs": [
    {
     "data": {
      "text/plain": [
       "2     113750.0\n",
       "14    100000.0\n",
       "17    130000.0\n",
       "18     82500.0\n",
       "22    100764.0\n",
       "Name: Salary, dtype: float64"
      ]
     },
     "execution_count": 2,
     "metadata": {},
     "output_type": "execute_result"
    }
   ],
   "source": [
    "# Z pliku StackOverflowDeveloperSurvey.csv wczytaj kolumnę Salary jako Data Series i zapisz ją w zmiennej\n",
    "# salary. Wczytując elementy pomiń te ankiety, w których respondenci nie podali kwoty wynagrodzenia (użyj\n",
    "# dropna()). Wyświetl 5 pierwszych elementów serii\n",
    "stack_csv = pd.read_csv('C:\\PythonScripts\\course-files\\StackOverflowDeveloperSurvey.csv')\n",
    "salary = pd.Series(stack_csv['Salary']).dropna()\n",
    "salary.head()"
   ]
  },
  {
   "cell_type": "code",
   "execution_count": 6,
   "metadata": {},
   "outputs": [
    {
     "data": {
      "text/plain": [
       "31600    197000.0\n",
       "27943    195000.0\n",
       "6743     195000.0\n",
       "41398    195000.0\n",
       "1696     195000.0\n",
       "Name: Salary, dtype: float64"
      ]
     },
     "execution_count": 6,
     "metadata": {},
     "output_type": "execute_result"
    }
   ],
   "source": [
    "# Posortuj dane wg wynagrodzenia malejąco (wyświetl tylko 5 pierwszych pozycji).\n",
    "salary.sort_values(ascending=False).head(5)"
   ]
  },
  {
   "cell_type": "code",
   "execution_count": 15,
   "metadata": {},
   "outputs": [
    {
     "data": {
      "text/plain": [
       "51144    0.000000\n",
       "4517     0.000000\n",
       "2951     0.000000\n",
       "23953    0.000000\n",
       "23907    0.000000\n",
       "44841    0.000000\n",
       "9082     0.014682\n",
       "23414    0.029364\n",
       "9133     0.044046\n",
       "30627    0.044046\n",
       "Name: Salary, dtype: float64"
      ]
     },
     "execution_count": 15,
     "metadata": {},
     "output_type": "execute_result"
    }
   ],
   "source": [
    "# Posortuj dane wg wynagrodzenia rosnąco (wyświetl tylko 5 pierwszych pozycji).\n",
    "salary.sort_values(ascending=True).head(10)"
   ]
  },
  {
   "cell_type": "code",
   "execution_count": 9,
   "metadata": {},
   "outputs": [
    {
     "data": {
      "text/plain": [
       "31600    197000.0\n",
       "27943    195000.0\n",
       "6743     195000.0\n",
       "41398    195000.0\n",
       "1696     195000.0\n",
       "18237    195000.0\n",
       "32622    194000.0\n",
       "6717     193750.0\n",
       "30550    193000.0\n",
       "14363    192000.0\n",
       "Name: Salary, dtype: float64"
      ]
     },
     "execution_count": 9,
     "metadata": {},
     "output_type": "execute_result"
    }
   ],
   "source": [
    "# Zmień parametry sortowania tak, aby lista została posortowana wewnętrznie na stałe wg wynagrodzenia\n",
    "# malejąco. Wyświetl kilka początkowych elementów, aby przekonać się że obiekt jest teraz posortowany jak\n",
    "# należy.\n",
    "salary.sort_values(ascending=False, inplace=True)\n",
    "salary.head(10)"
   ]
  },
  {
   "cell_type": "code",
   "execution_count": 14,
   "metadata": {},
   "outputs": [
    {
     "data": {
      "text/plain": [
       "51390     40000.000000\n",
       "51387     58000.000000\n",
       "51382     32258.064516\n",
       "51378    107526.881720\n",
       "51371     74193.548387\n",
       "51361       440.463955\n",
       "51360     59808.612440\n",
       "51356     15483.870968\n",
       "51355     33750.000000\n",
       "51343      4228.453972\n",
       "51340      6460.138012\n",
       "51335     88750.000000\n",
       "51328      4404.639554\n",
       "51319    105000.000000\n",
       "51315    140000.000000\n",
       "Name: Salary, dtype: float64"
      ]
     },
     "execution_count": 14,
     "metadata": {},
     "output_type": "execute_result"
    }
   ],
   "source": [
    "# Posortuj dane wg indeksu malejąco\n",
    "salary.sort_index(ascending=False).head(15)"
   ]
  },
  {
   "cell_type": "code",
   "execution_count": 13,
   "metadata": {},
   "outputs": [
    {
     "data": {
      "text/plain": [
       "31600    197000.000000\n",
       "27943    195000.000000\n",
       "6743     195000.000000\n",
       "41398    195000.000000\n",
       "1696     195000.000000\n",
       "18237    195000.000000\n",
       "32622    194000.000000\n",
       "6717     193750.000000\n",
       "30550    193000.000000\n",
       "2370     192000.000000\n",
       "14363    192000.000000\n",
       "39064    190000.000000\n",
       "6594     190000.000000\n",
       "44319    190000.000000\n",
       "22317    190000.000000\n",
       "1352     190000.000000\n",
       "17572    190000.000000\n",
       "39222    190000.000000\n",
       "14782    188000.000000\n",
       "14798    187500.000000\n",
       "9936     187200.000000\n",
       "48608    187000.000000\n",
       "42181    185000.000000\n",
       "15963    185000.000000\n",
       "220      185000.000000\n",
       "39190    185000.000000\n",
       "46888    185000.000000\n",
       "2138     185000.000000\n",
       "12756    185000.000000\n",
       "43989    184000.000000\n",
       "             ...      \n",
       "31506    175000.000000\n",
       "6503     175000.000000\n",
       "2562     175000.000000\n",
       "15088    175000.000000\n",
       "19522    175000.000000\n",
       "10201    175000.000000\n",
       "15030    175000.000000\n",
       "16471    175000.000000\n",
       "2413     174242.424242\n",
       "1145     174000.000000\n",
       "46969    174000.000000\n",
       "43557    173716.668114\n",
       "14162    173300.000000\n",
       "1646     173000.000000\n",
       "48474    173000.000000\n",
       "5985     173000.000000\n",
       "49327    172300.000000\n",
       "4310     172043.010753\n",
       "41246    172000.000000\n",
       "2571     172000.000000\n",
       "49279    172000.000000\n",
       "14491    172000.000000\n",
       "21471    172000.000000\n",
       "45443    171000.000000\n",
       "10495    170940.170940\n",
       "291      170000.000000\n",
       "41974    170000.000000\n",
       "24272    170000.000000\n",
       "274      170000.000000\n",
       "6429     170000.000000\n",
       "Name: Salary, Length: 100, dtype: float64"
      ]
     },
     "execution_count": 13,
     "metadata": {},
     "output_type": "execute_result"
    }
   ],
   "source": [
    "# Zapisz w zmiennej maxSalaries 100 największych wynagrodzeń z serii Salary\n",
    "maxSalaries = salary.sort_values(ascending=False).head(100)\n",
    "maxSalaries"
   ]
  },
  {
   "cell_type": "code",
   "execution_count": 16,
   "metadata": {},
   "outputs": [
    {
     "data": {
      "text/plain": [
       "51144      0.000000\n",
       "4517       0.000000\n",
       "2951       0.000000\n",
       "23953      0.000000\n",
       "23907      0.000000\n",
       "44841      0.000000\n",
       "9082       0.014682\n",
       "23414      0.029364\n",
       "9133       0.044046\n",
       "30627      0.044046\n",
       "29459      0.044046\n",
       "28716      0.058729\n",
       "16895      0.058729\n",
       "47479      0.102775\n",
       "3011       0.117457\n",
       "50101      0.146821\n",
       "47421      0.176186\n",
       "27476      0.190868\n",
       "46743      0.660696\n",
       "8154       0.757576\n",
       "7078       1.495774\n",
       "43928      1.515152\n",
       "43491      1.715774\n",
       "46169      1.744186\n",
       "11867      2.179837\n",
       "40052      3.086991\n",
       "24424      5.000000\n",
       "28431      6.354249\n",
       "35441      6.774950\n",
       "48162      7.000000\n",
       "            ...    \n",
       "43731    102.000000\n",
       "11847    106.060606\n",
       "18700    123.479657\n",
       "21720    124.798121\n",
       "43054    127.000440\n",
       "40371    130.000000\n",
       "49438    135.000000\n",
       "29864    137.490118\n",
       "3991     138.000000\n",
       "10413    138.914614\n",
       "32853    140.000000\n",
       "21864    146.821318\n",
       "20186    146.821318\n",
       "30351    146.821318\n",
       "38860    147.000000\n",
       "40887    150.000000\n",
       "47199    150.000000\n",
       "19384    150.000000\n",
       "8458     150.375940\n",
       "3569     161.503450\n",
       "28757    164.762884\n",
       "45230    165.000000\n",
       "26091    174.000000\n",
       "23914    176.185582\n",
       "26905    176.185582\n",
       "15179    176.185582\n",
       "33212    178.784267\n",
       "50569    198.208780\n",
       "48674    198.649186\n",
       "1077     200.000000\n",
       "Name: Salary, Length: 100, dtype: float64"
      ]
     },
     "execution_count": 16,
     "metadata": {},
     "output_type": "execute_result"
    }
   ],
   "source": [
    "# Zapisz w zmiennej minSalaries 100 najniższych wynagrodzeń z serii Salary\n",
    "minSalaries = salary.sort_values(ascending=True).head(100)\n",
    "minSalaries"
   ]
  },
  {
   "cell_type": "code",
   "execution_count": 17,
   "metadata": {},
   "outputs": [
    {
     "data": {
      "text/plain": [
       "180198.1045586777"
      ]
     },
     "execution_count": 17,
     "metadata": {},
     "output_type": "execute_result"
    }
   ],
   "source": [
    "# Wyznacz średnią wartość z wynagrodzeń znajdujących się w serii maxSalaries\n",
    "maxSalaries.mean()"
   ]
  },
  {
   "cell_type": "code",
   "execution_count": 18,
   "metadata": {},
   "outputs": [
    {
     "data": {
      "text/plain": [
       "67.08388907133795"
      ]
     },
     "execution_count": 18,
     "metadata": {},
     "output_type": "execute_result"
    }
   ],
   "source": [
    "# Wyznacz średnią wartość z wynagrodzeń znajdujących się w serii minSalaries\n",
    "minSalaries.mean()"
   ]
  },
  {
   "cell_type": "code",
   "execution_count": 19,
   "metadata": {},
   "outputs": [
    {
     "data": {
      "text/plain": [
       "True"
      ]
     },
     "execution_count": 19,
     "metadata": {},
     "output_type": "execute_result"
    }
   ],
   "source": [
    "# Sprawdzanie czy element znajduje się na liście\n",
    "countries = ['PL', 'EN', 'US', 'FR']\n",
    "'PL' in countries"
   ]
  },
  {
   "cell_type": "code",
   "execution_count": 22,
   "metadata": {},
   "outputs": [
    {
     "data": {
      "text/html": [
       "<div>\n",
       "<style scoped>\n",
       "    .dataframe tbody tr th:only-of-type {\n",
       "        vertical-align: middle;\n",
       "    }\n",
       "\n",
       "    .dataframe tbody tr th {\n",
       "        vertical-align: top;\n",
       "    }\n",
       "\n",
       "    .dataframe thead th {\n",
       "        text-align: right;\n",
       "    }\n",
       "</style>\n",
       "<table border=\"1\" class=\"dataframe\">\n",
       "  <thead>\n",
       "    <tr style=\"text-align: right;\">\n",
       "      <th></th>\n",
       "      <th>#</th>\n",
       "      <th>Name</th>\n",
       "      <th>Type 1</th>\n",
       "      <th>Type 2</th>\n",
       "      <th>Total</th>\n",
       "      <th>HP</th>\n",
       "      <th>Attack</th>\n",
       "      <th>Defense</th>\n",
       "      <th>Sp. Atk</th>\n",
       "      <th>Sp. Def</th>\n",
       "      <th>Speed</th>\n",
       "      <th>Generation</th>\n",
       "      <th>Legendary</th>\n",
       "    </tr>\n",
       "  </thead>\n",
       "  <tbody>\n",
       "    <tr>\n",
       "      <th>0</th>\n",
       "      <td>1</td>\n",
       "      <td>Bulbasaur</td>\n",
       "      <td>Grass</td>\n",
       "      <td>Poison</td>\n",
       "      <td>318</td>\n",
       "      <td>45</td>\n",
       "      <td>49</td>\n",
       "      <td>49</td>\n",
       "      <td>65</td>\n",
       "      <td>65</td>\n",
       "      <td>45</td>\n",
       "      <td>1</td>\n",
       "      <td>False</td>\n",
       "    </tr>\n",
       "    <tr>\n",
       "      <th>1</th>\n",
       "      <td>2</td>\n",
       "      <td>Ivysaur</td>\n",
       "      <td>Grass</td>\n",
       "      <td>Poison</td>\n",
       "      <td>405</td>\n",
       "      <td>60</td>\n",
       "      <td>62</td>\n",
       "      <td>63</td>\n",
       "      <td>80</td>\n",
       "      <td>80</td>\n",
       "      <td>60</td>\n",
       "      <td>1</td>\n",
       "      <td>False</td>\n",
       "    </tr>\n",
       "    <tr>\n",
       "      <th>2</th>\n",
       "      <td>3</td>\n",
       "      <td>Venusaur</td>\n",
       "      <td>Grass</td>\n",
       "      <td>Poison</td>\n",
       "      <td>525</td>\n",
       "      <td>80</td>\n",
       "      <td>82</td>\n",
       "      <td>83</td>\n",
       "      <td>100</td>\n",
       "      <td>100</td>\n",
       "      <td>80</td>\n",
       "      <td>1</td>\n",
       "      <td>False</td>\n",
       "    </tr>\n",
       "    <tr>\n",
       "      <th>3</th>\n",
       "      <td>3</td>\n",
       "      <td>VenusaurMega Venusaur</td>\n",
       "      <td>Grass</td>\n",
       "      <td>Poison</td>\n",
       "      <td>625</td>\n",
       "      <td>80</td>\n",
       "      <td>100</td>\n",
       "      <td>123</td>\n",
       "      <td>122</td>\n",
       "      <td>120</td>\n",
       "      <td>80</td>\n",
       "      <td>1</td>\n",
       "      <td>False</td>\n",
       "    </tr>\n",
       "    <tr>\n",
       "      <th>4</th>\n",
       "      <td>4</td>\n",
       "      <td>Charmander</td>\n",
       "      <td>Fire</td>\n",
       "      <td>NaN</td>\n",
       "      <td>309</td>\n",
       "      <td>39</td>\n",
       "      <td>52</td>\n",
       "      <td>43</td>\n",
       "      <td>60</td>\n",
       "      <td>50</td>\n",
       "      <td>65</td>\n",
       "      <td>1</td>\n",
       "      <td>False</td>\n",
       "    </tr>\n",
       "  </tbody>\n",
       "</table>\n",
       "</div>"
      ],
      "text/plain": [
       "   #                   Name Type 1  Type 2  Total  HP  Attack  Defense  \\\n",
       "0  1              Bulbasaur  Grass  Poison    318  45      49       49   \n",
       "1  2                Ivysaur  Grass  Poison    405  60      62       63   \n",
       "2  3               Venusaur  Grass  Poison    525  80      82       83   \n",
       "3  3  VenusaurMega Venusaur  Grass  Poison    625  80     100      123   \n",
       "4  4             Charmander   Fire     NaN    309  39      52       43   \n",
       "\n",
       "   Sp. Atk  Sp. Def  Speed  Generation  Legendary  \n",
       "0       65       65     45           1      False  \n",
       "1       80       80     60           1      False  \n",
       "2      100      100     80           1      False  \n",
       "3      122      120     80           1      False  \n",
       "4       60       50     65           1      False  "
      ]
     },
     "execution_count": 22,
     "metadata": {},
     "output_type": "execute_result"
    }
   ],
   "source": [
    "pokemon = pd.read_csv('C:\\PythonScripts\\course-files\\pokemon.csv')\n",
    "pokemon.head()"
   ]
  },
  {
   "cell_type": "code",
   "execution_count": 24,
   "metadata": {},
   "outputs": [
    {
     "data": {
      "text/plain": [
       "0                Bulbasaur\n",
       "1                  Ivysaur\n",
       "2                 Venusaur\n",
       "3    VenusaurMega Venusaur\n",
       "4               Charmander\n",
       "Name: Name, dtype: object"
      ]
     },
     "execution_count": 24,
     "metadata": {},
     "output_type": "execute_result"
    }
   ],
   "source": [
    "pok_name = pd.Series(pokemon['Name'])\n",
    "pok_name.head(5)"
   ]
  },
  {
   "cell_type": "code",
   "execution_count": 25,
   "metadata": {},
   "outputs": [
    {
     "data": {
      "text/plain": [
       "False"
      ]
     },
     "execution_count": 25,
     "metadata": {},
     "output_type": "execute_result"
    }
   ],
   "source": [
    "# Sprawdzenie czy element znajduje się w serii -> przeszukuje po indexie dlatego False\n",
    "'Venusaur' in pok_name"
   ]
  },
  {
   "cell_type": "code",
   "execution_count": 26,
   "metadata": {},
   "outputs": [
    {
     "data": {
      "text/plain": [
       "True"
      ]
     },
     "execution_count": 26,
     "metadata": {},
     "output_type": "execute_result"
    }
   ],
   "source": [
    "# Sprawdzenie po wartościach\n",
    "'Venusaur' in pok_name.values"
   ]
  },
  {
   "cell_type": "code",
   "execution_count": 32,
   "metadata": {},
   "outputs": [
    {
     "data": {
      "text/plain": [
       "True"
      ]
     },
     "execution_count": 32,
     "metadata": {},
     "output_type": "execute_result"
    }
   ],
   "source": [
    "# Sprawdzenie po indexach\n",
    "750 in pok_name.index"
   ]
  },
  {
   "cell_type": "markdown",
   "metadata": {},
   "source": [
    "# LAB - S02-L011 - Sprawdzanie czy element jest na liście"
   ]
  },
  {
   "cell_type": "markdown",
   "metadata": {},
   "source": [
    "1. Zaimportuj moduły: pandas, numpy, matplotlib (tylko pyplot), math i nadaj im standardowe aliasy\n",
    "2. Z pliku StackOverflowDeveloperSurvey.csv wczytaj kolumnę Country jako Data Series i zapisz ją w zmiennej\n",
    "countries. Wczytując elementy pomiń te ankiety, w których respondenci nie podali kraju (użyj dropna()).\n",
    "Wyświetl 5 pierwszych elementów serii\n",
    "3. Sprawdź, czy 'Spain' jest w serii countries (tu skorzystaj tylko z nazwy serii, bez odwołania do jego\n",
    "właściwości: index ani values). Jak uzasadnić wynik?\n",
    "4. Sprawdź, czy 'Spain' jest w serii countries (teraz skorzystaj z odpowiedniej właściwości serii, tak aby\n",
    "sprawdzanie odbyło się po wartościach, a nie indeksie). Jak uzasadnić wynik?\n",
    "5. Sprawdź czy na liście krajów jest kraj \"Wonderland\" (sprawdzając odwołuj się do odpowiedniej właściwości)"
   ]
  },
  {
   "cell_type": "code",
   "execution_count": 33,
   "metadata": {},
   "outputs": [
    {
     "data": {
      "text/plain": [
       "0     United States\n",
       "1    United Kingdom\n",
       "2    United Kingdom\n",
       "3     United States\n",
       "4       Switzerland\n",
       "Name: Country, dtype: object"
      ]
     },
     "execution_count": 33,
     "metadata": {},
     "output_type": "execute_result"
    }
   ],
   "source": [
    "# Z pliku StackOverflowDeveloperSurvey.csv wczytaj kolumnę Country jako Data Series i zapisz ją w zmiennej\n",
    "# countries. Wczytując elementy pomiń te ankiety, w których respondenci nie podali kraju (użyj dropna()).\n",
    "# Wyświetl 5 pierwszych elementów serii\n",
    "stack_csv = pd.read_csv(\"C:\\PythonScripts\\course-files\\StackOverflowDeveloperSurvey.csv\")\n",
    "countries = pd.Series(stack_csv['Country'])\n",
    "countries.head()"
   ]
  },
  {
   "cell_type": "code",
   "execution_count": 35,
   "metadata": {},
   "outputs": [
    {
     "data": {
      "text/plain": [
       "False"
      ]
     },
     "execution_count": 35,
     "metadata": {},
     "output_type": "execute_result"
    }
   ],
   "source": [
    "# Sprawdź, czy 'Spain' jest w serii countries (tu skorzystaj tylko z nazwy serii, bez odwołania do jego\n",
    "# właściwości: index ani values). Jak uzasadnić wynik?\n",
    "'Spain' in countries"
   ]
  },
  {
   "cell_type": "code",
   "execution_count": 36,
   "metadata": {},
   "outputs": [
    {
     "data": {
      "text/plain": [
       "True"
      ]
     },
     "execution_count": 36,
     "metadata": {},
     "output_type": "execute_result"
    }
   ],
   "source": [
    "# Sprawdź, czy 'Spain' jest w serii countries (teraz skorzystaj z odpowiedniej właściwości serii, tak aby\n",
    "# sprawdzanie odbyło się po wartościach, a nie indeksie). Jak uzasadnić wynik?\n",
    "'Spain' in countries.values"
   ]
  },
  {
   "cell_type": "code",
   "execution_count": 37,
   "metadata": {},
   "outputs": [
    {
     "data": {
      "text/plain": [
       "False"
      ]
     },
     "execution_count": 37,
     "metadata": {},
     "output_type": "execute_result"
    }
   ],
   "source": [
    "# Sprawdź czy na liście krajów jest kraj \"Wonderland\" (sprawdzając odwołuj się do odpowiedniej właściwości)\n",
    "'Wonderland' in countries.values"
   ]
  },
  {
   "cell_type": "markdown",
   "metadata": {},
   "source": [
    "# LAB - S02-L012 - Pobieranie wartości po indeksie"
   ]
  },
  {
   "cell_type": "markdown",
   "metadata": {},
   "source": [
    "1. Zaimportuj moduł pandas i nadaj mu standardowy alias. Do zmiennej surveys zapisz data series pobierając\n",
    "wartości z pliku StackOverflowDevelopersSurvey.csv kolumnę CompanySize. Wyświetl pięć pierwszych\n",
    "pozycji tej serii.\n",
    "2. Wyświetl wartość z pozycji 3 (indeks 3)\n",
    "3. Wyświetl elementy z pozycji 1-10 włącznie. Czy wartość na trzeciej pozycji jest zgodna z wynikiem z\n",
    "poprzedniego punktu?\n",
    "4. Wyświetl wartość z pozycji 12345 (indeks 12345)\n",
    "5. Wyświetl elementy z pozycji 12341 - 12350 włącznie. Czy wartość na pozycji 12345 jest zgodna z wynikiem z\n",
    "poprzedniego punktu?\n",
    "6. Posortuj serię surveys korzystając z parametru inplace=True\n",
    "7. Wyświetl wartość z pozycji 3 (indeks 3), czy to nadal ta sama wartość co poprzednio?\n",
    "8. Wyświetl elementy z pozycji 1-10 włącznie. Czy wartość na trzeciej pozycji jest zgodna z wynikiem z\n",
    "poprzedniego punktu? Czy ten wynik nie jest dziwny??\n",
    "9. Wyświetl wartość z pozycji 12345 (indeks 12345), czy to nadal ta sama wartość co poprzednio?\n",
    "10. Wyświetl elementy z pozycji 1-10 włącznie. Czy wartość na trzeciej pozycji jest zgodna z wynikiem z\n",
    "poprzedniego punktu? Czy ten wynik nie jest dziwny??\n",
    "11. Wykonaj polecenie resetujące indeks (będzie o nim mowa w dalszej części kursu, na razie weź to \"na wiarę\"):\n",
    "surveys.reset_index(drop=True,inplace=True)\n",
    "12. Wykonaj ponownie polecenia z pkt 7 - 10. Czy teraz wyniki bardziej pasują?"
   ]
  },
  {
   "cell_type": "code",
   "execution_count": 38,
   "metadata": {},
   "outputs": [
    {
     "data": {
      "text/plain": [
       "0                         NaN\n",
       "1          20 to 99 employees\n",
       "2    10,000 or more employees\n",
       "3    10,000 or more employees\n",
       "4          10 to 19 employees\n",
       "Name: CompanySize, dtype: object"
      ]
     },
     "execution_count": 38,
     "metadata": {},
     "output_type": "execute_result"
    }
   ],
   "source": [
    "# Zaimportuj moduł pandas i nadaj mu standardowy alias. Do zmiennej surveys zapisz data series pobierając\n",
    "# wartości z pliku StackOverflowDevelopersSurvey.csv kolumnę CompanySize. Wyświetl pięć pierwszych\n",
    "# pozycji tej serii.\n",
    "stack_csv = pd.read_csv(\"C:\\PythonScripts\\course-files\\StackOverflowDeveloperSurvey.csv\")\n",
    "surveys = pd.Series(stack_csv['CompanySize'])\n",
    "surveys.head()"
   ]
  },
  {
   "cell_type": "code",
   "execution_count": 39,
   "metadata": {},
   "outputs": [
    {
     "data": {
      "text/plain": [
       "'10,000 or more employees'"
      ]
     },
     "execution_count": 39,
     "metadata": {},
     "output_type": "execute_result"
    }
   ],
   "source": [
    "# Wyświetl wartość z pozycji 3 (indeks 3)\n",
    "surveys[3]"
   ]
  },
  {
   "cell_type": "code",
   "execution_count": 40,
   "metadata": {},
   "outputs": [
    {
     "data": {
      "text/plain": [
       "1           20 to 99 employees\n",
       "2     10,000 or more employees\n",
       "3     10,000 or more employees\n",
       "4           10 to 19 employees\n",
       "5                          NaN\n",
       "6           20 to 99 employees\n",
       "7      Fewer than 10 employees\n",
       "8     5,000 to 9,999 employees\n",
       "9                          NaN\n",
       "10        100 to 499 employees\n",
       "Name: CompanySize, dtype: object"
      ]
     },
     "execution_count": 40,
     "metadata": {},
     "output_type": "execute_result"
    }
   ],
   "source": [
    "# Wyświetl elementy z pozycji 1-10 włącznie. Czy wartość na trzeciej pozycji jest zgodna z wynikiem z\n",
    "# poprzedniego punktu?\n",
    "surveys[1:11]"
   ]
  },
  {
   "cell_type": "code",
   "execution_count": 41,
   "metadata": {},
   "outputs": [
    {
     "data": {
      "text/plain": [
       "'20 to 99 employees'"
      ]
     },
     "execution_count": 41,
     "metadata": {},
     "output_type": "execute_result"
    }
   ],
   "source": [
    "# Wyświetl wartość z pozycji 12345 (indeks 12345)\n",
    "surveys[12345]"
   ]
  },
  {
   "cell_type": "code",
   "execution_count": 42,
   "metadata": {},
   "outputs": [
    {
     "data": {
      "text/plain": [
       "12341                         NaN\n",
       "12342    1,000 to 4,999 employees\n",
       "12343    10,000 or more employees\n",
       "12344        100 to 499 employees\n",
       "12345          20 to 99 employees\n",
       "12346                         NaN\n",
       "12347     Fewer than 10 employees\n",
       "12348          20 to 99 employees\n",
       "12349          20 to 99 employees\n",
       "12350          20 to 99 employees\n",
       "Name: CompanySize, dtype: object"
      ]
     },
     "execution_count": 42,
     "metadata": {},
     "output_type": "execute_result"
    }
   ],
   "source": [
    "# Wyświetl elementy z pozycji 12341 - 12350 włącznie. Czy wartość na pozycji 12345 jest zgodna z wynikiem z\n",
    "# poprzedniego punktu?\n",
    "surveys[12341:12351]"
   ]
  },
  {
   "cell_type": "code",
   "execution_count": 45,
   "metadata": {},
   "outputs": [
    {
     "data": {
      "text/plain": [
       "51391    10,000 or more employees\n",
       "51390     Fewer than 10 employees\n",
       "51389          10 to 19 employees\n",
       "51388        100 to 499 employees\n",
       "51387        100 to 499 employees\n",
       "51386        100 to 499 employees\n",
       "51385    1,000 to 4,999 employees\n",
       "51384          20 to 99 employees\n",
       "51383                         NaN\n",
       "51382        100 to 499 employees\n",
       "51381    10,000 or more employees\n",
       "51380    10,000 or more employees\n",
       "51379    10,000 or more employees\n",
       "51378     Fewer than 10 employees\n",
       "51377    1,000 to 4,999 employees\n",
       "Name: CompanySize, dtype: object"
      ]
     },
     "execution_count": 45,
     "metadata": {},
     "output_type": "execute_result"
    }
   ],
   "source": [
    "# Posortuj serię surveys korzystając z parametru inplace=True\n",
    "surveys.sort_index(ascending=False, inplace=True)\n",
    "surveys.head(15)"
   ]
  },
  {
   "cell_type": "code",
   "execution_count": 46,
   "metadata": {},
   "outputs": [
    {
     "data": {
      "text/plain": [
       "'10,000 or more employees'"
      ]
     },
     "execution_count": 46,
     "metadata": {},
     "output_type": "execute_result"
    }
   ],
   "source": [
    "# Wyświetl wartość z pozycji 3 (indeks 3), czy to nadal ta sama wartość co poprzednio?\n",
    "surveys[3]"
   ]
  },
  {
   "cell_type": "code",
   "execution_count": 47,
   "metadata": {},
   "outputs": [
    {
     "data": {
      "text/plain": [
       "51390     Fewer than 10 employees\n",
       "51389          10 to 19 employees\n",
       "51388        100 to 499 employees\n",
       "51387        100 to 499 employees\n",
       "51386        100 to 499 employees\n",
       "51385    1,000 to 4,999 employees\n",
       "51384          20 to 99 employees\n",
       "51383                         NaN\n",
       "51382        100 to 499 employees\n",
       "51381    10,000 or more employees\n",
       "Name: CompanySize, dtype: object"
      ]
     },
     "execution_count": 47,
     "metadata": {},
     "output_type": "execute_result"
    }
   ],
   "source": [
    "# Wyświetl elementy z pozycji 1-10 włącznie. Czy wartość na trzeciej pozycji jest zgodna z wynikiem z\n",
    "# poprzedniego punktu? Czy ten wynik nie jest dziwny??\n",
    "surveys[1:11]"
   ]
  },
  {
   "cell_type": "code",
   "execution_count": 49,
   "metadata": {},
   "outputs": [
    {
     "data": {
      "text/plain": [
       "'20 to 99 employees'"
      ]
     },
     "execution_count": 49,
     "metadata": {},
     "output_type": "execute_result"
    }
   ],
   "source": [
    "# Wyświetl wartość z pozycji 12345 (indeks 12345), czy to nadal ta sama wartość co poprzednio?\n",
    "surveys[12345]"
   ]
  },
  {
   "cell_type": "code",
   "execution_count": 50,
   "metadata": {},
   "outputs": [
    {
     "data": {
      "text/plain": [
       "51390     Fewer than 10 employees\n",
       "51389          10 to 19 employees\n",
       "51388        100 to 499 employees\n",
       "51387        100 to 499 employees\n",
       "51386        100 to 499 employees\n",
       "51385    1,000 to 4,999 employees\n",
       "51384          20 to 99 employees\n",
       "51383                         NaN\n",
       "51382        100 to 499 employees\n",
       "51381    10,000 or more employees\n",
       "Name: CompanySize, dtype: object"
      ]
     },
     "execution_count": 50,
     "metadata": {},
     "output_type": "execute_result"
    }
   ],
   "source": [
    "# Wyświetl elementy z pozycji 1-10 włącznie. Czy wartość na trzeciej pozycji jest zgodna z wynikiem z\n",
    "# poprzedniego punktu? Czy ten wynik nie jest dziwny??\n",
    "surveys[1:11]"
   ]
  },
  {
   "cell_type": "code",
   "execution_count": 51,
   "metadata": {},
   "outputs": [],
   "source": [
    "# Wykonaj polecenie resetujące indeks (będzie o nim mowa w dalszej części kursu, na razie weź to \"na wiarę\"):\n",
    "# surveys.reset_index(drop=True,inplace=True)\n",
    "surveys.reset_index(drop=True,inplace=True)"
   ]
  },
  {
   "cell_type": "code",
   "execution_count": 52,
   "metadata": {},
   "outputs": [
    {
     "data": {
      "text/plain": [
       "1      Fewer than 10 employees\n",
       "2           10 to 19 employees\n",
       "3         100 to 499 employees\n",
       "4         100 to 499 employees\n",
       "5         100 to 499 employees\n",
       "6     1,000 to 4,999 employees\n",
       "7           20 to 99 employees\n",
       "8                          NaN\n",
       "9         100 to 499 employees\n",
       "10    10,000 or more employees\n",
       "Name: CompanySize, dtype: object"
      ]
     },
     "execution_count": 52,
     "metadata": {},
     "output_type": "execute_result"
    }
   ],
   "source": [
    "# Wykonaj ponownie polecenia z pkt 7 - 10. Czy teraz wyniki bardziej pasują?\n",
    "surveys[1:11]"
   ]
  },
  {
   "cell_type": "markdown",
   "metadata": {},
   "source": [
    "# LAB - S02-L013 - Porównanie metod wyszukiwania danych po indeksie"
   ]
  },
  {
   "cell_type": "markdown",
   "metadata": {},
   "source": [
    "1. Zaimportuj moduł pandas i nadaj mu standardowy alias.\n",
    "2. Utwórz serię countries importując z pliku countries.csv kolumny Symbol i Name. Kolumna Symbol powinna\n",
    "stać sie indeksem serii. Skorzystaj z polecenia:\n",
    "countries = pd.read_csv(\"countries.csv\", usecols=['Symbol','Name'],index_col='Symbol',squeeze=True)\n",
    "3. Wyświetl 20 pierwszych wierszy tej serii.\n",
    "4. Znanymi Ci metodami wyświetl z serii wiersz odpowiadający Symbolowi \"FR\"\n",
    "5. Znanymi Ci metodami wyświetl z serii wiersz znajdujący się na pozycji 13.\n",
    "6. Utwórz listę nordic i wpisz do niej 3 elementy: \"FI\", \"SE\", \"NO\".\n",
    "7. Znanymi Ci metodami wyświetl wiersze odpowiadające symbolom znajdującym się na liście nordic"
   ]
  },
  {
   "cell_type": "code",
   "execution_count": 53,
   "metadata": {},
   "outputs": [
    {
     "data": {
      "text/plain": [
       "Symbol\n",
       "AF    Afghanistan\n",
       "AL        Albania\n",
       "DZ        Algeria\n",
       "AD        Andorra\n",
       "AO         Angola\n",
       "Name: Name, dtype: object"
      ]
     },
     "execution_count": 53,
     "metadata": {},
     "output_type": "execute_result"
    }
   ],
   "source": [
    "# Zaimportuj moduł pandas i nadaj mu standardowy alias.\n",
    "# Utwórz serię countries importując z pliku countries.csv kolumny Symbol i Name. Kolumna Symbol powinna\n",
    "# stać sie indeksem serii. Skorzystaj z polecenia:\n",
    "# countries = pd.read_csv(\"countries.csv\", usecols=['Symbol','Name'],index_col='Symbol',squeeze=True)\n",
    "countries = pd.read_csv(\"C:\\PythonScripts\\course-files\\countries.csv\", usecols=['Symbol','Name'],index_col='Symbol',squeeze=True)\n",
    "countries.head()"
   ]
  },
  {
   "cell_type": "code",
   "execution_count": 54,
   "metadata": {},
   "outputs": [
    {
     "data": {
      "text/plain": [
       "Symbol\n",
       "AF            Afghanistan\n",
       "AL                Albania\n",
       "DZ                Algeria\n",
       "AD                Andorra\n",
       "AO                 Angola\n",
       "AI               Anguilla\n",
       "AQ             Antarctica\n",
       "AG    Antigua and Barbuda\n",
       "SA           Saudi Arabia\n",
       "AR              Argentina\n",
       "AM                Armenia\n",
       "AW                  Aruba\n",
       "AU              Australia\n",
       "AT                Austria\n",
       "AZ             Azerbaijan\n",
       "BS                Bahamas\n",
       "BH                Bahrain\n",
       "BD             Bangladesh\n",
       "BB               Barbados\n",
       "BE                Belgium\n",
       "Name: Name, dtype: object"
      ]
     },
     "execution_count": 54,
     "metadata": {},
     "output_type": "execute_result"
    }
   ],
   "source": [
    "# Wyświetl 20 pierwszych wierszy tej serii.\n",
    "countries.head(20)"
   ]
  },
  {
   "cell_type": "code",
   "execution_count": 55,
   "metadata": {},
   "outputs": [
    {
     "data": {
      "text/plain": [
       "'France'"
      ]
     },
     "execution_count": 55,
     "metadata": {},
     "output_type": "execute_result"
    }
   ],
   "source": [
    "# Znanymi Ci metodami wyświetl z serii wiersz odpowiadający Symbolowi \"FR\"\n",
    "countries['FR']"
   ]
  },
  {
   "cell_type": "code",
   "execution_count": 56,
   "metadata": {},
   "outputs": [
    {
     "data": {
      "text/plain": [
       "'France'"
      ]
     },
     "execution_count": 56,
     "metadata": {},
     "output_type": "execute_result"
    }
   ],
   "source": [
    "countries.at['FR']"
   ]
  },
  {
   "cell_type": "code",
   "execution_count": 57,
   "metadata": {},
   "outputs": [
    {
     "data": {
      "text/plain": [
       "'France'"
      ]
     },
     "execution_count": 57,
     "metadata": {},
     "output_type": "execute_result"
    }
   ],
   "source": [
    "countries.loc['FR']"
   ]
  },
  {
   "cell_type": "code",
   "execution_count": 58,
   "metadata": {},
   "outputs": [
    {
     "data": {
      "text/plain": [
       "'France'"
      ]
     },
     "execution_count": 58,
     "metadata": {},
     "output_type": "execute_result"
    }
   ],
   "source": [
    "countries.get('FR')"
   ]
  },
  {
   "cell_type": "code",
   "execution_count": 59,
   "metadata": {},
   "outputs": [
    {
     "data": {
      "text/plain": [
       "'Austria'"
      ]
     },
     "execution_count": 59,
     "metadata": {},
     "output_type": "execute_result"
    }
   ],
   "source": [
    "# Znanymi Ci metodami wyświetl z serii wiersz znajdujący się na pozycji 13.\n",
    "countries.iloc[13]"
   ]
  },
  {
   "cell_type": "code",
   "execution_count": 60,
   "metadata": {},
   "outputs": [
    {
     "data": {
      "text/plain": [
       "'Austria'"
      ]
     },
     "execution_count": 60,
     "metadata": {},
     "output_type": "execute_result"
    }
   ],
   "source": [
    "countries.iat[13]"
   ]
  },
  {
   "cell_type": "code",
   "execution_count": 61,
   "metadata": {},
   "outputs": [
    {
     "data": {
      "text/plain": [
       "FI    Finland\n",
       "SE     Sweden\n",
       "NO     Norway\n",
       "dtype: object"
      ]
     },
     "execution_count": 61,
     "metadata": {},
     "output_type": "execute_result"
    }
   ],
   "source": [
    "# Utwórz listę nordic i wpisz do niej 3 elementy: \"FI\", \"SE\", \"NO\".\n",
    "nor_ind = ['FI', 'SE', 'NO']\n",
    "nor_name = ['Finland', 'Sweden', 'Norway']\n",
    "nordic = pd.Series(data = nor_name, index=nor_ind)\n",
    "nordic"
   ]
  },
  {
   "cell_type": "code",
   "execution_count": 66,
   "metadata": {},
   "outputs": [
    {
     "data": {
      "text/plain": [
       "Symbol\n",
       "FI    Finland\n",
       "SE     Sweden\n",
       "NO     Norway\n",
       "Name: Name, dtype: object"
      ]
     },
     "execution_count": 66,
     "metadata": {},
     "output_type": "execute_result"
    }
   ],
   "source": [
    "countries[nor_ind]"
   ]
  },
  {
   "cell_type": "code",
   "execution_count": 62,
   "metadata": {},
   "outputs": [
    {
     "data": {
      "text/plain": [
       "FI    Finland\n",
       "SE     Sweden\n",
       "NO     Norway\n",
       "dtype: object"
      ]
     },
     "execution_count": 62,
     "metadata": {},
     "output_type": "execute_result"
    }
   ],
   "source": [
    "# Znanymi Ci metodami wyświetl wiersze odpowiadające symbolom znajdującym się na liście nordic\n",
    "nordic[0:]"
   ]
  },
  {
   "cell_type": "code",
   "execution_count": 63,
   "metadata": {},
   "outputs": [
    {
     "data": {
      "text/plain": [
       "FI    Finland\n",
       "SE     Sweden\n",
       "NO     Norway\n",
       "dtype: object"
      ]
     },
     "execution_count": 63,
     "metadata": {},
     "output_type": "execute_result"
    }
   ],
   "source": [
    "nordic[:4]"
   ]
  },
  {
   "cell_type": "code",
   "execution_count": 64,
   "metadata": {},
   "outputs": [
    {
     "data": {
      "text/plain": [
       "FI    Finland\n",
       "SE     Sweden\n",
       "NO     Norway\n",
       "dtype: object"
      ]
     },
     "execution_count": 64,
     "metadata": {},
     "output_type": "execute_result"
    }
   ],
   "source": [
    "nordic.loc[['FI', 'SE', 'NO']]"
   ]
  },
  {
   "cell_type": "code",
   "execution_count": 65,
   "metadata": {},
   "outputs": [
    {
     "data": {
      "text/plain": [
       "FI    Finland\n",
       "SE     Sweden\n",
       "NO     Norway\n",
       "dtype: object"
      ]
     },
     "execution_count": 65,
     "metadata": {},
     "output_type": "execute_result"
    }
   ],
   "source": [
    "nordic.iloc[[0,1,2]]"
   ]
  },
  {
   "cell_type": "code",
   "execution_count": 67,
   "metadata": {},
   "outputs": [
    {
     "data": {
      "text/plain": [
       "Symbol\n",
       "FI    Finland\n",
       "SE     Sweden\n",
       "NO     Norway\n",
       "Name: Name, dtype: object"
      ]
     },
     "execution_count": 67,
     "metadata": {},
     "output_type": "execute_result"
    }
   ],
   "source": [
    "countries.loc[nor_ind]"
   ]
  },
  {
   "cell_type": "markdown",
   "metadata": {},
   "source": [
    "# LAB - S02-L014 - Reindex i intersection"
   ]
  },
  {
   "cell_type": "markdown",
   "metadata": {},
   "source": [
    "1. Zaimportuj moduł pandas i nadaj mu standardowy alias.\n",
    "2. Utwórz serię countries importując z pliku countries.csv kolumny Symbol i Name. Kolumna Symbol powinna\n",
    "stać sie indeksem serii. Skorzystaj z polecenia:\n",
    "countries = pd.read_csv(\"countries.csv\", usecols=['Symbol','Name'],index_col='Symbol',squeeze=True)\n",
    "3. Usuń niekopmpletne dane korzystając z polecenia:\n",
    "countries.dropna(inplace=True)\n",
    "4. Wyświetl 20 pierwszych wierszy tej serii.\n",
    "5. Utwórz listę toFind zawierającą symbole krajów: BB, AA, BS (kraju AA nie ma w wykazie państw, bo to ...\n",
    "Atalantyda...\n",
    "6. Korzystając z metody loc i zmiennej wyświetl wynik poszukiwania krajów o symbolach z listy toFind. (Oprócz\n",
    "wyniku powinno zostać wyświetlone ostrzeżenie)\n",
    "7. Wyszukaj krajów toFind korzystając z metody reindex.\n",
    "8. Wyświetl listę będącą częścią wspólną indeksu serii countries oraz listy toFind.\n",
    "9. Korzystając z metody loc oraz listy wygenerowanej w poprzednim punkcie wyświetl kraje o symbolach z listy\n",
    "toFind"
   ]
  },
  {
   "cell_type": "code",
   "execution_count": 68,
   "metadata": {},
   "outputs": [
    {
     "data": {
      "text/plain": [
       "Symbol\n",
       "AF            Afghanistan\n",
       "AL                Albania\n",
       "DZ                Algeria\n",
       "AD                Andorra\n",
       "AO                 Angola\n",
       "AI               Anguilla\n",
       "AQ             Antarctica\n",
       "AG    Antigua and Barbuda\n",
       "SA           Saudi Arabia\n",
       "AR              Argentina\n",
       "AM                Armenia\n",
       "AW                  Aruba\n",
       "AU              Australia\n",
       "AT                Austria\n",
       "AZ             Azerbaijan\n",
       "BS                Bahamas\n",
       "BH                Bahrain\n",
       "BD             Bangladesh\n",
       "BB               Barbados\n",
       "BE                Belgium\n",
       "Name: Name, dtype: object"
      ]
     },
     "execution_count": 68,
     "metadata": {},
     "output_type": "execute_result"
    }
   ],
   "source": [
    "# Utwórz serię countries importując z pliku countries.csv kolumny Symbol i Name. Kolumna Symbol powinna\n",
    "# stać sie indeksem serii. Skorzystaj z polecenia:\n",
    "# countries = pd.read_csv(\"countries.csv\", usecols=['Symbol','Name'],index_col='Symbol',squeeze=True)\n",
    "# Usuń niekopmpletne dane korzystając z polecenia:\n",
    "# countries.dropna(inplace=True)\n",
    "# Wyświetl 20 pierwszych wierszy tej serii.\n",
    "\n",
    "countries = pd.read_csv(\"C:\\PythonScripts\\course-files\\countries.csv\", usecols=['Symbol','Name'],index_col='Symbol',squeeze=True)\n",
    "countries.dropna(inplace=True)\n",
    "countries.head(20)"
   ]
  },
  {
   "cell_type": "code",
   "execution_count": 69,
   "metadata": {},
   "outputs": [],
   "source": [
    "# Utwórz listę toFind zawierającą symbole krajów: BB, AA, BS (kraju AA nie ma w wykazie państw, bo to ...\n",
    "# Atalantyda...\n",
    "toFind = ['BB', 'AA', 'BS']"
   ]
  },
  {
   "cell_type": "code",
   "execution_count": 70,
   "metadata": {},
   "outputs": [
    {
     "name": "stderr",
     "output_type": "stream",
     "text": [
      "C:\\Users\\Edyta\\Anaconda3\\lib\\site-packages\\ipykernel_launcher.py:3: FutureWarning: \n",
      "Passing list-likes to .loc or [] with any missing label will raise\n",
      "KeyError in the future, you can use .reindex() as an alternative.\n",
      "\n",
      "See the documentation here:\n",
      "https://pandas.pydata.org/pandas-docs/stable/indexing.html#deprecate-loc-reindex-listlike\n",
      "  This is separate from the ipykernel package so we can avoid doing imports until\n"
     ]
    },
    {
     "data": {
      "text/plain": [
       "Symbol\n",
       "BB    Barbados\n",
       "AA         NaN\n",
       "BS     Bahamas\n",
       "Name: Name, dtype: object"
      ]
     },
     "execution_count": 70,
     "metadata": {},
     "output_type": "execute_result"
    }
   ],
   "source": [
    "# Korzystając z metody loc i zmiennej wyświetl wynik poszukiwania krajów o symbolach z listy toFind. (Oprócz\n",
    "# wyniku powinno zostać wyświetlone ostrzeżenie)\n",
    "countries.loc[toFind]"
   ]
  },
  {
   "cell_type": "code",
   "execution_count": 71,
   "metadata": {},
   "outputs": [
    {
     "data": {
      "text/plain": [
       "Symbol\n",
       "BB    Barbados\n",
       "AA         NaN\n",
       "BS     Bahamas\n",
       "Name: Name, dtype: object"
      ]
     },
     "execution_count": 71,
     "metadata": {},
     "output_type": "execute_result"
    }
   ],
   "source": [
    "# Wyszukaj krajów toFind korzystając z metody reindex.\n",
    "countries.reindex(toFind)"
   ]
  },
  {
   "cell_type": "code",
   "execution_count": 74,
   "metadata": {},
   "outputs": [
    {
     "data": {
      "text/plain": [
       "Index(['BS', 'BB'], dtype='object')"
      ]
     },
     "execution_count": 74,
     "metadata": {},
     "output_type": "execute_result"
    }
   ],
   "source": [
    "# Wyświetl listę będącą częścią wspólną indeksu serii countries oraz listy toFind.\n",
    "countries.index.intersection(toFind)"
   ]
  },
  {
   "cell_type": "code",
   "execution_count": 75,
   "metadata": {},
   "outputs": [
    {
     "data": {
      "text/plain": [
       "BS     Bahamas\n",
       "BB    Barbados\n",
       "Name: Name, dtype: object"
      ]
     },
     "execution_count": 75,
     "metadata": {},
     "output_type": "execute_result"
    }
   ],
   "source": [
    "# Korzystając z metody loc oraz listy wygenerowanej w poprzednim punkcie wyświetl kraje o symbolach z listy\n",
    "# toFind\n",
    "countries.loc[countries.index.intersection(toFind)]"
   ]
  },
  {
   "cell_type": "code",
   "execution_count": 76,
   "metadata": {},
   "outputs": [
    {
     "data": {
      "text/html": [
       "<div>\n",
       "<style scoped>\n",
       "    .dataframe tbody tr th:only-of-type {\n",
       "        vertical-align: middle;\n",
       "    }\n",
       "\n",
       "    .dataframe tbody tr th {\n",
       "        vertical-align: top;\n",
       "    }\n",
       "\n",
       "    .dataframe thead th {\n",
       "        text-align: right;\n",
       "    }\n",
       "</style>\n",
       "<table border=\"1\" class=\"dataframe\">\n",
       "  <thead>\n",
       "    <tr style=\"text-align: right;\">\n",
       "      <th></th>\n",
       "      <th>Attack</th>\n",
       "    </tr>\n",
       "  </thead>\n",
       "  <tbody>\n",
       "    <tr>\n",
       "      <th>0</th>\n",
       "      <td>49</td>\n",
       "    </tr>\n",
       "    <tr>\n",
       "      <th>1</th>\n",
       "      <td>62</td>\n",
       "    </tr>\n",
       "    <tr>\n",
       "      <th>2</th>\n",
       "      <td>82</td>\n",
       "    </tr>\n",
       "    <tr>\n",
       "      <th>3</th>\n",
       "      <td>100</td>\n",
       "    </tr>\n",
       "    <tr>\n",
       "      <th>4</th>\n",
       "      <td>52</td>\n",
       "    </tr>\n",
       "    <tr>\n",
       "      <th>5</th>\n",
       "      <td>64</td>\n",
       "    </tr>\n",
       "    <tr>\n",
       "      <th>6</th>\n",
       "      <td>84</td>\n",
       "    </tr>\n",
       "    <tr>\n",
       "      <th>7</th>\n",
       "      <td>130</td>\n",
       "    </tr>\n",
       "    <tr>\n",
       "      <th>8</th>\n",
       "      <td>104</td>\n",
       "    </tr>\n",
       "    <tr>\n",
       "      <th>9</th>\n",
       "      <td>48</td>\n",
       "    </tr>\n",
       "    <tr>\n",
       "      <th>10</th>\n",
       "      <td>63</td>\n",
       "    </tr>\n",
       "    <tr>\n",
       "      <th>11</th>\n",
       "      <td>83</td>\n",
       "    </tr>\n",
       "    <tr>\n",
       "      <th>12</th>\n",
       "      <td>103</td>\n",
       "    </tr>\n",
       "    <tr>\n",
       "      <th>13</th>\n",
       "      <td>30</td>\n",
       "    </tr>\n",
       "    <tr>\n",
       "      <th>14</th>\n",
       "      <td>20</td>\n",
       "    </tr>\n",
       "    <tr>\n",
       "      <th>15</th>\n",
       "      <td>45</td>\n",
       "    </tr>\n",
       "    <tr>\n",
       "      <th>16</th>\n",
       "      <td>35</td>\n",
       "    </tr>\n",
       "    <tr>\n",
       "      <th>17</th>\n",
       "      <td>25</td>\n",
       "    </tr>\n",
       "    <tr>\n",
       "      <th>18</th>\n",
       "      <td>90</td>\n",
       "    </tr>\n",
       "    <tr>\n",
       "      <th>19</th>\n",
       "      <td>150</td>\n",
       "    </tr>\n",
       "    <tr>\n",
       "      <th>20</th>\n",
       "      <td>45</td>\n",
       "    </tr>\n",
       "    <tr>\n",
       "      <th>21</th>\n",
       "      <td>60</td>\n",
       "    </tr>\n",
       "    <tr>\n",
       "      <th>22</th>\n",
       "      <td>80</td>\n",
       "    </tr>\n",
       "    <tr>\n",
       "      <th>23</th>\n",
       "      <td>80</td>\n",
       "    </tr>\n",
       "    <tr>\n",
       "      <th>24</th>\n",
       "      <td>56</td>\n",
       "    </tr>\n",
       "    <tr>\n",
       "      <th>25</th>\n",
       "      <td>81</td>\n",
       "    </tr>\n",
       "    <tr>\n",
       "      <th>26</th>\n",
       "      <td>60</td>\n",
       "    </tr>\n",
       "    <tr>\n",
       "      <th>27</th>\n",
       "      <td>90</td>\n",
       "    </tr>\n",
       "    <tr>\n",
       "      <th>28</th>\n",
       "      <td>60</td>\n",
       "    </tr>\n",
       "    <tr>\n",
       "      <th>29</th>\n",
       "      <td>85</td>\n",
       "    </tr>\n",
       "    <tr>\n",
       "      <th>...</th>\n",
       "      <td>...</td>\n",
       "    </tr>\n",
       "    <tr>\n",
       "      <th>770</th>\n",
       "      <td>65</td>\n",
       "    </tr>\n",
       "    <tr>\n",
       "      <th>771</th>\n",
       "      <td>92</td>\n",
       "    </tr>\n",
       "    <tr>\n",
       "      <th>772</th>\n",
       "      <td>58</td>\n",
       "    </tr>\n",
       "    <tr>\n",
       "      <th>773</th>\n",
       "      <td>50</td>\n",
       "    </tr>\n",
       "    <tr>\n",
       "      <th>774</th>\n",
       "      <td>50</td>\n",
       "    </tr>\n",
       "    <tr>\n",
       "      <th>775</th>\n",
       "      <td>75</td>\n",
       "    </tr>\n",
       "    <tr>\n",
       "      <th>776</th>\n",
       "      <td>100</td>\n",
       "    </tr>\n",
       "    <tr>\n",
       "      <th>777</th>\n",
       "      <td>80</td>\n",
       "    </tr>\n",
       "    <tr>\n",
       "      <th>778</th>\n",
       "      <td>70</td>\n",
       "    </tr>\n",
       "    <tr>\n",
       "      <th>779</th>\n",
       "      <td>110</td>\n",
       "    </tr>\n",
       "    <tr>\n",
       "      <th>780</th>\n",
       "      <td>66</td>\n",
       "    </tr>\n",
       "    <tr>\n",
       "      <th>781</th>\n",
       "      <td>66</td>\n",
       "    </tr>\n",
       "    <tr>\n",
       "      <th>782</th>\n",
       "      <td>66</td>\n",
       "    </tr>\n",
       "    <tr>\n",
       "      <th>783</th>\n",
       "      <td>66</td>\n",
       "    </tr>\n",
       "    <tr>\n",
       "      <th>784</th>\n",
       "      <td>90</td>\n",
       "    </tr>\n",
       "    <tr>\n",
       "      <th>785</th>\n",
       "      <td>85</td>\n",
       "    </tr>\n",
       "    <tr>\n",
       "      <th>786</th>\n",
       "      <td>95</td>\n",
       "    </tr>\n",
       "    <tr>\n",
       "      <th>787</th>\n",
       "      <td>100</td>\n",
       "    </tr>\n",
       "    <tr>\n",
       "      <th>788</th>\n",
       "      <td>69</td>\n",
       "    </tr>\n",
       "    <tr>\n",
       "      <th>789</th>\n",
       "      <td>117</td>\n",
       "    </tr>\n",
       "    <tr>\n",
       "      <th>790</th>\n",
       "      <td>30</td>\n",
       "    </tr>\n",
       "    <tr>\n",
       "      <th>791</th>\n",
       "      <td>70</td>\n",
       "    </tr>\n",
       "    <tr>\n",
       "      <th>792</th>\n",
       "      <td>131</td>\n",
       "    </tr>\n",
       "    <tr>\n",
       "      <th>793</th>\n",
       "      <td>131</td>\n",
       "    </tr>\n",
       "    <tr>\n",
       "      <th>794</th>\n",
       "      <td>100</td>\n",
       "    </tr>\n",
       "    <tr>\n",
       "      <th>795</th>\n",
       "      <td>100</td>\n",
       "    </tr>\n",
       "    <tr>\n",
       "      <th>796</th>\n",
       "      <td>160</td>\n",
       "    </tr>\n",
       "    <tr>\n",
       "      <th>797</th>\n",
       "      <td>110</td>\n",
       "    </tr>\n",
       "    <tr>\n",
       "      <th>798</th>\n",
       "      <td>160</td>\n",
       "    </tr>\n",
       "    <tr>\n",
       "      <th>799</th>\n",
       "      <td>110</td>\n",
       "    </tr>\n",
       "  </tbody>\n",
       "</table>\n",
       "<p>800 rows × 1 columns</p>\n",
       "</div>"
      ],
      "text/plain": [
       "     Attack\n",
       "0        49\n",
       "1        62\n",
       "2        82\n",
       "3       100\n",
       "4        52\n",
       "5        64\n",
       "6        84\n",
       "7       130\n",
       "8       104\n",
       "9        48\n",
       "10       63\n",
       "11       83\n",
       "12      103\n",
       "13       30\n",
       "14       20\n",
       "15       45\n",
       "16       35\n",
       "17       25\n",
       "18       90\n",
       "19      150\n",
       "20       45\n",
       "21       60\n",
       "22       80\n",
       "23       80\n",
       "24       56\n",
       "25       81\n",
       "26       60\n",
       "27       90\n",
       "28       60\n",
       "29       85\n",
       "..      ...\n",
       "770      65\n",
       "771      92\n",
       "772      58\n",
       "773      50\n",
       "774      50\n",
       "775      75\n",
       "776     100\n",
       "777      80\n",
       "778      70\n",
       "779     110\n",
       "780      66\n",
       "781      66\n",
       "782      66\n",
       "783      66\n",
       "784      90\n",
       "785      85\n",
       "786      95\n",
       "787     100\n",
       "788      69\n",
       "789     117\n",
       "790      30\n",
       "791      70\n",
       "792     131\n",
       "793     131\n",
       "794     100\n",
       "795     100\n",
       "796     160\n",
       "797     110\n",
       "798     160\n",
       "799     110\n",
       "\n",
       "[800 rows x 1 columns]"
      ]
     },
     "execution_count": 76,
     "metadata": {},
     "output_type": "execute_result"
    }
   ],
   "source": [
    "# Określanie indexu podczas importu pliku - widok DATA FRAME\n",
    "pd.read_csv('C:\\PythonScripts\\course-files\\pokemon.csv', usecols=['Attack'])"
   ]
  },
  {
   "cell_type": "code",
   "execution_count": 77,
   "metadata": {
    "scrolled": true
   },
   "outputs": [
    {
     "data": {
      "text/plain": [
       "0       49\n",
       "1       62\n",
       "2       82\n",
       "3      100\n",
       "4       52\n",
       "5       64\n",
       "6       84\n",
       "7      130\n",
       "8      104\n",
       "9       48\n",
       "10      63\n",
       "11      83\n",
       "12     103\n",
       "13      30\n",
       "14      20\n",
       "15      45\n",
       "16      35\n",
       "17      25\n",
       "18      90\n",
       "19     150\n",
       "20      45\n",
       "21      60\n",
       "22      80\n",
       "23      80\n",
       "24      56\n",
       "25      81\n",
       "26      60\n",
       "27      90\n",
       "28      60\n",
       "29      85\n",
       "      ... \n",
       "770     65\n",
       "771     92\n",
       "772     58\n",
       "773     50\n",
       "774     50\n",
       "775     75\n",
       "776    100\n",
       "777     80\n",
       "778     70\n",
       "779    110\n",
       "780     66\n",
       "781     66\n",
       "782     66\n",
       "783     66\n",
       "784     90\n",
       "785     85\n",
       "786     95\n",
       "787    100\n",
       "788     69\n",
       "789    117\n",
       "790     30\n",
       "791     70\n",
       "792    131\n",
       "793    131\n",
       "794    100\n",
       "795    100\n",
       "796    160\n",
       "797    110\n",
       "798    160\n",
       "799    110\n",
       "Name: Attack, Length: 800, dtype: int64"
      ]
     },
     "execution_count": 77,
     "metadata": {},
     "output_type": "execute_result"
    }
   ],
   "source": [
    "# Określanie indexu podczas importu pliku - widok SERIES, dodanie squeeze = True, tutaj jeszcze index bez zmian\n",
    "pd.read_csv('C:\\PythonScripts\\course-files\\pokemon.csv', usecols=['Attack'], squeeze=True)"
   ]
  },
  {
   "cell_type": "code",
   "execution_count": 78,
   "metadata": {},
   "outputs": [
    {
     "data": {
      "text/plain": [
       "#\n",
       "1     49\n",
       "2     62\n",
       "3     82\n",
       "3    100\n",
       "4     52\n",
       "Name: Attack, dtype: int64"
      ]
     },
     "execution_count": 78,
     "metadata": {},
     "output_type": "execute_result"
    }
   ],
   "source": [
    "# W końcu podajemy która kolumna ma być indexem, za pomocą index_col, naszą kolumną jest '#'\n",
    "ser1 = pd.read_csv('C:\\PythonScripts\\course-files\\pokemon.csv', usecols=['Attack', '#'], squeeze=True, index_col='#')\n",
    "ser1.head()"
   ]
  },
  {
   "cell_type": "code",
   "execution_count": 79,
   "metadata": {},
   "outputs": [
    {
     "data": {
      "text/plain": [
       "Name\n",
       "Bulbasaur                 49\n",
       "Ivysaur                   62\n",
       "Venusaur                  82\n",
       "VenusaurMega Venusaur    100\n",
       "Charmander                52\n",
       "Name: Attack, dtype: int64"
      ]
     },
     "execution_count": 79,
     "metadata": {},
     "output_type": "execute_result"
    }
   ],
   "source": [
    "# W końcu podajemy która kolumna ma być indexem, za pomocą index_col, naszą kolumną jest 'Name'\n",
    "ser2 = pd.read_csv('C:\\PythonScripts\\course-files\\pokemon.csv', usecols=['Attack', 'Name'], squeeze=True, index_col='Name')\n",
    "ser2.head()"
   ]
  },
  {
   "cell_type": "markdown",
   "metadata": {},
   "source": [
    "# LAB - S02-L015 - Określanie indeksu podczas wczytywania pliku CSV"
   ]
  },
  {
   "cell_type": "markdown",
   "metadata": {},
   "source": [
    "1. Zaimportuj moduł pandas i nadaj mu standardowy alias.\n",
    "2. Do zmiennej fortune500 wczytaj dane z pliku Fortune_500_2017.csv. Wczytaj kolumny Rank i Title. Kolumna\n",
    "Rank powinna stać się indkesem. Wyświetl nagłówek otrzymanej serii danych.\n",
    "3. Wyświetl 10 pierwszych firm znajdujących się najwyżej w klasyfikacji Fortune 500\n",
    "4. Wyświetl 20 ostatnich firm znajdujących się w klasyfikacji Fortune 500\n",
    "5. Wczytaj jeszcze raz plik, ale tym razem indeksem ma być kolumna Title, a wartościami kolumna Employees\n",
    "opisująca ilość pracowników w każdej firmie.\n",
    "6. Sprawdź ilu pracowników pracuje dla IBM, Alphabet (Google), Facebook i Apple\n",
    "7. Wyświetl infromacje o ilości pracowników dla firm od IBM do Intel"
   ]
  },
  {
   "cell_type": "code",
   "execution_count": 87,
   "metadata": {},
   "outputs": [
    {
     "data": {
      "text/plain": [
       "Rank\n",
       "1               Walmart\n",
       "2    Berkshire Hathaway\n",
       "3                 Apple\n",
       "4           Exxon Mobil\n",
       "5              McKesson\n",
       "Name: Title, dtype: object"
      ]
     },
     "execution_count": 87,
     "metadata": {},
     "output_type": "execute_result"
    }
   ],
   "source": [
    "# Do zmiennej fortune500 wczytaj dane z pliku Fortune_500_2017.csv. Wczytaj kolumny Rank i Title. Kolumna\n",
    "# Rank powinna stać się indeksem. Wyświetl nagłówek otrzymanej serii danych.\n",
    "fortune500 = pd.read_csv('C:\\PythonScripts\\course-files\\Fortune_500_2017.csv', usecols=['Rank', 'Title'], index_col='Rank', squeeze=True)\n",
    "fortune500.head()"
   ]
  },
  {
   "cell_type": "code",
   "execution_count": 89,
   "metadata": {},
   "outputs": [
    {
     "data": {
      "text/plain": [
       "Rank\n",
       "1                Walmart\n",
       "2     Berkshire Hathaway\n",
       "3                  Apple\n",
       "4            Exxon Mobil\n",
       "5               McKesson\n",
       "6     UnitedHealth Group\n",
       "7             CVS Health\n",
       "8         General Motors\n",
       "9                   AT&T\n",
       "10            Ford Motor\n",
       "Name: Title, dtype: object"
      ]
     },
     "execution_count": 89,
     "metadata": {},
     "output_type": "execute_result"
    }
   ],
   "source": [
    "# Wyświetl 10 pierwszych firm znajdujących się najwyżej w klasyfikacji Fortune 500\n",
    "fortune500.sort_index().head(10)"
   ]
  },
  {
   "cell_type": "code",
   "execution_count": 90,
   "metadata": {},
   "outputs": [
    {
     "data": {
      "text/plain": [
       "Rank\n",
       "481           Booz Allen Hamilton Holding\n",
       "482                              Chemours\n",
       "483    Western & Southern Financial Group\n",
       "484                              Celanese\n",
       "485                   Windstream Holdings\n",
       "486                              Seaboard\n",
       "487                             Essendant\n",
       "488                                Apache\n",
       "489                                Airgas\n",
       "490                        Kelly Services\n",
       "491                         Liberty Media\n",
       "492                      Rockwell Collins\n",
       "493             Robert Half International\n",
       "494                             CH2M Hill\n",
       "495                              Big Lots\n",
       "496                         Michaels Cos.\n",
       "497                         Toll Brothers\n",
       "498                                 Yahoo\n",
       "499                         Vistra Energy\n",
       "500                        ABM Industries\n",
       "Name: Title, dtype: object"
      ]
     },
     "execution_count": 90,
     "metadata": {},
     "output_type": "execute_result"
    }
   ],
   "source": [
    "# Wyświetl 20 ostatnich firm znajdujących się w klasyfikacji Fortune 500\n",
    "fortune500.tail(20)"
   ]
  },
  {
   "cell_type": "code",
   "execution_count": 91,
   "metadata": {},
   "outputs": [
    {
     "data": {
      "text/plain": [
       "Title\n",
       "Walmart               2300000\n",
       "Berkshire Hathaway     367700\n",
       "Apple                  116000\n",
       "Exxon Mobil             72700\n",
       "McKesson                68000\n",
       "Name: Employees, dtype: int64"
      ]
     },
     "execution_count": 91,
     "metadata": {},
     "output_type": "execute_result"
    }
   ],
   "source": [
    "# Wczytaj jeszcze raz plik, ale tym razem indeksem ma być kolumna Title, a wartościami kolumna Employees\n",
    "# opisująca ilość pracowników w każdej firmie.\n",
    "fortune500 = pd.read_csv('C:\\PythonScripts\\course-files\\Fortune_500_2017.csv', usecols=['Employees', 'Title'], index_col='Title', squeeze=True)\n",
    "fortune500.head()"
   ]
  },
  {
   "cell_type": "code",
   "execution_count": 96,
   "metadata": {},
   "outputs": [
    {
     "data": {
      "text/plain": [
       "Title\n",
       "IBM         414400\n",
       "Alphabet     72053\n",
       "Facebook     17048\n",
       "Apple       116000\n",
       "Name: Employees, dtype: int64"
      ]
     },
     "execution_count": 96,
     "metadata": {},
     "output_type": "execute_result"
    }
   ],
   "source": [
    "# Sprawdź ilu pracowników pracuje dla IBM, Alphabet (Google), Facebook i Apple\n",
    "fortune500[['IBM', 'Alphabet', 'Facebook', 'Apple']]"
   ]
  },
  {
   "cell_type": "code",
   "execution_count": 97,
   "metadata": {},
   "outputs": [
    {
     "data": {
      "text/plain": [
       "Title\n",
       "IBM                          414400\n",
       "State Farm Insurance Cos.     68234\n",
       "Phillips 66                   14800\n",
       "Johnson & Johnson            126400\n",
       "Procter & Gamble             105000\n",
       "Valero Energy                  9996\n",
       "Target                       323000\n",
       "Freddie Mac                    5982\n",
       "Lowe’s                       240000\n",
       "Dell Technologies            138000\n",
       "MetLife                       58000\n",
       "Aetna                         49500\n",
       "PepsiCo                      264000\n",
       "Archer Daniels Midland        31800\n",
       "UPS                          335520\n",
       "Intel                        106000\n",
       "Name: Employees, dtype: int64"
      ]
     },
     "execution_count": 97,
     "metadata": {},
     "output_type": "execute_result"
    }
   ],
   "source": [
    "# Wyświetl infromacje o ilości pracowników dla firm od IBM do Intel\n",
    "fortune500['IBM' : 'Intel']"
   ]
  },
  {
   "cell_type": "code",
   "execution_count": 98,
   "metadata": {},
   "outputs": [
    {
     "data": {
      "text/plain": [
       "Name\n",
       "Bulbasaur                Poison\n",
       "Ivysaur                  Poison\n",
       "Venusaur                 Poison\n",
       "VenusaurMega Venusaur    Poison\n",
       "Charmander                  NaN\n",
       "Name: Type 2, dtype: object"
      ]
     },
     "execution_count": 98,
     "metadata": {},
     "output_type": "execute_result"
    }
   ],
   "source": [
    "# Chcę sprawdzić ile pokemonów danego typu znajduje się w pliku pokemon.csv\n",
    "pok_type = pd.read_csv('C:\\PythonScripts\\course-files\\pokemon.csv', usecols=['Name', 'Type 2'], squeeze=True, index_col='Name')\n",
    "pok_type.head()"
   ]
  },
  {
   "cell_type": "code",
   "execution_count": 100,
   "metadata": {},
   "outputs": [
    {
     "data": {
      "text/plain": [
       "Flying      97\n",
       "Ground      35\n",
       "Poison      34\n",
       "Psychic     33\n",
       "Fighting    26\n",
       "Grass       25\n",
       "Fairy       23\n",
       "Steel       22\n",
       "Dark        20\n",
       "Dragon      18\n",
       "Rock        14\n",
       "Water       14\n",
       "Ghost       14\n",
       "Ice         14\n",
       "Fire        12\n",
       "Electric     6\n",
       "Normal       4\n",
       "Bug          3\n",
       "Name: Type 2, dtype: int64"
      ]
     },
     "execution_count": 100,
     "metadata": {},
     "output_type": "execute_result"
    }
   ],
   "source": [
    "pok_type.value_counts()"
   ]
  },
  {
   "cell_type": "markdown",
   "metadata": {},
   "source": [
    "# LAB - S02-L016 - Więcej funkcji Data Series"
   ]
  },
  {
   "cell_type": "markdown",
   "metadata": {},
   "source": [
    "1. Zaimportuj moduł pandas i nadaj mu standardowy alias.\n",
    "2. Do zmiennej programmers wczytaj serię danych z pliku StackOverflowDeveloperSurvey2018.csv.\n",
    "Wczytując dane użyj arguemtu low_memory=False, usecols='ConvertedSalary i squeeze=True.\n",
    "3. Wylicz średnią, medianę i odchylenie standardowe. Co można powiedzieć o tych danych?\n",
    "4. Wylicz maksymalną wartość Salary.\n",
    "5. Do zmiennej fortune500 wczytaj dane z pliku Fortune_500_2017.csv. Wczytaj kolumny Title i Employees.\n",
    "Kolumna Title powinna stać się indeksem. Wyświetl nagłówek otrzymanej serii danych.\n",
    "6. Wyświetl jaki jest indeks dla pozycji z największą liczbą pracowników. W ten sposób znajdziesz na liście\n",
    "Fortune firmę zatrudniającą najwięcej pracowników.\n",
    "7. A ile pracowników zatrudnia ta firma. Skorzystaj z wartości wyliczonej w poprzednim punkcie\n",
    "8. Wyświetl jaki jest indeks dla pozycji z najmniejszą liczbą pracowników. W ten sposób znajdziesz na liście\n",
    "Fortune firmę zatrudniającą najmniej pracowników\n",
    "9. A ile pracowników zatrudnia ta firma. Skorzystaj z wartości wyliczonej w poprzednim punkcie"
   ]
  },
  {
   "cell_type": "code",
   "execution_count": 103,
   "metadata": {},
   "outputs": [
    {
     "data": {
      "text/plain": [
       "0          NaN\n",
       "1      70841.0\n",
       "2          NaN\n",
       "3          NaN\n",
       "4      21426.0\n",
       "5      41671.0\n",
       "6     120000.0\n",
       "7          NaN\n",
       "8     250000.0\n",
       "9          NaN\n",
       "10         NaN\n",
       "11         NaN\n",
       "12         NaN\n",
       "13         NaN\n",
       "14         0.0\n",
       "Name: ConvertedSalary, dtype: float64"
      ]
     },
     "execution_count": 103,
     "metadata": {},
     "output_type": "execute_result"
    }
   ],
   "source": [
    "# Do zmiennej programmers wczytaj serię danych z pliku StackOverflowDeveloperSurvey2018.csv. Wczytując dane użyj arguemtu low_memory=False, usecols='ConvertedSalary i squeeze=True.\n",
    "\n",
    "programmers = pd.read_csv('C:\\PythonScripts\\course-files\\StackOverflowDeveloperSurvey2018.csv', squeeze=True, usecols=['ConvertedSalary'], low_memory=False)\n",
    "programmers.head(15)"
   ]
  },
  {
   "cell_type": "code",
   "execution_count": 104,
   "metadata": {},
   "outputs": [
    {
     "name": "stdout",
     "output_type": "stream",
     "text": [
      "średnia:  95780.86178776571\n",
      "mediana:  55075.0\n",
      "odchylenie standardowe:  202348.21562528735\n"
     ]
    }
   ],
   "source": [
    "# Wylicz średnią, medianę i odchylenie standardowe. Co można powiedzieć o tych danych?\n",
    "print('średnia: ', programmers.mean())\n",
    "print('mediana: ', programmers.median())\n",
    "print('odchylenie standardowe: ', programmers.std())"
   ]
  },
  {
   "cell_type": "code",
   "execution_count": 111,
   "metadata": {},
   "outputs": [
    {
     "name": "stdout",
     "output_type": "stream",
     "text": [
      "max:  2000000.0\n"
     ]
    }
   ],
   "source": [
    "# Wylicz maksymalną wartość Salary\n",
    "print('max: ', programmers.max())"
   ]
  },
  {
   "cell_type": "code",
   "execution_count": 113,
   "metadata": {},
   "outputs": [
    {
     "data": {
      "text/plain": [
       "Title\n",
       "Walmart               2300000\n",
       "Berkshire Hathaway     367700\n",
       "Apple                  116000\n",
       "Exxon Mobil             72700\n",
       "McKesson                68000\n",
       "Name: Employees, dtype: int64"
      ]
     },
     "execution_count": 113,
     "metadata": {},
     "output_type": "execute_result"
    }
   ],
   "source": [
    "# Do zmiennej fortune500 wczytaj dane z pliku Fortune_500_2017.csv. Wczytaj kolumny Title i Employees.\n",
    "# Kolumna Title powinna stać się indeksem. Wyświetl nagłówek otrzymanej serii danych.\n",
    "fortune500 = pd.read_csv('C:\\PythonScripts\\course-files\\Fortune_500_2017.csv', squeeze=True, usecols=['Title', 'Employees'], index_col='Title')\n",
    "fortune500.head()"
   ]
  },
  {
   "cell_type": "code",
   "execution_count": 114,
   "metadata": {},
   "outputs": [
    {
     "data": {
      "text/plain": [
       "'Walmart'"
      ]
     },
     "execution_count": 114,
     "metadata": {},
     "output_type": "execute_result"
    }
   ],
   "source": [
    "# Wyświetl jaki jest indeks dla pozycji z największą liczbą pracowników. W ten sposób znajdziesz na liście\n",
    "# Fortune firmę zatrudniającą najwięcej pracowników.\n",
    "fortune500.idxmax()"
   ]
  },
  {
   "cell_type": "code",
   "execution_count": 115,
   "metadata": {},
   "outputs": [
    {
     "data": {
      "text/plain": [
       "2300000"
      ]
     },
     "execution_count": 115,
     "metadata": {},
     "output_type": "execute_result"
    }
   ],
   "source": [
    "# A ile pracowników zatrudnia ta firma. Skorzystaj z wartości wyliczonej w poprzednim punkcie\n",
    "fortune500.loc[fortune500.idxmax()]"
   ]
  },
  {
   "cell_type": "code",
   "execution_count": 116,
   "metadata": {},
   "outputs": [
    {
     "data": {
      "text/plain": [
       "'A-Mark Precious Metals'"
      ]
     },
     "execution_count": 116,
     "metadata": {},
     "output_type": "execute_result"
    }
   ],
   "source": [
    "# Wyświetl jaki jest indeks dla pozycji z najmniejszą liczbą pracowników. W ten sposób znajdziesz na liście\n",
    "# Fortune firmę zatrudniającą najmniej pracowników\n",
    "fortune500.idxmin()"
   ]
  },
  {
   "cell_type": "code",
   "execution_count": 117,
   "metadata": {},
   "outputs": [
    {
     "data": {
      "text/plain": [
       "83"
      ]
     },
     "execution_count": 117,
     "metadata": {},
     "output_type": "execute_result"
    }
   ],
   "source": [
    "# A ile pracowników zatrudnia ta firma. Skorzystaj z wartości wyliczonej w poprzednim punkcie\n",
    "fortune500.loc[fortune500.idxmin()]"
   ]
  },
  {
   "cell_type": "markdown",
   "metadata": {},
   "source": [
    "# LAB - S02-L017 - Modyfikacja serii danych"
   ]
  },
  {
   "cell_type": "markdown",
   "metadata": {},
   "source": [
    "1. Zaimportuj moduł pandas i nadaj mu standardowy alias. Do zmiennej surveys zapisz data series pobierając\n",
    "wartości z pliku StackOverflowDeveloperSurvey.csv kolumnę Salary. Skorzystaj z parametru\n",
    "low_memory=False Ponieważ nie wszyscy ankietowani podali wysokość swojej pensji, usuń te wpisy, które\n",
    "są puste (skorzystaj z metody dropna() bez żadnych dodatkowych argumentów). Wyświetl pięć pierwszych\n",
    "pozycji tej serii.\n",
    "2. Interesuje Cię ile osób podało wysokość swojej wypłaty? Wyświetl informację od ilości elementów w serii\n",
    "surveys\n",
    "3. Symulujemy podwyżkę pensji o 3%. Utwórz nową serię surveysIncrease, której wartością będą kwoty z serii\n",
    "surveys pomnożone przez 0.03. Wyświetl nagłówek nowej serii.\n",
    "4. Utwórz nową serię surveysAfterIncrease, której wartością będzie suma surveys i surveysIncrease.\n",
    "Wyświetl nagłówek.\n",
    "5. Zmieniamy trochę temat. Do zmiennej surveysTime wczytaj kolumnę HoursOutside z pliku\n",
    "StackOverflowDeveloperSurvey2018.csv. Ponieważ plik jest duży, dodaj parametr low_memory=False.\n",
    "Wyświetl nagłówek.\n",
    "6. Interesuje Cię ile czasu programiści spędzają na \"świeżym powietrzu\"? Uruchom na rzecz surveysTime\n",
    "metodę, która dla każdej unikalnej pozycji z serii wyświetli ile razy ta pozycja występowała w serii. Do której\n",
    "grupy należysz ;) ?\n",
    "7. Po zaimportowaniu danych, można je normalizować. Zmień wielkość liter na małe w całej serii surveysTime.\n",
    "Zmiany mają rzeczywiście być zapisane w surveysTime. Wyświetl nagłówek.\n",
    "8. Zmieniamy zdanie. Chcemy, aby teksty były zapisane wielkimi literami. Tym razem wykorzystaj do tego\n",
    "wyrażenie lambda. Zmiany znowu maja być zapisane do surveysTime. Wyświetl nagłówek.\n",
    "9. Napisz funkcję ChangeDescription, która jako argument przyjmie napis. Jeżeli w tej zmiennej znajduje się\n",
    "tekst 'LESS THAN 30 MINUTES' to zwróć 'LESS THAN HALF HOUR', a w przeciwnym razie zwróć\n",
    "oryginalną wartość przekazaną w argumencie.\n",
    "10. Przetestuj funkcję przekazując do niej różne napisy.\n",
    "11. Zastosuj funkcję ChangeDescription do serii surveysTime. Wyświetl nagłówek\n",
    "12. Wyciągnij wniosek na temat \"wychodzenia na świeże powietrze\""
   ]
  },
  {
   "cell_type": "code",
   "execution_count": 118,
   "metadata": {},
   "outputs": [
    {
     "data": {
      "text/plain": [
       "2     113750.0\n",
       "14    100000.0\n",
       "17    130000.0\n",
       "18     82500.0\n",
       "22    100764.0\n",
       "Name: Salary, dtype: float64"
      ]
     },
     "execution_count": 118,
     "metadata": {},
     "output_type": "execute_result"
    }
   ],
   "source": [
    "# Do zmiennej surveys zapisz data series pobierając\n",
    "# wartości z pliku StackOverflowDeveloperSurvey.csv kolumnę Salary. Skorzystaj z parametru\n",
    "# low_memory=False Ponieważ nie wszyscy ankietowani podali wysokość swojej pensji, usuń te wpisy, które\n",
    "# są puste (skorzystaj z metody dropna() bez żadnych dodatkowych argumentów). Wyświetl pięć pierwszych\n",
    "# pozycji tej serii.\n",
    "surveys = pd.read_csv('C:\\PythonScripts\\course-files\\StackOverflowDeveloperSurvey.csv', squeeze=True, usecols=['Salary'], low_memory=False).dropna()\n",
    "surveys.head()"
   ]
  },
  {
   "cell_type": "code",
   "execution_count": 119,
   "metadata": {},
   "outputs": [
    {
     "data": {
      "text/plain": [
       "12891"
      ]
     },
     "execution_count": 119,
     "metadata": {},
     "output_type": "execute_result"
    }
   ],
   "source": [
    "# Interesuje Cię ile osób podało wysokość swojej wypłaty? Wyświetl informację od ilości elementów w serii\n",
    "# surveys\n",
    "surveys.count()"
   ]
  },
  {
   "cell_type": "code",
   "execution_count": 120,
   "metadata": {},
   "outputs": [
    {
     "data": {
      "text/plain": [
       "2     3412.50\n",
       "14    3000.00\n",
       "17    3900.00\n",
       "18    2475.00\n",
       "22    3022.92\n",
       "Name: Salary, dtype: float64"
      ]
     },
     "execution_count": 120,
     "metadata": {},
     "output_type": "execute_result"
    }
   ],
   "source": [
    "# Symulujemy podwyżkę pensji o 3%. Utwórz nową serię surveysIncrease, której wartością będą kwoty z serii\n",
    "# surveys pomnożone przez 0.03. Wyświetl nagłówek nowej serii.\n",
    "surveysIncrease = surveys * 0.03\n",
    "surveysIncrease.head()"
   ]
  },
  {
   "cell_type": "code",
   "execution_count": 121,
   "metadata": {},
   "outputs": [
    {
     "data": {
      "text/plain": [
       "2     117162.50\n",
       "14    103000.00\n",
       "17    133900.00\n",
       "18     84975.00\n",
       "22    103786.92\n",
       "Name: Salary, dtype: float64"
      ]
     },
     "execution_count": 121,
     "metadata": {},
     "output_type": "execute_result"
    }
   ],
   "source": [
    "# Utwórz nową serię surveysAfterIncrease, której wartością będzie suma surveys i surveysIncrease.\n",
    "# Wyświetl nagłówek.\n",
    "surveysAfterIncrease = surveys + surveysIncrease\n",
    "surveysAfterIncrease.head()"
   ]
  },
  {
   "cell_type": "code",
   "execution_count": 133,
   "metadata": {},
   "outputs": [
    {
     "data": {
      "text/plain": [
       "0             1 - 2 hours\n",
       "1         30 - 59 minutes\n",
       "3    Less than 30 minutes\n",
       "4             1 - 2 hours\n",
       "5         30 - 59 minutes\n",
       "Name: HoursOutside, dtype: object"
      ]
     },
     "execution_count": 133,
     "metadata": {},
     "output_type": "execute_result"
    }
   ],
   "source": [
    "# Zmieniamy trochę temat. Do zmiennej surveysTime wczytaj kolumnę HoursOutside z pliku\n",
    "# StackOverflowDeveloperSurvey2018.csv. Ponieważ plik jest duży, dodaj parametr low_memory=False.\n",
    "# Wyświetl nagłówek.\n",
    "surveysTime = pd.read_csv('C:\\PythonScripts\\course-files\\StackOverflowDeveloperSurvey2018.csv', low_memory=False, usecols=['HoursOutside'], squeeze=True).dropna()\n",
    "surveysTime.head()"
   ]
  },
  {
   "cell_type": "code",
   "execution_count": 134,
   "metadata": {},
   "outputs": [
    {
     "data": {
      "text/plain": [
       "1 - 2 hours             27788\n",
       "30 - 59 minutes         24002\n",
       "Less than 30 minutes    11223\n",
       "3 - 4 hours              7186\n",
       "Over 4 hours             1825\n",
       "Name: HoursOutside, dtype: int64"
      ]
     },
     "execution_count": 134,
     "metadata": {},
     "output_type": "execute_result"
    }
   ],
   "source": [
    "# Interesuje Cię ile czasu programiści spędzają na \"świeżym powietrzu\"? Uruchom na rzecz surveysTime\n",
    "# metodę, która dla każdej unikalnej pozycji z serii wyświetli ile razy ta pozycja występowała w serii. Do której\n",
    "# grupy należysz ;) ?\n",
    "surveysTime.value_counts()"
   ]
  },
  {
   "cell_type": "code",
   "execution_count": 135,
   "metadata": {},
   "outputs": [
    {
     "data": {
      "text/plain": [
       "0             1 - 2 hours\n",
       "1         30 - 59 minutes\n",
       "3    less than 30 minutes\n",
       "4             1 - 2 hours\n",
       "5         30 - 59 minutes\n",
       "Name: HoursOutside, dtype: object"
      ]
     },
     "execution_count": 135,
     "metadata": {},
     "output_type": "execute_result"
    }
   ],
   "source": [
    "# Po zaimportowaniu danych, można je normalizować. Zmień wielkość liter na małe w całej serii surveysTime.\n",
    "# Zmiany mają rzeczywiście być zapisane w surveysTime. Wyświetl nagłówek.\n",
    "surveysTime = surveysTime.str.lower()\n",
    "surveysTime.head()"
   ]
  },
  {
   "cell_type": "code",
   "execution_count": 136,
   "metadata": {},
   "outputs": [
    {
     "data": {
      "text/plain": [
       "0             1 - 2 HOURS\n",
       "1         30 - 59 MINUTES\n",
       "3    LESS THAN 30 MINUTES\n",
       "4             1 - 2 HOURS\n",
       "5         30 - 59 MINUTES\n",
       "Name: HoursOutside, dtype: object"
      ]
     },
     "execution_count": 136,
     "metadata": {},
     "output_type": "execute_result"
    }
   ],
   "source": [
    "# Zmieniamy zdanie. Chcemy, aby teksty były zapisane wielkimi literami. Tym razem wykorzystaj do tego\n",
    "# wyrażenie lambda. Zmiany znowu maja być zapisane do surveysTime. Wyświetl nagłówek.\n",
    "surveysTime = surveysTime.apply(lambda x: x.upper())\n",
    "surveysTime.head()"
   ]
  },
  {
   "cell_type": "code",
   "execution_count": 137,
   "metadata": {},
   "outputs": [],
   "source": [
    "# Napisz funkcję ChangeDescription, która jako argument przyjmie napis. Jeżeli w tej zmiennej znajduje się\n",
    "# tekst 'LESS THAN 30 MINUTES' to zwróć 'LESS THAN HALF HOUR', a w przeciwnym razie zwróć\n",
    "# oryginalną wartość przekazaną w argumencie.\n",
    "def ChangeDescription(text):\n",
    "    if 'LESS THAN 30 MINUTES' in text:\n",
    "        return 'LESS THAN HALF HOUR'\n",
    "    else:\n",
    "        return text"
   ]
  },
  {
   "cell_type": "code",
   "execution_count": 138,
   "metadata": {},
   "outputs": [
    {
     "data": {
      "text/plain": [
       "'aaa'"
      ]
     },
     "execution_count": 138,
     "metadata": {},
     "output_type": "execute_result"
    }
   ],
   "source": [
    "# Przetestuj funkcję przekazując do niej różne napisy\n",
    "ChangeDescription('aaa')"
   ]
  },
  {
   "cell_type": "code",
   "execution_count": 139,
   "metadata": {},
   "outputs": [
    {
     "data": {
      "text/plain": [
       "'LESS THAN HALF HOUR'"
      ]
     },
     "execution_count": 139,
     "metadata": {},
     "output_type": "execute_result"
    }
   ],
   "source": [
    "ChangeDescription('LESS THAN 30 MINUTES')"
   ]
  },
  {
   "cell_type": "code",
   "execution_count": 144,
   "metadata": {},
   "outputs": [
    {
     "data": {
      "text/plain": [
       "0             1 - 2 HOURS\n",
       "1         30 - 59 MINUTES\n",
       "3     LESS THAN HALF HOUR\n",
       "4             1 - 2 HOURS\n",
       "5         30 - 59 MINUTES\n",
       "6     LESS THAN HALF HOUR\n",
       "7             1 - 2 HOURS\n",
       "8     LESS THAN HALF HOUR\n",
       "13            1 - 2 HOURS\n",
       "14            1 - 2 HOURS\n",
       "15            1 - 2 HOURS\n",
       "16        30 - 59 MINUTES\n",
       "17        30 - 59 MINUTES\n",
       "18            1 - 2 HOURS\n",
       "19        30 - 59 MINUTES\n",
       "20        30 - 59 MINUTES\n",
       "21            1 - 2 HOURS\n",
       "22        30 - 59 MINUTES\n",
       "23    LESS THAN HALF HOUR\n",
       "24            1 - 2 HOURS\n",
       "Name: HoursOutside, dtype: object"
      ]
     },
     "execution_count": 144,
     "metadata": {},
     "output_type": "execute_result"
    }
   ],
   "source": [
    "surveysTime = surveysTime.apply(ChangeDescription)\n",
    "surveysTime.head(20)"
   ]
  },
  {
   "cell_type": "markdown",
   "metadata": {},
   "source": [
    "# LAB - S02-L018 - Metoda map"
   ]
  },
  {
   "cell_type": "markdown",
   "metadata": {},
   "source": [
    "1. Zaimportuj moduł pandas i nadaj mu standardowy alias. Zaimportuj też moduł random i nadaj mu alias rd.\n",
    "2. Pracujesz dla linii lotniczych PYTHON Express (wszelkie podobieństwa do innych linii lotniczych są\n",
    "przypadkowe). Ta linia lotnicza posiada obecnie tylko 3 samoloty:\n",
    "symbol PYT001 - Airbus 320\n",
    "symbol PYT002 - Boeing 737\n",
    "symbol PYT003 - Airbus 321\n",
    "Zadeklaruj słownik, którego indeksami są w/w symbole, a wartościami nazwy samolotów.\n",
    "3. Utwórz serię aircrafts w oparciu o dane z w/w słownika\n",
    "4. Teraz wygenerujemy losową listę przelotów. Zadeklaruj pustą listę flightsList. Korzystając z pętli for, dodaj do\n",
    "listy 100 losowych wartości pochodzących z indeksu serii aircrafts (elementy na tej liście powinny być\n",
    "symbolami samolotów). Wyświetl 5 pierwszych wartości z tej listy. (Ponieważ korzystamy z funkcji losowych\n",
    "wyniki mogą się różnić).\n",
    "5. W oparciu o listę flightsList, utwórz serię o nazwie flights. Wyświetl pięć pierwszych pozycji z listy.\n",
    "6. Lista 100 lotów zawiera obecnie losowe przeloty, coś w stylu 0 - PYT002 / 1 - PYT003 / 2 - PYT002 /... My\n",
    "jednak chcielibyśmy zobaczyć listę z nazwami samolotów! Utwórz nową listę o nazwie flights_aircrafts, która\n",
    "będzie zawierała informacje o lotach, ale w kolumnie wartości zamist symbolu samolotu ma się pojawić jego\n",
    "nazwa. Wyświetl z tej listy 5 pierwszych pozycji."
   ]
  },
  {
   "cell_type": "code",
   "execution_count": 149,
   "metadata": {},
   "outputs": [
    {
     "data": {
      "text/plain": [
       "'Airbus 320'"
      ]
     },
     "execution_count": 149,
     "metadata": {},
     "output_type": "execute_result"
    }
   ],
   "source": [
    "# Pracujesz dla linii lotniczych PYTHON Express (wszelkie podobieństwa do innych linii lotniczych są\n",
    "# przypadkowe). Ta linia lotnicza posiada obecnie tylko 3 samoloty:\n",
    "# symbol PYT001 - Airbus 320\n",
    "# symbol PYT002 - Boeing 737\n",
    "# symbol PYT003 - Airbus 321\n",
    "# Zadeklaruj słownik, którego indeksami są w/w symbole, a wartościami nazwy samolotów.\n",
    "python_express_dict = {'PYT001' : 'Airbus 320', 'PYT002' : 'Boeing 737', 'PYT003' : 'Airbus 321'}\n",
    "python_express_dict['PYT001']"
   ]
  },
  {
   "cell_type": "code",
   "execution_count": 151,
   "metadata": {},
   "outputs": [
    {
     "data": {
      "text/plain": [
       "PYT001    Airbus 320\n",
       "PYT002    Boeing 737\n",
       "PYT003    Airbus 321\n",
       "dtype: object"
      ]
     },
     "execution_count": 151,
     "metadata": {},
     "output_type": "execute_result"
    }
   ],
   "source": [
    "#  Utwórz serię aircrafts w oparciu o dane z w/w słownika\n",
    "aircrafts = pd.Series(python_express_dict)\n",
    "aircrafts"
   ]
  },
  {
   "cell_type": "code",
   "execution_count": 166,
   "metadata": {},
   "outputs": [
    {
     "data": {
      "text/plain": [
       "['PYT001',\n",
       " 'PYT003',\n",
       " 'PYT003',\n",
       " 'PYT002',\n",
       " 'PYT001',\n",
       " 'PYT001',\n",
       " 'PYT002',\n",
       " 'PYT002',\n",
       " 'PYT001',\n",
       " 'PYT002',\n",
       " 'PYT003',\n",
       " 'PYT001',\n",
       " 'PYT003',\n",
       " 'PYT001',\n",
       " 'PYT001']"
      ]
     },
     "execution_count": 166,
     "metadata": {},
     "output_type": "execute_result"
    }
   ],
   "source": [
    "# Teraz wygenerujemy losową listę przelotów. Zadeklaruj pustą listę flightsList. Korzystając z pętli for, dodaj do\n",
    "# listy 100 losowych wartości pochodzących z indeksu serii aircrafts (elementy na tej liście powinny być\n",
    "# symbolami samolotów). Wyświetl 5 pierwszych wartości z tej listy. (Ponieważ korzystamy z funkcji losowych\n",
    "# wyniki mogą się różnić).\n",
    "import random\n",
    "\n",
    "flightList = []\n",
    "for i in range(100):\n",
    "    j = random.randint(0,2)\n",
    "    flightList.append(aircrafts.index[j])\n",
    "\n",
    "flightList[:15]"
   ]
  },
  {
   "cell_type": "code",
   "execution_count": 167,
   "metadata": {},
   "outputs": [
    {
     "data": {
      "text/plain": [
       "0    PYT001\n",
       "1    PYT003\n",
       "2    PYT003\n",
       "3    PYT002\n",
       "4    PYT001\n",
       "dtype: object"
      ]
     },
     "execution_count": 167,
     "metadata": {},
     "output_type": "execute_result"
    }
   ],
   "source": [
    "#  W oparciu o listę flightsList, utwórz serię o nazwie flights. Wyświetl pięć pierwszych pozycji z listy.\n",
    "flights = pd.Series(flightList)\n",
    "flights.head()"
   ]
  },
  {
   "cell_type": "code",
   "execution_count": 168,
   "metadata": {},
   "outputs": [
    {
     "data": {
      "text/plain": [
       "0    Airbus 320\n",
       "1    Airbus 321\n",
       "2    Airbus 321\n",
       "3    Boeing 737\n",
       "4    Airbus 320\n",
       "dtype: object"
      ]
     },
     "execution_count": 168,
     "metadata": {},
     "output_type": "execute_result"
    }
   ],
   "source": [
    "# Lista 100 lotów zawiera obecnie losowe przeloty, coś w stylu 0 - PYT002 / 1 - PYT003 / 2 - PYT002 /... My\n",
    "# jednak chcielibyśmy zobaczyć listę z nazwami samolotów! Utwórz nową listę o nazwie flights_aircrafts, która\n",
    "# będzie zawierała informacje o lotach, ale w kolumnie wartości zamist symbolu samolotu ma się pojawić jego\n",
    "# nazwa. Wyświetl z tej listy 5 pierwszych pozycji.\n",
    "flights_aircrafts = flights.map(aircrafts)\n",
    "flights_aircrafts.head()"
   ]
  }
 ],
 "metadata": {
  "kernelspec": {
   "display_name": "Python 3",
   "language": "python",
   "name": "python3"
  },
  "language_info": {
   "codemirror_mode": {
    "name": "ipython",
    "version": 3
   },
   "file_extension": ".py",
   "mimetype": "text/x-python",
   "name": "python",
   "nbconvert_exporter": "python",
   "pygments_lexer": "ipython3",
   "version": "3.7.0"
  }
 },
 "nbformat": 4,
 "nbformat_minor": 2
}
